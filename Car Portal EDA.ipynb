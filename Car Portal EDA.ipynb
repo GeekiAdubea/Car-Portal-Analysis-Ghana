{
 "cells": [
  {
   "cell_type": "markdown",
   "metadata": {},
   "source": [
    "# Exploratory Data Analysis"
   ]
  },
  {
   "cell_type": "markdown",
   "metadata": {},
   "source": [
    "## Importing standard libraries"
   ]
  },
  {
   "cell_type": "code",
   "execution_count": 1,
   "metadata": {},
   "outputs": [],
   "source": [
    "import pymongo\n",
    "import pandas as pd\n",
    "import numpy as np\n",
    "import matplotlib.pyplot as plt\n",
    "import seaborn as sns\n",
    "import plotly.express as px\n",
    "%matplotlib inline"
   ]
  },
  {
   "cell_type": "code",
   "execution_count": 2,
   "metadata": {},
   "outputs": [
    {
     "data": {
      "text/html": [
       "        <script type=\"text/javascript\">\n",
       "        window.PlotlyConfig = {MathJaxConfig: 'local'};\n",
       "        if (window.MathJax) {MathJax.Hub.Config({SVG: {font: \"STIX-Web\"}});}\n",
       "        if (typeof require !== 'undefined') {\n",
       "        require.undef(\"plotly\");\n",
       "        requirejs.config({\n",
       "            paths: {\n",
       "                'plotly': ['https://cdn.plot.ly/plotly-latest.min']\n",
       "            }\n",
       "        });\n",
       "        require(['plotly'], function(Plotly) {\n",
       "            window._Plotly = Plotly;\n",
       "        });\n",
       "        }\n",
       "        </script>\n",
       "        "
      ]
     },
     "metadata": {},
     "output_type": "display_data"
    },
    {
     "data": {
      "text/html": [
       "        <script type=\"text/javascript\">\n",
       "        window.PlotlyConfig = {MathJaxConfig: 'local'};\n",
       "        if (window.MathJax) {MathJax.Hub.Config({SVG: {font: \"STIX-Web\"}});}\n",
       "        if (typeof require !== 'undefined') {\n",
       "        require.undef(\"plotly\");\n",
       "        requirejs.config({\n",
       "            paths: {\n",
       "                'plotly': ['https://cdn.plot.ly/plotly-latest.min']\n",
       "            }\n",
       "        });\n",
       "        require(['plotly'], function(Plotly) {\n",
       "            window._Plotly = Plotly;\n",
       "        });\n",
       "        }\n",
       "        </script>\n",
       "        "
      ]
     },
     "metadata": {},
     "output_type": "display_data"
    }
   ],
   "source": [
    "# Standard plotly imports\n",
    "import chart_studio.plotly as py\n",
    "import plotly.graph_objs as go\n",
    "from plotly.offline import iplot, init_notebook_mode\n",
    "\n",
    "# Using plotly + cufflinks in offline mode\n",
    "import cufflinks\n",
    "cufflinks.go_offline(connected=True)\n",
    "init_notebook_mode(connected=True)"
   ]
  },
  {
   "cell_type": "code",
   "execution_count": 3,
   "metadata": {},
   "outputs": [],
   "source": [
    "from pymongo import MongoClient\n",
    "db_client = MongoClient()"
   ]
  },
  {
   "cell_type": "markdown",
   "metadata": {},
   "source": [
    "#### Connecting to database and fetching data"
   ]
  },
  {
   "cell_type": "code",
   "execution_count": 4,
   "metadata": {},
   "outputs": [],
   "source": [
    "data = pd.DataFrame(list(db_client.web_scraping_db.cars_collection.find()))"
   ]
  },
  {
   "cell_type": "code",
   "execution_count": 5,
   "metadata": {},
   "outputs": [
    {
     "data": {
      "text/plain": [
       "(1207, 14)"
      ]
     },
     "execution_count": 5,
     "metadata": {},
     "output_type": "execute_result"
    }
   ],
   "source": [
    "data.shape"
   ]
  },
  {
   "cell_type": "code",
   "execution_count": 6,
   "metadata": {
    "scrolled": true
   },
   "outputs": [
    {
     "data": {
      "text/html": [
       "<div>\n",
       "<style scoped>\n",
       "    .dataframe tbody tr th:only-of-type {\n",
       "        vertical-align: middle;\n",
       "    }\n",
       "\n",
       "    .dataframe tbody tr th {\n",
       "        vertical-align: top;\n",
       "    }\n",
       "\n",
       "    .dataframe thead th {\n",
       "        text-align: right;\n",
       "    }\n",
       "</style>\n",
       "<table border=\"1\" class=\"dataframe\">\n",
       "  <thead>\n",
       "    <tr style=\"text-align: right;\">\n",
       "      <th></th>\n",
       "      <th>_id</th>\n",
       "      <th>Listing</th>\n",
       "      <th>Price</th>\n",
       "      <th>Condition:</th>\n",
       "      <th>Brand:</th>\n",
       "      <th>Model:</th>\n",
       "      <th>Trim / Edition:</th>\n",
       "      <th>Model year:</th>\n",
       "      <th>Transmission:</th>\n",
       "      <th>Body type:</th>\n",
       "      <th>Fuel type:</th>\n",
       "      <th>Mileage:</th>\n",
       "      <th>Engine capacity:</th>\n",
       "      <th>URL</th>\n",
       "    </tr>\n",
       "  </thead>\n",
       "  <tbody>\n",
       "    <tr>\n",
       "      <th>0</th>\n",
       "      <td>5ef7879be1a9534c47aae29b</td>\n",
       "      <td>Kia Optima Full Option 2012</td>\n",
       "      <td>GH₵ 39,500</td>\n",
       "      <td>Used</td>\n",
       "      <td>Kia</td>\n",
       "      <td>Optima</td>\n",
       "      <td>Full Option</td>\n",
       "      <td>2012</td>\n",
       "      <td>Automatic</td>\n",
       "      <td>Saloon</td>\n",
       "      <td>Petrol</td>\n",
       "      <td>64,683 km</td>\n",
       "      <td>2.4 Liter</td>\n",
       "      <td>http://tonaton.com/en/ad/kia-optima-full-optio...</td>\n",
       "    </tr>\n",
       "    <tr>\n",
       "      <th>1</th>\n",
       "      <td>5ef7879ee1a9534c47aae29c</td>\n",
       "      <td>Mercedes Cclass 2006</td>\n",
       "      <td>GH₵ 25,000</td>\n",
       "      <td>Used</td>\n",
       "      <td>Mercedes</td>\n",
       "      <td>Cclass</td>\n",
       "      <td>NaN</td>\n",
       "      <td>2006</td>\n",
       "      <td>Automatic</td>\n",
       "      <td>Saloon</td>\n",
       "      <td>Petrol</td>\n",
       "      <td>98,124 km</td>\n",
       "      <td>1.8 Liter</td>\n",
       "      <td>http://tonaton.com/en/ad/mercedes-cclass-2006-...</td>\n",
       "    </tr>\n",
       "    <tr>\n",
       "      <th>2</th>\n",
       "      <td>5ef787afe1a9534c47aae29d</td>\n",
       "      <td>Toyota Corolla 2015</td>\n",
       "      <td>GH₵ 42,500</td>\n",
       "      <td>Used</td>\n",
       "      <td>Toyota</td>\n",
       "      <td>Corolla</td>\n",
       "      <td>NaN</td>\n",
       "      <td>2015</td>\n",
       "      <td>Automatic</td>\n",
       "      <td>NaN</td>\n",
       "      <td>Petrol</td>\n",
       "      <td>51,410 km</td>\n",
       "      <td>1.8 Liter</td>\n",
       "      <td>http://tonaton.com/en/ad/toyota-corolla-2015-f...</td>\n",
       "    </tr>\n",
       "    <tr>\n",
       "      <th>3</th>\n",
       "      <td>5ef787b2e1a9534c47aae29e</td>\n",
       "      <td>Toyota Corolla Auto 2010</td>\n",
       "      <td>GH₵ 28,500</td>\n",
       "      <td>Used</td>\n",
       "      <td>Toyota</td>\n",
       "      <td>Corolla</td>\n",
       "      <td>Auto</td>\n",
       "      <td>2010</td>\n",
       "      <td>Automatic</td>\n",
       "      <td>Saloon</td>\n",
       "      <td>Petrol</td>\n",
       "      <td>76,552 km</td>\n",
       "      <td>1.8 Liter</td>\n",
       "      <td>http://tonaton.com/en/ad/toyota-corolla-auto-2...</td>\n",
       "    </tr>\n",
       "    <tr>\n",
       "      <th>4</th>\n",
       "      <td>5ef787b6e1a9534c47aae29f</td>\n",
       "      <td>Chevrolet Cruze . 2014</td>\n",
       "      <td>GH₵ 26,500</td>\n",
       "      <td>Used</td>\n",
       "      <td>Chevrolet</td>\n",
       "      <td>Cruze</td>\n",
       "      <td>.</td>\n",
       "      <td>2014</td>\n",
       "      <td>Automatic</td>\n",
       "      <td>Saloon</td>\n",
       "      <td>Petrol</td>\n",
       "      <td>86,995 km</td>\n",
       "      <td>1.4 Liter</td>\n",
       "      <td>http://tonaton.com/en/ad/chevrolet-cruze-2014-...</td>\n",
       "    </tr>\n",
       "  </tbody>\n",
       "</table>\n",
       "</div>"
      ],
      "text/plain": [
       "                        _id                      Listing       Price  \\\n",
       "0  5ef7879be1a9534c47aae29b  Kia Optima Full Option 2012  GH₵ 39,500   \n",
       "1  5ef7879ee1a9534c47aae29c         Mercedes Cclass 2006  GH₵ 25,000   \n",
       "2  5ef787afe1a9534c47aae29d          Toyota Corolla 2015  GH₵ 42,500   \n",
       "3  5ef787b2e1a9534c47aae29e     Toyota Corolla Auto 2010  GH₵ 28,500   \n",
       "4  5ef787b6e1a9534c47aae29f       Chevrolet Cruze . 2014  GH₵ 26,500   \n",
       "\n",
       "  Condition:     Brand:   Model:  Trim / Edition:  Model year:   \\\n",
       "0        Used        Kia   Optima      Full Option         2012   \n",
       "1        Used   Mercedes   Cclass              NaN         2006   \n",
       "2        Used     Toyota  Corolla              NaN         2015   \n",
       "3        Used     Toyota  Corolla             Auto         2010   \n",
       "4        Used  Chevrolet    Cruze                .         2014   \n",
       "\n",
       "  Transmission:  Body type:  Fuel type:   Mileage:  Engine capacity:   \\\n",
       "0      Automatic      Saloon      Petrol  64,683 km         2.4 Liter   \n",
       "1      Automatic      Saloon      Petrol  98,124 km         1.8 Liter   \n",
       "2      Automatic         NaN      Petrol  51,410 km         1.8 Liter   \n",
       "3      Automatic      Saloon      Petrol  76,552 km         1.8 Liter   \n",
       "4      Automatic      Saloon      Petrol  86,995 km         1.4 Liter   \n",
       "\n",
       "                                                 URL  \n",
       "0  http://tonaton.com/en/ad/kia-optima-full-optio...  \n",
       "1  http://tonaton.com/en/ad/mercedes-cclass-2006-...  \n",
       "2  http://tonaton.com/en/ad/toyota-corolla-2015-f...  \n",
       "3  http://tonaton.com/en/ad/toyota-corolla-auto-2...  \n",
       "4  http://tonaton.com/en/ad/chevrolet-cruze-2014-...  "
      ]
     },
     "execution_count": 6,
     "metadata": {},
     "output_type": "execute_result"
    }
   ],
   "source": [
    "data.head()"
   ]
  },
  {
   "cell_type": "code",
   "execution_count": 7,
   "metadata": {
    "scrolled": true
   },
   "outputs": [
    {
     "name": "stdout",
     "output_type": "stream",
     "text": [
      "<class 'pandas.core.frame.DataFrame'>\n",
      "RangeIndex: 1207 entries, 0 to 1206\n",
      "Data columns (total 14 columns):\n",
      "_id                  1207 non-null object\n",
      "Listing              1207 non-null object\n",
      "Price                1207 non-null object\n",
      "Condition:           1207 non-null object\n",
      "Brand:               1207 non-null object\n",
      "Model:               1207 non-null object\n",
      "Trim / Edition:      722 non-null object\n",
      "Model year:          1207 non-null object\n",
      "Transmission:        1207 non-null object\n",
      "Body type:           1165 non-null object\n",
      "Fuel type:           1207 non-null object\n",
      "Mileage:             1207 non-null object\n",
      "Engine capacity:     1207 non-null object\n",
      "URL                  1207 non-null object\n",
      "dtypes: object(14)\n",
      "memory usage: 132.1+ KB\n"
     ]
    }
   ],
   "source": [
    "data.info()"
   ]
  },
  {
   "cell_type": "markdown",
   "metadata": {},
   "source": [
    "* Trim/Edition has 485 null values \n",
    "* Body type has 42 null values"
   ]
  },
  {
   "cell_type": "code",
   "execution_count": 8,
   "metadata": {
    "scrolled": true
   },
   "outputs": [
    {
     "data": {
      "text/html": [
       "<div>\n",
       "<style scoped>\n",
       "    .dataframe tbody tr th:only-of-type {\n",
       "        vertical-align: middle;\n",
       "    }\n",
       "\n",
       "    .dataframe tbody tr th {\n",
       "        vertical-align: top;\n",
       "    }\n",
       "\n",
       "    .dataframe thead th {\n",
       "        text-align: right;\n",
       "    }\n",
       "</style>\n",
       "<table border=\"1\" class=\"dataframe\">\n",
       "  <thead>\n",
       "    <tr style=\"text-align: right;\">\n",
       "      <th></th>\n",
       "      <th>_id</th>\n",
       "      <th>Listing</th>\n",
       "      <th>Price</th>\n",
       "      <th>Condition:</th>\n",
       "      <th>Brand:</th>\n",
       "      <th>Model:</th>\n",
       "      <th>Trim / Edition:</th>\n",
       "      <th>Model year:</th>\n",
       "      <th>Transmission:</th>\n",
       "      <th>Body type:</th>\n",
       "      <th>Fuel type:</th>\n",
       "      <th>Mileage:</th>\n",
       "      <th>Engine capacity:</th>\n",
       "      <th>URL</th>\n",
       "    </tr>\n",
       "  </thead>\n",
       "  <tbody>\n",
       "    <tr>\n",
       "      <th>count</th>\n",
       "      <td>1207</td>\n",
       "      <td>1207</td>\n",
       "      <td>1207</td>\n",
       "      <td>1207</td>\n",
       "      <td>1207</td>\n",
       "      <td>1207</td>\n",
       "      <td>722</td>\n",
       "      <td>1207</td>\n",
       "      <td>1207</td>\n",
       "      <td>1165</td>\n",
       "      <td>1207</td>\n",
       "      <td>1207</td>\n",
       "      <td>1207</td>\n",
       "      <td>1207</td>\n",
       "    </tr>\n",
       "    <tr>\n",
       "      <th>unique</th>\n",
       "      <td>1207</td>\n",
       "      <td>921</td>\n",
       "      <td>306</td>\n",
       "      <td>2</td>\n",
       "      <td>38</td>\n",
       "      <td>166</td>\n",
       "      <td>313</td>\n",
       "      <td>28</td>\n",
       "      <td>2</td>\n",
       "      <td>7</td>\n",
       "      <td>8</td>\n",
       "      <td>790</td>\n",
       "      <td>37</td>\n",
       "      <td>1126</td>\n",
       "    </tr>\n",
       "    <tr>\n",
       "      <th>top</th>\n",
       "      <td>5ef79029e1a9534c47aae4a5</td>\n",
       "      <td>Toyota Land Cruiser 2019</td>\n",
       "      <td>GH₵ 35,000</td>\n",
       "      <td>Used</td>\n",
       "      <td>Toyota</td>\n",
       "      <td>Corolla</td>\n",
       "      <td>SE</td>\n",
       "      <td>2014</td>\n",
       "      <td>Automatic</td>\n",
       "      <td>Saloon</td>\n",
       "      <td>Petrol</td>\n",
       "      <td>0 km</td>\n",
       "      <td>1.8 Liter</td>\n",
       "      <td>http://tonaton.com/en/ad/mitsubishi-mirage-201...</td>\n",
       "    </tr>\n",
       "    <tr>\n",
       "      <th>freq</th>\n",
       "      <td>1</td>\n",
       "      <td>11</td>\n",
       "      <td>30</td>\n",
       "      <td>1082</td>\n",
       "      <td>437</td>\n",
       "      <td>154</td>\n",
       "      <td>27</td>\n",
       "      <td>112</td>\n",
       "      <td>1123</td>\n",
       "      <td>599</td>\n",
       "      <td>1156</td>\n",
       "      <td>53</td>\n",
       "      <td>328</td>\n",
       "      <td>7</td>\n",
       "    </tr>\n",
       "  </tbody>\n",
       "</table>\n",
       "</div>"
      ],
      "text/plain": [
       "                             _id                   Listing       Price  \\\n",
       "count                       1207                      1207        1207   \n",
       "unique                      1207                       921         306   \n",
       "top     5ef79029e1a9534c47aae4a5  Toyota Land Cruiser 2019  GH₵ 35,000   \n",
       "freq                           1                        11          30   \n",
       "\n",
       "       Condition:  Brand:   Model:  Trim / Edition:  Model year:   \\\n",
       "count         1207    1207     1207              722         1207   \n",
       "unique           2      38      166              313           28   \n",
       "top           Used  Toyota  Corolla               SE         2014   \n",
       "freq          1082     437      154               27          112   \n",
       "\n",
       "       Transmission:  Body type:  Fuel type:  Mileage:  Engine capacity:   \\\n",
       "count            1207        1165        1207      1207              1207   \n",
       "unique              2           7           8       790                37   \n",
       "top         Automatic      Saloon      Petrol      0 km         1.8 Liter   \n",
       "freq             1123         599        1156        53               328   \n",
       "\n",
       "                                                      URL  \n",
       "count                                                1207  \n",
       "unique                                               1126  \n",
       "top     http://tonaton.com/en/ad/mitsubishi-mirage-201...  \n",
       "freq                                                    7  "
      ]
     },
     "execution_count": 8,
     "metadata": {},
     "output_type": "execute_result"
    }
   ],
   "source": [
    "data.describe()"
   ]
  },
  {
   "cell_type": "markdown",
   "metadata": {},
   "source": [
    "## Cleaning data\n",
    "Generally this entails, dealing with null values, duplicates, converting to appropriate data types, etc"
   ]
  },
  {
   "cell_type": "code",
   "execution_count": 9,
   "metadata": {},
   "outputs": [],
   "source": [
    "data.rename(columns={'Price':'Price(GH¢)', 'Condition: ':'Condition', 'Brand: ':'Brand', 'Model: ':'Model', 'Trim / Edition: ':'Trim/Edition', 'Model year: ':'Model year', 'Transmission: ':'Transmission','Body type: ':'Body type', 'Fuel type: ':'Fuel type','Mileage: ':'Mileage(km)', 'Engine capacity: ':\"Engine capacity(L)\"}, inplace=True)"
   ]
  },
  {
   "cell_type": "code",
   "execution_count": 10,
   "metadata": {
    "scrolled": false
   },
   "outputs": [
    {
     "data": {
      "text/plain": [
       "Index(['_id', 'Listing', 'Price(GH¢)', 'Condition', 'Brand', 'Model',\n",
       "       'Trim/Edition', 'Model year', 'Transmission', 'Body type', 'Fuel type',\n",
       "       'Mileage(km)', 'Engine capacity(L)', 'URL'],\n",
       "      dtype='object')"
      ]
     },
     "execution_count": 10,
     "metadata": {},
     "output_type": "execute_result"
    }
   ],
   "source": [
    "data.columns"
   ]
  },
  {
   "cell_type": "code",
   "execution_count": 11,
   "metadata": {},
   "outputs": [
    {
     "data": {
      "text/plain": [
       "0            Full Option\n",
       "1                    NaN\n",
       "2                    NaN\n",
       "3                   Auto\n",
       "4                      .\n",
       "5                    NaN\n",
       "6                  Sport\n",
       "7                    NaN\n",
       "8                    NaN\n",
       "9             2.4 liters\n",
       "10                   NaN\n",
       "11                 sedan\n",
       "12           Spider auto\n",
       "13                   NaN\n",
       "14                   NaN\n",
       "15                   NaN\n",
       "16                   NaN\n",
       "17                   NaN\n",
       "18                     ,\n",
       "19                   NaN\n",
       "20          Fully Loaded\n",
       "21                  Reno\n",
       "22               Limited\n",
       "23                   NaN\n",
       "24                   GDI\n",
       "25               Limited\n",
       "26                   XLE\n",
       "27                   NaN\n",
       "28    Limited( 7 seater)\n",
       "29                    se\n",
       "Name: Trim/Edition, dtype: object"
      ]
     },
     "execution_count": 11,
     "metadata": {},
     "output_type": "execute_result"
    }
   ],
   "source": [
    "data['Trim/Edition'].head(30)"
   ]
  },
  {
   "cell_type": "code",
   "execution_count": 12,
   "metadata": {
    "scrolled": true
   },
   "outputs": [
    {
     "data": {
      "text/plain": [
       "485"
      ]
     },
     "execution_count": 12,
     "metadata": {},
     "output_type": "execute_result"
    }
   ],
   "source": [
    "data['Trim/Edition'].isnull().sum()"
   ]
  },
  {
   "cell_type": "markdown",
   "metadata": {},
   "source": [
    "A closer look at the Trim/Edition reveals that there are a lot of null values and will not be useful for analysis <br>\n",
    "Hence, I will drop the Trim/Edition and _id(autogenerated by MongoDB) columns"
   ]
  },
  {
   "cell_type": "markdown",
   "metadata": {},
   "source": [
    "**Drop _id  and Trim/Edition columns**"
   ]
  },
  {
   "cell_type": "code",
   "execution_count": 13,
   "metadata": {},
   "outputs": [],
   "source": [
    "data.drop(columns = ['_id', 'Trim/Edition'], inplace=True)"
   ]
  },
  {
   "cell_type": "code",
   "execution_count": 14,
   "metadata": {},
   "outputs": [
    {
     "data": {
      "text/plain": [
       "(1207, 12)"
      ]
     },
     "execution_count": 14,
     "metadata": {},
     "output_type": "execute_result"
    }
   ],
   "source": [
    "data.shape"
   ]
  },
  {
   "cell_type": "code",
   "execution_count": 15,
   "metadata": {},
   "outputs": [
    {
     "data": {
      "text/html": [
       "<div>\n",
       "<style scoped>\n",
       "    .dataframe tbody tr th:only-of-type {\n",
       "        vertical-align: middle;\n",
       "    }\n",
       "\n",
       "    .dataframe tbody tr th {\n",
       "        vertical-align: top;\n",
       "    }\n",
       "\n",
       "    .dataframe thead th {\n",
       "        text-align: right;\n",
       "    }\n",
       "</style>\n",
       "<table border=\"1\" class=\"dataframe\">\n",
       "  <thead>\n",
       "    <tr style=\"text-align: right;\">\n",
       "      <th></th>\n",
       "      <th>Listing</th>\n",
       "      <th>Price(GH¢)</th>\n",
       "      <th>Condition</th>\n",
       "      <th>Brand</th>\n",
       "      <th>Model</th>\n",
       "      <th>Model year</th>\n",
       "      <th>Transmission</th>\n",
       "      <th>Body type</th>\n",
       "      <th>Fuel type</th>\n",
       "      <th>Mileage(km)</th>\n",
       "      <th>Engine capacity(L)</th>\n",
       "      <th>URL</th>\n",
       "    </tr>\n",
       "  </thead>\n",
       "  <tbody>\n",
       "    <tr>\n",
       "      <th>0</th>\n",
       "      <td>Kia Optima Full Option 2012</td>\n",
       "      <td>GH₵ 39,500</td>\n",
       "      <td>Used</td>\n",
       "      <td>Kia</td>\n",
       "      <td>Optima</td>\n",
       "      <td>2012</td>\n",
       "      <td>Automatic</td>\n",
       "      <td>Saloon</td>\n",
       "      <td>Petrol</td>\n",
       "      <td>64,683 km</td>\n",
       "      <td>2.4 Liter</td>\n",
       "      <td>http://tonaton.com/en/ad/kia-optima-full-optio...</td>\n",
       "    </tr>\n",
       "    <tr>\n",
       "      <th>1</th>\n",
       "      <td>Mercedes Cclass 2006</td>\n",
       "      <td>GH₵ 25,000</td>\n",
       "      <td>Used</td>\n",
       "      <td>Mercedes</td>\n",
       "      <td>Cclass</td>\n",
       "      <td>2006</td>\n",
       "      <td>Automatic</td>\n",
       "      <td>Saloon</td>\n",
       "      <td>Petrol</td>\n",
       "      <td>98,124 km</td>\n",
       "      <td>1.8 Liter</td>\n",
       "      <td>http://tonaton.com/en/ad/mercedes-cclass-2006-...</td>\n",
       "    </tr>\n",
       "    <tr>\n",
       "      <th>2</th>\n",
       "      <td>Toyota Corolla 2015</td>\n",
       "      <td>GH₵ 42,500</td>\n",
       "      <td>Used</td>\n",
       "      <td>Toyota</td>\n",
       "      <td>Corolla</td>\n",
       "      <td>2015</td>\n",
       "      <td>Automatic</td>\n",
       "      <td>NaN</td>\n",
       "      <td>Petrol</td>\n",
       "      <td>51,410 km</td>\n",
       "      <td>1.8 Liter</td>\n",
       "      <td>http://tonaton.com/en/ad/toyota-corolla-2015-f...</td>\n",
       "    </tr>\n",
       "    <tr>\n",
       "      <th>3</th>\n",
       "      <td>Toyota Corolla Auto 2010</td>\n",
       "      <td>GH₵ 28,500</td>\n",
       "      <td>Used</td>\n",
       "      <td>Toyota</td>\n",
       "      <td>Corolla</td>\n",
       "      <td>2010</td>\n",
       "      <td>Automatic</td>\n",
       "      <td>Saloon</td>\n",
       "      <td>Petrol</td>\n",
       "      <td>76,552 km</td>\n",
       "      <td>1.8 Liter</td>\n",
       "      <td>http://tonaton.com/en/ad/toyota-corolla-auto-2...</td>\n",
       "    </tr>\n",
       "    <tr>\n",
       "      <th>4</th>\n",
       "      <td>Chevrolet Cruze . 2014</td>\n",
       "      <td>GH₵ 26,500</td>\n",
       "      <td>Used</td>\n",
       "      <td>Chevrolet</td>\n",
       "      <td>Cruze</td>\n",
       "      <td>2014</td>\n",
       "      <td>Automatic</td>\n",
       "      <td>Saloon</td>\n",
       "      <td>Petrol</td>\n",
       "      <td>86,995 km</td>\n",
       "      <td>1.4 Liter</td>\n",
       "      <td>http://tonaton.com/en/ad/chevrolet-cruze-2014-...</td>\n",
       "    </tr>\n",
       "  </tbody>\n",
       "</table>\n",
       "</div>"
      ],
      "text/plain": [
       "                       Listing  Price(GH¢) Condition      Brand    Model  \\\n",
       "0  Kia Optima Full Option 2012  GH₵ 39,500      Used        Kia   Optima   \n",
       "1         Mercedes Cclass 2006  GH₵ 25,000      Used   Mercedes   Cclass   \n",
       "2          Toyota Corolla 2015  GH₵ 42,500      Used     Toyota  Corolla   \n",
       "3     Toyota Corolla Auto 2010  GH₵ 28,500      Used     Toyota  Corolla   \n",
       "4       Chevrolet Cruze . 2014  GH₵ 26,500      Used  Chevrolet    Cruze   \n",
       "\n",
       "  Model year Transmission Body type Fuel type Mileage(km) Engine capacity(L)  \\\n",
       "0       2012    Automatic    Saloon    Petrol   64,683 km          2.4 Liter   \n",
       "1       2006    Automatic    Saloon    Petrol   98,124 km          1.8 Liter   \n",
       "2       2015    Automatic       NaN    Petrol   51,410 km          1.8 Liter   \n",
       "3       2010    Automatic    Saloon    Petrol   76,552 km          1.8 Liter   \n",
       "4       2014    Automatic    Saloon    Petrol   86,995 km          1.4 Liter   \n",
       "\n",
       "                                                 URL  \n",
       "0  http://tonaton.com/en/ad/kia-optima-full-optio...  \n",
       "1  http://tonaton.com/en/ad/mercedes-cclass-2006-...  \n",
       "2  http://tonaton.com/en/ad/toyota-corolla-2015-f...  \n",
       "3  http://tonaton.com/en/ad/toyota-corolla-auto-2...  \n",
       "4  http://tonaton.com/en/ad/chevrolet-cruze-2014-...  "
      ]
     },
     "execution_count": 15,
     "metadata": {},
     "output_type": "execute_result"
    }
   ],
   "source": [
    "data.head()"
   ]
  },
  {
   "cell_type": "markdown",
   "metadata": {},
   "source": [
    "#### Null Values"
   ]
  },
  {
   "cell_type": "code",
   "execution_count": 16,
   "metadata": {
    "scrolled": false
   },
   "outputs": [
    {
     "data": {
      "text/plain": [
       "Listing                0\n",
       "Price(GH¢)             0\n",
       "Condition              0\n",
       "Brand                  0\n",
       "Model                  0\n",
       "Model year             0\n",
       "Transmission           0\n",
       "Body type             42\n",
       "Fuel type              0\n",
       "Mileage(km)            0\n",
       "Engine capacity(L)     0\n",
       "URL                    0\n",
       "dtype: int64"
      ]
     },
     "execution_count": 16,
     "metadata": {},
     "output_type": "execute_result"
    }
   ],
   "source": [
    "data.isnull().sum()"
   ]
  },
  {
   "cell_type": "markdown",
   "metadata": {},
   "source": [
    "Body type has 42 nulls, however, I will not want to drop the rows altogether because it contains valuable data for analysis <br>\n",
    "It will be difficult to impute also since the values will vary for each record and it will be nearly impossible to fill it in"
   ]
  },
  {
   "cell_type": "code",
   "execution_count": 17,
   "metadata": {},
   "outputs": [
    {
     "data": {
      "text/plain": [
       "Saloon          599\n",
       "SUV / 4x4       363\n",
       "Hatchback       182\n",
       "Estate           10\n",
       "MPV               5\n",
       "Convertible       3\n",
       "Coupé/Sports      3\n",
       "Name: Body type, dtype: int64"
      ]
     },
     "execution_count": 17,
     "metadata": {},
     "output_type": "execute_result"
    }
   ],
   "source": [
    "data['Body type'].value_counts()"
   ]
  },
  {
   "cell_type": "markdown",
   "metadata": {},
   "source": [
    "#### Duplicates"
   ]
  },
  {
   "cell_type": "code",
   "execution_count": 18,
   "metadata": {
    "scrolled": false
   },
   "outputs": [
    {
     "data": {
      "text/html": [
       "<div>\n",
       "<style scoped>\n",
       "    .dataframe tbody tr th:only-of-type {\n",
       "        vertical-align: middle;\n",
       "    }\n",
       "\n",
       "    .dataframe tbody tr th {\n",
       "        vertical-align: top;\n",
       "    }\n",
       "\n",
       "    .dataframe thead th {\n",
       "        text-align: right;\n",
       "    }\n",
       "</style>\n",
       "<table border=\"1\" class=\"dataframe\">\n",
       "  <thead>\n",
       "    <tr style=\"text-align: right;\">\n",
       "      <th></th>\n",
       "      <th>Listing</th>\n",
       "      <th>Price(GH¢)</th>\n",
       "      <th>Condition</th>\n",
       "      <th>Brand</th>\n",
       "      <th>Model</th>\n",
       "      <th>Model year</th>\n",
       "      <th>Transmission</th>\n",
       "      <th>Body type</th>\n",
       "      <th>Fuel type</th>\n",
       "      <th>Mileage(km)</th>\n",
       "      <th>Engine capacity(L)</th>\n",
       "      <th>URL</th>\n",
       "    </tr>\n",
       "  </thead>\n",
       "  <tbody>\n",
       "    <tr>\n",
       "      <th>37</th>\n",
       "      <td>Kia Sportage EX 2018</td>\n",
       "      <td>GH₵ 120,000</td>\n",
       "      <td>Used</td>\n",
       "      <td>Kia</td>\n",
       "      <td>Sportage</td>\n",
       "      <td>2018</td>\n",
       "      <td>Automatic</td>\n",
       "      <td>SUV / 4x4</td>\n",
       "      <td>Petrol</td>\n",
       "      <td>19,672 km</td>\n",
       "      <td>2.0 Liter</td>\n",
       "      <td>http://tonaton.com/en/ad/kia-sportage-ex-2018-...</td>\n",
       "    </tr>\n",
       "    <tr>\n",
       "      <th>38</th>\n",
       "      <td>Ford Explorer , 2006</td>\n",
       "      <td>GH₵ 48,000</td>\n",
       "      <td>Used</td>\n",
       "      <td>Ford</td>\n",
       "      <td>Explorer</td>\n",
       "      <td>2006</td>\n",
       "      <td>Automatic</td>\n",
       "      <td>SUV / 4x4</td>\n",
       "      <td>Petrol</td>\n",
       "      <td>193,040 km</td>\n",
       "      <td>2.0 Liter</td>\n",
       "      <td>http://tonaton.com/en/ad/ford-explorer-2006-fo...</td>\n",
       "    </tr>\n",
       "    <tr>\n",
       "      <th>39</th>\n",
       "      <td>Toyota Corolla 2017</td>\n",
       "      <td>GH₵ 69,500</td>\n",
       "      <td>New</td>\n",
       "      <td>Toyota</td>\n",
       "      <td>Corolla</td>\n",
       "      <td>2017</td>\n",
       "      <td>Automatic</td>\n",
       "      <td>Saloon</td>\n",
       "      <td>Petrol</td>\n",
       "      <td>38,321 km</td>\n",
       "      <td>1.8 Liter</td>\n",
       "      <td>http://tonaton.com/en/ad/toyota-corolla-2017-f...</td>\n",
       "    </tr>\n",
       "    <tr>\n",
       "      <th>63</th>\n",
       "      <td>Mitsubishi Mirage 2015</td>\n",
       "      <td>GH₵ 38,000</td>\n",
       "      <td>Used</td>\n",
       "      <td>Mitsubishi</td>\n",
       "      <td>Mirage</td>\n",
       "      <td>2015</td>\n",
       "      <td>Automatic</td>\n",
       "      <td>Hatchback</td>\n",
       "      <td>Petrol</td>\n",
       "      <td>71,849 km</td>\n",
       "      <td>1.2 Liter</td>\n",
       "      <td>http://tonaton.com/en/ad/mitsubishi-mirage-201...</td>\n",
       "    </tr>\n",
       "    <tr>\n",
       "      <th>64</th>\n",
       "      <td>Toyota Camry 2009</td>\n",
       "      <td>GH₵ 35,000</td>\n",
       "      <td>Used</td>\n",
       "      <td>Toyota</td>\n",
       "      <td>Camry</td>\n",
       "      <td>2009</td>\n",
       "      <td>Automatic</td>\n",
       "      <td>NaN</td>\n",
       "      <td>Petrol</td>\n",
       "      <td>160,651 km</td>\n",
       "      <td>2.4 Liter</td>\n",
       "      <td>http://tonaton.com/en/ad/toyota-camry-2009-for...</td>\n",
       "    </tr>\n",
       "    <tr>\n",
       "      <th>...</th>\n",
       "      <td>...</td>\n",
       "      <td>...</td>\n",
       "      <td>...</td>\n",
       "      <td>...</td>\n",
       "      <td>...</td>\n",
       "      <td>...</td>\n",
       "      <td>...</td>\n",
       "      <td>...</td>\n",
       "      <td>...</td>\n",
       "      <td>...</td>\n",
       "      <td>...</td>\n",
       "      <td>...</td>\n",
       "    </tr>\n",
       "    <tr>\n",
       "      <th>1117</th>\n",
       "      <td>Volkswagen Passat , 2003</td>\n",
       "      <td>GH₵ 16,000</td>\n",
       "      <td>Used</td>\n",
       "      <td>Volkswagen</td>\n",
       "      <td>Passat</td>\n",
       "      <td>2003</td>\n",
       "      <td>Automatic</td>\n",
       "      <td>Saloon</td>\n",
       "      <td>Petrol</td>\n",
       "      <td>71,000 km</td>\n",
       "      <td>1.8 Liter</td>\n",
       "      <td>http://tonaton.com/en/ad/volkswagen-passat-200...</td>\n",
       "    </tr>\n",
       "    <tr>\n",
       "      <th>1142</th>\n",
       "      <td>Toyota Corolla Limited Edition 2010</td>\n",
       "      <td>GH₵ 38,500</td>\n",
       "      <td>Used</td>\n",
       "      <td>Toyota</td>\n",
       "      <td>Corolla</td>\n",
       "      <td>2010</td>\n",
       "      <td>Automatic</td>\n",
       "      <td>Saloon</td>\n",
       "      <td>Petrol</td>\n",
       "      <td>45,280 km</td>\n",
       "      <td>1.8 Liter</td>\n",
       "      <td>http://tonaton.com/en/ad/toyota-corolla-limite...</td>\n",
       "    </tr>\n",
       "    <tr>\n",
       "      <th>1143</th>\n",
       "      <td>Honda Civic Fully loaded 2015</td>\n",
       "      <td>GH₵ 58,500</td>\n",
       "      <td>Used</td>\n",
       "      <td>Honda</td>\n",
       "      <td>Civic</td>\n",
       "      <td>2015</td>\n",
       "      <td>Automatic</td>\n",
       "      <td>Saloon</td>\n",
       "      <td>Petrol</td>\n",
       "      <td>46,824 km</td>\n",
       "      <td>1.8 Liter</td>\n",
       "      <td>http://tonaton.com/en/ad/honda-civic-fully-loa...</td>\n",
       "    </tr>\n",
       "    <tr>\n",
       "      <th>1169</th>\n",
       "      <td>Hyundai Elantra S 2013</td>\n",
       "      <td>GH₵ 45,000</td>\n",
       "      <td>Used</td>\n",
       "      <td>Hyundai</td>\n",
       "      <td>Elantra</td>\n",
       "      <td>2013</td>\n",
       "      <td>Manual</td>\n",
       "      <td>Saloon</td>\n",
       "      <td>Petrol</td>\n",
       "      <td>36,000 km</td>\n",
       "      <td>1.8 Liter</td>\n",
       "      <td>http://tonaton.com/en/ad/hyundai-elantra-s-201...</td>\n",
       "    </tr>\n",
       "    <tr>\n",
       "      <th>1188</th>\n",
       "      <td>Daewoo Kalos 2004</td>\n",
       "      <td>GH₵ 11,500</td>\n",
       "      <td>Used</td>\n",
       "      <td>Daewoo</td>\n",
       "      <td>Kalos</td>\n",
       "      <td>2004</td>\n",
       "      <td>Manual</td>\n",
       "      <td>Hatchback</td>\n",
       "      <td>Petrol</td>\n",
       "      <td>10,725 km</td>\n",
       "      <td>1.2 Liter</td>\n",
       "      <td>http://tonaton.com/en/ad/daewoo-kalos-2004-for...</td>\n",
       "    </tr>\n",
       "  </tbody>\n",
       "</table>\n",
       "<p>78 rows × 12 columns</p>\n",
       "</div>"
      ],
      "text/plain": [
       "                                  Listing   Price(GH¢) Condition       Brand  \\\n",
       "37                   Kia Sportage EX 2018  GH₵ 120,000      Used         Kia   \n",
       "38                   Ford Explorer , 2006   GH₵ 48,000      Used        Ford   \n",
       "39                    Toyota Corolla 2017   GH₵ 69,500       New      Toyota   \n",
       "63                 Mitsubishi Mirage 2015   GH₵ 38,000      Used  Mitsubishi   \n",
       "64                      Toyota Camry 2009   GH₵ 35,000      Used      Toyota   \n",
       "...                                   ...          ...       ...         ...   \n",
       "1117             Volkswagen Passat , 2003   GH₵ 16,000      Used  Volkswagen   \n",
       "1142  Toyota Corolla Limited Edition 2010   GH₵ 38,500      Used      Toyota   \n",
       "1143        Honda Civic Fully loaded 2015   GH₵ 58,500      Used       Honda   \n",
       "1169               Hyundai Elantra S 2013   GH₵ 45,000      Used     Hyundai   \n",
       "1188                    Daewoo Kalos 2004   GH₵ 11,500      Used      Daewoo   \n",
       "\n",
       "         Model Model year Transmission  Body type Fuel type Mileage(km)  \\\n",
       "37    Sportage       2018    Automatic  SUV / 4x4    Petrol   19,672 km   \n",
       "38    Explorer       2006    Automatic  SUV / 4x4    Petrol  193,040 km   \n",
       "39     Corolla       2017    Automatic     Saloon    Petrol   38,321 km   \n",
       "63      Mirage       2015    Automatic  Hatchback    Petrol   71,849 km   \n",
       "64       Camry       2009    Automatic        NaN    Petrol  160,651 km   \n",
       "...        ...        ...          ...        ...       ...         ...   \n",
       "1117    Passat       2003    Automatic     Saloon    Petrol   71,000 km   \n",
       "1142   Corolla       2010    Automatic     Saloon    Petrol   45,280 km   \n",
       "1143     Civic       2015    Automatic     Saloon    Petrol   46,824 km   \n",
       "1169   Elantra       2013       Manual     Saloon    Petrol   36,000 km   \n",
       "1188     Kalos       2004       Manual  Hatchback    Petrol   10,725 km   \n",
       "\n",
       "     Engine capacity(L)                                                URL  \n",
       "37            2.0 Liter  http://tonaton.com/en/ad/kia-sportage-ex-2018-...  \n",
       "38            2.0 Liter  http://tonaton.com/en/ad/ford-explorer-2006-fo...  \n",
       "39            1.8 Liter  http://tonaton.com/en/ad/toyota-corolla-2017-f...  \n",
       "63            1.2 Liter  http://tonaton.com/en/ad/mitsubishi-mirage-201...  \n",
       "64            2.4 Liter  http://tonaton.com/en/ad/toyota-camry-2009-for...  \n",
       "...                 ...                                                ...  \n",
       "1117          1.8 Liter  http://tonaton.com/en/ad/volkswagen-passat-200...  \n",
       "1142          1.8 Liter  http://tonaton.com/en/ad/toyota-corolla-limite...  \n",
       "1143          1.8 Liter  http://tonaton.com/en/ad/honda-civic-fully-loa...  \n",
       "1169          1.8 Liter  http://tonaton.com/en/ad/hyundai-elantra-s-201...  \n",
       "1188          1.2 Liter  http://tonaton.com/en/ad/daewoo-kalos-2004-for...  \n",
       "\n",
       "[78 rows x 12 columns]"
      ]
     },
     "execution_count": 18,
     "metadata": {},
     "output_type": "execute_result"
    }
   ],
   "source": [
    "data[data.duplicated()]"
   ]
  },
  {
   "cell_type": "code",
   "execution_count": 19,
   "metadata": {},
   "outputs": [],
   "source": [
    "data.drop_duplicates(keep='first', inplace=True)"
   ]
  },
  {
   "cell_type": "code",
   "execution_count": 20,
   "metadata": {
    "scrolled": true
   },
   "outputs": [
    {
     "data": {
      "text/html": [
       "<div>\n",
       "<style scoped>\n",
       "    .dataframe tbody tr th:only-of-type {\n",
       "        vertical-align: middle;\n",
       "    }\n",
       "\n",
       "    .dataframe tbody tr th {\n",
       "        vertical-align: top;\n",
       "    }\n",
       "\n",
       "    .dataframe thead th {\n",
       "        text-align: right;\n",
       "    }\n",
       "</style>\n",
       "<table border=\"1\" class=\"dataframe\">\n",
       "  <thead>\n",
       "    <tr style=\"text-align: right;\">\n",
       "      <th></th>\n",
       "      <th>Listing</th>\n",
       "      <th>Price(GH¢)</th>\n",
       "      <th>Condition</th>\n",
       "      <th>Brand</th>\n",
       "      <th>Model</th>\n",
       "      <th>Model year</th>\n",
       "      <th>Transmission</th>\n",
       "      <th>Body type</th>\n",
       "      <th>Fuel type</th>\n",
       "      <th>Mileage(km)</th>\n",
       "      <th>Engine capacity(L)</th>\n",
       "      <th>URL</th>\n",
       "    </tr>\n",
       "  </thead>\n",
       "  <tbody>\n",
       "  </tbody>\n",
       "</table>\n",
       "</div>"
      ],
      "text/plain": [
       "Empty DataFrame\n",
       "Columns: [Listing, Price(GH¢), Condition, Brand, Model, Model year, Transmission, Body type, Fuel type, Mileage(km), Engine capacity(L), URL]\n",
       "Index: []"
      ]
     },
     "execution_count": 20,
     "metadata": {},
     "output_type": "execute_result"
    }
   ],
   "source": [
    "data[data.duplicated()]"
   ]
  },
  {
   "cell_type": "code",
   "execution_count": 21,
   "metadata": {},
   "outputs": [
    {
     "data": {
      "text/plain": [
       "(1129, 12)"
      ]
     },
     "execution_count": 21,
     "metadata": {},
     "output_type": "execute_result"
    }
   ],
   "source": [
    "data.shape"
   ]
  },
  {
   "cell_type": "markdown",
   "metadata": {},
   "source": [
    "#### Converting values to numeric types"
   ]
  },
  {
   "cell_type": "code",
   "execution_count": 22,
   "metadata": {},
   "outputs": [],
   "source": [
    "def get_figure(value, index):\n",
    "    return value.split(\" \")[index]\n",
    "\n",
    "def comma(value):\n",
    "    return int(value.replace(\",\", \"\"))"
   ]
  },
  {
   "cell_type": "code",
   "execution_count": 23,
   "metadata": {
    "scrolled": true
   },
   "outputs": [],
   "source": [
    "data['Price(GH¢)'] = data['Price(GH¢)'].apply(lambda x: get_figure(x, 1)).apply(lambda x: comma(x))\n",
    "\n",
    "data['Mileage(km)'] = data['Mileage(km)'].apply(lambda x: get_figure(x, 0)).apply(lambda x: comma(x))\n",
    "\n",
    "data['Engine capacity(L)'] = data['Engine capacity(L)'].apply(lambda x: get_figure(x, 0))"
   ]
  },
  {
   "cell_type": "code",
   "execution_count": 24,
   "metadata": {},
   "outputs": [
    {
     "name": "stdout",
     "output_type": "stream",
     "text": [
      "int64\n",
      "int64\n",
      "object\n"
     ]
    }
   ],
   "source": [
    "print(data['Price(GH¢)'].dtype)\n",
    "\n",
    "print(data['Mileage(km)'].dtype)\n",
    "\n",
    "print(data['Engine capacity(L)'].dtype)"
   ]
  },
  {
   "cell_type": "code",
   "execution_count": 25,
   "metadata": {
    "scrolled": false
   },
   "outputs": [
    {
     "data": {
      "text/html": [
       "<div>\n",
       "<style scoped>\n",
       "    .dataframe tbody tr th:only-of-type {\n",
       "        vertical-align: middle;\n",
       "    }\n",
       "\n",
       "    .dataframe tbody tr th {\n",
       "        vertical-align: top;\n",
       "    }\n",
       "\n",
       "    .dataframe thead th {\n",
       "        text-align: right;\n",
       "    }\n",
       "</style>\n",
       "<table border=\"1\" class=\"dataframe\">\n",
       "  <thead>\n",
       "    <tr style=\"text-align: right;\">\n",
       "      <th></th>\n",
       "      <th>count</th>\n",
       "      <th>mean</th>\n",
       "      <th>std</th>\n",
       "      <th>min</th>\n",
       "      <th>25%</th>\n",
       "      <th>50%</th>\n",
       "      <th>75%</th>\n",
       "      <th>max</th>\n",
       "    </tr>\n",
       "  </thead>\n",
       "  <tbody>\n",
       "    <tr>\n",
       "      <th>Price(GH¢)</th>\n",
       "      <td>1129.0</td>\n",
       "      <td>72926.542073</td>\n",
       "      <td>92260.886449</td>\n",
       "      <td>5500.0</td>\n",
       "      <td>27500.0</td>\n",
       "      <td>44000.0</td>\n",
       "      <td>79000.0</td>\n",
       "      <td>981750.0</td>\n",
       "    </tr>\n",
       "    <tr>\n",
       "      <th>Mileage(km)</th>\n",
       "      <td>1129.0</td>\n",
       "      <td>69411.401240</td>\n",
       "      <td>81779.654647</td>\n",
       "      <td>0.0</td>\n",
       "      <td>30865.0</td>\n",
       "      <td>60000.0</td>\n",
       "      <td>87524.0</td>\n",
       "      <td>954642.0</td>\n",
       "    </tr>\n",
       "  </tbody>\n",
       "</table>\n",
       "</div>"
      ],
      "text/plain": [
       "              count          mean           std     min      25%      50%  \\\n",
       "Price(GH¢)   1129.0  72926.542073  92260.886449  5500.0  27500.0  44000.0   \n",
       "Mileage(km)  1129.0  69411.401240  81779.654647     0.0  30865.0  60000.0   \n",
       "\n",
       "                 75%       max  \n",
       "Price(GH¢)   79000.0  981750.0  \n",
       "Mileage(km)  87524.0  954642.0  "
      ]
     },
     "execution_count": 25,
     "metadata": {},
     "output_type": "execute_result"
    }
   ],
   "source": [
    "data[['Price(GH¢)', 'Mileage(km)', 'Engine capacity(L)']].describe().transpose()"
   ]
  },
  {
   "cell_type": "code",
   "execution_count": 26,
   "metadata": {},
   "outputs": [
    {
     "name": "stdout",
     "output_type": "stream",
     "text": [
      "<class 'pandas.core.frame.DataFrame'>\n",
      "Int64Index: 1129 entries, 0 to 1206\n",
      "Data columns (total 12 columns):\n",
      "Listing               1129 non-null object\n",
      "Price(GH¢)            1129 non-null int64\n",
      "Condition             1129 non-null object\n",
      "Brand                 1129 non-null object\n",
      "Model                 1129 non-null object\n",
      "Model year            1129 non-null object\n",
      "Transmission          1129 non-null object\n",
      "Body type             1090 non-null object\n",
      "Fuel type             1129 non-null object\n",
      "Mileage(km)           1129 non-null int64\n",
      "Engine capacity(L)    1129 non-null object\n",
      "URL                   1129 non-null object\n",
      "dtypes: int64(2), object(10)\n",
      "memory usage: 114.7+ KB\n"
     ]
    }
   ],
   "source": [
    "data.info()"
   ]
  },
  {
   "cell_type": "markdown",
   "metadata": {},
   "source": [
    "## Exploration"
   ]
  },
  {
   "cell_type": "markdown",
   "metadata": {},
   "source": [
    "#### Brand"
   ]
  },
  {
   "cell_type": "code",
   "execution_count": 27,
   "metadata": {
    "scrolled": false
   },
   "outputs": [
    {
     "data": {
      "text/plain": [
       "Text(0.5, 1.0, 'Top 10 Brands')"
      ]
     },
     "execution_count": 27,
     "metadata": {},
     "output_type": "execute_result"
    },
    {
     "data": {
      "image/png": "[encoded data removed]",
      "text/plain": [
       "<Figure size 936x576 with 1 Axes>"
      ]
     },
     "metadata": {
      "needs_background": "light"
     },
     "output_type": "display_data"
    }
   ],
   "source": [
    "fig, ax = plt.subplots(figsize=(13, 8))\n",
    "top10_brands = data['Brand'].value_counts()[:10]\n",
    "\n",
    "sns.barplot(top10_brands.index, top10_brands.values)\n",
    "sns.set(style='darkgrid')\n",
    "plt.title(\"Top 10 Brands\")"
   ]
  },
  {
   "cell_type": "markdown",
   "metadata": {},
   "source": [
    "Above is a bar chart of the top 10 brands listed"
   ]
  },
  {
   "cell_type": "markdown",
   "metadata": {},
   "source": [
    "#### Model year"
   ]
  },
  {
   "cell_type": "code",
   "execution_count": 28,
   "metadata": {},
   "outputs": [
    {
     "data": {
      "text/plain": [
       "Text(0.5, 1.0, 'Count of cars per model year')"
      ]
     },
     "execution_count": 28,
     "metadata": {},
     "output_type": "execute_result"
    },
    {
     "data": {
      "image/png": "[encoded data removed]",
      "text/plain": [
       "<Figure size 936x576 with 1 Axes>"
      ]
     },
     "metadata": {},
     "output_type": "display_data"
    }
   ],
   "source": [
    "fig, ax = plt.subplots(figsize=(13, 8))\n",
    "sns.countplot(x='Model year', data=data)\n",
    "plt.xticks(rotation=45)\n",
    "plt.title(\"Count of cars per model year\")"
   ]
  },
  {
   "cell_type": "markdown",
   "metadata": {},
   "source": [
    "Above is a count of cars per model year\n",
    "* Most cars listed were manufactured in 2010 and between 2013 and 2015\n",
    "* There are some really old cars as well; from 1971"
   ]
  },
  {
   "cell_type": "code",
   "execution_count": 29,
   "metadata": {
    "scrolled": false
   },
   "outputs": [
    {
     "data": {
      "text/plain": [
       "2014    107\n",
       "2010    103\n",
       "2013     96\n",
       "2015     93\n",
       "2009     88\n",
       "2016     79\n",
       "2008     74\n",
       "2017     72\n",
       "2012     65\n",
       "2006     58\n",
       "2007     48\n",
       "2018     40\n",
       "2011     40\n",
       "2005     39\n",
       "2019     37\n",
       "2004     24\n",
       "2000     14\n",
       "2002     13\n",
       "2003     12\n",
       "2020     11\n",
       "2001      4\n",
       "1999      3\n",
       "1998      3\n",
       "1997      2\n",
       "1992      1\n",
       "1971      1\n",
       "1994      1\n",
       "1990      1\n",
       "Name: Model year, dtype: int64"
      ]
     },
     "execution_count": 29,
     "metadata": {},
     "output_type": "execute_result"
    }
   ],
   "source": [
    "data['Model year'].value_counts()"
   ]
  },
  {
   "cell_type": "markdown",
   "metadata": {},
   "source": [
    "#### Transmission"
   ]
  },
  {
   "cell_type": "code",
   "execution_count": 30,
   "metadata": {},
   "outputs": [
    {
     "data": {
      "text/plain": [
       "Automatic    1052\n",
       "Manual         77\n",
       "Name: Transmission, dtype: int64"
      ]
     },
     "execution_count": 30,
     "metadata": {},
     "output_type": "execute_result"
    }
   ],
   "source": [
    "data['Transmission'].value_counts()"
   ]
  },
  {
   "cell_type": "code",
   "execution_count": 31,
   "metadata": {
    "scrolled": false
   },
   "outputs": [
    {
     "data": {
      "text/plain": [
       "(array([], dtype=float64), <a list of 0 Text xticklabel objects>)"
      ]
     },
     "execution_count": 31,
     "metadata": {},
     "output_type": "execute_result"
    },
    {
     "data": {
      "image/png": "[encoded data removed]",
      "text/plain": [
       "<Figure size 936x576 with 1 Axes>"
      ]
     },
     "metadata": {},
     "output_type": "display_data"
    }
   ],
   "source": [
    "trans = data['Transmission'].value_counts()\n",
    "\n",
    "fig, ax = plt.subplots(figsize=(13, 8))\n",
    "plt.pie(trans.values, labels=trans.index, autopct='%1.1f%%')\n",
    "plt.title(\"Transmission Types\")\n",
    "\n",
    "plt.xticks(rotation=45)"
   ]
  },
  {
   "cell_type": "markdown",
   "metadata": {},
   "source": [
    "#### Body type"
   ]
  },
  {
   "cell_type": "code",
   "execution_count": 32,
   "metadata": {},
   "outputs": [
    {
     "data": {
      "text/plain": [
       "Saloon          564\n",
       "SUV / 4x4       343\n",
       "Hatchback       163\n",
       "Estate           10\n",
       "MPV               4\n",
       "Convertible       3\n",
       "Coupé/Sports      3\n",
       "Name: Body type, dtype: int64"
      ]
     },
     "execution_count": 32,
     "metadata": {},
     "output_type": "execute_result"
    }
   ],
   "source": [
    "data['Body type'].value_counts()"
   ]
  },
  {
   "cell_type": "code",
   "execution_count": 33,
   "metadata": {},
   "outputs": [
    {
     "data": {
      "text/plain": [
       "(array([0, 1, 2, 3, 4, 5, 6]), <a list of 7 Text xticklabel objects>)"
      ]
     },
     "execution_count": 33,
     "metadata": {},
     "output_type": "execute_result"
    },
    {
     "data": {
      "image/png": "[encoded data removed]",
      "text/plain": [
       "<Figure size 936x576 with 1 Axes>"
      ]
     },
     "metadata": {},
     "output_type": "display_data"
    }
   ],
   "source": [
    "fig, ax = plt.subplots(figsize=(13, 8))\n",
    "sns.countplot(x='Body type', data=data)\n",
    "plt.title(\"Body Types\")\n",
    "\n",
    "plt.xticks(rotation=45)"
   ]
  },
  {
   "cell_type": "markdown",
   "metadata": {},
   "source": [
    "#### Fuel type"
   ]
  },
  {
   "cell_type": "code",
   "execution_count": 34,
   "metadata": {},
   "outputs": [
    {
     "data": {
      "text/plain": [
       "count       1129\n",
       "unique         8\n",
       "top       Petrol\n",
       "freq        1078\n",
       "Name: Fuel type, dtype: object"
      ]
     },
     "execution_count": 34,
     "metadata": {},
     "output_type": "execute_result"
    }
   ],
   "source": [
    "data['Fuel type'].describe()"
   ]
  },
  {
   "cell_type": "code",
   "execution_count": 35,
   "metadata": {
    "scrolled": false
   },
   "outputs": [
    {
     "data": {
      "text/plain": [
       "Petrol            1078\n",
       "Diesel              44\n",
       "Other                2\n",
       "Petrol, Other        1\n",
       "Hybrid               1\n",
       "Petrol, Hybrid       1\n",
       "Diesel, Petrol       1\n",
       "CNG                  1\n",
       "Name: Fuel type, dtype: int64"
      ]
     },
     "execution_count": 35,
     "metadata": {},
     "output_type": "execute_result"
    }
   ],
   "source": [
    "data['Fuel type'].value_counts()"
   ]
  },
  {
   "cell_type": "markdown",
   "metadata": {},
   "source": [
    "Since there are very small values of other fuel types, it will be grouped into a value \"Other\""
   ]
  },
  {
   "cell_type": "code",
   "execution_count": 36,
   "metadata": {},
   "outputs": [],
   "source": [
    "def combine(val):\n",
    "    if val in ['Other', 'Hybrid', 'Petrol, Hybrid', 'CNG', 'Petrol, Other', 'Diesel, Petrol']:\n",
    "        val = 'Other'\n",
    "    else:\n",
    "        pass\n",
    "    return val"
   ]
  },
  {
   "cell_type": "code",
   "execution_count": 37,
   "metadata": {},
   "outputs": [],
   "source": [
    "data['Fuel type'] = data['Fuel type'].apply(lambda x: combine(x))"
   ]
  },
  {
   "cell_type": "code",
   "execution_count": 38,
   "metadata": {},
   "outputs": [
    {
     "data": {
      "text/plain": [
       "Petrol    1078\n",
       "Diesel      44\n",
       "Other        7\n",
       "Name: Fuel type, dtype: int64"
      ]
     },
     "execution_count": 38,
     "metadata": {},
     "output_type": "execute_result"
    }
   ],
   "source": [
    "data['Fuel type'].value_counts()"
   ]
  },
  {
   "cell_type": "code",
   "execution_count": 39,
   "metadata": {},
   "outputs": [
    {
     "data": {
      "text/plain": [
       "(array([0, 1, 2]), <a list of 3 Text xticklabel objects>)"
      ]
     },
     "execution_count": 39,
     "metadata": {},
     "output_type": "execute_result"
    },
    {
     "data": {
      "image/png": "[encoded data removed]",
      "text/plain": [
       "<Figure size 936x576 with 1 Axes>"
      ]
     },
     "metadata": {},
     "output_type": "display_data"
    }
   ],
   "source": [
    "fig, ax = plt.subplots(figsize=(13, 8))\n",
    "sns.countplot(x='Fuel type', data=data)\n",
    "plt.title(\"Count of Fuel Types\")\n",
    "\n",
    "plt.xticks(rotation=45)"
   ]
  },
  {
   "cell_type": "code",
   "execution_count": 40,
   "metadata": {},
   "outputs": [
    {
     "data": {
      "text/html": [
       "<div>\n",
       "<style scoped>\n",
       "    .dataframe tbody tr th:only-of-type {\n",
       "        vertical-align: middle;\n",
       "    }\n",
       "\n",
       "    .dataframe tbody tr th {\n",
       "        vertical-align: top;\n",
       "    }\n",
       "\n",
       "    .dataframe thead th {\n",
       "        text-align: right;\n",
       "    }\n",
       "</style>\n",
       "<table border=\"1\" class=\"dataframe\">\n",
       "  <thead>\n",
       "    <tr style=\"text-align: right;\">\n",
       "      <th></th>\n",
       "      <th>Listing</th>\n",
       "      <th>Price(GH¢)</th>\n",
       "      <th>Condition</th>\n",
       "      <th>Brand</th>\n",
       "      <th>Model</th>\n",
       "      <th>Model year</th>\n",
       "      <th>Transmission</th>\n",
       "      <th>Body type</th>\n",
       "      <th>Fuel type</th>\n",
       "      <th>Mileage(km)</th>\n",
       "      <th>Engine capacity(L)</th>\n",
       "      <th>URL</th>\n",
       "    </tr>\n",
       "  </thead>\n",
       "  <tbody>\n",
       "    <tr>\n",
       "      <th>73</th>\n",
       "      <td>Hyundai Sonata sport 2015</td>\n",
       "      <td>75000</td>\n",
       "      <td>Used</td>\n",
       "      <td>Hyundai</td>\n",
       "      <td>Sonata</td>\n",
       "      <td>2015</td>\n",
       "      <td>Automatic</td>\n",
       "      <td>Saloon</td>\n",
       "      <td>Other</td>\n",
       "      <td>20852</td>\n",
       "      <td>2.0</td>\n",
       "      <td>http://tonaton.com/en/ad/hyundai-sonata-sport-...</td>\n",
       "    </tr>\n",
       "    <tr>\n",
       "      <th>164</th>\n",
       "      <td>Honda Accord Touring 2017</td>\n",
       "      <td>110000</td>\n",
       "      <td>Used</td>\n",
       "      <td>Honda</td>\n",
       "      <td>Accord</td>\n",
       "      <td>2017</td>\n",
       "      <td>Automatic</td>\n",
       "      <td>Saloon</td>\n",
       "      <td>Other</td>\n",
       "      <td>20853</td>\n",
       "      <td>2.4</td>\n",
       "      <td>http://tonaton.com/en/ad/honda-accord-touring-...</td>\n",
       "    </tr>\n",
       "    <tr>\n",
       "      <th>625</th>\n",
       "      <td>Toyota Carina 2017</td>\n",
       "      <td>69000</td>\n",
       "      <td>New</td>\n",
       "      <td>Toyota</td>\n",
       "      <td>Carina</td>\n",
       "      <td>2017</td>\n",
       "      <td>Automatic</td>\n",
       "      <td>Saloon</td>\n",
       "      <td>Other</td>\n",
       "      <td>60002</td>\n",
       "      <td>2.4</td>\n",
       "      <td>http://tonaton.com/en/ad/toyota-carina-2017-fo...</td>\n",
       "    </tr>\n",
       "    <tr>\n",
       "      <th>642</th>\n",
       "      <td>Kia Sorento Limited edition 2011</td>\n",
       "      <td>48500</td>\n",
       "      <td>Used</td>\n",
       "      <td>Kia</td>\n",
       "      <td>Sorento</td>\n",
       "      <td>2011</td>\n",
       "      <td>Automatic</td>\n",
       "      <td>SUV / 4x4</td>\n",
       "      <td>Other</td>\n",
       "      <td>69855</td>\n",
       "      <td>2.4</td>\n",
       "      <td>http://tonaton.com/en/ad/kia-sorento-limited-e...</td>\n",
       "    </tr>\n",
       "    <tr>\n",
       "      <th>709</th>\n",
       "      <td>Toyota Carina 2007</td>\n",
       "      <td>14000</td>\n",
       "      <td>Used</td>\n",
       "      <td>Toyota</td>\n",
       "      <td>Carina</td>\n",
       "      <td>2007</td>\n",
       "      <td>Manual</td>\n",
       "      <td>Saloon</td>\n",
       "      <td>Other</td>\n",
       "      <td>278152</td>\n",
       "      <td>4.0</td>\n",
       "      <td>http://tonaton.com/en/ad/toyota-carina-2007-fo...</td>\n",
       "    </tr>\n",
       "    <tr>\n",
       "      <th>719</th>\n",
       "      <td>Hyundai Sonata 2001</td>\n",
       "      <td>8500</td>\n",
       "      <td>Used</td>\n",
       "      <td>Hyundai</td>\n",
       "      <td>Sonata</td>\n",
       "      <td>2001</td>\n",
       "      <td>Automatic</td>\n",
       "      <td>Saloon</td>\n",
       "      <td>Other</td>\n",
       "      <td>254477</td>\n",
       "      <td>2.0</td>\n",
       "      <td>http://tonaton.com/en/ad/hyundai-sonata-2001-f...</td>\n",
       "    </tr>\n",
       "    <tr>\n",
       "      <th>1083</th>\n",
       "      <td>Kia Sorento Ex 2013</td>\n",
       "      <td>55000</td>\n",
       "      <td>Used</td>\n",
       "      <td>Kia</td>\n",
       "      <td>Sorento</td>\n",
       "      <td>2013</td>\n",
       "      <td>Automatic</td>\n",
       "      <td>SUV / 4x4</td>\n",
       "      <td>Other</td>\n",
       "      <td>67000</td>\n",
       "      <td>2.4</td>\n",
       "      <td>http://tonaton.com/en/ad/kia-sorento-ex-2013-f...</td>\n",
       "    </tr>\n",
       "  </tbody>\n",
       "</table>\n",
       "</div>"
      ],
      "text/plain": [
       "                               Listing  Price(GH¢) Condition    Brand  \\\n",
       "73           Hyundai Sonata sport 2015       75000      Used  Hyundai   \n",
       "164          Honda Accord Touring 2017      110000      Used    Honda   \n",
       "625                 Toyota Carina 2017       69000       New   Toyota   \n",
       "642   Kia Sorento Limited edition 2011       48500      Used      Kia   \n",
       "709                 Toyota Carina 2007       14000      Used   Toyota   \n",
       "719                Hyundai Sonata 2001        8500      Used  Hyundai   \n",
       "1083               Kia Sorento Ex 2013       55000      Used      Kia   \n",
       "\n",
       "        Model Model year Transmission  Body type Fuel type  Mileage(km)  \\\n",
       "73     Sonata       2015    Automatic     Saloon     Other        20852   \n",
       "164    Accord       2017    Automatic     Saloon     Other        20853   \n",
       "625    Carina       2017    Automatic     Saloon     Other        60002   \n",
       "642   Sorento       2011    Automatic  SUV / 4x4     Other        69855   \n",
       "709    Carina       2007       Manual     Saloon     Other       278152   \n",
       "719    Sonata       2001    Automatic     Saloon     Other       254477   \n",
       "1083  Sorento       2013    Automatic  SUV / 4x4     Other        67000   \n",
       "\n",
       "     Engine capacity(L)                                                URL  \n",
       "73                  2.0  http://tonaton.com/en/ad/hyundai-sonata-sport-...  \n",
       "164                 2.4  http://tonaton.com/en/ad/honda-accord-touring-...  \n",
       "625                 2.4  http://tonaton.com/en/ad/toyota-carina-2017-fo...  \n",
       "642                 2.4  http://tonaton.com/en/ad/kia-sorento-limited-e...  \n",
       "709                 4.0  http://tonaton.com/en/ad/toyota-carina-2007-fo...  \n",
       "719                 2.0  http://tonaton.com/en/ad/hyundai-sonata-2001-f...  \n",
       "1083                2.4  http://tonaton.com/en/ad/kia-sorento-ex-2013-f...  "
      ]
     },
     "execution_count": 40,
     "metadata": {},
     "output_type": "execute_result"
    }
   ],
   "source": [
    "data[(data['Fuel type'] == 'Other')]"
   ]
  },
  {
   "cell_type": "markdown",
   "metadata": {},
   "source": [
    "#### Mileage"
   ]
  },
  {
   "cell_type": "code",
   "execution_count": 41,
   "metadata": {},
   "outputs": [
    {
     "data": {
      "text/plain": [
       "count      1129.000000\n",
       "mean      69411.401240\n",
       "std       81779.654647\n",
       "min           0.000000\n",
       "25%       30865.000000\n",
       "50%       60000.000000\n",
       "75%       87524.000000\n",
       "max      954642.000000\n",
       "Name: Mileage(km), dtype: float64"
      ]
     },
     "execution_count": 41,
     "metadata": {},
     "output_type": "execute_result"
    }
   ],
   "source": [
    "data['Mileage(km)'].describe()"
   ]
  },
  {
   "cell_type": "code",
   "execution_count": 42,
   "metadata": {},
   "outputs": [
    {
     "data": {
      "text/plain": [
       "Text(0.5, 1.0, 'Distribution of mileage in kilometers')"
      ]
     },
     "execution_count": 42,
     "metadata": {},
     "output_type": "execute_result"
    },
    {
     "data": {
      "image/png": "[encoded data removed]",
      "text/plain": [
       "<Figure size 936x576 with 1 Axes>"
      ]
     },
     "metadata": {},
     "output_type": "display_data"
    }
   ],
   "source": [
    "fig, ax = plt.subplots(figsize=(13, 8))\n",
    "sns.distplot(data['Mileage(km)'])\n",
    "plt.title(\"Distribution of mileage in kilometers\")"
   ]
  },
  {
   "cell_type": "markdown",
   "metadata": {},
   "source": [
    "1.The average mileage is approximately 70,000km <br> 2. There are vehicles with mileage of 1,000,000km <br> 3. Mileage of 0km"
   ]
  },
  {
   "cell_type": "markdown",
   "metadata": {},
   "source": [
    "Split the data into the two groups: cars with mileage below 300,000km and cars above 300,000km and investigate how it affacts price"
   ]
  },
  {
   "cell_type": "markdown",
   "metadata": {},
   "source": [
    "#### Mileage above 300,000km"
   ]
  },
  {
   "cell_type": "code",
   "execution_count": 43,
   "metadata": {},
   "outputs": [],
   "source": [
    "g_mile = data[data['Mileage(km)'] > 300000]"
   ]
  },
  {
   "cell_type": "code",
   "execution_count": 44,
   "metadata": {
    "scrolled": true
   },
   "outputs": [
    {
     "data": {
      "text/plain": [
       "54739.2"
      ]
     },
     "execution_count": 44,
     "metadata": {},
     "output_type": "execute_result"
    }
   ],
   "source": [
    "g_mile['Price(GH¢)'].mean()"
   ]
  },
  {
   "cell_type": "markdown",
   "metadata": {},
   "source": [
    "Average price for cars with mileage above 300,000km is GH¢ 54,739"
   ]
  },
  {
   "cell_type": "markdown",
   "metadata": {},
   "source": [
    "#### Mileage below 300,000km"
   ]
  },
  {
   "cell_type": "code",
   "execution_count": 45,
   "metadata": {},
   "outputs": [],
   "source": [
    "l_mile = data[~(data['Mileage(km)'] > 300000)]"
   ]
  },
  {
   "cell_type": "code",
   "execution_count": 46,
   "metadata": {
    "scrolled": false
   },
   "outputs": [
    {
     "data": {
      "text/plain": [
       "73171.43447037702"
      ]
     },
     "execution_count": 46,
     "metadata": {},
     "output_type": "execute_result"
    }
   ],
   "source": [
    "l_mile['Price(GH¢)'].mean()"
   ]
  },
  {
   "cell_type": "markdown",
   "metadata": {},
   "source": [
    "Average price for cars with mileage below 300,000km is GH¢ 73,171"
   ]
  },
  {
   "cell_type": "markdown",
   "metadata": {},
   "source": [
    "##### Averagely, when the mileage is low, the price is high and vice versa"
   ]
  },
  {
   "cell_type": "markdown",
   "metadata": {},
   "source": [
    "#### 0km mileage"
   ]
  },
  {
   "cell_type": "code",
   "execution_count": 47,
   "metadata": {
    "scrolled": true
   },
   "outputs": [
    {
     "data": {
      "text/html": [
       "<div>\n",
       "<style scoped>\n",
       "    .dataframe tbody tr th:only-of-type {\n",
       "        vertical-align: middle;\n",
       "    }\n",
       "\n",
       "    .dataframe tbody tr th {\n",
       "        vertical-align: top;\n",
       "    }\n",
       "\n",
       "    .dataframe thead th {\n",
       "        text-align: right;\n",
       "    }\n",
       "</style>\n",
       "<table border=\"1\" class=\"dataframe\">\n",
       "  <thead>\n",
       "    <tr style=\"text-align: right;\">\n",
       "      <th></th>\n",
       "      <th>Listing</th>\n",
       "      <th>Price(GH¢)</th>\n",
       "      <th>Condition</th>\n",
       "      <th>Brand</th>\n",
       "      <th>Model</th>\n",
       "      <th>Model year</th>\n",
       "      <th>Transmission</th>\n",
       "      <th>Body type</th>\n",
       "      <th>Fuel type</th>\n",
       "      <th>Mileage(km)</th>\n",
       "      <th>Engine capacity(L)</th>\n",
       "      <th>URL</th>\n",
       "    </tr>\n",
       "  </thead>\n",
       "  <tbody>\n",
       "    <tr>\n",
       "      <th>40</th>\n",
       "      <td>Toyota RAV4 2015</td>\n",
       "      <td>87000</td>\n",
       "      <td>Used</td>\n",
       "      <td>Toyota</td>\n",
       "      <td>RAV4</td>\n",
       "      <td>2015</td>\n",
       "      <td>Automatic</td>\n",
       "      <td>SUV / 4x4</td>\n",
       "      <td>Petrol</td>\n",
       "      <td>0</td>\n",
       "      <td>2.5</td>\n",
       "      <td>http://tonaton.com/en/ad/toyota-rav4-2015-for-...</td>\n",
       "    </tr>\n",
       "    <tr>\n",
       "      <th>41</th>\n",
       "      <td>Toyota RAV4 2014</td>\n",
       "      <td>85000</td>\n",
       "      <td>Used</td>\n",
       "      <td>Toyota</td>\n",
       "      <td>RAV4</td>\n",
       "      <td>2014</td>\n",
       "      <td>Automatic</td>\n",
       "      <td>SUV / 4x4</td>\n",
       "      <td>Petrol</td>\n",
       "      <td>0</td>\n",
       "      <td>2.4</td>\n",
       "      <td>http://tonaton.com/en/ad/toyota-rav4-2014-for-...</td>\n",
       "    </tr>\n",
       "    <tr>\n",
       "      <th>44</th>\n",
       "      <td>Toyota Corolla 2015</td>\n",
       "      <td>70000</td>\n",
       "      <td>Used</td>\n",
       "      <td>Toyota</td>\n",
       "      <td>Corolla</td>\n",
       "      <td>2015</td>\n",
       "      <td>Automatic</td>\n",
       "      <td>Saloon</td>\n",
       "      <td>Petrol</td>\n",
       "      <td>0</td>\n",
       "      <td>1.8</td>\n",
       "      <td>http://tonaton.com/en/ad/toyota-corolla-2015-f...</td>\n",
       "    </tr>\n",
       "    <tr>\n",
       "      <th>46</th>\n",
       "      <td>Toyota Matrix 2010</td>\n",
       "      <td>44000</td>\n",
       "      <td>Used</td>\n",
       "      <td>Toyota</td>\n",
       "      <td>Matrix</td>\n",
       "      <td>2010</td>\n",
       "      <td>Automatic</td>\n",
       "      <td>Saloon</td>\n",
       "      <td>Petrol</td>\n",
       "      <td>0</td>\n",
       "      <td>1.8</td>\n",
       "      <td>http://tonaton.com/en/ad/toyota-matrix-2010-fo...</td>\n",
       "    </tr>\n",
       "    <tr>\n",
       "      <th>112</th>\n",
       "      <td>Toyota Camry XLE ✅ 2005</td>\n",
       "      <td>22500</td>\n",
       "      <td>Used</td>\n",
       "      <td>Toyota</td>\n",
       "      <td>Camry</td>\n",
       "      <td>2005</td>\n",
       "      <td>Automatic</td>\n",
       "      <td>Saloon</td>\n",
       "      <td>Petrol</td>\n",
       "      <td>0</td>\n",
       "      <td>2.0</td>\n",
       "      <td>http://tonaton.com/en/ad/toyota-camry-xle-2005...</td>\n",
       "    </tr>\n",
       "    <tr>\n",
       "      <th>119</th>\n",
       "      <td>Hyundai Elantra LE ✅ 2013</td>\n",
       "      <td>35500</td>\n",
       "      <td>Used</td>\n",
       "      <td>Hyundai</td>\n",
       "      <td>Elantra</td>\n",
       "      <td>2013</td>\n",
       "      <td>Automatic</td>\n",
       "      <td>Hatchback</td>\n",
       "      <td>Petrol</td>\n",
       "      <td>0</td>\n",
       "      <td>1.6</td>\n",
       "      <td>http://tonaton.com/en/ad/hyundai-elantra-le-20...</td>\n",
       "    </tr>\n",
       "    <tr>\n",
       "      <th>150</th>\n",
       "      <td>Toyota Yaris Sports 2017</td>\n",
       "      <td>45000</td>\n",
       "      <td>Used</td>\n",
       "      <td>Toyota</td>\n",
       "      <td>Yaris</td>\n",
       "      <td>2017</td>\n",
       "      <td>Automatic</td>\n",
       "      <td>Saloon</td>\n",
       "      <td>Petrol</td>\n",
       "      <td>0</td>\n",
       "      <td>1.4</td>\n",
       "      <td>http://tonaton.com/en/ad/toyota-yaris-sports-2...</td>\n",
       "    </tr>\n",
       "    <tr>\n",
       "      <th>174</th>\n",
       "      <td>Audi A4 2000</td>\n",
       "      <td>17000</td>\n",
       "      <td>Used</td>\n",
       "      <td>Audi</td>\n",
       "      <td>A4</td>\n",
       "      <td>2000</td>\n",
       "      <td>Manual</td>\n",
       "      <td>Saloon</td>\n",
       "      <td>Petrol</td>\n",
       "      <td>0</td>\n",
       "      <td>1.8</td>\n",
       "      <td>http://tonaton.com/en/ad/audi-a4-2000-for-sale...</td>\n",
       "    </tr>\n",
       "    <tr>\n",
       "      <th>192</th>\n",
       "      <td>Toyota Corolla SE ✅ 2010</td>\n",
       "      <td>31000</td>\n",
       "      <td>Used</td>\n",
       "      <td>Toyota</td>\n",
       "      <td>Corolla</td>\n",
       "      <td>2010</td>\n",
       "      <td>Manual</td>\n",
       "      <td>Saloon</td>\n",
       "      <td>Petrol</td>\n",
       "      <td>0</td>\n",
       "      <td>1.8</td>\n",
       "      <td>http://tonaton.com/en/ad/toyota-corolla-se-201...</td>\n",
       "    </tr>\n",
       "    <tr>\n",
       "      <th>242</th>\n",
       "      <td>Toyota iA/limited Edition ✅ 2016</td>\n",
       "      <td>46000</td>\n",
       "      <td>Used</td>\n",
       "      <td>Toyota</td>\n",
       "      <td>Other Model</td>\n",
       "      <td>2016</td>\n",
       "      <td>Automatic</td>\n",
       "      <td>Saloon</td>\n",
       "      <td>Petrol</td>\n",
       "      <td>0</td>\n",
       "      <td>1.5</td>\n",
       "      <td>http://tonaton.com/en/ad/toyota-ia-limited-edi...</td>\n",
       "    </tr>\n",
       "    <tr>\n",
       "      <th>256</th>\n",
       "      <td>Toyota Yaris LE ✅ 2008</td>\n",
       "      <td>31000</td>\n",
       "      <td>Used</td>\n",
       "      <td>Toyota</td>\n",
       "      <td>Yaris</td>\n",
       "      <td>2008</td>\n",
       "      <td>Automatic</td>\n",
       "      <td>Saloon</td>\n",
       "      <td>Petrol</td>\n",
       "      <td>0</td>\n",
       "      <td>1.8</td>\n",
       "      <td>http://tonaton.com/en/ad/toyota-yaris-le-2008-...</td>\n",
       "    </tr>\n",
       "    <tr>\n",
       "      <th>258</th>\n",
       "      <td>Toyota Corolla LIMITED ✅ 2007</td>\n",
       "      <td>27500</td>\n",
       "      <td>Used</td>\n",
       "      <td>Toyota</td>\n",
       "      <td>Corolla</td>\n",
       "      <td>2007</td>\n",
       "      <td>Automatic</td>\n",
       "      <td>Saloon</td>\n",
       "      <td>Petrol</td>\n",
       "      <td>0</td>\n",
       "      <td>1.8</td>\n",
       "      <td>http://tonaton.com/en/ad/toyota-corolla-limite...</td>\n",
       "    </tr>\n",
       "    <tr>\n",
       "      <th>259</th>\n",
       "      <td>Toyota Corolla LE ✅ 2008</td>\n",
       "      <td>29000</td>\n",
       "      <td>Used</td>\n",
       "      <td>Toyota</td>\n",
       "      <td>Corolla</td>\n",
       "      <td>2008</td>\n",
       "      <td>Automatic</td>\n",
       "      <td>Saloon</td>\n",
       "      <td>Petrol</td>\n",
       "      <td>0</td>\n",
       "      <td>1.8</td>\n",
       "      <td>http://tonaton.com/en/ad/toyota-corolla-le-200...</td>\n",
       "    </tr>\n",
       "    <tr>\n",
       "      <th>260</th>\n",
       "      <td>Toyota Yaris LE ✅ 2008</td>\n",
       "      <td>27500</td>\n",
       "      <td>Used</td>\n",
       "      <td>Toyota</td>\n",
       "      <td>Yaris</td>\n",
       "      <td>2008</td>\n",
       "      <td>Automatic</td>\n",
       "      <td>Hatchback</td>\n",
       "      <td>Petrol</td>\n",
       "      <td>0</td>\n",
       "      <td>1.5</td>\n",
       "      <td>http://tonaton.com/en/ad/toyota-yaris-le-2008-...</td>\n",
       "    </tr>\n",
       "    <tr>\n",
       "      <th>261</th>\n",
       "      <td>Pontiac Vibe LE ✅ 2009</td>\n",
       "      <td>36000</td>\n",
       "      <td>Used</td>\n",
       "      <td>Pontiac</td>\n",
       "      <td>Vibe</td>\n",
       "      <td>2009</td>\n",
       "      <td>Automatic</td>\n",
       "      <td>Hatchback</td>\n",
       "      <td>Petrol</td>\n",
       "      <td>0</td>\n",
       "      <td>1.8</td>\n",
       "      <td>http://tonaton.com/en/ad/pontiac-vibe-le-2009-...</td>\n",
       "    </tr>\n",
       "    <tr>\n",
       "      <th>263</th>\n",
       "      <td>Toyota Corolla Sport ✅ 2008</td>\n",
       "      <td>28500</td>\n",
       "      <td>Used</td>\n",
       "      <td>Toyota</td>\n",
       "      <td>Corolla</td>\n",
       "      <td>2008</td>\n",
       "      <td>Automatic</td>\n",
       "      <td>Saloon</td>\n",
       "      <td>Petrol</td>\n",
       "      <td>0</td>\n",
       "      <td>1.8</td>\n",
       "      <td>http://tonaton.com/en/ad/toyota-corolla-sport-...</td>\n",
       "    </tr>\n",
       "    <tr>\n",
       "      <th>476</th>\n",
       "      <td>Infiniti qx80 Fully Loaded 2020</td>\n",
       "      <td>550000</td>\n",
       "      <td>Used</td>\n",
       "      <td>Infiniti</td>\n",
       "      <td>qx80</td>\n",
       "      <td>2020</td>\n",
       "      <td>Automatic</td>\n",
       "      <td>SUV / 4x4</td>\n",
       "      <td>Petrol</td>\n",
       "      <td>0</td>\n",
       "      <td>5.6</td>\n",
       "      <td>http://tonaton.com/en/ad/infiniti-qx80-fully-l...</td>\n",
       "    </tr>\n",
       "    <tr>\n",
       "      <th>527</th>\n",
       "      <td>Toyota Corolla 2018</td>\n",
       "      <td>190400</td>\n",
       "      <td>New</td>\n",
       "      <td>Toyota</td>\n",
       "      <td>Corolla</td>\n",
       "      <td>2018</td>\n",
       "      <td>Automatic</td>\n",
       "      <td>Saloon</td>\n",
       "      <td>Petrol</td>\n",
       "      <td>0</td>\n",
       "      <td>1.8</td>\n",
       "      <td>http://tonaton.com/en/ad/toyota-corolla-2018-f...</td>\n",
       "    </tr>\n",
       "    <tr>\n",
       "      <th>528</th>\n",
       "      <td>Toyota Corolla 2018</td>\n",
       "      <td>190400</td>\n",
       "      <td>New</td>\n",
       "      <td>Toyota</td>\n",
       "      <td>Corolla</td>\n",
       "      <td>2018</td>\n",
       "      <td>Automatic</td>\n",
       "      <td>Saloon</td>\n",
       "      <td>Petrol</td>\n",
       "      <td>0</td>\n",
       "      <td>1.8</td>\n",
       "      <td>http://tonaton.com/en/ad/toyota-corolla-2018-f...</td>\n",
       "    </tr>\n",
       "    <tr>\n",
       "      <th>532</th>\n",
       "      <td>Mitsubishi Pajero 2017</td>\n",
       "      <td>267750</td>\n",
       "      <td>New</td>\n",
       "      <td>Mitsubishi</td>\n",
       "      <td>Pajero</td>\n",
       "      <td>2017</td>\n",
       "      <td>Automatic</td>\n",
       "      <td>SUV / 4x4</td>\n",
       "      <td>Petrol</td>\n",
       "      <td>0</td>\n",
       "      <td>3.5</td>\n",
       "      <td>http://tonaton.com/en/ad/mitsubishi-pajero-201...</td>\n",
       "    </tr>\n",
       "    <tr>\n",
       "      <th>533</th>\n",
       "      <td>Mitsubishi Pajero 2017</td>\n",
       "      <td>267750</td>\n",
       "      <td>New</td>\n",
       "      <td>Mitsubishi</td>\n",
       "      <td>Pajero</td>\n",
       "      <td>2017</td>\n",
       "      <td>Automatic</td>\n",
       "      <td>SUV / 4x4</td>\n",
       "      <td>Petrol</td>\n",
       "      <td>0</td>\n",
       "      <td>3.5</td>\n",
       "      <td>http://tonaton.com/en/ad/mitsubishi-pajero-201...</td>\n",
       "    </tr>\n",
       "    <tr>\n",
       "      <th>534</th>\n",
       "      <td>Mitsubishi Pajero 2017</td>\n",
       "      <td>267750</td>\n",
       "      <td>New</td>\n",
       "      <td>Mitsubishi</td>\n",
       "      <td>Pajero</td>\n",
       "      <td>2017</td>\n",
       "      <td>Automatic</td>\n",
       "      <td>SUV / 4x4</td>\n",
       "      <td>Petrol</td>\n",
       "      <td>0</td>\n",
       "      <td>3.5</td>\n",
       "      <td>http://tonaton.com/en/ad/mitsubishi-pajero-201...</td>\n",
       "    </tr>\n",
       "    <tr>\n",
       "      <th>536</th>\n",
       "      <td>Toyota Fortuner 2020</td>\n",
       "      <td>285600</td>\n",
       "      <td>New</td>\n",
       "      <td>Toyota</td>\n",
       "      <td>Fortuner</td>\n",
       "      <td>2020</td>\n",
       "      <td>Automatic</td>\n",
       "      <td>SUV / 4x4</td>\n",
       "      <td>Petrol</td>\n",
       "      <td>0</td>\n",
       "      <td>2.7</td>\n",
       "      <td>http://tonaton.com/en/ad/toyota-fortuner-2020-...</td>\n",
       "    </tr>\n",
       "    <tr>\n",
       "      <th>537</th>\n",
       "      <td>Toyota Fortuner 2020</td>\n",
       "      <td>285600</td>\n",
       "      <td>New</td>\n",
       "      <td>Toyota</td>\n",
       "      <td>Fortuner</td>\n",
       "      <td>2020</td>\n",
       "      <td>Automatic</td>\n",
       "      <td>SUV / 4x4</td>\n",
       "      <td>Petrol</td>\n",
       "      <td>0</td>\n",
       "      <td>2.7</td>\n",
       "      <td>http://tonaton.com/en/ad/toyota-fortuner-2020-...</td>\n",
       "    </tr>\n",
       "    <tr>\n",
       "      <th>545</th>\n",
       "      <td>Toyota Camry 2015</td>\n",
       "      <td>78000</td>\n",
       "      <td>New</td>\n",
       "      <td>Toyota</td>\n",
       "      <td>Camry</td>\n",
       "      <td>2015</td>\n",
       "      <td>Automatic</td>\n",
       "      <td>Saloon</td>\n",
       "      <td>Petrol</td>\n",
       "      <td>0</td>\n",
       "      <td>2.5</td>\n",
       "      <td>http://tonaton.com/en/ad/toyota-camry-2015-for...</td>\n",
       "    </tr>\n",
       "    <tr>\n",
       "      <th>550</th>\n",
       "      <td>Mitsubishi Pajero 2017</td>\n",
       "      <td>170000</td>\n",
       "      <td>Used</td>\n",
       "      <td>Mitsubishi</td>\n",
       "      <td>Pajero</td>\n",
       "      <td>2017</td>\n",
       "      <td>Automatic</td>\n",
       "      <td>SUV / 4x4</td>\n",
       "      <td>Petrol</td>\n",
       "      <td>0</td>\n",
       "      <td>3.5</td>\n",
       "      <td>http://tonaton.com/en/ad/mitsubishi-pajero-201...</td>\n",
       "    </tr>\n",
       "    <tr>\n",
       "      <th>551</th>\n",
       "      <td>Toyota Land Cruiser 2019</td>\n",
       "      <td>392700</td>\n",
       "      <td>New</td>\n",
       "      <td>Toyota</td>\n",
       "      <td>Land Cruiser</td>\n",
       "      <td>2019</td>\n",
       "      <td>Automatic</td>\n",
       "      <td>SUV / 4x4</td>\n",
       "      <td>Petrol</td>\n",
       "      <td>0</td>\n",
       "      <td>2.7</td>\n",
       "      <td>http://tonaton.com/en/ad/toyota-land-cruiser-2...</td>\n",
       "    </tr>\n",
       "    <tr>\n",
       "      <th>552</th>\n",
       "      <td>Toyota Highlander 2018</td>\n",
       "      <td>392700</td>\n",
       "      <td>New</td>\n",
       "      <td>Toyota</td>\n",
       "      <td>Highlander</td>\n",
       "      <td>2018</td>\n",
       "      <td>Automatic</td>\n",
       "      <td>SUV / 4x4</td>\n",
       "      <td>Petrol</td>\n",
       "      <td>0</td>\n",
       "      <td>3.5</td>\n",
       "      <td>http://tonaton.com/en/ad/toyota-highlander-201...</td>\n",
       "    </tr>\n",
       "    <tr>\n",
       "      <th>553</th>\n",
       "      <td>Toyota Land Cruiser 2019</td>\n",
       "      <td>392700</td>\n",
       "      <td>New</td>\n",
       "      <td>Toyota</td>\n",
       "      <td>Land Cruiser</td>\n",
       "      <td>2019</td>\n",
       "      <td>Automatic</td>\n",
       "      <td>SUV / 4x4</td>\n",
       "      <td>Petrol</td>\n",
       "      <td>0</td>\n",
       "      <td>2.7</td>\n",
       "      <td>http://tonaton.com/en/ad/toyota-land-cruiser-2...</td>\n",
       "    </tr>\n",
       "    <tr>\n",
       "      <th>555</th>\n",
       "      <td>Toyota Land Cruiser 2019</td>\n",
       "      <td>392700</td>\n",
       "      <td>New</td>\n",
       "      <td>Toyota</td>\n",
       "      <td>Land Cruiser</td>\n",
       "      <td>2019</td>\n",
       "      <td>Automatic</td>\n",
       "      <td>SUV / 4x4</td>\n",
       "      <td>Petrol</td>\n",
       "      <td>0</td>\n",
       "      <td>2.7</td>\n",
       "      <td>http://tonaton.com/en/ad/toyota-land-cruiser-2...</td>\n",
       "    </tr>\n",
       "    <tr>\n",
       "      <th>556</th>\n",
       "      <td>Toyota Land Cruiser 2019</td>\n",
       "      <td>392700</td>\n",
       "      <td>New</td>\n",
       "      <td>Toyota</td>\n",
       "      <td>Land Cruiser</td>\n",
       "      <td>2019</td>\n",
       "      <td>Automatic</td>\n",
       "      <td>SUV / 4x4</td>\n",
       "      <td>Petrol</td>\n",
       "      <td>0</td>\n",
       "      <td>2.7</td>\n",
       "      <td>http://tonaton.com/en/ad/toyota-land-cruiser-2...</td>\n",
       "    </tr>\n",
       "    <tr>\n",
       "      <th>557</th>\n",
       "      <td>Toyota Land Cruiser 2019</td>\n",
       "      <td>392700</td>\n",
       "      <td>New</td>\n",
       "      <td>Toyota</td>\n",
       "      <td>Land Cruiser</td>\n",
       "      <td>2019</td>\n",
       "      <td>Automatic</td>\n",
       "      <td>SUV / 4x4</td>\n",
       "      <td>Petrol</td>\n",
       "      <td>0</td>\n",
       "      <td>2.7</td>\n",
       "      <td>http://tonaton.com/en/ad/toyota-land-cruiser-2...</td>\n",
       "    </tr>\n",
       "    <tr>\n",
       "      <th>558</th>\n",
       "      <td>Toyota Land Cruiser 2019</td>\n",
       "      <td>428400</td>\n",
       "      <td>New</td>\n",
       "      <td>Toyota</td>\n",
       "      <td>Land Cruiser</td>\n",
       "      <td>2019</td>\n",
       "      <td>Automatic</td>\n",
       "      <td>SUV / 4x4</td>\n",
       "      <td>Diesel</td>\n",
       "      <td>0</td>\n",
       "      <td>3.0</td>\n",
       "      <td>http://tonaton.com/en/ad/toyota-land-cruiser-2...</td>\n",
       "    </tr>\n",
       "    <tr>\n",
       "      <th>559</th>\n",
       "      <td>Toyota Land Cruiser 2019</td>\n",
       "      <td>428400</td>\n",
       "      <td>New</td>\n",
       "      <td>Toyota</td>\n",
       "      <td>Land Cruiser</td>\n",
       "      <td>2019</td>\n",
       "      <td>Automatic</td>\n",
       "      <td>SUV / 4x4</td>\n",
       "      <td>Diesel</td>\n",
       "      <td>0</td>\n",
       "      <td>3.0</td>\n",
       "      <td>http://tonaton.com/en/ad/toyota-land-cruiser-2...</td>\n",
       "    </tr>\n",
       "    <tr>\n",
       "      <th>562</th>\n",
       "      <td>Toyota Land Cruiser 2019</td>\n",
       "      <td>702100</td>\n",
       "      <td>New</td>\n",
       "      <td>Toyota</td>\n",
       "      <td>Land Cruiser</td>\n",
       "      <td>2019</td>\n",
       "      <td>Automatic</td>\n",
       "      <td>SUV / 4x4</td>\n",
       "      <td>Diesel</td>\n",
       "      <td>0</td>\n",
       "      <td>4.5</td>\n",
       "      <td>http://tonaton.com/en/ad/toyota-land-cruiser-2...</td>\n",
       "    </tr>\n",
       "    <tr>\n",
       "      <th>564</th>\n",
       "      <td>Toyota Land Cruiser 2019</td>\n",
       "      <td>702100</td>\n",
       "      <td>New</td>\n",
       "      <td>Toyota</td>\n",
       "      <td>Land Cruiser</td>\n",
       "      <td>2019</td>\n",
       "      <td>Automatic</td>\n",
       "      <td>SUV / 4x4</td>\n",
       "      <td>Diesel</td>\n",
       "      <td>0</td>\n",
       "      <td>4.5</td>\n",
       "      <td>http://tonaton.com/en/ad/toyota-land-cruiser-2...</td>\n",
       "    </tr>\n",
       "    <tr>\n",
       "      <th>565</th>\n",
       "      <td>Toyota Land Cruiser 2019</td>\n",
       "      <td>702100</td>\n",
       "      <td>New</td>\n",
       "      <td>Toyota</td>\n",
       "      <td>Land Cruiser</td>\n",
       "      <td>2019</td>\n",
       "      <td>Automatic</td>\n",
       "      <td>SUV / 4x4</td>\n",
       "      <td>Diesel</td>\n",
       "      <td>0</td>\n",
       "      <td>4.5</td>\n",
       "      <td>http://tonaton.com/en/ad/toyota-land-cruiser-2...</td>\n",
       "    </tr>\n",
       "    <tr>\n",
       "      <th>566</th>\n",
       "      <td>Toyota Land Cruiser 2019</td>\n",
       "      <td>684250</td>\n",
       "      <td>New</td>\n",
       "      <td>Toyota</td>\n",
       "      <td>Land Cruiser</td>\n",
       "      <td>2019</td>\n",
       "      <td>Automatic</td>\n",
       "      <td>SUV / 4x4</td>\n",
       "      <td>Diesel</td>\n",
       "      <td>0</td>\n",
       "      <td>4.5</td>\n",
       "      <td>http://tonaton.com/en/ad/toyota-land-cruiser-2...</td>\n",
       "    </tr>\n",
       "    <tr>\n",
       "      <th>571</th>\n",
       "      <td>Lexus LX 2019</td>\n",
       "      <td>981750</td>\n",
       "      <td>New</td>\n",
       "      <td>Lexus</td>\n",
       "      <td>LX</td>\n",
       "      <td>2019</td>\n",
       "      <td>Automatic</td>\n",
       "      <td>SUV / 4x4</td>\n",
       "      <td>Petrol</td>\n",
       "      <td>0</td>\n",
       "      <td>5.7</td>\n",
       "      <td>http://tonaton.com/en/ad/lexus-lx-2019-for-sal...</td>\n",
       "    </tr>\n",
       "    <tr>\n",
       "      <th>609</th>\n",
       "      <td>Nissan Versa 2008</td>\n",
       "      <td>20000</td>\n",
       "      <td>Used</td>\n",
       "      <td>Nissan</td>\n",
       "      <td>Versa</td>\n",
       "      <td>2008</td>\n",
       "      <td>Automatic</td>\n",
       "      <td>Saloon</td>\n",
       "      <td>Petrol</td>\n",
       "      <td>0</td>\n",
       "      <td>1.8</td>\n",
       "      <td>http://tonaton.com/en/ad/nissan-versa-2008-for...</td>\n",
       "    </tr>\n",
       "    <tr>\n",
       "      <th>615</th>\n",
       "      <td>Honda Accord 2014</td>\n",
       "      <td>48500</td>\n",
       "      <td>Used</td>\n",
       "      <td>Honda</td>\n",
       "      <td>Accord</td>\n",
       "      <td>2014</td>\n",
       "      <td>Automatic</td>\n",
       "      <td>Saloon</td>\n",
       "      <td>Petrol</td>\n",
       "      <td>0</td>\n",
       "      <td>2.4</td>\n",
       "      <td>http://tonaton.com/en/ad/honda-accord-2014-for...</td>\n",
       "    </tr>\n",
       "    <tr>\n",
       "      <th>617</th>\n",
       "      <td>Ford Escape 2013</td>\n",
       "      <td>48500</td>\n",
       "      <td>Used</td>\n",
       "      <td>Ford</td>\n",
       "      <td>Escape</td>\n",
       "      <td>2013</td>\n",
       "      <td>Automatic</td>\n",
       "      <td>SUV / 4x4</td>\n",
       "      <td>Petrol</td>\n",
       "      <td>0</td>\n",
       "      <td>1.6</td>\n",
       "      <td>http://tonaton.com/en/ad/ford-escape-2013-for-...</td>\n",
       "    </tr>\n",
       "    <tr>\n",
       "      <th>677</th>\n",
       "      <td>Hyundai Elantra LE ✅ 2010</td>\n",
       "      <td>27000</td>\n",
       "      <td>Used</td>\n",
       "      <td>Hyundai</td>\n",
       "      <td>Elantra</td>\n",
       "      <td>2010</td>\n",
       "      <td>Automatic</td>\n",
       "      <td>Saloon</td>\n",
       "      <td>Petrol</td>\n",
       "      <td>0</td>\n",
       "      <td>1.8</td>\n",
       "      <td>http://tonaton.com/en/ad/hyundai-elantra-le-20...</td>\n",
       "    </tr>\n",
       "    <tr>\n",
       "      <th>678</th>\n",
       "      <td>Honda Civic LE ✅ 2008</td>\n",
       "      <td>26000</td>\n",
       "      <td>Used</td>\n",
       "      <td>Honda</td>\n",
       "      <td>Civic</td>\n",
       "      <td>2008</td>\n",
       "      <td>Automatic</td>\n",
       "      <td>Saloon</td>\n",
       "      <td>Petrol</td>\n",
       "      <td>0</td>\n",
       "      <td>1.8</td>\n",
       "      <td>http://tonaton.com/en/ad/honda-civic-le-2008-f...</td>\n",
       "    </tr>\n",
       "    <tr>\n",
       "      <th>680</th>\n",
       "      <td>Nissan Sentra LE ✅ 2004</td>\n",
       "      <td>12500</td>\n",
       "      <td>Used</td>\n",
       "      <td>Nissan</td>\n",
       "      <td>Sentra</td>\n",
       "      <td>2004</td>\n",
       "      <td>Automatic</td>\n",
       "      <td>Saloon</td>\n",
       "      <td>Petrol</td>\n",
       "      <td>0</td>\n",
       "      <td>1.8</td>\n",
       "      <td>http://tonaton.com/en/ad/nissan-sentra-le-2004...</td>\n",
       "    </tr>\n",
       "    <tr>\n",
       "      <th>807</th>\n",
       "      <td>Nissan Rogue Sports 2012</td>\n",
       "      <td>57000</td>\n",
       "      <td>Used</td>\n",
       "      <td>Nissan</td>\n",
       "      <td>Rogue</td>\n",
       "      <td>2012</td>\n",
       "      <td>Automatic</td>\n",
       "      <td>SUV / 4x4</td>\n",
       "      <td>Petrol</td>\n",
       "      <td>0</td>\n",
       "      <td>2.4</td>\n",
       "      <td>http://tonaton.com/en/ad/nissan-rogue-sports-2...</td>\n",
       "    </tr>\n",
       "    <tr>\n",
       "      <th>815</th>\n",
       "      <td>Kia Cadenza Sports 2011</td>\n",
       "      <td>31000</td>\n",
       "      <td>Used</td>\n",
       "      <td>Kia</td>\n",
       "      <td>Cadenza</td>\n",
       "      <td>2011</td>\n",
       "      <td>Automatic</td>\n",
       "      <td>Saloon</td>\n",
       "      <td>Petrol</td>\n",
       "      <td>0</td>\n",
       "      <td>3.0</td>\n",
       "      <td>http://tonaton.com/en/ad/kia-cadenza-sports-20...</td>\n",
       "    </tr>\n",
       "    <tr>\n",
       "      <th>856</th>\n",
       "      <td>Toyota Yaris 2009</td>\n",
       "      <td>32000</td>\n",
       "      <td>Used</td>\n",
       "      <td>Toyota</td>\n",
       "      <td>Yaris</td>\n",
       "      <td>2009</td>\n",
       "      <td>Automatic</td>\n",
       "      <td>Saloon</td>\n",
       "      <td>Petrol</td>\n",
       "      <td>0</td>\n",
       "      <td>1.4</td>\n",
       "      <td>http://tonaton.com/en/ad/toyota-yaris-2009-for...</td>\n",
       "    </tr>\n",
       "    <tr>\n",
       "      <th>874</th>\n",
       "      <td>Toyota Land Cruiser Prado Executive 2020</td>\n",
       "      <td>460000</td>\n",
       "      <td>New</td>\n",
       "      <td>Toyota</td>\n",
       "      <td>Land Cruiser</td>\n",
       "      <td>2020</td>\n",
       "      <td>Automatic</td>\n",
       "      <td>SUV / 4x4</td>\n",
       "      <td>Diesel</td>\n",
       "      <td>0</td>\n",
       "      <td>3.0</td>\n",
       "      <td>http://tonaton.com/en/ad/toyota-land-cruiser-p...</td>\n",
       "    </tr>\n",
       "    <tr>\n",
       "      <th>925</th>\n",
       "      <td>Daewoo Matiz Se 2009</td>\n",
       "      <td>15000</td>\n",
       "      <td>Used</td>\n",
       "      <td>Daewoo</td>\n",
       "      <td>Matiz</td>\n",
       "      <td>2009</td>\n",
       "      <td>Automatic</td>\n",
       "      <td>Saloon</td>\n",
       "      <td>Petrol</td>\n",
       "      <td>0</td>\n",
       "      <td>1.2</td>\n",
       "      <td>http://tonaton.com/en/ad/daewoo-matiz-se-2009-...</td>\n",
       "    </tr>\n",
       "    <tr>\n",
       "      <th>1006</th>\n",
       "      <td>Hyundai Sonata Sports 2018</td>\n",
       "      <td>90000</td>\n",
       "      <td>New</td>\n",
       "      <td>Hyundai</td>\n",
       "      <td>Sonata</td>\n",
       "      <td>2018</td>\n",
       "      <td>Automatic</td>\n",
       "      <td>Saloon</td>\n",
       "      <td>Petrol</td>\n",
       "      <td>0</td>\n",
       "      <td>2.0</td>\n",
       "      <td>http://tonaton.com/en/ad/hyundai-sonata-sports...</td>\n",
       "    </tr>\n",
       "    <tr>\n",
       "      <th>1009</th>\n",
       "      <td>Toyota Corolla LE 2017</td>\n",
       "      <td>77000</td>\n",
       "      <td>New</td>\n",
       "      <td>Toyota</td>\n",
       "      <td>Corolla</td>\n",
       "      <td>2017</td>\n",
       "      <td>Automatic</td>\n",
       "      <td>Saloon</td>\n",
       "      <td>Petrol</td>\n",
       "      <td>0</td>\n",
       "      <td>1.8</td>\n",
       "      <td>http://tonaton.com/en/ad/toyota-corolla-le-201...</td>\n",
       "    </tr>\n",
       "    <tr>\n",
       "      <th>1162</th>\n",
       "      <td>Toyota Corolla SE ✅ 2009</td>\n",
       "      <td>29000</td>\n",
       "      <td>Used</td>\n",
       "      <td>Toyota</td>\n",
       "      <td>Corolla</td>\n",
       "      <td>2009</td>\n",
       "      <td>Automatic</td>\n",
       "      <td>Saloon</td>\n",
       "      <td>Petrol</td>\n",
       "      <td>0</td>\n",
       "      <td>1.8</td>\n",
       "      <td>http://tonaton.com/en/ad/toyota-corolla-se-200...</td>\n",
       "    </tr>\n",
       "  </tbody>\n",
       "</table>\n",
       "</div>"
      ],
      "text/plain": [
       "                                       Listing  Price(GH¢) Condition  \\\n",
       "40                            Toyota RAV4 2015       87000      Used   \n",
       "41                            Toyota RAV4 2014       85000      Used   \n",
       "44                         Toyota Corolla 2015       70000      Used   \n",
       "46                          Toyota Matrix 2010       44000      Used   \n",
       "112                    Toyota Camry XLE ✅ 2005       22500      Used   \n",
       "119                  Hyundai Elantra LE ✅ 2013       35500      Used   \n",
       "150                   Toyota Yaris Sports 2017       45000      Used   \n",
       "174                               Audi A4 2000       17000      Used   \n",
       "192                   Toyota Corolla SE ✅ 2010       31000      Used   \n",
       "242           Toyota iA/limited Edition ✅ 2016       46000      Used   \n",
       "256                     Toyota Yaris LE ✅ 2008       31000      Used   \n",
       "258              Toyota Corolla LIMITED ✅ 2007       27500      Used   \n",
       "259                   Toyota Corolla LE ✅ 2008       29000      Used   \n",
       "260                     Toyota Yaris LE ✅ 2008       27500      Used   \n",
       "261                     Pontiac Vibe LE ✅ 2009       36000      Used   \n",
       "263                Toyota Corolla Sport ✅ 2008       28500      Used   \n",
       "476            Infiniti qx80 Fully Loaded 2020      550000      Used   \n",
       "527                        Toyota Corolla 2018      190400       New   \n",
       "528                        Toyota Corolla 2018      190400       New   \n",
       "532                     Mitsubishi Pajero 2017      267750       New   \n",
       "533                     Mitsubishi Pajero 2017      267750       New   \n",
       "534                     Mitsubishi Pajero 2017      267750       New   \n",
       "536                       Toyota Fortuner 2020      285600       New   \n",
       "537                       Toyota Fortuner 2020      285600       New   \n",
       "545                          Toyota Camry 2015       78000       New   \n",
       "550                     Mitsubishi Pajero 2017      170000      Used   \n",
       "551                   Toyota Land Cruiser 2019      392700       New   \n",
       "552                     Toyota Highlander 2018      392700       New   \n",
       "553                   Toyota Land Cruiser 2019      392700       New   \n",
       "555                   Toyota Land Cruiser 2019      392700       New   \n",
       "556                   Toyota Land Cruiser 2019      392700       New   \n",
       "557                   Toyota Land Cruiser 2019      392700       New   \n",
       "558                   Toyota Land Cruiser 2019      428400       New   \n",
       "559                   Toyota Land Cruiser 2019      428400       New   \n",
       "562                   Toyota Land Cruiser 2019      702100       New   \n",
       "564                   Toyota Land Cruiser 2019      702100       New   \n",
       "565                   Toyota Land Cruiser 2019      702100       New   \n",
       "566                   Toyota Land Cruiser 2019      684250       New   \n",
       "571                              Lexus LX 2019      981750       New   \n",
       "609                          Nissan Versa 2008       20000      Used   \n",
       "615                          Honda Accord 2014       48500      Used   \n",
       "617                           Ford Escape 2013       48500      Used   \n",
       "677                  Hyundai Elantra LE ✅ 2010       27000      Used   \n",
       "678                      Honda Civic LE ✅ 2008       26000      Used   \n",
       "680                    Nissan Sentra LE ✅ 2004       12500      Used   \n",
       "807                   Nissan Rogue Sports 2012       57000      Used   \n",
       "815                    Kia Cadenza Sports 2011       31000      Used   \n",
       "856                          Toyota Yaris 2009       32000      Used   \n",
       "874   Toyota Land Cruiser Prado Executive 2020      460000       New   \n",
       "925                       Daewoo Matiz Se 2009       15000      Used   \n",
       "1006                Hyundai Sonata Sports 2018       90000       New   \n",
       "1009                    Toyota Corolla LE 2017       77000       New   \n",
       "1162                  Toyota Corolla SE ✅ 2009       29000      Used   \n",
       "\n",
       "           Brand         Model Model year Transmission  Body type Fuel type  \\\n",
       "40        Toyota          RAV4       2015    Automatic  SUV / 4x4    Petrol   \n",
       "41        Toyota          RAV4       2014    Automatic  SUV / 4x4    Petrol   \n",
       "44        Toyota       Corolla       2015    Automatic     Saloon    Petrol   \n",
       "46        Toyota        Matrix       2010    Automatic     Saloon    Petrol   \n",
       "112       Toyota         Camry       2005    Automatic     Saloon    Petrol   \n",
       "119      Hyundai       Elantra       2013    Automatic  Hatchback    Petrol   \n",
       "150       Toyota         Yaris       2017    Automatic     Saloon    Petrol   \n",
       "174         Audi            A4       2000       Manual     Saloon    Petrol   \n",
       "192       Toyota       Corolla       2010       Manual     Saloon    Petrol   \n",
       "242       Toyota   Other Model       2016    Automatic     Saloon    Petrol   \n",
       "256       Toyota         Yaris       2008    Automatic     Saloon    Petrol   \n",
       "258       Toyota       Corolla       2007    Automatic     Saloon    Petrol   \n",
       "259       Toyota       Corolla       2008    Automatic     Saloon    Petrol   \n",
       "260       Toyota         Yaris       2008    Automatic  Hatchback    Petrol   \n",
       "261      Pontiac          Vibe       2009    Automatic  Hatchback    Petrol   \n",
       "263       Toyota       Corolla       2008    Automatic     Saloon    Petrol   \n",
       "476     Infiniti          qx80       2020    Automatic  SUV / 4x4    Petrol   \n",
       "527       Toyota       Corolla       2018    Automatic     Saloon    Petrol   \n",
       "528       Toyota       Corolla       2018    Automatic     Saloon    Petrol   \n",
       "532   Mitsubishi        Pajero       2017    Automatic  SUV / 4x4    Petrol   \n",
       "533   Mitsubishi        Pajero       2017    Automatic  SUV / 4x4    Petrol   \n",
       "534   Mitsubishi        Pajero       2017    Automatic  SUV / 4x4    Petrol   \n",
       "536       Toyota      Fortuner       2020    Automatic  SUV / 4x4    Petrol   \n",
       "537       Toyota      Fortuner       2020    Automatic  SUV / 4x4    Petrol   \n",
       "545       Toyota         Camry       2015    Automatic     Saloon    Petrol   \n",
       "550   Mitsubishi        Pajero       2017    Automatic  SUV / 4x4    Petrol   \n",
       "551       Toyota  Land Cruiser       2019    Automatic  SUV / 4x4    Petrol   \n",
       "552       Toyota    Highlander       2018    Automatic  SUV / 4x4    Petrol   \n",
       "553       Toyota  Land Cruiser       2019    Automatic  SUV / 4x4    Petrol   \n",
       "555       Toyota  Land Cruiser       2019    Automatic  SUV / 4x4    Petrol   \n",
       "556       Toyota  Land Cruiser       2019    Automatic  SUV / 4x4    Petrol   \n",
       "557       Toyota  Land Cruiser       2019    Automatic  SUV / 4x4    Petrol   \n",
       "558       Toyota  Land Cruiser       2019    Automatic  SUV / 4x4    Diesel   \n",
       "559       Toyota  Land Cruiser       2019    Automatic  SUV / 4x4    Diesel   \n",
       "562       Toyota  Land Cruiser       2019    Automatic  SUV / 4x4    Diesel   \n",
       "564       Toyota  Land Cruiser       2019    Automatic  SUV / 4x4    Diesel   \n",
       "565       Toyota  Land Cruiser       2019    Automatic  SUV / 4x4    Diesel   \n",
       "566       Toyota  Land Cruiser       2019    Automatic  SUV / 4x4    Diesel   \n",
       "571        Lexus            LX       2019    Automatic  SUV / 4x4    Petrol   \n",
       "609       Nissan         Versa       2008    Automatic     Saloon    Petrol   \n",
       "615        Honda        Accord       2014    Automatic     Saloon    Petrol   \n",
       "617         Ford        Escape       2013    Automatic  SUV / 4x4    Petrol   \n",
       "677      Hyundai       Elantra       2010    Automatic     Saloon    Petrol   \n",
       "678        Honda         Civic       2008    Automatic     Saloon    Petrol   \n",
       "680       Nissan        Sentra       2004    Automatic     Saloon    Petrol   \n",
       "807       Nissan         Rogue       2012    Automatic  SUV / 4x4    Petrol   \n",
       "815          Kia       Cadenza       2011    Automatic     Saloon    Petrol   \n",
       "856       Toyota         Yaris       2009    Automatic     Saloon    Petrol   \n",
       "874       Toyota  Land Cruiser       2020    Automatic  SUV / 4x4    Diesel   \n",
       "925       Daewoo         Matiz       2009    Automatic     Saloon    Petrol   \n",
       "1006     Hyundai        Sonata       2018    Automatic     Saloon    Petrol   \n",
       "1009      Toyota       Corolla       2017    Automatic     Saloon    Petrol   \n",
       "1162      Toyota       Corolla       2009    Automatic     Saloon    Petrol   \n",
       "\n",
       "      Mileage(km) Engine capacity(L)  \\\n",
       "40              0                2.5   \n",
       "41              0                2.4   \n",
       "44              0                1.8   \n",
       "46              0                1.8   \n",
       "112             0                2.0   \n",
       "119             0                1.6   \n",
       "150             0                1.4   \n",
       "174             0                1.8   \n",
       "192             0                1.8   \n",
       "242             0                1.5   \n",
       "256             0                1.8   \n",
       "258             0                1.8   \n",
       "259             0                1.8   \n",
       "260             0                1.5   \n",
       "261             0                1.8   \n",
       "263             0                1.8   \n",
       "476             0                5.6   \n",
       "527             0                1.8   \n",
       "528             0                1.8   \n",
       "532             0                3.5   \n",
       "533             0                3.5   \n",
       "534             0                3.5   \n",
       "536             0                2.7   \n",
       "537             0                2.7   \n",
       "545             0                2.5   \n",
       "550             0                3.5   \n",
       "551             0                2.7   \n",
       "552             0                3.5   \n",
       "553             0                2.7   \n",
       "555             0                2.7   \n",
       "556             0                2.7   \n",
       "557             0                2.7   \n",
       "558             0                3.0   \n",
       "559             0                3.0   \n",
       "562             0                4.5   \n",
       "564             0                4.5   \n",
       "565             0                4.5   \n",
       "566             0                4.5   \n",
       "571             0                5.7   \n",
       "609             0                1.8   \n",
       "615             0                2.4   \n",
       "617             0                1.6   \n",
       "677             0                1.8   \n",
       "678             0                1.8   \n",
       "680             0                1.8   \n",
       "807             0                2.4   \n",
       "815             0                3.0   \n",
       "856             0                1.4   \n",
       "874             0                3.0   \n",
       "925             0                1.2   \n",
       "1006            0                2.0   \n",
       "1009            0                1.8   \n",
       "1162            0                1.8   \n",
       "\n",
       "                                                    URL  \n",
       "40    http://tonaton.com/en/ad/toyota-rav4-2015-for-...  \n",
       "41    http://tonaton.com/en/ad/toyota-rav4-2014-for-...  \n",
       "44    http://tonaton.com/en/ad/toyota-corolla-2015-f...  \n",
       "46    http://tonaton.com/en/ad/toyota-matrix-2010-fo...  \n",
       "112   http://tonaton.com/en/ad/toyota-camry-xle-2005...  \n",
       "119   http://tonaton.com/en/ad/hyundai-elantra-le-20...  \n",
       "150   http://tonaton.com/en/ad/toyota-yaris-sports-2...  \n",
       "174   http://tonaton.com/en/ad/audi-a4-2000-for-sale...  \n",
       "192   http://tonaton.com/en/ad/toyota-corolla-se-201...  \n",
       "242   http://tonaton.com/en/ad/toyota-ia-limited-edi...  \n",
       "256   http://tonaton.com/en/ad/toyota-yaris-le-2008-...  \n",
       "258   http://tonaton.com/en/ad/toyota-corolla-limite...  \n",
       "259   http://tonaton.com/en/ad/toyota-corolla-le-200...  \n",
       "260   http://tonaton.com/en/ad/toyota-yaris-le-2008-...  \n",
       "261   http://tonaton.com/en/ad/pontiac-vibe-le-2009-...  \n",
       "263   http://tonaton.com/en/ad/toyota-corolla-sport-...  \n",
       "476   http://tonaton.com/en/ad/infiniti-qx80-fully-l...  \n",
       "527   http://tonaton.com/en/ad/toyota-corolla-2018-f...  \n",
       "528   http://tonaton.com/en/ad/toyota-corolla-2018-f...  \n",
       "532   http://tonaton.com/en/ad/mitsubishi-pajero-201...  \n",
       "533   http://tonaton.com/en/ad/mitsubishi-pajero-201...  \n",
       "534   http://tonaton.com/en/ad/mitsubishi-pajero-201...  \n",
       "536   http://tonaton.com/en/ad/toyota-fortuner-2020-...  \n",
       "537   http://tonaton.com/en/ad/toyota-fortuner-2020-...  \n",
       "545   http://tonaton.com/en/ad/toyota-camry-2015-for...  \n",
       "550   http://tonaton.com/en/ad/mitsubishi-pajero-201...  \n",
       "551   http://tonaton.com/en/ad/toyota-land-cruiser-2...  \n",
       "552   http://tonaton.com/en/ad/toyota-highlander-201...  \n",
       "553   http://tonaton.com/en/ad/toyota-land-cruiser-2...  \n",
       "555   http://tonaton.com/en/ad/toyota-land-cruiser-2...  \n",
       "556   http://tonaton.com/en/ad/toyota-land-cruiser-2...  \n",
       "557   http://tonaton.com/en/ad/toyota-land-cruiser-2...  \n",
       "558   http://tonaton.com/en/ad/toyota-land-cruiser-2...  \n",
       "559   http://tonaton.com/en/ad/toyota-land-cruiser-2...  \n",
       "562   http://tonaton.com/en/ad/toyota-land-cruiser-2...  \n",
       "564   http://tonaton.com/en/ad/toyota-land-cruiser-2...  \n",
       "565   http://tonaton.com/en/ad/toyota-land-cruiser-2...  \n",
       "566   http://tonaton.com/en/ad/toyota-land-cruiser-2...  \n",
       "571   http://tonaton.com/en/ad/lexus-lx-2019-for-sal...  \n",
       "609   http://tonaton.com/en/ad/nissan-versa-2008-for...  \n",
       "615   http://tonaton.com/en/ad/honda-accord-2014-for...  \n",
       "617   http://tonaton.com/en/ad/ford-escape-2013-for-...  \n",
       "677   http://tonaton.com/en/ad/hyundai-elantra-le-20...  \n",
       "678   http://tonaton.com/en/ad/honda-civic-le-2008-f...  \n",
       "680   http://tonaton.com/en/ad/nissan-sentra-le-2004...  \n",
       "807   http://tonaton.com/en/ad/nissan-rogue-sports-2...  \n",
       "815   http://tonaton.com/en/ad/kia-cadenza-sports-20...  \n",
       "856   http://tonaton.com/en/ad/toyota-yaris-2009-for...  \n",
       "874   http://tonaton.com/en/ad/toyota-land-cruiser-p...  \n",
       "925   http://tonaton.com/en/ad/daewoo-matiz-se-2009-...  \n",
       "1006  http://tonaton.com/en/ad/hyundai-sonata-sports...  \n",
       "1009  http://tonaton.com/en/ad/toyota-corolla-le-201...  \n",
       "1162  http://tonaton.com/en/ad/toyota-corolla-se-200...  "
      ]
     },
     "execution_count": 47,
     "metadata": {},
     "output_type": "execute_result"
    }
   ],
   "source": [
    "data[data['Mileage(km)'] == 0]"
   ]
  },
  {
   "cell_type": "code",
   "execution_count": 48,
   "metadata": {
    "scrolled": true
   },
   "outputs": [
    {
     "data": {
      "text/plain": [
       "Used    29\n",
       "New     24\n",
       "Name: Condition, dtype: int64"
      ]
     },
     "execution_count": 48,
     "metadata": {},
     "output_type": "execute_result"
    }
   ],
   "source": [
    "data[data['Mileage(km)'] == 0]['Condition'].value_counts()"
   ]
  },
  {
   "cell_type": "markdown",
   "metadata": {},
   "source": [
    "It is almost impossible to have a mileage of 0km because even for a new car, it must have been at least driven to the garage <br> Furthermore, more than half of these vehicles are used ones so I believe that the mileage information for these vehicles are false"
   ]
  },
  {
   "cell_type": "markdown",
   "metadata": {},
   "source": [
    "#### Engine Capacity"
   ]
  },
  {
   "cell_type": "code",
   "execution_count": 49,
   "metadata": {
    "scrolled": true
   },
   "outputs": [
    {
     "data": {
      "text/plain": [
       "count     1129\n",
       "unique      37\n",
       "top        1.8\n",
       "freq       307\n",
       "Name: Engine capacity(L), dtype: object"
      ]
     },
     "execution_count": 49,
     "metadata": {},
     "output_type": "execute_result"
    }
   ],
   "source": [
    "data['Engine capacity(L)'].describe()"
   ]
  },
  {
   "cell_type": "code",
   "execution_count": 50,
   "metadata": {},
   "outputs": [
    {
     "data": {
      "text/plain": [
       "1.8    307\n",
       "2.4    172\n",
       "2.0    128\n",
       "1.6     87\n",
       "2.5     69\n",
       "3.0     55\n",
       "1.5     55\n",
       "3.5     42\n",
       "2.7     38\n",
       "1.0     37\n",
       "1.2     27\n",
       "1.4     22\n",
       "1.3     15\n",
       "4.0     11\n",
       "3.7      7\n",
       "0.8      7\n",
       "4.2      6\n",
       "3.3      6\n",
       "4.5      5\n",
       "1.1      5\n",
       "5.7      4\n",
       "2.8      4\n",
       "6.0      2\n",
       "3.4      2\n",
       "4.6      2\n",
       "3.6      2\n",
       "1.7      2\n",
       "5.6      1\n",
       "5.3      1\n",
       "3.2      1\n",
       "1.9      1\n",
       "5.0      1\n",
       "0.5      1\n",
       "0.7      1\n",
       "2.2      1\n",
       "4.7      1\n",
       "2.3      1\n",
       "Name: Engine capacity(L), dtype: int64"
      ]
     },
     "execution_count": 50,
     "metadata": {},
     "output_type": "execute_result"
    }
   ],
   "source": [
    "data['Engine capacity(L)'].value_counts()"
   ]
  },
  {
   "cell_type": "code",
   "execution_count": 51,
   "metadata": {
    "scrolled": false
   },
   "outputs": [
    {
     "data": {
      "text/plain": [
       "Text(0.5, 1.0, 'Distribution of Engine Capacity in litres')"
      ]
     },
     "execution_count": 51,
     "metadata": {},
     "output_type": "execute_result"
    },
    {
     "data": {
      "image/png": "[encoded data removed]",
      "text/plain": [
       "<Figure size 936x576 with 1 Axes>"
      ]
     },
     "metadata": {},
     "output_type": "display_data"
    }
   ],
   "source": [
    "fig, ax = plt.subplots(figsize=(13, 8))\n",
    "sns.countplot(x = 'Engine capacity(L)', data=data)\n",
    "plt.title(\"Distribution of Engine Capacity in litres\")"
   ]
  },
  {
   "cell_type": "markdown",
   "metadata": {},
   "source": [
    "1. Most cars have have an engine capacity of 1.8 litres\n",
    "2. some cars have capacities above 4 litres"
   ]
  },
  {
   "cell_type": "markdown",
   "metadata": {},
   "source": [
    "### Since this analysis focuses on the regular Ghanaian, futher analysis will be conducted on which features affect cars that cost between GH¢40,000 and GH¢80,000"
   ]
  },
  {
   "cell_type": "code",
   "execution_count": 52,
   "metadata": {},
   "outputs": [],
   "source": [
    "filtered = data[(data['Price(GH¢)'] > 40000) & (data['Price(GH¢)'] < 80000)]"
   ]
  },
  {
   "cell_type": "code",
   "execution_count": 53,
   "metadata": {
    "scrolled": true
   },
   "outputs": [
    {
     "data": {
      "text/html": [
       "<div>\n",
       "<style scoped>\n",
       "    .dataframe tbody tr th:only-of-type {\n",
       "        vertical-align: middle;\n",
       "    }\n",
       "\n",
       "    .dataframe tbody tr th {\n",
       "        vertical-align: top;\n",
       "    }\n",
       "\n",
       "    .dataframe thead th {\n",
       "        text-align: right;\n",
       "    }\n",
       "</style>\n",
       "<table border=\"1\" class=\"dataframe\">\n",
       "  <thead>\n",
       "    <tr style=\"text-align: right;\">\n",
       "      <th></th>\n",
       "      <th>Listing</th>\n",
       "      <th>Price(GH¢)</th>\n",
       "      <th>Condition</th>\n",
       "      <th>Brand</th>\n",
       "      <th>Model</th>\n",
       "      <th>Model year</th>\n",
       "      <th>Transmission</th>\n",
       "      <th>Body type</th>\n",
       "      <th>Fuel type</th>\n",
       "      <th>Mileage(km)</th>\n",
       "      <th>Engine capacity(L)</th>\n",
       "      <th>URL</th>\n",
       "    </tr>\n",
       "  </thead>\n",
       "  <tbody>\n",
       "    <tr>\n",
       "      <th>2</th>\n",
       "      <td>Toyota Corolla 2015</td>\n",
       "      <td>42500</td>\n",
       "      <td>Used</td>\n",
       "      <td>Toyota</td>\n",
       "      <td>Corolla</td>\n",
       "      <td>2015</td>\n",
       "      <td>Automatic</td>\n",
       "      <td>NaN</td>\n",
       "      <td>Petrol</td>\n",
       "      <td>51410</td>\n",
       "      <td>1.8</td>\n",
       "      <td>http://tonaton.com/en/ad/toyota-corolla-2015-f...</td>\n",
       "    </tr>\n",
       "    <tr>\n",
       "      <th>10</th>\n",
       "      <td>Hyundai Accent 2015</td>\n",
       "      <td>42000</td>\n",
       "      <td>Used</td>\n",
       "      <td>Hyundai</td>\n",
       "      <td>Accent</td>\n",
       "      <td>2015</td>\n",
       "      <td>Automatic</td>\n",
       "      <td>Saloon</td>\n",
       "      <td>Petrol</td>\n",
       "      <td>231</td>\n",
       "      <td>1.6</td>\n",
       "      <td>http://tonaton.com/en/ad/hyundai-accent-2015-f...</td>\n",
       "    </tr>\n",
       "    <tr>\n",
       "      <th>14</th>\n",
       "      <td>SEAT Exeo 2011</td>\n",
       "      <td>48000</td>\n",
       "      <td>New</td>\n",
       "      <td>SEAT</td>\n",
       "      <td>Exeo</td>\n",
       "      <td>2011</td>\n",
       "      <td>Automatic</td>\n",
       "      <td>NaN</td>\n",
       "      <td>Diesel</td>\n",
       "      <td>170</td>\n",
       "      <td>2.0</td>\n",
       "      <td>http://tonaton.com/en/ad/seat-exeo-2011-for-sa...</td>\n",
       "    </tr>\n",
       "    <tr>\n",
       "      <th>19</th>\n",
       "      <td>Toyota Land Cruiser 2006</td>\n",
       "      <td>60000</td>\n",
       "      <td>Used</td>\n",
       "      <td>Toyota</td>\n",
       "      <td>Land Cruiser</td>\n",
       "      <td>2006</td>\n",
       "      <td>Manual</td>\n",
       "      <td>SUV / 4x4</td>\n",
       "      <td>Diesel</td>\n",
       "      <td>194860</td>\n",
       "      <td>4.2</td>\n",
       "      <td>http://tonaton.com/en/ad/toyota-land-cruiser-2...</td>\n",
       "    </tr>\n",
       "    <tr>\n",
       "      <th>24</th>\n",
       "      <td>Kia Rio GDI 2014</td>\n",
       "      <td>44000</td>\n",
       "      <td>Used</td>\n",
       "      <td>Kia</td>\n",
       "      <td>Rio</td>\n",
       "      <td>2014</td>\n",
       "      <td>Automatic</td>\n",
       "      <td>Hatchback</td>\n",
       "      <td>Petrol</td>\n",
       "      <td>39542</td>\n",
       "      <td>1.6</td>\n",
       "      <td>http://tonaton.com/en/ad/kia-rio-gdi-2014-for-...</td>\n",
       "    </tr>\n",
       "  </tbody>\n",
       "</table>\n",
       "</div>"
      ],
      "text/plain": [
       "                     Listing  Price(GH¢) Condition    Brand         Model  \\\n",
       "2        Toyota Corolla 2015       42500      Used   Toyota       Corolla   \n",
       "10       Hyundai Accent 2015       42000      Used  Hyundai        Accent   \n",
       "14            SEAT Exeo 2011       48000       New     SEAT          Exeo   \n",
       "19  Toyota Land Cruiser 2006       60000      Used   Toyota  Land Cruiser   \n",
       "24          Kia Rio GDI 2014       44000      Used      Kia           Rio   \n",
       "\n",
       "   Model year Transmission  Body type Fuel type  Mileage(km)  \\\n",
       "2        2015    Automatic        NaN    Petrol        51410   \n",
       "10       2015    Automatic     Saloon    Petrol          231   \n",
       "14       2011    Automatic        NaN    Diesel          170   \n",
       "19       2006       Manual  SUV / 4x4    Diesel       194860   \n",
       "24       2014    Automatic  Hatchback    Petrol        39542   \n",
       "\n",
       "   Engine capacity(L)                                                URL  \n",
       "2                 1.8  http://tonaton.com/en/ad/toyota-corolla-2015-f...  \n",
       "10                1.6  http://tonaton.com/en/ad/hyundai-accent-2015-f...  \n",
       "14                2.0  http://tonaton.com/en/ad/seat-exeo-2011-for-sa...  \n",
       "19                4.2  http://tonaton.com/en/ad/toyota-land-cruiser-2...  \n",
       "24                1.6  http://tonaton.com/en/ad/kia-rio-gdi-2014-for-...  "
      ]
     },
     "execution_count": 53,
     "metadata": {},
     "output_type": "execute_result"
    }
   ],
   "source": [
    "filtered.head()"
   ]
  },
  {
   "cell_type": "code",
   "execution_count": 54,
   "metadata": {
    "scrolled": true
   },
   "outputs": [
    {
     "name": "stdout",
     "output_type": "stream",
     "text": [
      "<class 'pandas.core.frame.DataFrame'>\n",
      "Int64Index: 333 entries, 2 to 1206\n",
      "Data columns (total 12 columns):\n",
      "Listing               333 non-null object\n",
      "Price(GH¢)            333 non-null int64\n",
      "Condition             333 non-null object\n",
      "Brand                 333 non-null object\n",
      "Model                 333 non-null object\n",
      "Model year            333 non-null object\n",
      "Transmission          333 non-null object\n",
      "Body type             322 non-null object\n",
      "Fuel type             333 non-null object\n",
      "Mileage(km)           333 non-null int64\n",
      "Engine capacity(L)    333 non-null object\n",
      "URL                   333 non-null object\n",
      "dtypes: int64(2), object(10)\n",
      "memory usage: 33.8+ KB\n"
     ]
    }
   ],
   "source": [
    "filtered.info()"
   ]
  },
  {
   "cell_type": "code",
   "execution_count": 55,
   "metadata": {
    "scrolled": false
   },
   "outputs": [
    {
     "data": {
      "text/html": [
       "<div>\n",
       "<style scoped>\n",
       "    .dataframe tbody tr th:only-of-type {\n",
       "        vertical-align: middle;\n",
       "    }\n",
       "\n",
       "    .dataframe tbody tr th {\n",
       "        vertical-align: top;\n",
       "    }\n",
       "\n",
       "    .dataframe thead th {\n",
       "        text-align: right;\n",
       "    }\n",
       "</style>\n",
       "<table border=\"1\" class=\"dataframe\">\n",
       "  <thead>\n",
       "    <tr style=\"text-align: right;\">\n",
       "      <th></th>\n",
       "      <th>count</th>\n",
       "      <th>mean</th>\n",
       "      <th>std</th>\n",
       "      <th>min</th>\n",
       "      <th>25%</th>\n",
       "      <th>50%</th>\n",
       "      <th>75%</th>\n",
       "      <th>max</th>\n",
       "    </tr>\n",
       "  </thead>\n",
       "  <tbody>\n",
       "    <tr>\n",
       "      <th>Price(GH¢)</th>\n",
       "      <td>333.0</td>\n",
       "      <td>56629.927928</td>\n",
       "      <td>11193.034162</td>\n",
       "      <td>40500.0</td>\n",
       "      <td>46500.0</td>\n",
       "      <td>55200.0</td>\n",
       "      <td>65000.0</td>\n",
       "      <td>79500.0</td>\n",
       "    </tr>\n",
       "    <tr>\n",
       "      <th>Mileage(km)</th>\n",
       "      <td>333.0</td>\n",
       "      <td>65148.462462</td>\n",
       "      <td>61937.915038</td>\n",
       "      <td>0.0</td>\n",
       "      <td>41995.0</td>\n",
       "      <td>57990.0</td>\n",
       "      <td>75240.0</td>\n",
       "      <td>722241.0</td>\n",
       "    </tr>\n",
       "  </tbody>\n",
       "</table>\n",
       "</div>"
      ],
      "text/plain": [
       "             count          mean           std      min      25%      50%  \\\n",
       "Price(GH¢)   333.0  56629.927928  11193.034162  40500.0  46500.0  55200.0   \n",
       "Mileage(km)  333.0  65148.462462  61937.915038      0.0  41995.0  57990.0   \n",
       "\n",
       "                 75%       max  \n",
       "Price(GH¢)   65000.0   79500.0  \n",
       "Mileage(km)  75240.0  722241.0  "
      ]
     },
     "execution_count": 55,
     "metadata": {},
     "output_type": "execute_result"
    }
   ],
   "source": [
    "filtered.describe().transpose()"
   ]
  },
  {
   "cell_type": "code",
   "execution_count": 56,
   "metadata": {
    "scrolled": false
   },
   "outputs": [
    {
     "data": {
      "text/html": [
       "<div>\n",
       "<style scoped>\n",
       "    .dataframe tbody tr th:only-of-type {\n",
       "        vertical-align: middle;\n",
       "    }\n",
       "\n",
       "    .dataframe tbody tr th {\n",
       "        vertical-align: top;\n",
       "    }\n",
       "\n",
       "    .dataframe thead th {\n",
       "        text-align: right;\n",
       "    }\n",
       "</style>\n",
       "<table border=\"1\" class=\"dataframe\">\n",
       "  <thead>\n",
       "    <tr style=\"text-align: right;\">\n",
       "      <th></th>\n",
       "      <th>Listing</th>\n",
       "      <th>Brand</th>\n",
       "      <th>Model</th>\n",
       "      <th>Body type</th>\n",
       "      <th>Fuel type</th>\n",
       "      <th>Condition</th>\n",
       "      <th>Transmission</th>\n",
       "    </tr>\n",
       "  </thead>\n",
       "  <tbody>\n",
       "    <tr>\n",
       "      <th>count</th>\n",
       "      <td>333</td>\n",
       "      <td>333</td>\n",
       "      <td>333</td>\n",
       "      <td>322</td>\n",
       "      <td>333</td>\n",
       "      <td>333</td>\n",
       "      <td>333</td>\n",
       "    </tr>\n",
       "    <tr>\n",
       "      <th>unique</th>\n",
       "      <td>287</td>\n",
       "      <td>22</td>\n",
       "      <td>64</td>\n",
       "      <td>6</td>\n",
       "      <td>3</td>\n",
       "      <td>2</td>\n",
       "      <td>2</td>\n",
       "    </tr>\n",
       "    <tr>\n",
       "      <th>top</th>\n",
       "      <td>Toyota Camry SE 2014</td>\n",
       "      <td>Toyota</td>\n",
       "      <td>Corolla</td>\n",
       "      <td>Saloon</td>\n",
       "      <td>Petrol</td>\n",
       "      <td>Used</td>\n",
       "      <td>Automatic</td>\n",
       "    </tr>\n",
       "    <tr>\n",
       "      <th>freq</th>\n",
       "      <td>6</td>\n",
       "      <td>140</td>\n",
       "      <td>69</td>\n",
       "      <td>220</td>\n",
       "      <td>322</td>\n",
       "      <td>289</td>\n",
       "      <td>324</td>\n",
       "    </tr>\n",
       "  </tbody>\n",
       "</table>\n",
       "</div>"
      ],
      "text/plain": [
       "                     Listing   Brand    Model Body type Fuel type Condition  \\\n",
       "count                    333     333      333       322       333       333   \n",
       "unique                   287      22       64         6         3         2   \n",
       "top     Toyota Camry SE 2014  Toyota  Corolla    Saloon    Petrol      Used   \n",
       "freq                       6     140       69       220       322       289   \n",
       "\n",
       "       Transmission  \n",
       "count           333  \n",
       "unique            2  \n",
       "top       Automatic  \n",
       "freq            324  "
      ]
     },
     "execution_count": 56,
     "metadata": {},
     "output_type": "execute_result"
    }
   ],
   "source": [
    "filtered[['Listing', 'Brand', 'Model', 'Body type', 'Fuel type', 'Condition', 'Transmission']].describe()"
   ]
  },
  {
   "cell_type": "markdown",
   "metadata": {},
   "source": [
    "### Price"
   ]
  },
  {
   "cell_type": "code",
   "execution_count": 57,
   "metadata": {
    "scrolled": false
   },
   "outputs": [
    {
     "data": {
      "text/plain": [
       "<matplotlib.axes._subplots.AxesSubplot at 0x26239e576c8>"
      ]
     },
     "execution_count": 57,
     "metadata": {},
     "output_type": "execute_result"
    },
    {
     "data": {
      "image/png": "[encoded data removed]",
      "text/plain": [
       "<Figure size 936x576 with 1 Axes>"
      ]
     },
     "metadata": {},
     "output_type": "display_data"
    }
   ],
   "source": [
    "fig, ax = plt.subplots(figsize=(13, 8))\n",
    "sns.distplot(filtered['Price(GH¢)'], bins=10)"
   ]
  },
  {
   "cell_type": "code",
   "execution_count": 58,
   "metadata": {},
   "outputs": [
    {
     "data": {
      "text/plain": [
       "count      333.000000\n",
       "mean     56629.927928\n",
       "std      11193.034162\n",
       "min      40500.000000\n",
       "25%      46500.000000\n",
       "50%      55200.000000\n",
       "75%      65000.000000\n",
       "max      79500.000000\n",
       "Name: Price(GH¢), dtype: float64"
      ]
     },
     "execution_count": 58,
     "metadata": {},
     "output_type": "execute_result"
    }
   ],
   "source": [
    "filtered['Price(GH¢)'].describe()"
   ]
  },
  {
   "cell_type": "markdown",
   "metadata": {},
   "source": [
    "### Brand vs Price"
   ]
  },
  {
   "cell_type": "code",
   "execution_count": 59,
   "metadata": {},
   "outputs": [
    {
     "data": {
      "application/vnd.plotly.v1+json": {
       "config": {
        "plotlyServerURL": "https://plot.ly"
       },
       "data": [
        {
         "alignmentgroup": "True",
         "hovertemplate": "Brand=%{x}<br>Price(GH¢)=%{y}<extra></extra>",
         "legendgroup": "",
         "marker": {
          "color": "#636efa"
         },
         "name": "",
         "notched": false,
         "offsetgroup": "",
         "orientation": "v",
         "showlegend": false,
         "type": "box",
         "x": [
          "Toyota",
          "Hyundai",
          "SEAT",
          "Toyota",
          "Kia",
          "Mercedes",
          "Toyota",
          "Kia",
          "Ford",
          "Toyota",
          "Hyundai",
          "Hyundai",
          "Toyota",
          "Toyota",
          "Toyota",
          "Nissan",
          "Hyundai",
          "Honda",
          "Honda",
          "Toyota",
          "Toyota",
          "Hyundai",
          "Hyundai",
          "Ford",
          "Honda",
          "Hyundai",
          "Kia",
          "Nissan",
          "Kia",
          "Kia",
          "Ford",
          "Ford",
          "Honda",
          "Toyota",
          "Hyundai",
          "Honda",
          "Toyota",
          "Nissan",
          "Hyundai",
          "Nissan",
          "Toyota",
          "Chrysler",
          "Toyota",
          "Hyundai",
          "Toyota",
          "Toyota",
          "Toyota",
          "Hyundai",
          "Chevrolet",
          "Hyundai",
          "Hyundai",
          "Hyundai",
          "Mercedes",
          "Toyota",
          "Hyundai",
          "Kia",
          "Toyota",
          "Nissan",
          "Toyota",
          "Hyundai",
          "Toyota",
          "Toyota",
          "Toyota",
          "Hyundai",
          "Ford",
          "Toyota",
          "Toyota",
          "Honda",
          "Kia",
          "Toyota",
          "Volvo",
          "Mercedes",
          "Toyota",
          "Toyota",
          "Toyota",
          "Toyota",
          "Honda",
          "Toyota",
          "Mercedes",
          "Infiniti",
          "Toyota",
          "Toyota",
          "Toyota",
          "Kia",
          "Hyundai",
          "Nissan",
          "Toyota",
          "Hyundai",
          "Toyota",
          "Hyundai",
          "Hyundai",
          "Chrysler",
          "Toyota",
          "Honda",
          "Toyota",
          "Hyundai",
          "Kia",
          "Hyundai",
          "Toyota",
          "Mercedes",
          "Toyota",
          "Toyota",
          "Honda",
          "Nissan",
          "Toyota",
          "Honda",
          "Toyota",
          "Honda",
          "Toyota",
          "Ford",
          "Honda",
          "Toyota",
          "Toyota",
          "Toyota",
          "Kia",
          "Toyota",
          "Kia",
          "Toyota",
          "Mercedes",
          "Nissan",
          "Mercedes",
          "Infiniti",
          "Mitsubishi",
          "cadillac",
          "Hyundai",
          "Nissan",
          "Toyota",
          "Toyota",
          "Honda",
          "Nissan",
          "Toyota",
          "Toyota",
          "Toyota",
          "Hyundai",
          "Kia",
          "Hyundai",
          "Toyota",
          "Toyota",
          "BMW",
          "Mercedes",
          "Mitsubishi",
          "Toyota",
          "Toyota",
          "Toyota",
          "Toyota",
          "Chrysler",
          "Toyota",
          "Saturn",
          "Toyota",
          "BMW",
          "Mercedes",
          "Nissan",
          "Toyota",
          "Toyota",
          "Ford",
          "Toyota",
          "Toyota",
          "Hyundai",
          "Kia",
          "Hyundai",
          "Toyota",
          "Hyundai",
          "Hyundai",
          "Toyota",
          "Toyota",
          "Kia",
          "Hyundai",
          "Hyundai",
          "Hyundai",
          "Toyota",
          "Nissan",
          "Toyota",
          "Toyota",
          "Kia",
          "Mercedes",
          "Honda",
          "Ford",
          "Hyundai",
          "Toyota",
          "Kia",
          "Kia",
          "Toyota",
          "Hyundai",
          "Toyota",
          "Hyundai",
          "Toyota",
          "Hyundai",
          "Toyota",
          "Toyota",
          "Toyota",
          "Nissan",
          "Mitsubishi",
          "Toyota",
          "Nissan",
          "Hyundai",
          "Kia",
          "Hyundai",
          "Hyundai",
          "Honda",
          "Honda",
          "Nissan",
          "Hyundai",
          "Hyundai",
          "Toyota",
          "Kia",
          "BMW",
          "Hyundai",
          "Toyota",
          "Toyota",
          "Toyota",
          "Toyota",
          "Hyundai",
          "Hyundai",
          "Hyundai",
          "Hyundai",
          "BMW",
          "Toyota",
          "Toyota",
          "Hyundai",
          "Toyota",
          "Toyota",
          "Toyota",
          "Toyota",
          "Honda",
          "Toyota",
          "Hummer",
          "Toyota",
          "Nissan",
          "Nissan",
          "Volkswagen",
          "Toyota",
          "Kia",
          "Nissan",
          "BMW",
          "Toyota",
          "Honda",
          "Mercedes",
          "Toyota",
          "Honda",
          "Toyota",
          "Nissan",
          "Hyundai",
          "Hyundai",
          "Toyota",
          "Toyota",
          "Honda",
          "Toyota",
          "Toyota",
          "Toyota",
          "Toyota",
          "Honda",
          "Mercedes",
          "Toyota",
          "Toyota",
          "Toyota",
          "Kia",
          "Toyota",
          "Toyota",
          "Toyota",
          "Mazda",
          "Ford",
          "Mercedes",
          "Toyota",
          "Toyota",
          "Dodge",
          "Toyota",
          "Hummer",
          "Hyundai",
          "Toyota",
          "Toyota",
          "Chrysler",
          "Toyota",
          "Hyundai",
          "Hyundai",
          "Dodge",
          "Kia",
          "Honda",
          "Hyundai",
          "Toyota",
          "Toyota",
          "Toyota",
          "Toyota",
          "Honda",
          "Kia",
          "Ford",
          "Toyota",
          "Hyundai",
          "Hyundai",
          "Toyota",
          "Hyundai",
          "Chrysler",
          "Toyota",
          "Toyota",
          "Toyota",
          "Toyota",
          "Toyota",
          "Toyota",
          "BMW",
          "Mercedes",
          "Kia",
          "Honda",
          "Toyota",
          "Toyota",
          "Toyota",
          "Kia",
          "Toyota",
          "Toyota",
          "Kia",
          "Buick",
          "Nissan",
          "Toyota",
          "Honda",
          "Toyota",
          "Range Rover",
          "Hyundai",
          "Toyota",
          "Mitsubishi",
          "Honda",
          "Mercedes",
          "Toyota",
          "Honda",
          "Nissan",
          "Toyota",
          "Nissan",
          "Toyota",
          "Hyundai",
          "Toyota",
          "Mercedes",
          "Nissan",
          "Toyota",
          "Honda",
          "Toyota",
          "Honda"
         ],
         "x0": " ",
         "xaxis": "x",
         "y": [
          42500,
          42000,
          48000,
          60000,
          44000,
          68500,
          58000,
          42500,
          48000,
          69500,
          45000,
          55500,
          70000,
          44000,
          65000,
          58000,
          56000,
          55500,
          60000,
          48000,
          76000,
          43500,
          75000,
          53000,
          56000,
          72000,
          52500,
          45000,
          42000,
          60000,
          55000,
          46000,
          53000,
          56500,
          62000,
          70000,
          55500,
          51000,
          44000,
          52000,
          48100,
          43000,
          47200,
          45000,
          47000,
          45000,
          60000,
          65000,
          42000,
          58000,
          74000,
          43500,
          49900,
          65777,
          72000,
          55000,
          70000,
          62000,
          59800,
          49000,
          78000,
          55000,
          74000,
          49500,
          41777,
          47777,
          50000,
          75000,
          65000,
          50555,
          42000,
          78500,
          46000,
          50555,
          48950,
          55000,
          60000,
          62000,
          55000,
          45500,
          47000,
          43000,
          46500,
          50000,
          64000,
          78000,
          47000,
          40999,
          50500,
          79500,
          49500,
          58500,
          51000,
          65500,
          62000,
          45000,
          65000,
          45000,
          77000,
          45000,
          78000,
          48500,
          62000,
          54500,
          68000,
          68000,
          46500,
          65000,
          78000,
          55000,
          58500,
          41000,
          40500,
          77000,
          65000,
          67000,
          48500,
          52000,
          66600,
          65000,
          75000,
          45000,
          42000,
          50000,
          62000,
          46000,
          66000,
          72000,
          76000,
          47500,
          43500,
          78000,
          68000,
          40500,
          58500,
          41900,
          48000,
          60000,
          75000,
          45000,
          65000,
          43500,
          70000,
          58500,
          63000,
          63800,
          48500,
          45000,
          42000,
          45000,
          50000,
          45000,
          58000,
          79000,
          45000,
          50000,
          67000,
          46000,
          59900,
          42000,
          43000,
          45000,
          50000,
          48000,
          78000,
          43000,
          55000,
          60000,
          64000,
          62900,
          49000,
          63000,
          62000,
          42500,
          62000,
          48500,
          48500,
          43500,
          69000,
          48500,
          58000,
          57500,
          56500,
          43000,
          55000,
          60000,
          55000,
          77000,
          58000,
          55000,
          45500,
          52000,
          56500,
          68000,
          48000,
          70000,
          42000,
          40500,
          78000,
          57000,
          52000,
          68000,
          42000,
          42000,
          56000,
          45000,
          59500,
          75000,
          75500,
          63000,
          56000,
          59500,
          41000,
          63000,
          42500,
          43000,
          75000,
          56000,
          63000,
          58000,
          63000,
          55000,
          47000,
          54000,
          46000,
          68500,
          49000,
          78000,
          57000,
          75000,
          60500,
          45500,
          75000,
          65000,
          57500,
          43500,
          55000,
          42000,
          70000,
          44500,
          54500,
          63000,
          65700,
          44500,
          78000,
          78000,
          45500,
          55200,
          71588,
          72000,
          65000,
          73000,
          49500,
          63000,
          78500,
          57500,
          46000,
          48500,
          48000,
          50500,
          46500,
          74500,
          53000,
          49000,
          53000,
          60000,
          62000,
          42000,
          46000,
          50000,
          70000,
          42400,
          58000,
          61000,
          75000,
          42500,
          67000,
          43000,
          75000,
          77000,
          65000,
          60000,
          78000,
          48500,
          65000,
          42000,
          42500,
          53000,
          51000,
          47500,
          63500,
          65500,
          58000,
          68000,
          56500,
          52500,
          60000,
          65000,
          65000,
          77000,
          46000,
          42800,
          45000,
          65000,
          55000,
          67000,
          44000,
          48000,
          65000,
          43000,
          57888,
          52000,
          49000,
          67000,
          57000,
          57000,
          75000,
          79000,
          45000,
          49500,
          46500,
          49500,
          49000,
          60000,
          43000,
          69500,
          43000,
          55000,
          79000,
          60000,
          71000,
          40700,
          68500
         ],
         "y0": " ",
         "yaxis": "y"
        }
       ],
       "layout": {
        "boxmode": "group",
        "legend": {
         "tracegroupgap": 0
        },
        "template": {
         "data": {
          "bar": [
           {
            "error_x": {
             "color": "#2a3f5f"
            },
            "error_y": {
             "color": "#2a3f5f"
            },
            "marker": {
             "line": {
              "color": "#E5ECF6",
              "width": 0.5
             }
            },
            "type": "bar"
           }
          ],
          "barpolar": [
           {
            "marker": {
             "line": {
              "color": "#E5ECF6",
              "width": 0.5
             }
            },
            "type": "barpolar"
           }
          ],
          "carpet": [
           {
            "aaxis": {
             "endlinecolor": "#2a3f5f",
             "gridcolor": "white",
             "linecolor": "white",
             "minorgridcolor": "white",
             "startlinecolor": "#2a3f5f"
            },
            "baxis": {
             "endlinecolor": "#2a3f5f",
             "gridcolor": "white",
             "linecolor": "white",
             "minorgridcolor": "white",
             "startlinecolor": "#2a3f5f"
            },
            "type": "carpet"
           }
          ],
          "choropleth": [
           {
            "colorbar": {
             "outlinewidth": 0,
             "ticks": ""
            },
            "type": "choropleth"
           }
          ],
          "contour": [
           {
            "colorbar": {
             "outlinewidth": 0,
             "ticks": ""
            },
            "colorscale": [
             [
              0,
              "#0d0887"
             ],
             [
              0.1111111111111111,
              "#46039f"
             ],
             [
              0.2222222222222222,
              "#7201a8"
             ],
             [
              0.3333333333333333,
              "#9c179e"
             ],
             [
              0.4444444444444444,
              "#bd3786"
             ],
             [
              0.5555555555555556,
              "#d8576b"
             ],
             [
              0.6666666666666666,
              "#ed7953"
             ],
             [
              0.7777777777777778,
              "#fb9f3a"
             ],
             [
              0.8888888888888888,
              "#fdca26"
             ],
             [
              1,
              "#f0f921"
             ]
            ],
            "type": "contour"
           }
          ],
          "contourcarpet": [
           {
            "colorbar": {
             "outlinewidth": 0,
             "ticks": ""
            },
            "type": "contourcarpet"
           }
          ],
          "heatmap": [
           {
            "colorbar": {
             "outlinewidth": 0,
             "ticks": ""
            },
            "colorscale": [
             [
              0,
              "#0d0887"
             ],
             [
              0.1111111111111111,
              "#46039f"
             ],
             [
              0.2222222222222222,
              "#7201a8"
             ],
             [
              0.3333333333333333,
              "#9c179e"
             ],
             [
              0.4444444444444444,
              "#bd3786"
             ],
             [
              0.5555555555555556,
              "#d8576b"
             ],
             [
              0.6666666666666666,
              "#ed7953"
             ],
             [
              0.7777777777777778,
              "#fb9f3a"
             ],
             [
              0.8888888888888888,
              "#fdca26"
             ],
             [
              1,
              "#f0f921"
             ]
            ],
            "type": "heatmap"
           }
          ],
          "heatmapgl": [
           {
            "colorbar": {
             "outlinewidth": 0,
             "ticks": ""
            },
            "colorscale": [
             [
              0,
              "#0d0887"
             ],
             [
              0.1111111111111111,
              "#46039f"
             ],
             [
              0.2222222222222222,
              "#7201a8"
             ],
             [
              0.3333333333333333,
              "#9c179e"
             ],
             [
              0.4444444444444444,
              "#bd3786"
             ],
             [
              0.5555555555555556,
              "#d8576b"
             ],
             [
              0.6666666666666666,
              "#ed7953"
             ],
             [
              0.7777777777777778,
              "#fb9f3a"
             ],
             [
              0.8888888888888888,
              "#fdca26"
             ],
             [
              1,
              "#f0f921"
             ]
            ],
            "type": "heatmapgl"
           }
          ],
          "histogram": [
           {
            "marker": {
             "colorbar": {
              "outlinewidth": 0,
              "ticks": ""
             }
            },
            "type": "histogram"
           }
          ],
          "histogram2d": [
           {
            "colorbar": {
             "outlinewidth": 0,
             "ticks": ""
            },
            "colorscale": [
             [
              0,
              "#0d0887"
             ],
             [
              0.1111111111111111,
              "#46039f"
             ],
             [
              0.2222222222222222,
              "#7201a8"
             ],
             [
              0.3333333333333333,
              "#9c179e"
             ],
             [
              0.4444444444444444,
              "#bd3786"
             ],
             [
              0.5555555555555556,
              "#d8576b"
             ],
             [
              0.6666666666666666,
              "#ed7953"
             ],
             [
              0.7777777777777778,
              "#fb9f3a"
             ],
             [
              0.8888888888888888,
              "#fdca26"
             ],
             [
              1,
              "#f0f921"
             ]
            ],
            "type": "histogram2d"
           }
          ],
          "histogram2dcontour": [
           {
            "colorbar": {
             "outlinewidth": 0,
             "ticks": ""
            },
            "colorscale": [
             [
              0,
              "#0d0887"
             ],
             [
              0.1111111111111111,
              "#46039f"
             ],
             [
              0.2222222222222222,
              "#7201a8"
             ],
             [
              0.3333333333333333,
              "#9c179e"
             ],
             [
              0.4444444444444444,
              "#bd3786"
             ],
             [
              0.5555555555555556,
              "#d8576b"
             ],
             [
              0.6666666666666666,
              "#ed7953"
             ],
             [
              0.7777777777777778,
              "#fb9f3a"
             ],
             [
              0.8888888888888888,
              "#fdca26"
             ],
             [
              1,
              "#f0f921"
             ]
            ],
            "type": "histogram2dcontour"
           }
          ],
          "mesh3d": [
           {
            "colorbar": {
             "outlinewidth": 0,
             "ticks": ""
            },
            "type": "mesh3d"
           }
          ],
          "parcoords": [
           {
            "line": {
             "colorbar": {
              "outlinewidth": 0,
              "ticks": ""
             }
            },
            "type": "parcoords"
           }
          ],
          "pie": [
           {
            "automargin": true,
            "type": "pie"
           }
          ],
          "scatter": [
           {
            "marker": {
             "colorbar": {
              "outlinewidth": 0,
              "ticks": ""
             }
            },
            "type": "scatter"
           }
          ],
          "scatter3d": [
           {
            "line": {
             "colorbar": {
              "outlinewidth": 0,
              "ticks": ""
             }
            },
            "marker": {
             "colorbar": {
              "outlinewidth": 0,
              "ticks": ""
             }
            },
            "type": "scatter3d"
           }
          ],
          "scattercarpet": [
           {
            "marker": {
             "colorbar": {
              "outlinewidth": 0,
              "ticks": ""
             }
            },
            "type": "scattercarpet"
           }
          ],
          "scattergeo": [
           {
            "marker": {
             "colorbar": {
              "outlinewidth": 0,
              "ticks": ""
             }
            },
            "type": "scattergeo"
           }
          ],
          "scattergl": [
           {
            "marker": {
             "colorbar": {
              "outlinewidth": 0,
              "ticks": ""
             }
            },
            "type": "scattergl"
           }
          ],
          "scattermapbox": [
           {
            "marker": {
             "colorbar": {
              "outlinewidth": 0,
              "ticks": ""
             }
            },
            "type": "scattermapbox"
           }
          ],
          "scatterpolar": [
           {
            "marker": {
             "colorbar": {
              "outlinewidth": 0,
              "ticks": ""
             }
            },
            "type": "scatterpolar"
           }
          ],
          "scatterpolargl": [
           {
            "marker": {
             "colorbar": {
              "outlinewidth": 0,
              "ticks": ""
             }
            },
            "type": "scatterpolargl"
           }
          ],
          "scatterternary": [
           {
            "marker": {
             "colorbar": {
              "outlinewidth": 0,
              "ticks": ""
             }
            },
            "type": "scatterternary"
           }
          ],
          "surface": [
           {
            "colorbar": {
             "outlinewidth": 0,
             "ticks": ""
            },
            "colorscale": [
             [
              0,
              "#0d0887"
             ],
             [
              0.1111111111111111,
              "#46039f"
             ],
             [
              0.2222222222222222,
              "#7201a8"
             ],
             [
              0.3333333333333333,
              "#9c179e"
             ],
             [
              0.4444444444444444,
              "#bd3786"
             ],
             [
              0.5555555555555556,
              "#d8576b"
             ],
             [
              0.6666666666666666,
              "#ed7953"
             ],
             [
              0.7777777777777778,
              "#fb9f3a"
             ],
             [
              0.8888888888888888,
              "#fdca26"
             ],
             [
              1,
              "#f0f921"
             ]
            ],
            "type": "surface"
           }
          ],
          "table": [
           {
            "cells": {
             "fill": {
              "color": "#EBF0F8"
             },
             "line": {
              "color": "white"
             }
            },
            "header": {
             "fill": {
              "color": "#C8D4E3"
             },
             "line": {
              "color": "white"
             }
            },
            "type": "table"
           }
          ]
         },
         "layout": {
          "annotationdefaults": {
           "arrowcolor": "#2a3f5f",
           "arrowhead": 0,
           "arrowwidth": 1
          },
          "coloraxis": {
           "colorbar": {
            "outlinewidth": 0,
            "ticks": ""
           }
          },
          "colorscale": {
           "diverging": [
            [
             0,
             "#8e0152"
            ],
            [
             0.1,
             "#c51b7d"
            ],
            [
             0.2,
             "#de77ae"
            ],
            [
             0.3,
             "#f1b6da"
            ],
            [
             0.4,
             "#fde0ef"
            ],
            [
             0.5,
             "#f7f7f7"
            ],
            [
             0.6,
             "#e6f5d0"
            ],
            [
             0.7,
             "#b8e186"
            ],
            [
             0.8,
             "#7fbc41"
            ],
            [
             0.9,
             "#4d9221"
            ],
            [
             1,
             "#276419"
            ]
           ],
           "sequential": [
            [
             0,
             "#0d0887"
            ],
            [
             0.1111111111111111,
             "#46039f"
            ],
            [
             0.2222222222222222,
             "#7201a8"
            ],
            [
             0.3333333333333333,
             "#9c179e"
            ],
            [
             0.4444444444444444,
             "#bd3786"
            ],
            [
             0.5555555555555556,
             "#d8576b"
            ],
            [
             0.6666666666666666,
             "#ed7953"
            ],
            [
             0.7777777777777778,
             "#fb9f3a"
            ],
            [
             0.8888888888888888,
             "#fdca26"
            ],
            [
             1,
             "#f0f921"
            ]
           ],
           "sequentialminus": [
            [
             0,
             "#0d0887"
            ],
            [
             0.1111111111111111,
             "#46039f"
            ],
            [
             0.2222222222222222,
             "#7201a8"
            ],
            [
             0.3333333333333333,
             "#9c179e"
            ],
            [
             0.4444444444444444,
             "#bd3786"
            ],
            [
             0.5555555555555556,
             "#d8576b"
            ],
            [
             0.6666666666666666,
             "#ed7953"
            ],
            [
             0.7777777777777778,
             "#fb9f3a"
            ],
            [
             0.8888888888888888,
             "#fdca26"
            ],
            [
             1,
             "#f0f921"
            ]
           ]
          },
          "colorway": [
           "#636efa",
           "#EF553B",
           "#00cc96",
           "#ab63fa",
           "#FFA15A",
           "#19d3f3",
           "#FF6692",
           "#B6E880",
           "#FF97FF",
           "#FECB52"
          ],
          "font": {
           "color": "#2a3f5f"
          },
          "geo": {
           "bgcolor": "white",
           "lakecolor": "white",
           "landcolor": "#E5ECF6",
           "showlakes": true,
           "showland": true,
           "subunitcolor": "white"
          },
          "hoverlabel": {
           "align": "left"
          },
          "hovermode": "closest",
          "mapbox": {
           "style": "light"
          },
          "paper_bgcolor": "white",
          "plot_bgcolor": "#E5ECF6",
          "polar": {
           "angularaxis": {
            "gridcolor": "white",
            "linecolor": "white",
            "ticks": ""
           },
           "bgcolor": "#E5ECF6",
           "radialaxis": {
            "gridcolor": "white",
            "linecolor": "white",
            "ticks": ""
           }
          },
          "scene": {
           "xaxis": {
            "backgroundcolor": "#E5ECF6",
            "gridcolor": "white",
            "gridwidth": 2,
            "linecolor": "white",
            "showbackground": true,
            "ticks": "",
            "zerolinecolor": "white"
           },
           "yaxis": {
            "backgroundcolor": "#E5ECF6",
            "gridcolor": "white",
            "gridwidth": 2,
            "linecolor": "white",
            "showbackground": true,
            "ticks": "",
            "zerolinecolor": "white"
           },
           "zaxis": {
            "backgroundcolor": "#E5ECF6",
            "gridcolor": "white",
            "gridwidth": 2,
            "linecolor": "white",
            "showbackground": true,
            "ticks": "",
            "zerolinecolor": "white"
           }
          },
          "shapedefaults": {
           "line": {
            "color": "#2a3f5f"
           }
          },
          "ternary": {
           "aaxis": {
            "gridcolor": "white",
            "linecolor": "white",
            "ticks": ""
           },
           "baxis": {
            "gridcolor": "white",
            "linecolor": "white",
            "ticks": ""
           },
           "bgcolor": "#E5ECF6",
           "caxis": {
            "gridcolor": "white",
            "linecolor": "white",
            "ticks": ""
           }
          },
          "title": {
           "x": 0.05
          },
          "xaxis": {
           "automargin": true,
           "gridcolor": "white",
           "linecolor": "white",
           "ticks": "",
           "title": {
            "standoff": 15
           },
           "zerolinecolor": "white",
           "zerolinewidth": 2
          },
          "yaxis": {
           "automargin": true,
           "gridcolor": "white",
           "linecolor": "white",
           "ticks": "",
           "title": {
            "standoff": 15
           },
           "zerolinecolor": "white",
           "zerolinewidth": 2
          }
         }
        },
        "title": {
         "text": "Relationship between each brand and price"
        },
        "xaxis": {
         "anchor": "y",
         "domain": [
          0,
          1
         ],
         "title": {
          "text": "Brand"
         }
        },
        "yaxis": {
         "anchor": "x",
         "domain": [
          0,
          1
         ],
         "title": {
          "text": "Price(GH¢)"
         }
        }
       }
      },
      "text/html": [
       "<div>\n",
       "        \n",
       "        \n",
       "            <div id=\"b7bbdb10-9972-4073-a4da-8a08e4a1f842\" class=\"plotly-graph-div\" style=\"height:525px; width:100%;\"></div>\n",
       "            <script type=\"text/javascript\">\n",
       "                require([\"plotly\"], function(Plotly) {\n",
       "                    window.PLOTLYENV=window.PLOTLYENV || {};\n",
       "                    \n",
       "                if (document.getElementById(\"b7bbdb10-9972-4073-a4da-8a08e4a1f842\")) {\n",
       "                    Plotly.newPlot(\n",
       "                        'b7bbdb10-9972-4073-a4da-8a08e4a1f842',\n",
       "                        [{\"alignmentgroup\": \"True\", \"hovertemplate\": \"Brand=%{x}<br>Price(GH\\u00a2)=%{y}<extra></extra>\", \"legendgroup\": \"\", \"marker\": {\"color\": \"#636efa\"}, \"name\": \"\", \"notched\": false, \"offsetgroup\": \"\", \"orientation\": \"v\", \"showlegend\": false, \"type\": \"box\", \"x\": [\"Toyota\", \"Hyundai\", \"SEAT\", \"Toyota\", \"Kia\", \"Mercedes\", \"Toyota\", \"Kia\", \"Ford\", \"Toyota\", \"Hyundai\", \"Hyundai\", \"Toyota\", \"Toyota\", \"Toyota\", \"Nissan\", \"Hyundai\", \"Honda\", \"Honda\", \"Toyota\", \"Toyota\", \"Hyundai\", \"Hyundai\", \"Ford\", \"Honda\", \"Hyundai\", \"Kia\", \"Nissan\", \"Kia\", \"Kia\", \"Ford\", \"Ford\", \"Honda\", \"Toyota\", \"Hyundai\", \"Honda\", \"Toyota\", \"Nissan\", \"Hyundai\", \"Nissan\", \"Toyota\", \"Chrysler\", \"Toyota\", \"Hyundai\", \"Toyota\", \"Toyota\", \"Toyota\", \"Hyundai\", \"Chevrolet\", \"Hyundai\", \"Hyundai\", \"Hyundai\", \"Mercedes\", \"Toyota\", \"Hyundai\", \"Kia\", \"Toyota\", \"Nissan\", \"Toyota\", \"Hyundai\", \"Toyota\", \"Toyota\", \"Toyota\", \"Hyundai\", \"Ford\", \"Toyota\", \"Toyota\", \"Honda\", \"Kia\", \"Toyota\", \"Volvo\", \"Mercedes\", \"Toyota\", \"Toyota\", \"Toyota\", \"Toyota\", \"Honda\", \"Toyota\", \"Mercedes\", \"Infiniti\", \"Toyota\", \"Toyota\", \"Toyota\", \"Kia\", \"Hyundai\", \"Nissan\", \"Toyota\", \"Hyundai\", \"Toyota\", \"Hyundai\", \"Hyundai\", \"Chrysler\", \"Toyota\", \"Honda\", \"Toyota\", \"Hyundai\", \"Kia\", \"Hyundai\", \"Toyota\", \"Mercedes\", \"Toyota\", \"Toyota\", \"Honda\", \"Nissan\", \"Toyota\", \"Honda\", \"Toyota\", \"Honda\", \"Toyota\", \"Ford\", \"Honda\", \"Toyota\", \"Toyota\", \"Toyota\", \"Kia\", \"Toyota\", \"Kia\", \"Toyota\", \"Mercedes\", \"Nissan\", \"Mercedes\", \"Infiniti\", \"Mitsubishi\", \"cadillac\", \"Hyundai\", \"Nissan\", \"Toyota\", \"Toyota\", \"Honda\", \"Nissan\", \"Toyota\", \"Toyota\", \"Toyota\", \"Hyundai\", \"Kia\", \"Hyundai\", \"Toyota\", \"Toyota\", \"BMW\", \"Mercedes\", \"Mitsubishi\", \"Toyota\", \"Toyota\", \"Toyota\", \"Toyota\", \"Chrysler\", \"Toyota\", \"Saturn\", \"Toyota\", \"BMW\", \"Mercedes\", \"Nissan\", \"Toyota\", \"Toyota\", \"Ford\", \"Toyota\", \"Toyota\", \"Hyundai\", \"Kia\", \"Hyundai\", \"Toyota\", \"Hyundai\", \"Hyundai\", \"Toyota\", \"Toyota\", \"Kia\", \"Hyundai\", \"Hyundai\", \"Hyundai\", \"Toyota\", \"Nissan\", \"Toyota\", \"Toyota\", \"Kia\", \"Mercedes\", \"Honda\", \"Ford\", \"Hyundai\", \"Toyota\", \"Kia\", \"Kia\", \"Toyota\", \"Hyundai\", \"Toyota\", \"Hyundai\", \"Toyota\", \"Hyundai\", \"Toyota\", \"Toyota\", \"Toyota\", \"Nissan\", \"Mitsubishi\", \"Toyota\", \"Nissan\", \"Hyundai\", \"Kia\", \"Hyundai\", \"Hyundai\", \"Honda\", \"Honda\", \"Nissan\", \"Hyundai\", \"Hyundai\", \"Toyota\", \"Kia\", \"BMW\", \"Hyundai\", \"Toyota\", \"Toyota\", \"Toyota\", \"Toyota\", \"Hyundai\", \"Hyundai\", \"Hyundai\", \"Hyundai\", \"BMW\", \"Toyota\", \"Toyota\", \"Hyundai\", \"Toyota\", \"Toyota\", \"Toyota\", \"Toyota\", \"Honda\", \"Toyota\", \"Hummer\", \"Toyota\", \"Nissan\", \"Nissan\", \"Volkswagen\", \"Toyota\", \"Kia\", \"Nissan\", \"BMW\", \"Toyota\", \"Honda\", \"Mercedes\", \"Toyota\", \"Honda\", \"Toyota\", \"Nissan\", \"Hyundai\", \"Hyundai\", \"Toyota\", \"Toyota\", \"Honda\", \"Toyota\", \"Toyota\", \"Toyota\", \"Toyota\", \"Honda\", \"Mercedes\", \"Toyota\", \"Toyota\", \"Toyota\", \"Kia\", \"Toyota\", \"Toyota\", \"Toyota\", \"Mazda\", \"Ford\", \"Mercedes\", \"Toyota\", \"Toyota\", \"Dodge\", \"Toyota\", \"Hummer\", \"Hyundai\", \"Toyota\", \"Toyota\", \"Chrysler\", \"Toyota\", \"Hyundai\", \"Hyundai\", \"Dodge\", \"Kia\", \"Honda\", \"Hyundai\", \"Toyota\", \"Toyota\", \"Toyota\", \"Toyota\", \"Honda\", \"Kia\", \"Ford\", \"Toyota\", \"Hyundai\", \"Hyundai\", \"Toyota\", \"Hyundai\", \"Chrysler\", \"Toyota\", \"Toyota\", \"Toyota\", \"Toyota\", \"Toyota\", \"Toyota\", \"BMW\", \"Mercedes\", \"Kia\", \"Honda\", \"Toyota\", \"Toyota\", \"Toyota\", \"Kia\", \"Toyota\", \"Toyota\", \"Kia\", \"Buick\", \"Nissan\", \"Toyota\", \"Honda\", \"Toyota\", \"Range Rover\", \"Hyundai\", \"Toyota\", \"Mitsubishi\", \"Honda\", \"Mercedes\", \"Toyota\", \"Honda\", \"Nissan\", \"Toyota\", \"Nissan\", \"Toyota\", \"Hyundai\", \"Toyota\", \"Mercedes\", \"Nissan\", \"Toyota\", \"Honda\", \"Toyota\", \"Honda\"], \"x0\": \" \", \"xaxis\": \"x\", \"y\": [42500, 42000, 48000, 60000, 44000, 68500, 58000, 42500, 48000, 69500, 45000, 55500, 70000, 44000, 65000, 58000, 56000, 55500, 60000, 48000, 76000, 43500, 75000, 53000, 56000, 72000, 52500, 45000, 42000, 60000, 55000, 46000, 53000, 56500, 62000, 70000, 55500, 51000, 44000, 52000, 48100, 43000, 47200, 45000, 47000, 45000, 60000, 65000, 42000, 58000, 74000, 43500, 49900, 65777, 72000, 55000, 70000, 62000, 59800, 49000, 78000, 55000, 74000, 49500, 41777, 47777, 50000, 75000, 65000, 50555, 42000, 78500, 46000, 50555, 48950, 55000, 60000, 62000, 55000, 45500, 47000, 43000, 46500, 50000, 64000, 78000, 47000, 40999, 50500, 79500, 49500, 58500, 51000, 65500, 62000, 45000, 65000, 45000, 77000, 45000, 78000, 48500, 62000, 54500, 68000, 68000, 46500, 65000, 78000, 55000, 58500, 41000, 40500, 77000, 65000, 67000, 48500, 52000, 66600, 65000, 75000, 45000, 42000, 50000, 62000, 46000, 66000, 72000, 76000, 47500, 43500, 78000, 68000, 40500, 58500, 41900, 48000, 60000, 75000, 45000, 65000, 43500, 70000, 58500, 63000, 63800, 48500, 45000, 42000, 45000, 50000, 45000, 58000, 79000, 45000, 50000, 67000, 46000, 59900, 42000, 43000, 45000, 50000, 48000, 78000, 43000, 55000, 60000, 64000, 62900, 49000, 63000, 62000, 42500, 62000, 48500, 48500, 43500, 69000, 48500, 58000, 57500, 56500, 43000, 55000, 60000, 55000, 77000, 58000, 55000, 45500, 52000, 56500, 68000, 48000, 70000, 42000, 40500, 78000, 57000, 52000, 68000, 42000, 42000, 56000, 45000, 59500, 75000, 75500, 63000, 56000, 59500, 41000, 63000, 42500, 43000, 75000, 56000, 63000, 58000, 63000, 55000, 47000, 54000, 46000, 68500, 49000, 78000, 57000, 75000, 60500, 45500, 75000, 65000, 57500, 43500, 55000, 42000, 70000, 44500, 54500, 63000, 65700, 44500, 78000, 78000, 45500, 55200, 71588, 72000, 65000, 73000, 49500, 63000, 78500, 57500, 46000, 48500, 48000, 50500, 46500, 74500, 53000, 49000, 53000, 60000, 62000, 42000, 46000, 50000, 70000, 42400, 58000, 61000, 75000, 42500, 67000, 43000, 75000, 77000, 65000, 60000, 78000, 48500, 65000, 42000, 42500, 53000, 51000, 47500, 63500, 65500, 58000, 68000, 56500, 52500, 60000, 65000, 65000, 77000, 46000, 42800, 45000, 65000, 55000, 67000, 44000, 48000, 65000, 43000, 57888, 52000, 49000, 67000, 57000, 57000, 75000, 79000, 45000, 49500, 46500, 49500, 49000, 60000, 43000, 69500, 43000, 55000, 79000, 60000, 71000, 40700, 68500], \"y0\": \" \", \"yaxis\": \"y\"}],\n",
       "                        {\"boxmode\": \"group\", \"legend\": {\"tracegroupgap\": 0}, \"template\": {\"data\": {\"bar\": [{\"error_x\": {\"color\": \"#2a3f5f\"}, \"error_y\": {\"color\": \"#2a3f5f\"}, \"marker\": {\"line\": {\"color\": \"#E5ECF6\", \"width\": 0.5}}, \"type\": \"bar\"}], \"barpolar\": [{\"marker\": {\"line\": {\"color\": \"#E5ECF6\", \"width\": 0.5}}, \"type\": \"barpolar\"}], \"carpet\": [{\"aaxis\": {\"endlinecolor\": \"#2a3f5f\", \"gridcolor\": \"white\", \"linecolor\": \"white\", \"minorgridcolor\": \"white\", \"startlinecolor\": \"#2a3f5f\"}, \"baxis\": {\"endlinecolor\": \"#2a3f5f\", \"gridcolor\": \"white\", \"linecolor\": \"white\", \"minorgridcolor\": \"white\", \"startlinecolor\": \"#2a3f5f\"}, \"type\": \"carpet\"}], \"choropleth\": [{\"colorbar\": {\"outlinewidth\": 0, \"ticks\": \"\"}, \"type\": \"choropleth\"}], \"contour\": [{\"colorbar\": {\"outlinewidth\": 0, \"ticks\": \"\"}, \"colorscale\": [[0.0, \"#0d0887\"], [0.1111111111111111, \"#46039f\"], [0.2222222222222222, \"#7201a8\"], [0.3333333333333333, \"#9c179e\"], [0.4444444444444444, \"#bd3786\"], [0.5555555555555556, \"#d8576b\"], [0.6666666666666666, \"#ed7953\"], [0.7777777777777778, \"#fb9f3a\"], [0.8888888888888888, \"#fdca26\"], [1.0, \"#f0f921\"]], \"type\": \"contour\"}], \"contourcarpet\": [{\"colorbar\": {\"outlinewidth\": 0, \"ticks\": \"\"}, \"type\": \"contourcarpet\"}], \"heatmap\": [{\"colorbar\": {\"outlinewidth\": 0, \"ticks\": \"\"}, \"colorscale\": [[0.0, \"#0d0887\"], [0.1111111111111111, \"#46039f\"], [0.2222222222222222, \"#7201a8\"], [0.3333333333333333, \"#9c179e\"], [0.4444444444444444, \"#bd3786\"], [0.5555555555555556, \"#d8576b\"], [0.6666666666666666, \"#ed7953\"], [0.7777777777777778, \"#fb9f3a\"], [0.8888888888888888, \"#fdca26\"], [1.0, \"#f0f921\"]], \"type\": \"heatmap\"}], \"heatmapgl\": [{\"colorbar\": {\"outlinewidth\": 0, \"ticks\": \"\"}, \"colorscale\": [[0.0, \"#0d0887\"], [0.1111111111111111, \"#46039f\"], [0.2222222222222222, \"#7201a8\"], [0.3333333333333333, \"#9c179e\"], [0.4444444444444444, \"#bd3786\"], [0.5555555555555556, \"#d8576b\"], [0.6666666666666666, \"#ed7953\"], [0.7777777777777778, \"#fb9f3a\"], [0.8888888888888888, \"#fdca26\"], [1.0, \"#f0f921\"]], \"type\": \"heatmapgl\"}], \"histogram\": [{\"marker\": {\"colorbar\": {\"outlinewidth\": 0, \"ticks\": \"\"}}, \"type\": \"histogram\"}], \"histogram2d\": [{\"colorbar\": {\"outlinewidth\": 0, \"ticks\": \"\"}, \"colorscale\": [[0.0, \"#0d0887\"], [0.1111111111111111, \"#46039f\"], [0.2222222222222222, \"#7201a8\"], [0.3333333333333333, \"#9c179e\"], [0.4444444444444444, \"#bd3786\"], [0.5555555555555556, \"#d8576b\"], [0.6666666666666666, \"#ed7953\"], [0.7777777777777778, \"#fb9f3a\"], [0.8888888888888888, \"#fdca26\"], [1.0, \"#f0f921\"]], \"type\": \"histogram2d\"}], \"histogram2dcontour\": [{\"colorbar\": {\"outlinewidth\": 0, \"ticks\": \"\"}, \"colorscale\": [[0.0, \"#0d0887\"], [0.1111111111111111, \"#46039f\"], [0.2222222222222222, \"#7201a8\"], [0.3333333333333333, \"#9c179e\"], [0.4444444444444444, \"#bd3786\"], [0.5555555555555556, \"#d8576b\"], [0.6666666666666666, \"#ed7953\"], [0.7777777777777778, \"#fb9f3a\"], [0.8888888888888888, \"#fdca26\"], [1.0, \"#f0f921\"]], \"type\": \"histogram2dcontour\"}], \"mesh3d\": [{\"colorbar\": {\"outlinewidth\": 0, \"ticks\": \"\"}, \"type\": \"mesh3d\"}], \"parcoords\": [{\"line\": {\"colorbar\": {\"outlinewidth\": 0, \"ticks\": \"\"}}, \"type\": \"parcoords\"}], \"pie\": [{\"automargin\": true, \"type\": \"pie\"}], \"scatter\": [{\"marker\": {\"colorbar\": {\"outlinewidth\": 0, \"ticks\": \"\"}}, \"type\": \"scatter\"}], \"scatter3d\": [{\"line\": {\"colorbar\": {\"outlinewidth\": 0, \"ticks\": \"\"}}, \"marker\": {\"colorbar\": {\"outlinewidth\": 0, \"ticks\": \"\"}}, \"type\": \"scatter3d\"}], \"scattercarpet\": [{\"marker\": {\"colorbar\": {\"outlinewidth\": 0, \"ticks\": \"\"}}, \"type\": \"scattercarpet\"}], \"scattergeo\": [{\"marker\": {\"colorbar\": {\"outlinewidth\": 0, \"ticks\": \"\"}}, \"type\": \"scattergeo\"}], \"scattergl\": [{\"marker\": {\"colorbar\": {\"outlinewidth\": 0, \"ticks\": \"\"}}, \"type\": \"scattergl\"}], \"scattermapbox\": [{\"marker\": {\"colorbar\": {\"outlinewidth\": 0, \"ticks\": \"\"}}, \"type\": \"scattermapbox\"}], \"scatterpolar\": [{\"marker\": {\"colorbar\": {\"outlinewidth\": 0, \"ticks\": \"\"}}, \"type\": \"scatterpolar\"}], \"scatterpolargl\": [{\"marker\": {\"colorbar\": {\"outlinewidth\": 0, \"ticks\": \"\"}}, \"type\": \"scatterpolargl\"}], \"scatterternary\": [{\"marker\": {\"colorbar\": {\"outlinewidth\": 0, \"ticks\": \"\"}}, \"type\": \"scatterternary\"}], \"surface\": [{\"colorbar\": {\"outlinewidth\": 0, \"ticks\": \"\"}, \"colorscale\": [[0.0, \"#0d0887\"], [0.1111111111111111, \"#46039f\"], [0.2222222222222222, \"#7201a8\"], [0.3333333333333333, \"#9c179e\"], [0.4444444444444444, \"#bd3786\"], [0.5555555555555556, \"#d8576b\"], [0.6666666666666666, \"#ed7953\"], [0.7777777777777778, \"#fb9f3a\"], [0.8888888888888888, \"#fdca26\"], [1.0, \"#f0f921\"]], \"type\": \"surface\"}], \"table\": [{\"cells\": {\"fill\": {\"color\": \"#EBF0F8\"}, \"line\": {\"color\": \"white\"}}, \"header\": {\"fill\": {\"color\": \"#C8D4E3\"}, \"line\": {\"color\": \"white\"}}, \"type\": \"table\"}]}, \"layout\": {\"annotationdefaults\": {\"arrowcolor\": \"#2a3f5f\", \"arrowhead\": 0, \"arrowwidth\": 1}, \"coloraxis\": {\"colorbar\": {\"outlinewidth\": 0, \"ticks\": \"\"}}, \"colorscale\": {\"diverging\": [[0, \"#8e0152\"], [0.1, \"#c51b7d\"], [0.2, \"#de77ae\"], [0.3, \"#f1b6da\"], [0.4, \"#fde0ef\"], [0.5, \"#f7f7f7\"], [0.6, \"#e6f5d0\"], [0.7, \"#b8e186\"], [0.8, \"#7fbc41\"], [0.9, \"#4d9221\"], [1, \"#276419\"]], \"sequential\": [[0.0, \"#0d0887\"], [0.1111111111111111, \"#46039f\"], [0.2222222222222222, \"#7201a8\"], [0.3333333333333333, \"#9c179e\"], [0.4444444444444444, \"#bd3786\"], [0.5555555555555556, \"#d8576b\"], [0.6666666666666666, \"#ed7953\"], [0.7777777777777778, \"#fb9f3a\"], [0.8888888888888888, \"#fdca26\"], [1.0, \"#f0f921\"]], \"sequentialminus\": [[0.0, \"#0d0887\"], [0.1111111111111111, \"#46039f\"], [0.2222222222222222, \"#7201a8\"], [0.3333333333333333, \"#9c179e\"], [0.4444444444444444, \"#bd3786\"], [0.5555555555555556, \"#d8576b\"], [0.6666666666666666, \"#ed7953\"], [0.7777777777777778, \"#fb9f3a\"], [0.8888888888888888, \"#fdca26\"], [1.0, \"#f0f921\"]]}, \"colorway\": [\"#636efa\", \"#EF553B\", \"#00cc96\", \"#ab63fa\", \"#FFA15A\", \"#19d3f3\", \"#FF6692\", \"#B6E880\", \"#FF97FF\", \"#FECB52\"], \"font\": {\"color\": \"#2a3f5f\"}, \"geo\": {\"bgcolor\": \"white\", \"lakecolor\": \"white\", \"landcolor\": \"#E5ECF6\", \"showlakes\": true, \"showland\": true, \"subunitcolor\": \"white\"}, \"hoverlabel\": {\"align\": \"left\"}, \"hovermode\": \"closest\", \"mapbox\": {\"style\": \"light\"}, \"paper_bgcolor\": \"white\", \"plot_bgcolor\": \"#E5ECF6\", \"polar\": {\"angularaxis\": {\"gridcolor\": \"white\", \"linecolor\": \"white\", \"ticks\": \"\"}, \"bgcolor\": \"#E5ECF6\", \"radialaxis\": {\"gridcolor\": \"white\", \"linecolor\": \"white\", \"ticks\": \"\"}}, \"scene\": {\"xaxis\": {\"backgroundcolor\": \"#E5ECF6\", \"gridcolor\": \"white\", \"gridwidth\": 2, \"linecolor\": \"white\", \"showbackground\": true, \"ticks\": \"\", \"zerolinecolor\": \"white\"}, \"yaxis\": {\"backgroundcolor\": \"#E5ECF6\", \"gridcolor\": \"white\", \"gridwidth\": 2, \"linecolor\": \"white\", \"showbackground\": true, \"ticks\": \"\", \"zerolinecolor\": \"white\"}, \"zaxis\": {\"backgroundcolor\": \"#E5ECF6\", \"gridcolor\": \"white\", \"gridwidth\": 2, \"linecolor\": \"white\", \"showbackground\": true, \"ticks\": \"\", \"zerolinecolor\": \"white\"}}, \"shapedefaults\": {\"line\": {\"color\": \"#2a3f5f\"}}, \"ternary\": {\"aaxis\": {\"gridcolor\": \"white\", \"linecolor\": \"white\", \"ticks\": \"\"}, \"baxis\": {\"gridcolor\": \"white\", \"linecolor\": \"white\", \"ticks\": \"\"}, \"bgcolor\": \"#E5ECF6\", \"caxis\": {\"gridcolor\": \"white\", \"linecolor\": \"white\", \"ticks\": \"\"}}, \"title\": {\"x\": 0.05}, \"xaxis\": {\"automargin\": true, \"gridcolor\": \"white\", \"linecolor\": \"white\", \"ticks\": \"\", \"title\": {\"standoff\": 15}, \"zerolinecolor\": \"white\", \"zerolinewidth\": 2}, \"yaxis\": {\"automargin\": true, \"gridcolor\": \"white\", \"linecolor\": \"white\", \"ticks\": \"\", \"title\": {\"standoff\": 15}, \"zerolinecolor\": \"white\", \"zerolinewidth\": 2}}}, \"title\": {\"text\": \"Relationship between each brand and price\"}, \"xaxis\": {\"anchor\": \"y\", \"domain\": [0.0, 1.0], \"title\": {\"text\": \"Brand\"}}, \"yaxis\": {\"anchor\": \"x\", \"domain\": [0.0, 1.0], \"title\": {\"text\": \"Price(GH\\u00a2)\"}}},\n",
       "                        {\"responsive\": true}\n",
       "                    ).then(function(){\n",
       "                            \n",
       "var gd = document.getElementById('b7bbdb10-9972-4073-a4da-8a08e4a1f842');\n",
       "var x = new MutationObserver(function (mutations, observer) {{\n",
       "        var display = window.getComputedStyle(gd).display;\n",
       "        if (!display || display === 'none') {{\n",
       "            console.log([gd, 'removed!']);\n",
       "            Plotly.purge(gd);\n",
       "            observer.disconnect();\n",
       "        }}\n",
       "}});\n",
       "\n",
       "// Listen for the removal of the full notebook cells\n",
       "var notebookContainer = gd.closest('#notebook-container');\n",
       "if (notebookContainer) {{\n",
       "    x.observe(notebookContainer, {childList: true});\n",
       "}}\n",
       "\n",
       "// Listen for the clearing of the current output cell\n",
       "var outputEl = gd.closest('.output');\n",
       "if (outputEl) {{\n",
       "    x.observe(outputEl, {childList: true});\n",
       "}}\n",
       "\n",
       "                        })\n",
       "                };\n",
       "                });\n",
       "            </script>\n",
       "        </div>"
      ]
     },
     "metadata": {},
     "output_type": "display_data"
    }
   ],
   "source": [
    "fig = px.box(filtered, x=\"Brand\", y=\"Price(GH¢)\", title='Relationship between each brand and price')\n",
    "fig.show()"
   ]
  },
  {
   "cell_type": "markdown",
   "metadata": {},
   "source": [
    "### Body type vs Price"
   ]
  },
  {
   "cell_type": "code",
   "execution_count": 60,
   "metadata": {
    "scrolled": false
   },
   "outputs": [
    {
     "data": {
      "text/plain": [
       "(array([0, 1, 2, 3, 4, 5]), <a list of 6 Text xticklabel objects>)"
      ]
     },
     "execution_count": 60,
     "metadata": {},
     "output_type": "execute_result"
    },
    {
     "data": {
      "image/png": "[encoded data removed]",
      "text/plain": [
       "<Figure size 936x576 with 1 Axes>"
      ]
     },
     "metadata": {},
     "output_type": "display_data"
    }
   ],
   "source": [
    "body_price = filtered.groupby('Body type').mean()['Price(GH¢)'].to_frame().reset_index().sort_values('Price(GH¢)', ascending=False)\n",
    "\n",
    "fig, ax = plt.subplots(figsize=(13, 8))\n",
    "sns.barplot(body_price['Body type'], body_price['Price(GH¢)'])\n",
    "plt.title(\"Average price per body type\")\n",
    "\n",
    "plt.xticks(rotation=45)"
   ]
  },
  {
   "cell_type": "code",
   "execution_count": 61,
   "metadata": {},
   "outputs": [
    {
     "data": {
      "application/vnd.plotly.v1+json": {
       "config": {
        "plotlyServerURL": "https://plot.ly"
       },
       "data": [
        {
         "alignmentgroup": "True",
         "hovertemplate": "Body type=%{x}<br>Price(GH¢)=%{y}<extra></extra>",
         "legendgroup": "",
         "marker": {
          "color": "#636efa"
         },
         "name": "",
         "notched": false,
         "offsetgroup": "",
         "orientation": "v",
         "showlegend": false,
         "type": "box",
         "x": [
          null,
          "Saloon",
          null,
          "SUV / 4x4",
          "Hatchback",
          "Saloon",
          "Saloon",
          "Saloon",
          "SUV / 4x4",
          "Saloon",
          "Saloon",
          "Saloon",
          "Saloon",
          "Saloon",
          "SUV / 4x4",
          "SUV / 4x4",
          "Saloon",
          "Hatchback",
          "Hatchback",
          "Hatchback",
          "Saloon",
          "Saloon",
          "Saloon",
          "Saloon",
          "Saloon",
          "Saloon",
          "Hatchback",
          "SUV / 4x4",
          "Saloon",
          "Saloon",
          "SUV / 4x4",
          "SUV / 4x4",
          "Hatchback",
          null,
          "Saloon",
          "SUV / 4x4",
          "Saloon",
          "Saloon",
          "Saloon",
          "Saloon",
          "Saloon",
          "Saloon",
          "Saloon",
          "Saloon",
          "SUV / 4x4",
          "Saloon",
          "SUV / 4x4",
          "SUV / 4x4",
          null,
          "SUV / 4x4",
          "Saloon",
          "Saloon",
          "Saloon",
          "SUV / 4x4",
          "Saloon",
          "Saloon",
          "Saloon",
          null,
          "SUV / 4x4",
          "Saloon",
          "Saloon",
          "SUV / 4x4",
          "Saloon",
          "Saloon",
          "Saloon",
          "Saloon",
          "Saloon",
          "Saloon",
          "SUV / 4x4",
          "Saloon",
          "SUV / 4x4",
          "Saloon",
          "Saloon",
          "Saloon",
          "Saloon",
          null,
          "SUV / 4x4",
          "Saloon",
          "Saloon",
          "SUV / 4x4",
          "SUV / 4x4",
          "Saloon",
          "Saloon",
          "Hatchback",
          "SUV / 4x4",
          "SUV / 4x4",
          "Saloon",
          "Saloon",
          "Saloon",
          "SUV / 4x4",
          "SUV / 4x4",
          "Saloon",
          "Saloon",
          "Saloon",
          "Saloon",
          "Saloon",
          "SUV / 4x4",
          "SUV / 4x4",
          "Saloon",
          "Saloon",
          "Saloon",
          "Saloon",
          "Saloon",
          "Saloon",
          "Saloon",
          "SUV / 4x4",
          "Saloon",
          "SUV / 4x4",
          "Saloon",
          "SUV / 4x4",
          "Saloon",
          "Saloon",
          "SUV / 4x4",
          "Saloon",
          "SUV / 4x4",
          "SUV / 4x4",
          "Hatchback",
          "Saloon",
          "Saloon",
          "SUV / 4x4",
          "Saloon",
          "SUV / 4x4",
          "Saloon",
          "Saloon",
          "Saloon",
          "Saloon",
          "Saloon",
          "Saloon",
          "Saloon",
          "Saloon",
          "Saloon",
          "Saloon",
          "Saloon",
          "Hatchback",
          "SUV / 4x4",
          "Saloon",
          "Saloon",
          "Saloon",
          "Saloon",
          "Saloon",
          "SUV / 4x4",
          "Saloon",
          "Saloon",
          "Saloon",
          "Saloon",
          "Saloon",
          "Saloon",
          "SUV / 4x4",
          "Saloon",
          "Saloon",
          "Saloon",
          "Saloon",
          "SUV / 4x4",
          "SUV / 4x4",
          "Saloon",
          "Saloon",
          "Saloon",
          "Saloon",
          "Saloon",
          "Saloon",
          "Saloon",
          null,
          "Coupé/Sports",
          "SUV / 4x4",
          "Saloon",
          "Saloon",
          "SUV / 4x4",
          "Saloon",
          "Saloon",
          "SUV / 4x4",
          "Saloon",
          "SUV / 4x4",
          "SUV / 4x4",
          "Hatchback",
          "Saloon",
          "Saloon",
          "SUV / 4x4",
          "Saloon",
          "Saloon",
          "SUV / 4x4",
          "SUV / 4x4",
          "SUV / 4x4",
          "Saloon",
          "Saloon",
          "Saloon",
          "Saloon",
          "Hatchback",
          "Saloon",
          "SUV / 4x4",
          "Saloon",
          "Saloon",
          "SUV / 4x4",
          null,
          "SUV / 4x4",
          "Saloon",
          "SUV / 4x4",
          "Saloon",
          "Saloon",
          "Saloon",
          "Saloon",
          null,
          "SUV / 4x4",
          "Saloon",
          "Saloon",
          "SUV / 4x4",
          "Convertible",
          "Saloon",
          "Saloon",
          "Saloon",
          "Saloon",
          "Saloon",
          "Saloon",
          "Saloon",
          "Saloon",
          "Saloon",
          "Saloon",
          "Saloon",
          "Saloon",
          "Saloon",
          "SUV / 4x4",
          "Saloon",
          "Saloon",
          "Saloon",
          "Saloon",
          "Saloon",
          "SUV / 4x4",
          "Saloon",
          "Saloon",
          "SUV / 4x4",
          "SUV / 4x4",
          "Saloon",
          "Hatchback",
          null,
          "Hatchback",
          "SUV / 4x4",
          "Saloon",
          "Saloon",
          "Saloon",
          "Hatchback",
          "Saloon",
          "Saloon",
          "Saloon",
          "Saloon",
          "Saloon",
          "Saloon",
          "Hatchback",
          "Saloon",
          "Saloon",
          "Saloon",
          "SUV / 4x4",
          "Saloon",
          "Saloon",
          "Saloon",
          "SUV / 4x4",
          "SUV / 4x4",
          "SUV / 4x4",
          "Saloon",
          "Saloon",
          "Saloon",
          "Saloon",
          "SUV / 4x4",
          "Saloon",
          "Saloon",
          "Saloon",
          "Saloon",
          "Saloon",
          "SUV / 4x4",
          "Saloon",
          null,
          "Saloon",
          "Saloon",
          "Saloon",
          "Saloon",
          "Saloon",
          "Saloon",
          "SUV / 4x4",
          "Saloon",
          "SUV / 4x4",
          "SUV / 4x4",
          "Saloon",
          "Saloon",
          "Saloon",
          "SUV / 4x4",
          "SUV / 4x4",
          "Estate",
          "Saloon",
          "Saloon",
          "Saloon",
          "Saloon",
          "Saloon",
          "Saloon",
          "Saloon",
          "Saloon",
          "Saloon",
          "Saloon",
          "Saloon",
          "SUV / 4x4",
          "Saloon",
          "Saloon",
          "SUV / 4x4",
          "Saloon",
          "Saloon",
          "Saloon",
          "Saloon",
          "SUV / 4x4",
          "SUV / 4x4",
          "Saloon",
          "Hatchback",
          "SUV / 4x4",
          "SUV / 4x4",
          "Saloon",
          "Saloon",
          "SUV / 4x4",
          "SUV / 4x4",
          "Saloon",
          "Saloon",
          "SUV / 4x4",
          "Saloon",
          "Saloon",
          "Saloon",
          "Saloon",
          "Saloon",
          "Saloon",
          "Saloon",
          "Saloon",
          "SUV / 4x4",
          "Saloon",
          "Saloon",
          "SUV / 4x4",
          "SUV / 4x4",
          "Saloon",
          "Saloon",
          "SUV / 4x4"
         ],
         "x0": " ",
         "xaxis": "x",
         "y": [
          42500,
          42000,
          48000,
          60000,
          44000,
          68500,
          58000,
          42500,
          48000,
          69500,
          45000,
          55500,
          70000,
          44000,
          65000,
          58000,
          56000,
          55500,
          60000,
          48000,
          76000,
          43500,
          75000,
          53000,
          56000,
          72000,
          52500,
          45000,
          42000,
          60000,
          55000,
          46000,
          53000,
          56500,
          62000,
          70000,
          55500,
          51000,
          44000,
          52000,
          48100,
          43000,
          47200,
          45000,
          47000,
          45000,
          60000,
          65000,
          42000,
          58000,
          74000,
          43500,
          49900,
          65777,
          72000,
          55000,
          70000,
          62000,
          59800,
          49000,
          78000,
          55000,
          74000,
          49500,
          41777,
          47777,
          50000,
          75000,
          65000,
          50555,
          42000,
          78500,
          46000,
          50555,
          48950,
          55000,
          60000,
          62000,
          55000,
          45500,
          47000,
          43000,
          46500,
          50000,
          64000,
          78000,
          47000,
          40999,
          50500,
          79500,
          49500,
          58500,
          51000,
          65500,
          62000,
          45000,
          65000,
          45000,
          77000,
          45000,
          78000,
          48500,
          62000,
          54500,
          68000,
          68000,
          46500,
          65000,
          78000,
          55000,
          58500,
          41000,
          40500,
          77000,
          65000,
          67000,
          48500,
          52000,
          66600,
          65000,
          75000,
          45000,
          42000,
          50000,
          62000,
          46000,
          66000,
          72000,
          76000,
          47500,
          43500,
          78000,
          68000,
          40500,
          58500,
          41900,
          48000,
          60000,
          75000,
          45000,
          65000,
          43500,
          70000,
          58500,
          63000,
          63800,
          48500,
          45000,
          42000,
          45000,
          50000,
          45000,
          58000,
          79000,
          45000,
          50000,
          67000,
          46000,
          59900,
          42000,
          43000,
          45000,
          50000,
          48000,
          78000,
          43000,
          55000,
          60000,
          64000,
          62900,
          49000,
          63000,
          62000,
          42500,
          62000,
          48500,
          48500,
          43500,
          69000,
          48500,
          58000,
          57500,
          56500,
          43000,
          55000,
          60000,
          55000,
          77000,
          58000,
          55000,
          45500,
          52000,
          56500,
          68000,
          48000,
          70000,
          42000,
          40500,
          78000,
          57000,
          52000,
          68000,
          42000,
          42000,
          56000,
          45000,
          59500,
          75000,
          75500,
          63000,
          56000,
          59500,
          41000,
          63000,
          42500,
          43000,
          75000,
          56000,
          63000,
          58000,
          63000,
          55000,
          47000,
          54000,
          46000,
          68500,
          49000,
          78000,
          57000,
          75000,
          60500,
          45500,
          75000,
          65000,
          57500,
          43500,
          55000,
          42000,
          70000,
          44500,
          54500,
          63000,
          65700,
          44500,
          78000,
          78000,
          45500,
          55200,
          71588,
          72000,
          65000,
          73000,
          49500,
          63000,
          78500,
          57500,
          46000,
          48500,
          48000,
          50500,
          46500,
          74500,
          53000,
          49000,
          53000,
          60000,
          62000,
          42000,
          46000,
          50000,
          70000,
          42400,
          58000,
          61000,
          75000,
          42500,
          67000,
          43000,
          75000,
          77000,
          65000,
          60000,
          78000,
          48500,
          65000,
          42000,
          42500,
          53000,
          51000,
          47500,
          63500,
          65500,
          58000,
          68000,
          56500,
          52500,
          60000,
          65000,
          65000,
          77000,
          46000,
          42800,
          45000,
          65000,
          55000,
          67000,
          44000,
          48000,
          65000,
          43000,
          57888,
          52000,
          49000,
          67000,
          57000,
          57000,
          75000,
          79000,
          45000,
          49500,
          46500,
          49500,
          49000,
          60000,
          43000,
          69500,
          43000,
          55000,
          79000,
          60000,
          71000,
          40700,
          68500
         ],
         "y0": " ",
         "yaxis": "y"
        }
       ],
       "layout": {
        "boxmode": "group",
        "legend": {
         "tracegroupgap": 0
        },
        "template": {
         "data": {
          "bar": [
           {
            "error_x": {
             "color": "#2a3f5f"
            },
            "error_y": {
             "color": "#2a3f5f"
            },
            "marker": {
             "line": {
              "color": "#E5ECF6",
              "width": 0.5
             }
            },
            "type": "bar"
           }
          ],
          "barpolar": [
           {
            "marker": {
             "line": {
              "color": "#E5ECF6",
              "width": 0.5
             }
            },
            "type": "barpolar"
           }
          ],
          "carpet": [
           {
            "aaxis": {
             "endlinecolor": "#2a3f5f",
             "gridcolor": "white",
             "linecolor": "white",
             "minorgridcolor": "white",
             "startlinecolor": "#2a3f5f"
            },
            "baxis": {
             "endlinecolor": "#2a3f5f",
             "gridcolor": "white",
             "linecolor": "white",
             "minorgridcolor": "white",
             "startlinecolor": "#2a3f5f"
            },
            "type": "carpet"
           }
          ],
          "choropleth": [
           {
            "colorbar": {
             "outlinewidth": 0,
             "ticks": ""
            },
            "type": "choropleth"
           }
          ],
          "contour": [
           {
            "colorbar": {
             "outlinewidth": 0,
             "ticks": ""
            },
            "colorscale": [
             [
              0,
              "#0d0887"
             ],
             [
              0.1111111111111111,
              "#46039f"
             ],
             [
              0.2222222222222222,
              "#7201a8"
             ],
             [
              0.3333333333333333,
              "#9c179e"
             ],
             [
              0.4444444444444444,
              "#bd3786"
             ],
             [
              0.5555555555555556,
              "#d8576b"
             ],
             [
              0.6666666666666666,
              "#ed7953"
             ],
             [
              0.7777777777777778,
              "#fb9f3a"
             ],
             [
              0.8888888888888888,
              "#fdca26"
             ],
             [
              1,
              "#f0f921"
             ]
            ],
            "type": "contour"
           }
          ],
          "contourcarpet": [
           {
            "colorbar": {
             "outlinewidth": 0,
             "ticks": ""
            },
            "type": "contourcarpet"
           }
          ],
          "heatmap": [
           {
            "colorbar": {
             "outlinewidth": 0,
             "ticks": ""
            },
            "colorscale": [
             [
              0,
              "#0d0887"
             ],
             [
              0.1111111111111111,
              "#46039f"
             ],
             [
              0.2222222222222222,
              "#7201a8"
             ],
             [
              0.3333333333333333,
              "#9c179e"
             ],
             [
              0.4444444444444444,
              "#bd3786"
             ],
             [
              0.5555555555555556,
              "#d8576b"
             ],
             [
              0.6666666666666666,
              "#ed7953"
             ],
             [
              0.7777777777777778,
              "#fb9f3a"
             ],
             [
              0.8888888888888888,
              "#fdca26"
             ],
             [
              1,
              "#f0f921"
             ]
            ],
            "type": "heatmap"
           }
          ],
          "heatmapgl": [
           {
            "colorbar": {
             "outlinewidth": 0,
             "ticks": ""
            },
            "colorscale": [
             [
              0,
              "#0d0887"
             ],
             [
              0.1111111111111111,
              "#46039f"
             ],
             [
              0.2222222222222222,
              "#7201a8"
             ],
             [
              0.3333333333333333,
              "#9c179e"
             ],
             [
              0.4444444444444444,
              "#bd3786"
             ],
             [
              0.5555555555555556,
              "#d8576b"
             ],
             [
              0.6666666666666666,
              "#ed7953"
             ],
             [
              0.7777777777777778,
              "#fb9f3a"
             ],
             [
              0.8888888888888888,
              "#fdca26"
             ],
             [
              1,
              "#f0f921"
             ]
            ],
            "type": "heatmapgl"
           }
          ],
          "histogram": [
           {
            "marker": {
             "colorbar": {
              "outlinewidth": 0,
              "ticks": ""
             }
            },
            "type": "histogram"
           }
          ],
          "histogram2d": [
           {
            "colorbar": {
             "outlinewidth": 0,
             "ticks": ""
            },
            "colorscale": [
             [
              0,
              "#0d0887"
             ],
             [
              0.1111111111111111,
              "#46039f"
             ],
             [
              0.2222222222222222,
              "#7201a8"
             ],
             [
              0.3333333333333333,
              "#9c179e"
             ],
             [
              0.4444444444444444,
              "#bd3786"
             ],
             [
              0.5555555555555556,
              "#d8576b"
             ],
             [
              0.6666666666666666,
              "#ed7953"
             ],
             [
              0.7777777777777778,
              "#fb9f3a"
             ],
             [
              0.8888888888888888,
              "#fdca26"
             ],
             [
              1,
              "#f0f921"
             ]
            ],
            "type": "histogram2d"
           }
          ],
          "histogram2dcontour": [
           {
            "colorbar": {
             "outlinewidth": 0,
             "ticks": ""
            },
            "colorscale": [
             [
              0,
              "#0d0887"
             ],
             [
              0.1111111111111111,
              "#46039f"
             ],
             [
              0.2222222222222222,
              "#7201a8"
             ],
             [
              0.3333333333333333,
              "#9c179e"
             ],
             [
              0.4444444444444444,
              "#bd3786"
             ],
             [
              0.5555555555555556,
              "#d8576b"
             ],
             [
              0.6666666666666666,
              "#ed7953"
             ],
             [
              0.7777777777777778,
              "#fb9f3a"
             ],
             [
              0.8888888888888888,
              "#fdca26"
             ],
             [
              1,
              "#f0f921"
             ]
            ],
            "type": "histogram2dcontour"
           }
          ],
          "mesh3d": [
           {
            "colorbar": {
             "outlinewidth": 0,
             "ticks": ""
            },
            "type": "mesh3d"
           }
          ],
          "parcoords": [
           {
            "line": {
             "colorbar": {
              "outlinewidth": 0,
              "ticks": ""
             }
            },
            "type": "parcoords"
           }
          ],
          "pie": [
           {
            "automargin": true,
            "type": "pie"
           }
          ],
          "scatter": [
           {
            "marker": {
             "colorbar": {
              "outlinewidth": 0,
              "ticks": ""
             }
            },
            "type": "scatter"
           }
          ],
          "scatter3d": [
           {
            "line": {
             "colorbar": {
              "outlinewidth": 0,
              "ticks": ""
             }
            },
            "marker": {
             "colorbar": {
              "outlinewidth": 0,
              "ticks": ""
             }
            },
            "type": "scatter3d"
           }
          ],
          "scattercarpet": [
           {
            "marker": {
             "colorbar": {
              "outlinewidth": 0,
              "ticks": ""
             }
            },
            "type": "scattercarpet"
           }
          ],
          "scattergeo": [
           {
            "marker": {
             "colorbar": {
              "outlinewidth": 0,
              "ticks": ""
             }
            },
            "type": "scattergeo"
           }
          ],
          "scattergl": [
           {
            "marker": {
             "colorbar": {
              "outlinewidth": 0,
              "ticks": ""
             }
            },
            "type": "scattergl"
           }
          ],
          "scattermapbox": [
           {
            "marker": {
             "colorbar": {
              "outlinewidth": 0,
              "ticks": ""
             }
            },
            "type": "scattermapbox"
           }
          ],
          "scatterpolar": [
           {
            "marker": {
             "colorbar": {
              "outlinewidth": 0,
              "ticks": ""
             }
            },
            "type": "scatterpolar"
           }
          ],
          "scatterpolargl": [
           {
            "marker": {
             "colorbar": {
              "outlinewidth": 0,
              "ticks": ""
             }
            },
            "type": "scatterpolargl"
           }
          ],
          "scatterternary": [
           {
            "marker": {
             "colorbar": {
              "outlinewidth": 0,
              "ticks": ""
             }
            },
            "type": "scatterternary"
           }
          ],
          "surface": [
           {
            "colorbar": {
             "outlinewidth": 0,
             "ticks": ""
            },
            "colorscale": [
             [
              0,
              "#0d0887"
             ],
             [
              0.1111111111111111,
              "#46039f"
             ],
             [
              0.2222222222222222,
              "#7201a8"
             ],
             [
              0.3333333333333333,
              "#9c179e"
             ],
             [
              0.4444444444444444,
              "#bd3786"
             ],
             [
              0.5555555555555556,
              "#d8576b"
             ],
             [
              0.6666666666666666,
              "#ed7953"
             ],
             [
              0.7777777777777778,
              "#fb9f3a"
             ],
             [
              0.8888888888888888,
              "#fdca26"
             ],
             [
              1,
              "#f0f921"
             ]
            ],
            "type": "surface"
           }
          ],
          "table": [
           {
            "cells": {
             "fill": {
              "color": "#EBF0F8"
             },
             "line": {
              "color": "white"
             }
            },
            "header": {
             "fill": {
              "color": "#C8D4E3"
             },
             "line": {
              "color": "white"
             }
            },
            "type": "table"
           }
          ]
         },
         "layout": {
          "annotationdefaults": {
           "arrowcolor": "#2a3f5f",
           "arrowhead": 0,
           "arrowwidth": 1
          },
          "coloraxis": {
           "colorbar": {
            "outlinewidth": 0,
            "ticks": ""
           }
          },
          "colorscale": {
           "diverging": [
            [
             0,
             "#8e0152"
            ],
            [
             0.1,
             "#c51b7d"
            ],
            [
             0.2,
             "#de77ae"
            ],
            [
             0.3,
             "#f1b6da"
            ],
            [
             0.4,
             "#fde0ef"
            ],
            [
             0.5,
             "#f7f7f7"
            ],
            [
             0.6,
             "#e6f5d0"
            ],
            [
             0.7,
             "#b8e186"
            ],
            [
             0.8,
             "#7fbc41"
            ],
            [
             0.9,
             "#4d9221"
            ],
            [
             1,
             "#276419"
            ]
           ],
           "sequential": [
            [
             0,
             "#0d0887"
            ],
            [
             0.1111111111111111,
             "#46039f"
            ],
            [
             0.2222222222222222,
             "#7201a8"
            ],
            [
             0.3333333333333333,
             "#9c179e"
            ],
            [
             0.4444444444444444,
             "#bd3786"
            ],
            [
             0.5555555555555556,
             "#d8576b"
            ],
            [
             0.6666666666666666,
             "#ed7953"
            ],
            [
             0.7777777777777778,
             "#fb9f3a"
            ],
            [
             0.8888888888888888,
             "#fdca26"
            ],
            [
             1,
             "#f0f921"
            ]
           ],
           "sequentialminus": [
            [
             0,
             "#0d0887"
            ],
            [
             0.1111111111111111,
             "#46039f"
            ],
            [
             0.2222222222222222,
             "#7201a8"
            ],
            [
             0.3333333333333333,
             "#9c179e"
            ],
            [
             0.4444444444444444,
             "#bd3786"
            ],
            [
             0.5555555555555556,
             "#d8576b"
            ],
            [
             0.6666666666666666,
             "#ed7953"
            ],
            [
             0.7777777777777778,
             "#fb9f3a"
            ],
            [
             0.8888888888888888,
             "#fdca26"
            ],
            [
             1,
             "#f0f921"
            ]
           ]
          },
          "colorway": [
           "#636efa",
           "#EF553B",
           "#00cc96",
           "#ab63fa",
           "#FFA15A",
           "#19d3f3",
           "#FF6692",
           "#B6E880",
           "#FF97FF",
           "#FECB52"
          ],
          "font": {
           "color": "#2a3f5f"
          },
          "geo": {
           "bgcolor": "white",
           "lakecolor": "white",
           "landcolor": "#E5ECF6",
           "showlakes": true,
           "showland": true,
           "subunitcolor": "white"
          },
          "hoverlabel": {
           "align": "left"
          },
          "hovermode": "closest",
          "mapbox": {
           "style": "light"
          },
          "paper_bgcolor": "white",
          "plot_bgcolor": "#E5ECF6",
          "polar": {
           "angularaxis": {
            "gridcolor": "white",
            "linecolor": "white",
            "ticks": ""
           },
           "bgcolor": "#E5ECF6",
           "radialaxis": {
            "gridcolor": "white",
            "linecolor": "white",
            "ticks": ""
           }
          },
          "scene": {
           "xaxis": {
            "backgroundcolor": "#E5ECF6",
            "gridcolor": "white",
            "gridwidth": 2,
            "linecolor": "white",
            "showbackground": true,
            "ticks": "",
            "zerolinecolor": "white"
           },
           "yaxis": {
            "backgroundcolor": "#E5ECF6",
            "gridcolor": "white",
            "gridwidth": 2,
            "linecolor": "white",
            "showbackground": true,
            "ticks": "",
            "zerolinecolor": "white"
           },
           "zaxis": {
            "backgroundcolor": "#E5ECF6",
            "gridcolor": "white",
            "gridwidth": 2,
            "linecolor": "white",
            "showbackground": true,
            "ticks": "",
            "zerolinecolor": "white"
           }
          },
          "shapedefaults": {
           "line": {
            "color": "#2a3f5f"
           }
          },
          "ternary": {
           "aaxis": {
            "gridcolor": "white",
            "linecolor": "white",
            "ticks": ""
           },
           "baxis": {
            "gridcolor": "white",
            "linecolor": "white",
            "ticks": ""
           },
           "bgcolor": "#E5ECF6",
           "caxis": {
            "gridcolor": "white",
            "linecolor": "white",
            "ticks": ""
           }
          },
          "title": {
           "x": 0.05
          },
          "xaxis": {
           "automargin": true,
           "gridcolor": "white",
           "linecolor": "white",
           "ticks": "",
           "title": {
            "standoff": 15
           },
           "zerolinecolor": "white",
           "zerolinewidth": 2
          },
          "yaxis": {
           "automargin": true,
           "gridcolor": "white",
           "linecolor": "white",
           "ticks": "",
           "title": {
            "standoff": 15
           },
           "zerolinecolor": "white",
           "zerolinewidth": 2
          }
         }
        },
        "title": {
         "text": "Relationship between each brand and price"
        },
        "xaxis": {
         "anchor": "y",
         "domain": [
          0,
          1
         ],
         "title": {
          "text": "Body type"
         }
        },
        "yaxis": {
         "anchor": "x",
         "domain": [
          0,
          1
         ],
         "title": {
          "text": "Price(GH¢)"
         }
        }
       }
      },
      "text/html": [
       "<div>\n",
       "        \n",
       "        \n",
       "            <div id=\"553452df-9dea-43e2-a3ea-7ea2bc3ad02e\" class=\"plotly-graph-div\" style=\"height:525px; width:100%;\"></div>\n",
       "            <script type=\"text/javascript\">\n",
       "                require([\"plotly\"], function(Plotly) {\n",
       "                    window.PLOTLYENV=window.PLOTLYENV || {};\n",
       "                    \n",
       "                if (document.getElementById(\"553452df-9dea-43e2-a3ea-7ea2bc3ad02e\")) {\n",
       "                    Plotly.newPlot(\n",
       "                        '553452df-9dea-43e2-a3ea-7ea2bc3ad02e',\n",
       "                        [{\"alignmentgroup\": \"True\", \"hovertemplate\": \"Body type=%{x}<br>Price(GH\\u00a2)=%{y}<extra></extra>\", \"legendgroup\": \"\", \"marker\": {\"color\": \"#636efa\"}, \"name\": \"\", \"notched\": false, \"offsetgroup\": \"\", \"orientation\": \"v\", \"showlegend\": false, \"type\": \"box\", \"x\": [null, \"Saloon\", null, \"SUV / 4x4\", \"Hatchback\", \"Saloon\", \"Saloon\", \"Saloon\", \"SUV / 4x4\", \"Saloon\", \"Saloon\", \"Saloon\", \"Saloon\", \"Saloon\", \"SUV / 4x4\", \"SUV / 4x4\", \"Saloon\", \"Hatchback\", \"Hatchback\", \"Hatchback\", \"Saloon\", \"Saloon\", \"Saloon\", \"Saloon\", \"Saloon\", \"Saloon\", \"Hatchback\", \"SUV / 4x4\", \"Saloon\", \"Saloon\", \"SUV / 4x4\", \"SUV / 4x4\", \"Hatchback\", null, \"Saloon\", \"SUV / 4x4\", \"Saloon\", \"Saloon\", \"Saloon\", \"Saloon\", \"Saloon\", \"Saloon\", \"Saloon\", \"Saloon\", \"SUV / 4x4\", \"Saloon\", \"SUV / 4x4\", \"SUV / 4x4\", null, \"SUV / 4x4\", \"Saloon\", \"Saloon\", \"Saloon\", \"SUV / 4x4\", \"Saloon\", \"Saloon\", \"Saloon\", null, \"SUV / 4x4\", \"Saloon\", \"Saloon\", \"SUV / 4x4\", \"Saloon\", \"Saloon\", \"Saloon\", \"Saloon\", \"Saloon\", \"Saloon\", \"SUV / 4x4\", \"Saloon\", \"SUV / 4x4\", \"Saloon\", \"Saloon\", \"Saloon\", \"Saloon\", null, \"SUV / 4x4\", \"Saloon\", \"Saloon\", \"SUV / 4x4\", \"SUV / 4x4\", \"Saloon\", \"Saloon\", \"Hatchback\", \"SUV / 4x4\", \"SUV / 4x4\", \"Saloon\", \"Saloon\", \"Saloon\", \"SUV / 4x4\", \"SUV / 4x4\", \"Saloon\", \"Saloon\", \"Saloon\", \"Saloon\", \"Saloon\", \"SUV / 4x4\", \"SUV / 4x4\", \"Saloon\", \"Saloon\", \"Saloon\", \"Saloon\", \"Saloon\", \"Saloon\", \"Saloon\", \"SUV / 4x4\", \"Saloon\", \"SUV / 4x4\", \"Saloon\", \"SUV / 4x4\", \"Saloon\", \"Saloon\", \"SUV / 4x4\", \"Saloon\", \"SUV / 4x4\", \"SUV / 4x4\", \"Hatchback\", \"Saloon\", \"Saloon\", \"SUV / 4x4\", \"Saloon\", \"SUV / 4x4\", \"Saloon\", \"Saloon\", \"Saloon\", \"Saloon\", \"Saloon\", \"Saloon\", \"Saloon\", \"Saloon\", \"Saloon\", \"Saloon\", \"Saloon\", \"Hatchback\", \"SUV / 4x4\", \"Saloon\", \"Saloon\", \"Saloon\", \"Saloon\", \"Saloon\", \"SUV / 4x4\", \"Saloon\", \"Saloon\", \"Saloon\", \"Saloon\", \"Saloon\", \"Saloon\", \"SUV / 4x4\", \"Saloon\", \"Saloon\", \"Saloon\", \"Saloon\", \"SUV / 4x4\", \"SUV / 4x4\", \"Saloon\", \"Saloon\", \"Saloon\", \"Saloon\", \"Saloon\", \"Saloon\", \"Saloon\", null, \"Coup\\u00e9/Sports\", \"SUV / 4x4\", \"Saloon\", \"Saloon\", \"SUV / 4x4\", \"Saloon\", \"Saloon\", \"SUV / 4x4\", \"Saloon\", \"SUV / 4x4\", \"SUV / 4x4\", \"Hatchback\", \"Saloon\", \"Saloon\", \"SUV / 4x4\", \"Saloon\", \"Saloon\", \"SUV / 4x4\", \"SUV / 4x4\", \"SUV / 4x4\", \"Saloon\", \"Saloon\", \"Saloon\", \"Saloon\", \"Hatchback\", \"Saloon\", \"SUV / 4x4\", \"Saloon\", \"Saloon\", \"SUV / 4x4\", null, \"SUV / 4x4\", \"Saloon\", \"SUV / 4x4\", \"Saloon\", \"Saloon\", \"Saloon\", \"Saloon\", null, \"SUV / 4x4\", \"Saloon\", \"Saloon\", \"SUV / 4x4\", \"Convertible\", \"Saloon\", \"Saloon\", \"Saloon\", \"Saloon\", \"Saloon\", \"Saloon\", \"Saloon\", \"Saloon\", \"Saloon\", \"Saloon\", \"Saloon\", \"Saloon\", \"Saloon\", \"SUV / 4x4\", \"Saloon\", \"Saloon\", \"Saloon\", \"Saloon\", \"Saloon\", \"SUV / 4x4\", \"Saloon\", \"Saloon\", \"SUV / 4x4\", \"SUV / 4x4\", \"Saloon\", \"Hatchback\", null, \"Hatchback\", \"SUV / 4x4\", \"Saloon\", \"Saloon\", \"Saloon\", \"Hatchback\", \"Saloon\", \"Saloon\", \"Saloon\", \"Saloon\", \"Saloon\", \"Saloon\", \"Hatchback\", \"Saloon\", \"Saloon\", \"Saloon\", \"SUV / 4x4\", \"Saloon\", \"Saloon\", \"Saloon\", \"SUV / 4x4\", \"SUV / 4x4\", \"SUV / 4x4\", \"Saloon\", \"Saloon\", \"Saloon\", \"Saloon\", \"SUV / 4x4\", \"Saloon\", \"Saloon\", \"Saloon\", \"Saloon\", \"Saloon\", \"SUV / 4x4\", \"Saloon\", null, \"Saloon\", \"Saloon\", \"Saloon\", \"Saloon\", \"Saloon\", \"Saloon\", \"SUV / 4x4\", \"Saloon\", \"SUV / 4x4\", \"SUV / 4x4\", \"Saloon\", \"Saloon\", \"Saloon\", \"SUV / 4x4\", \"SUV / 4x4\", \"Estate\", \"Saloon\", \"Saloon\", \"Saloon\", \"Saloon\", \"Saloon\", \"Saloon\", \"Saloon\", \"Saloon\", \"Saloon\", \"Saloon\", \"Saloon\", \"SUV / 4x4\", \"Saloon\", \"Saloon\", \"SUV / 4x4\", \"Saloon\", \"Saloon\", \"Saloon\", \"Saloon\", \"SUV / 4x4\", \"SUV / 4x4\", \"Saloon\", \"Hatchback\", \"SUV / 4x4\", \"SUV / 4x4\", \"Saloon\", \"Saloon\", \"SUV / 4x4\", \"SUV / 4x4\", \"Saloon\", \"Saloon\", \"SUV / 4x4\", \"Saloon\", \"Saloon\", \"Saloon\", \"Saloon\", \"Saloon\", \"Saloon\", \"Saloon\", \"Saloon\", \"SUV / 4x4\", \"Saloon\", \"Saloon\", \"SUV / 4x4\", \"SUV / 4x4\", \"Saloon\", \"Saloon\", \"SUV / 4x4\"], \"x0\": \" \", \"xaxis\": \"x\", \"y\": [42500, 42000, 48000, 60000, 44000, 68500, 58000, 42500, 48000, 69500, 45000, 55500, 70000, 44000, 65000, 58000, 56000, 55500, 60000, 48000, 76000, 43500, 75000, 53000, 56000, 72000, 52500, 45000, 42000, 60000, 55000, 46000, 53000, 56500, 62000, 70000, 55500, 51000, 44000, 52000, 48100, 43000, 47200, 45000, 47000, 45000, 60000, 65000, 42000, 58000, 74000, 43500, 49900, 65777, 72000, 55000, 70000, 62000, 59800, 49000, 78000, 55000, 74000, 49500, 41777, 47777, 50000, 75000, 65000, 50555, 42000, 78500, 46000, 50555, 48950, 55000, 60000, 62000, 55000, 45500, 47000, 43000, 46500, 50000, 64000, 78000, 47000, 40999, 50500, 79500, 49500, 58500, 51000, 65500, 62000, 45000, 65000, 45000, 77000, 45000, 78000, 48500, 62000, 54500, 68000, 68000, 46500, 65000, 78000, 55000, 58500, 41000, 40500, 77000, 65000, 67000, 48500, 52000, 66600, 65000, 75000, 45000, 42000, 50000, 62000, 46000, 66000, 72000, 76000, 47500, 43500, 78000, 68000, 40500, 58500, 41900, 48000, 60000, 75000, 45000, 65000, 43500, 70000, 58500, 63000, 63800, 48500, 45000, 42000, 45000, 50000, 45000, 58000, 79000, 45000, 50000, 67000, 46000, 59900, 42000, 43000, 45000, 50000, 48000, 78000, 43000, 55000, 60000, 64000, 62900, 49000, 63000, 62000, 42500, 62000, 48500, 48500, 43500, 69000, 48500, 58000, 57500, 56500, 43000, 55000, 60000, 55000, 77000, 58000, 55000, 45500, 52000, 56500, 68000, 48000, 70000, 42000, 40500, 78000, 57000, 52000, 68000, 42000, 42000, 56000, 45000, 59500, 75000, 75500, 63000, 56000, 59500, 41000, 63000, 42500, 43000, 75000, 56000, 63000, 58000, 63000, 55000, 47000, 54000, 46000, 68500, 49000, 78000, 57000, 75000, 60500, 45500, 75000, 65000, 57500, 43500, 55000, 42000, 70000, 44500, 54500, 63000, 65700, 44500, 78000, 78000, 45500, 55200, 71588, 72000, 65000, 73000, 49500, 63000, 78500, 57500, 46000, 48500, 48000, 50500, 46500, 74500, 53000, 49000, 53000, 60000, 62000, 42000, 46000, 50000, 70000, 42400, 58000, 61000, 75000, 42500, 67000, 43000, 75000, 77000, 65000, 60000, 78000, 48500, 65000, 42000, 42500, 53000, 51000, 47500, 63500, 65500, 58000, 68000, 56500, 52500, 60000, 65000, 65000, 77000, 46000, 42800, 45000, 65000, 55000, 67000, 44000, 48000, 65000, 43000, 57888, 52000, 49000, 67000, 57000, 57000, 75000, 79000, 45000, 49500, 46500, 49500, 49000, 60000, 43000, 69500, 43000, 55000, 79000, 60000, 71000, 40700, 68500], \"y0\": \" \", \"yaxis\": \"y\"}],\n",
       "                        {\"boxmode\": \"group\", \"legend\": {\"tracegroupgap\": 0}, \"template\": {\"data\": {\"bar\": [{\"error_x\": {\"color\": \"#2a3f5f\"}, \"error_y\": {\"color\": \"#2a3f5f\"}, \"marker\": {\"line\": {\"color\": \"#E5ECF6\", \"width\": 0.5}}, \"type\": \"bar\"}], \"barpolar\": [{\"marker\": {\"line\": {\"color\": \"#E5ECF6\", \"width\": 0.5}}, \"type\": \"barpolar\"}], \"carpet\": [{\"aaxis\": {\"endlinecolor\": \"#2a3f5f\", \"gridcolor\": \"white\", \"linecolor\": \"white\", \"minorgridcolor\": \"white\", \"startlinecolor\": \"#2a3f5f\"}, \"baxis\": {\"endlinecolor\": \"#2a3f5f\", \"gridcolor\": \"white\", \"linecolor\": \"white\", \"minorgridcolor\": \"white\", \"startlinecolor\": \"#2a3f5f\"}, \"type\": \"carpet\"}], \"choropleth\": [{\"colorbar\": {\"outlinewidth\": 0, \"ticks\": \"\"}, \"type\": \"choropleth\"}], \"contour\": [{\"colorbar\": {\"outlinewidth\": 0, \"ticks\": \"\"}, \"colorscale\": [[0.0, \"#0d0887\"], [0.1111111111111111, \"#46039f\"], [0.2222222222222222, \"#7201a8\"], [0.3333333333333333, \"#9c179e\"], [0.4444444444444444, \"#bd3786\"], [0.5555555555555556, \"#d8576b\"], [0.6666666666666666, \"#ed7953\"], [0.7777777777777778, \"#fb9f3a\"], [0.8888888888888888, \"#fdca26\"], [1.0, \"#f0f921\"]], \"type\": \"contour\"}], \"contourcarpet\": [{\"colorbar\": {\"outlinewidth\": 0, \"ticks\": \"\"}, \"type\": \"contourcarpet\"}], \"heatmap\": [{\"colorbar\": {\"outlinewidth\": 0, \"ticks\": \"\"}, \"colorscale\": [[0.0, \"#0d0887\"], [0.1111111111111111, \"#46039f\"], [0.2222222222222222, \"#7201a8\"], [0.3333333333333333, \"#9c179e\"], [0.4444444444444444, \"#bd3786\"], [0.5555555555555556, \"#d8576b\"], [0.6666666666666666, \"#ed7953\"], [0.7777777777777778, \"#fb9f3a\"], [0.8888888888888888, \"#fdca26\"], [1.0, \"#f0f921\"]], \"type\": \"heatmap\"}], \"heatmapgl\": [{\"colorbar\": {\"outlinewidth\": 0, \"ticks\": \"\"}, \"colorscale\": [[0.0, \"#0d0887\"], [0.1111111111111111, \"#46039f\"], [0.2222222222222222, \"#7201a8\"], [0.3333333333333333, \"#9c179e\"], [0.4444444444444444, \"#bd3786\"], [0.5555555555555556, \"#d8576b\"], [0.6666666666666666, \"#ed7953\"], [0.7777777777777778, \"#fb9f3a\"], [0.8888888888888888, \"#fdca26\"], [1.0, \"#f0f921\"]], \"type\": \"heatmapgl\"}], \"histogram\": [{\"marker\": {\"colorbar\": {\"outlinewidth\": 0, \"ticks\": \"\"}}, \"type\": \"histogram\"}], \"histogram2d\": [{\"colorbar\": {\"outlinewidth\": 0, \"ticks\": \"\"}, \"colorscale\": [[0.0, \"#0d0887\"], [0.1111111111111111, \"#46039f\"], [0.2222222222222222, \"#7201a8\"], [0.3333333333333333, \"#9c179e\"], [0.4444444444444444, \"#bd3786\"], [0.5555555555555556, \"#d8576b\"], [0.6666666666666666, \"#ed7953\"], [0.7777777777777778, \"#fb9f3a\"], [0.8888888888888888, \"#fdca26\"], [1.0, \"#f0f921\"]], \"type\": \"histogram2d\"}], \"histogram2dcontour\": [{\"colorbar\": {\"outlinewidth\": 0, \"ticks\": \"\"}, \"colorscale\": [[0.0, \"#0d0887\"], [0.1111111111111111, \"#46039f\"], [0.2222222222222222, \"#7201a8\"], [0.3333333333333333, \"#9c179e\"], [0.4444444444444444, \"#bd3786\"], [0.5555555555555556, \"#d8576b\"], [0.6666666666666666, \"#ed7953\"], [0.7777777777777778, \"#fb9f3a\"], [0.8888888888888888, \"#fdca26\"], [1.0, \"#f0f921\"]], \"type\": \"histogram2dcontour\"}], \"mesh3d\": [{\"colorbar\": {\"outlinewidth\": 0, \"ticks\": \"\"}, \"type\": \"mesh3d\"}], \"parcoords\": [{\"line\": {\"colorbar\": {\"outlinewidth\": 0, \"ticks\": \"\"}}, \"type\": \"parcoords\"}], \"pie\": [{\"automargin\": true, \"type\": \"pie\"}], \"scatter\": [{\"marker\": {\"colorbar\": {\"outlinewidth\": 0, \"ticks\": \"\"}}, \"type\": \"scatter\"}], \"scatter3d\": [{\"line\": {\"colorbar\": {\"outlinewidth\": 0, \"ticks\": \"\"}}, \"marker\": {\"colorbar\": {\"outlinewidth\": 0, \"ticks\": \"\"}}, \"type\": \"scatter3d\"}], \"scattercarpet\": [{\"marker\": {\"colorbar\": {\"outlinewidth\": 0, \"ticks\": \"\"}}, \"type\": \"scattercarpet\"}], \"scattergeo\": [{\"marker\": {\"colorbar\": {\"outlinewidth\": 0, \"ticks\": \"\"}}, \"type\": \"scattergeo\"}], \"scattergl\": [{\"marker\": {\"colorbar\": {\"outlinewidth\": 0, \"ticks\": \"\"}}, \"type\": \"scattergl\"}], \"scattermapbox\": [{\"marker\": {\"colorbar\": {\"outlinewidth\": 0, \"ticks\": \"\"}}, \"type\": \"scattermapbox\"}], \"scatterpolar\": [{\"marker\": {\"colorbar\": {\"outlinewidth\": 0, \"ticks\": \"\"}}, \"type\": \"scatterpolar\"}], \"scatterpolargl\": [{\"marker\": {\"colorbar\": {\"outlinewidth\": 0, \"ticks\": \"\"}}, \"type\": \"scatterpolargl\"}], \"scatterternary\": [{\"marker\": {\"colorbar\": {\"outlinewidth\": 0, \"ticks\": \"\"}}, \"type\": \"scatterternary\"}], \"surface\": [{\"colorbar\": {\"outlinewidth\": 0, \"ticks\": \"\"}, \"colorscale\": [[0.0, \"#0d0887\"], [0.1111111111111111, \"#46039f\"], [0.2222222222222222, \"#7201a8\"], [0.3333333333333333, \"#9c179e\"], [0.4444444444444444, \"#bd3786\"], [0.5555555555555556, \"#d8576b\"], [0.6666666666666666, \"#ed7953\"], [0.7777777777777778, \"#fb9f3a\"], [0.8888888888888888, \"#fdca26\"], [1.0, \"#f0f921\"]], \"type\": \"surface\"}], \"table\": [{\"cells\": {\"fill\": {\"color\": \"#EBF0F8\"}, \"line\": {\"color\": \"white\"}}, \"header\": {\"fill\": {\"color\": \"#C8D4E3\"}, \"line\": {\"color\": \"white\"}}, \"type\": \"table\"}]}, \"layout\": {\"annotationdefaults\": {\"arrowcolor\": \"#2a3f5f\", \"arrowhead\": 0, \"arrowwidth\": 1}, \"coloraxis\": {\"colorbar\": {\"outlinewidth\": 0, \"ticks\": \"\"}}, \"colorscale\": {\"diverging\": [[0, \"#8e0152\"], [0.1, \"#c51b7d\"], [0.2, \"#de77ae\"], [0.3, \"#f1b6da\"], [0.4, \"#fde0ef\"], [0.5, \"#f7f7f7\"], [0.6, \"#e6f5d0\"], [0.7, \"#b8e186\"], [0.8, \"#7fbc41\"], [0.9, \"#4d9221\"], [1, \"#276419\"]], \"sequential\": [[0.0, \"#0d0887\"], [0.1111111111111111, \"#46039f\"], [0.2222222222222222, \"#7201a8\"], [0.3333333333333333, \"#9c179e\"], [0.4444444444444444, \"#bd3786\"], [0.5555555555555556, \"#d8576b\"], [0.6666666666666666, \"#ed7953\"], [0.7777777777777778, \"#fb9f3a\"], [0.8888888888888888, \"#fdca26\"], [1.0, \"#f0f921\"]], \"sequentialminus\": [[0.0, \"#0d0887\"], [0.1111111111111111, \"#46039f\"], [0.2222222222222222, \"#7201a8\"], [0.3333333333333333, \"#9c179e\"], [0.4444444444444444, \"#bd3786\"], [0.5555555555555556, \"#d8576b\"], [0.6666666666666666, \"#ed7953\"], [0.7777777777777778, \"#fb9f3a\"], [0.8888888888888888, \"#fdca26\"], [1.0, \"#f0f921\"]]}, \"colorway\": [\"#636efa\", \"#EF553B\", \"#00cc96\", \"#ab63fa\", \"#FFA15A\", \"#19d3f3\", \"#FF6692\", \"#B6E880\", \"#FF97FF\", \"#FECB52\"], \"font\": {\"color\": \"#2a3f5f\"}, \"geo\": {\"bgcolor\": \"white\", \"lakecolor\": \"white\", \"landcolor\": \"#E5ECF6\", \"showlakes\": true, \"showland\": true, \"subunitcolor\": \"white\"}, \"hoverlabel\": {\"align\": \"left\"}, \"hovermode\": \"closest\", \"mapbox\": {\"style\": \"light\"}, \"paper_bgcolor\": \"white\", \"plot_bgcolor\": \"#E5ECF6\", \"polar\": {\"angularaxis\": {\"gridcolor\": \"white\", \"linecolor\": \"white\", \"ticks\": \"\"}, \"bgcolor\": \"#E5ECF6\", \"radialaxis\": {\"gridcolor\": \"white\", \"linecolor\": \"white\", \"ticks\": \"\"}}, \"scene\": {\"xaxis\": {\"backgroundcolor\": \"#E5ECF6\", \"gridcolor\": \"white\", \"gridwidth\": 2, \"linecolor\": \"white\", \"showbackground\": true, \"ticks\": \"\", \"zerolinecolor\": \"white\"}, \"yaxis\": {\"backgroundcolor\": \"#E5ECF6\", \"gridcolor\": \"white\", \"gridwidth\": 2, \"linecolor\": \"white\", \"showbackground\": true, \"ticks\": \"\", \"zerolinecolor\": \"white\"}, \"zaxis\": {\"backgroundcolor\": \"#E5ECF6\", \"gridcolor\": \"white\", \"gridwidth\": 2, \"linecolor\": \"white\", \"showbackground\": true, \"ticks\": \"\", \"zerolinecolor\": \"white\"}}, \"shapedefaults\": {\"line\": {\"color\": \"#2a3f5f\"}}, \"ternary\": {\"aaxis\": {\"gridcolor\": \"white\", \"linecolor\": \"white\", \"ticks\": \"\"}, \"baxis\": {\"gridcolor\": \"white\", \"linecolor\": \"white\", \"ticks\": \"\"}, \"bgcolor\": \"#E5ECF6\", \"caxis\": {\"gridcolor\": \"white\", \"linecolor\": \"white\", \"ticks\": \"\"}}, \"title\": {\"x\": 0.05}, \"xaxis\": {\"automargin\": true, \"gridcolor\": \"white\", \"linecolor\": \"white\", \"ticks\": \"\", \"title\": {\"standoff\": 15}, \"zerolinecolor\": \"white\", \"zerolinewidth\": 2}, \"yaxis\": {\"automargin\": true, \"gridcolor\": \"white\", \"linecolor\": \"white\", \"ticks\": \"\", \"title\": {\"standoff\": 15}, \"zerolinecolor\": \"white\", \"zerolinewidth\": 2}}}, \"title\": {\"text\": \"Relationship between each brand and price\"}, \"xaxis\": {\"anchor\": \"y\", \"domain\": [0.0, 1.0], \"title\": {\"text\": \"Body type\"}}, \"yaxis\": {\"anchor\": \"x\", \"domain\": [0.0, 1.0], \"title\": {\"text\": \"Price(GH\\u00a2)\"}}},\n",
       "                        {\"responsive\": true}\n",
       "                    ).then(function(){\n",
       "                            \n",
       "var gd = document.getElementById('553452df-9dea-43e2-a3ea-7ea2bc3ad02e');\n",
       "var x = new MutationObserver(function (mutations, observer) {{\n",
       "        var display = window.getComputedStyle(gd).display;\n",
       "        if (!display || display === 'none') {{\n",
       "            console.log([gd, 'removed!']);\n",
       "            Plotly.purge(gd);\n",
       "            observer.disconnect();\n",
       "        }}\n",
       "}});\n",
       "\n",
       "// Listen for the removal of the full notebook cells\n",
       "var notebookContainer = gd.closest('#notebook-container');\n",
       "if (notebookContainer) {{\n",
       "    x.observe(notebookContainer, {childList: true});\n",
       "}}\n",
       "\n",
       "// Listen for the clearing of the current output cell\n",
       "var outputEl = gd.closest('.output');\n",
       "if (outputEl) {{\n",
       "    x.observe(outputEl, {childList: true});\n",
       "}}\n",
       "\n",
       "                        })\n",
       "                };\n",
       "                });\n",
       "            </script>\n",
       "        </div>"
      ]
     },
     "metadata": {},
     "output_type": "display_data"
    }
   ],
   "source": [
    "fig = px.box(filtered, x=\"Body type\", y=\"Price(GH¢)\", title='Relationship between each brand and price')\n",
    "fig.show()"
   ]
  },
  {
   "cell_type": "markdown",
   "metadata": {},
   "source": [
    "### Fuel type vs Price"
   ]
  },
  {
   "cell_type": "code",
   "execution_count": 62,
   "metadata": {},
   "outputs": [
    {
     "data": {
      "text/plain": [
       "(array([0, 1, 2]), <a list of 3 Text xticklabel objects>)"
      ]
     },
     "execution_count": 62,
     "metadata": {},
     "output_type": "execute_result"
    },
    {
     "data": {
      "image/png": "[encoded data removed]",
      "text/plain": [
       "<Figure size 936x576 with 1 Axes>"
      ]
     },
     "metadata": {},
     "output_type": "display_data"
    }
   ],
   "source": [
    "body_price = filtered.groupby('Fuel type').mean()['Price(GH¢)'].to_frame().reset_index().sort_values('Price(GH¢)', ascending=False)\n",
    "\n",
    "fig, ax = plt.subplots(figsize=(13, 8))\n",
    "sns.barplot(body_price['Fuel type'], body_price['Price(GH¢)'])\n",
    "plt.title(\"Average price per fuel type\")\n",
    "\n",
    "plt.xticks(rotation=45)"
   ]
  },
  {
   "cell_type": "code",
   "execution_count": 63,
   "metadata": {},
   "outputs": [
    {
     "data": {
      "application/vnd.plotly.v1+json": {
       "config": {
        "plotlyServerURL": "https://plot.ly"
       },
       "data": [
        {
         "alignmentgroup": "True",
         "hovertemplate": "Fuel type=%{x}<br>Price(GH¢)=%{y}<extra></extra>",
         "legendgroup": "",
         "marker": {
          "color": "#636efa"
         },
         "name": "",
         "notched": false,
         "offsetgroup": "",
         "orientation": "v",
         "showlegend": false,
         "type": "box",
         "x": [
          "Petrol",
          "Petrol",
          "Diesel",
          "Diesel",
          "Petrol",
          "Petrol",
          "Petrol",
          "Petrol",
          "Petrol",
          "Petrol",
          "Petrol",
          "Petrol",
          "Petrol",
          "Petrol",
          "Petrol",
          "Petrol",
          "Petrol",
          "Petrol",
          "Petrol",
          "Petrol",
          "Petrol",
          "Petrol",
          "Other",
          "Petrol",
          "Petrol",
          "Petrol",
          "Petrol",
          "Petrol",
          "Petrol",
          "Petrol",
          "Petrol",
          "Petrol",
          "Petrol",
          "Petrol",
          "Petrol",
          "Petrol",
          "Petrol",
          "Petrol",
          "Petrol",
          "Petrol",
          "Petrol",
          "Petrol",
          "Petrol",
          "Petrol",
          "Petrol",
          "Petrol",
          "Petrol",
          "Petrol",
          "Petrol",
          "Petrol",
          "Petrol",
          "Petrol",
          "Petrol",
          "Petrol",
          "Petrol",
          "Petrol",
          "Petrol",
          "Petrol",
          "Petrol",
          "Petrol",
          "Petrol",
          "Diesel",
          "Petrol",
          "Petrol",
          "Petrol",
          "Petrol",
          "Petrol",
          "Petrol",
          "Petrol",
          "Petrol",
          "Petrol",
          "Petrol",
          "Petrol",
          "Petrol",
          "Petrol",
          "Petrol",
          "Petrol",
          "Petrol",
          "Petrol",
          "Petrol",
          "Petrol",
          "Petrol",
          "Petrol",
          "Petrol",
          "Petrol",
          "Diesel",
          "Petrol",
          "Petrol",
          "Petrol",
          "Petrol",
          "Petrol",
          "Petrol",
          "Petrol",
          "Petrol",
          "Petrol",
          "Petrol",
          "Petrol",
          "Petrol",
          "Petrol",
          "Petrol",
          "Petrol",
          "Petrol",
          "Petrol",
          "Petrol",
          "Petrol",
          "Petrol",
          "Petrol",
          "Petrol",
          "Petrol",
          "Petrol",
          "Petrol",
          "Petrol",
          "Petrol",
          "Petrol",
          "Petrol",
          "Petrol",
          "Petrol",
          "Petrol",
          "Petrol",
          "Petrol",
          "Petrol",
          "Petrol",
          "Petrol",
          "Petrol",
          "Petrol",
          "Petrol",
          "Petrol",
          "Petrol",
          "Petrol",
          "Petrol",
          "Petrol",
          "Petrol",
          "Petrol",
          "Petrol",
          "Petrol",
          "Petrol",
          "Petrol",
          "Petrol",
          "Petrol",
          "Petrol",
          "Petrol",
          "Petrol",
          "Petrol",
          "Petrol",
          "Petrol",
          "Petrol",
          "Petrol",
          "Petrol",
          "Petrol",
          "Petrol",
          "Petrol",
          "Petrol",
          "Petrol",
          "Petrol",
          "Petrol",
          "Petrol",
          "Petrol",
          "Petrol",
          "Petrol",
          "Petrol",
          "Petrol",
          "Petrol",
          "Petrol",
          "Petrol",
          "Petrol",
          "Petrol",
          "Petrol",
          "Petrol",
          "Petrol",
          "Petrol",
          "Petrol",
          "Petrol",
          "Petrol",
          "Petrol",
          "Petrol",
          "Petrol",
          "Petrol",
          "Petrol",
          "Other",
          "Other",
          "Petrol",
          "Diesel",
          "Petrol",
          "Petrol",
          "Petrol",
          "Petrol",
          "Petrol",
          "Petrol",
          "Petrol",
          "Petrol",
          "Petrol",
          "Petrol",
          "Petrol",
          "Petrol",
          "Petrol",
          "Petrol",
          "Petrol",
          "Petrol",
          "Petrol",
          "Petrol",
          "Petrol",
          "Petrol",
          "Petrol",
          "Petrol",
          "Petrol",
          "Petrol",
          "Petrol",
          "Petrol",
          "Petrol",
          "Petrol",
          "Petrol",
          "Petrol",
          "Petrol",
          "Petrol",
          "Petrol",
          "Petrol",
          "Petrol",
          "Petrol",
          "Petrol",
          "Petrol",
          "Petrol",
          "Petrol",
          "Petrol",
          "Petrol",
          "Petrol",
          "Petrol",
          "Petrol",
          "Petrol",
          "Petrol",
          "Diesel",
          "Petrol",
          "Petrol",
          "Petrol",
          "Petrol",
          "Petrol",
          "Petrol",
          "Petrol",
          "Petrol",
          "Petrol",
          "Petrol",
          "Petrol",
          "Petrol",
          "Petrol",
          "Petrol",
          "Petrol",
          "Petrol",
          "Petrol",
          "Petrol",
          "Petrol",
          "Petrol",
          "Petrol",
          "Petrol",
          "Petrol",
          "Petrol",
          "Petrol",
          "Petrol",
          "Petrol",
          "Petrol",
          "Petrol",
          "Petrol",
          "Petrol",
          "Petrol",
          "Petrol",
          "Petrol",
          "Petrol",
          "Petrol",
          "Petrol",
          "Petrol",
          "Petrol",
          "Petrol",
          "Petrol",
          "Petrol",
          "Petrol",
          "Petrol",
          "Petrol",
          "Petrol",
          "Petrol",
          "Petrol",
          "Petrol",
          "Petrol",
          "Petrol",
          "Petrol",
          "Petrol",
          "Petrol",
          "Petrol",
          "Petrol",
          "Petrol",
          "Petrol",
          "Petrol",
          "Petrol",
          "Petrol",
          "Petrol",
          "Petrol",
          "Petrol",
          "Petrol",
          "Petrol",
          "Diesel",
          "Petrol",
          "Petrol",
          "Petrol",
          "Petrol",
          "Petrol",
          "Petrol",
          "Petrol",
          "Other",
          "Petrol",
          "Petrol",
          "Petrol",
          "Petrol",
          "Petrol",
          "Petrol",
          "Petrol",
          "Petrol",
          "Petrol",
          "Petrol",
          "Petrol",
          "Petrol",
          "Petrol",
          "Petrol",
          "Petrol",
          "Petrol",
          "Petrol",
          "Petrol",
          "Petrol",
          "Petrol",
          "Petrol",
          "Petrol",
          "Petrol",
          "Petrol",
          "Petrol",
          "Petrol",
          "Petrol",
          "Petrol"
         ],
         "x0": " ",
         "xaxis": "x",
         "y": [
          42500,
          42000,
          48000,
          60000,
          44000,
          68500,
          58000,
          42500,
          48000,
          69500,
          45000,
          55500,
          70000,
          44000,
          65000,
          58000,
          56000,
          55500,
          60000,
          48000,
          76000,
          43500,
          75000,
          53000,
          56000,
          72000,
          52500,
          45000,
          42000,
          60000,
          55000,
          46000,
          53000,
          56500,
          62000,
          70000,
          55500,
          51000,
          44000,
          52000,
          48100,
          43000,
          47200,
          45000,
          47000,
          45000,
          60000,
          65000,
          42000,
          58000,
          74000,
          43500,
          49900,
          65777,
          72000,
          55000,
          70000,
          62000,
          59800,
          49000,
          78000,
          55000,
          74000,
          49500,
          41777,
          47777,
          50000,
          75000,
          65000,
          50555,
          42000,
          78500,
          46000,
          50555,
          48950,
          55000,
          60000,
          62000,
          55000,
          45500,
          47000,
          43000,
          46500,
          50000,
          64000,
          78000,
          47000,
          40999,
          50500,
          79500,
          49500,
          58500,
          51000,
          65500,
          62000,
          45000,
          65000,
          45000,
          77000,
          45000,
          78000,
          48500,
          62000,
          54500,
          68000,
          68000,
          46500,
          65000,
          78000,
          55000,
          58500,
          41000,
          40500,
          77000,
          65000,
          67000,
          48500,
          52000,
          66600,
          65000,
          75000,
          45000,
          42000,
          50000,
          62000,
          46000,
          66000,
          72000,
          76000,
          47500,
          43500,
          78000,
          68000,
          40500,
          58500,
          41900,
          48000,
          60000,
          75000,
          45000,
          65000,
          43500,
          70000,
          58500,
          63000,
          63800,
          48500,
          45000,
          42000,
          45000,
          50000,
          45000,
          58000,
          79000,
          45000,
          50000,
          67000,
          46000,
          59900,
          42000,
          43000,
          45000,
          50000,
          48000,
          78000,
          43000,
          55000,
          60000,
          64000,
          62900,
          49000,
          63000,
          62000,
          42500,
          62000,
          48500,
          48500,
          43500,
          69000,
          48500,
          58000,
          57500,
          56500,
          43000,
          55000,
          60000,
          55000,
          77000,
          58000,
          55000,
          45500,
          52000,
          56500,
          68000,
          48000,
          70000,
          42000,
          40500,
          78000,
          57000,
          52000,
          68000,
          42000,
          42000,
          56000,
          45000,
          59500,
          75000,
          75500,
          63000,
          56000,
          59500,
          41000,
          63000,
          42500,
          43000,
          75000,
          56000,
          63000,
          58000,
          63000,
          55000,
          47000,
          54000,
          46000,
          68500,
          49000,
          78000,
          57000,
          75000,
          60500,
          45500,
          75000,
          65000,
          57500,
          43500,
          55000,
          42000,
          70000,
          44500,
          54500,
          63000,
          65700,
          44500,
          78000,
          78000,
          45500,
          55200,
          71588,
          72000,
          65000,
          73000,
          49500,
          63000,
          78500,
          57500,
          46000,
          48500,
          48000,
          50500,
          46500,
          74500,
          53000,
          49000,
          53000,
          60000,
          62000,
          42000,
          46000,
          50000,
          70000,
          42400,
          58000,
          61000,
          75000,
          42500,
          67000,
          43000,
          75000,
          77000,
          65000,
          60000,
          78000,
          48500,
          65000,
          42000,
          42500,
          53000,
          51000,
          47500,
          63500,
          65500,
          58000,
          68000,
          56500,
          52500,
          60000,
          65000,
          65000,
          77000,
          46000,
          42800,
          45000,
          65000,
          55000,
          67000,
          44000,
          48000,
          65000,
          43000,
          57888,
          52000,
          49000,
          67000,
          57000,
          57000,
          75000,
          79000,
          45000,
          49500,
          46500,
          49500,
          49000,
          60000,
          43000,
          69500,
          43000,
          55000,
          79000,
          60000,
          71000,
          40700,
          68500
         ],
         "y0": " ",
         "yaxis": "y"
        }
       ],
       "layout": {
        "boxmode": "group",
        "legend": {
         "tracegroupgap": 0
        },
        "template": {
         "data": {
          "bar": [
           {
            "error_x": {
             "color": "#2a3f5f"
            },
            "error_y": {
             "color": "#2a3f5f"
            },
            "marker": {
             "line": {
              "color": "#E5ECF6",
              "width": 0.5
             }
            },
            "type": "bar"
           }
          ],
          "barpolar": [
           {
            "marker": {
             "line": {
              "color": "#E5ECF6",
              "width": 0.5
             }
            },
            "type": "barpolar"
           }
          ],
          "carpet": [
           {
            "aaxis": {
             "endlinecolor": "#2a3f5f",
             "gridcolor": "white",
             "linecolor": "white",
             "minorgridcolor": "white",
             "startlinecolor": "#2a3f5f"
            },
            "baxis": {
             "endlinecolor": "#2a3f5f",
             "gridcolor": "white",
             "linecolor": "white",
             "minorgridcolor": "white",
             "startlinecolor": "#2a3f5f"
            },
            "type": "carpet"
           }
          ],
          "choropleth": [
           {
            "colorbar": {
             "outlinewidth": 0,
             "ticks": ""
            },
            "type": "choropleth"
           }
          ],
          "contour": [
           {
            "colorbar": {
             "outlinewidth": 0,
             "ticks": ""
            },
            "colorscale": [
             [
              0,
              "#0d0887"
             ],
             [
              0.1111111111111111,
              "#46039f"
             ],
             [
              0.2222222222222222,
              "#7201a8"
             ],
             [
              0.3333333333333333,
              "#9c179e"
             ],
             [
              0.4444444444444444,
              "#bd3786"
             ],
             [
              0.5555555555555556,
              "#d8576b"
             ],
             [
              0.6666666666666666,
              "#ed7953"
             ],
             [
              0.7777777777777778,
              "#fb9f3a"
             ],
             [
              0.8888888888888888,
              "#fdca26"
             ],
             [
              1,
              "#f0f921"
             ]
            ],
            "type": "contour"
           }
          ],
          "contourcarpet": [
           {
            "colorbar": {
             "outlinewidth": 0,
             "ticks": ""
            },
            "type": "contourcarpet"
           }
          ],
          "heatmap": [
           {
            "colorbar": {
             "outlinewidth": 0,
             "ticks": ""
            },
            "colorscale": [
             [
              0,
              "#0d0887"
             ],
             [
              0.1111111111111111,
              "#46039f"
             ],
             [
              0.2222222222222222,
              "#7201a8"
             ],
             [
              0.3333333333333333,
              "#9c179e"
             ],
             [
              0.4444444444444444,
              "#bd3786"
             ],
             [
              0.5555555555555556,
              "#d8576b"
             ],
             [
              0.6666666666666666,
              "#ed7953"
             ],
             [
              0.7777777777777778,
              "#fb9f3a"
             ],
             [
              0.8888888888888888,
              "#fdca26"
             ],
             [
              1,
              "#f0f921"
             ]
            ],
            "type": "heatmap"
           }
          ],
          "heatmapgl": [
           {
            "colorbar": {
             "outlinewidth": 0,
             "ticks": ""
            },
            "colorscale": [
             [
              0,
              "#0d0887"
             ],
             [
              0.1111111111111111,
              "#46039f"
             ],
             [
              0.2222222222222222,
              "#7201a8"
             ],
             [
              0.3333333333333333,
              "#9c179e"
             ],
             [
              0.4444444444444444,
              "#bd3786"
             ],
             [
              0.5555555555555556,
              "#d8576b"
             ],
             [
              0.6666666666666666,
              "#ed7953"
             ],
             [
              0.7777777777777778,
              "#fb9f3a"
             ],
             [
              0.8888888888888888,
              "#fdca26"
             ],
             [
              1,
              "#f0f921"
             ]
            ],
            "type": "heatmapgl"
           }
          ],
          "histogram": [
           {
            "marker": {
             "colorbar": {
              "outlinewidth": 0,
              "ticks": ""
             }
            },
            "type": "histogram"
           }
          ],
          "histogram2d": [
           {
            "colorbar": {
             "outlinewidth": 0,
             "ticks": ""
            },
            "colorscale": [
             [
              0,
              "#0d0887"
             ],
             [
              0.1111111111111111,
              "#46039f"
             ],
             [
              0.2222222222222222,
              "#7201a8"
             ],
             [
              0.3333333333333333,
              "#9c179e"
             ],
             [
              0.4444444444444444,
              "#bd3786"
             ],
             [
              0.5555555555555556,
              "#d8576b"
             ],
             [
              0.6666666666666666,
              "#ed7953"
             ],
             [
              0.7777777777777778,
              "#fb9f3a"
             ],
             [
              0.8888888888888888,
              "#fdca26"
             ],
             [
              1,
              "#f0f921"
             ]
            ],
            "type": "histogram2d"
           }
          ],
          "histogram2dcontour": [
           {
            "colorbar": {
             "outlinewidth": 0,
             "ticks": ""
            },
            "colorscale": [
             [
              0,
              "#0d0887"
             ],
             [
              0.1111111111111111,
              "#46039f"
             ],
             [
              0.2222222222222222,
              "#7201a8"
             ],
             [
              0.3333333333333333,
              "#9c179e"
             ],
             [
              0.4444444444444444,
              "#bd3786"
             ],
             [
              0.5555555555555556,
              "#d8576b"
             ],
             [
              0.6666666666666666,
              "#ed7953"
             ],
             [
              0.7777777777777778,
              "#fb9f3a"
             ],
             [
              0.8888888888888888,
              "#fdca26"
             ],
             [
              1,
              "#f0f921"
             ]
            ],
            "type": "histogram2dcontour"
           }
          ],
          "mesh3d": [
           {
            "colorbar": {
             "outlinewidth": 0,
             "ticks": ""
            },
            "type": "mesh3d"
           }
          ],
          "parcoords": [
           {
            "line": {
             "colorbar": {
              "outlinewidth": 0,
              "ticks": ""
             }
            },
            "type": "parcoords"
           }
          ],
          "pie": [
           {
            "automargin": true,
            "type": "pie"
           }
          ],
          "scatter": [
           {
            "marker": {
             "colorbar": {
              "outlinewidth": 0,
              "ticks": ""
             }
            },
            "type": "scatter"
           }
          ],
          "scatter3d": [
           {
            "line": {
             "colorbar": {
              "outlinewidth": 0,
              "ticks": ""
             }
            },
            "marker": {
             "colorbar": {
              "outlinewidth": 0,
              "ticks": ""
             }
            },
            "type": "scatter3d"
           }
          ],
          "scattercarpet": [
           {
            "marker": {
             "colorbar": {
              "outlinewidth": 0,
              "ticks": ""
             }
            },
            "type": "scattercarpet"
           }
          ],
          "scattergeo": [
           {
            "marker": {
             "colorbar": {
              "outlinewidth": 0,
              "ticks": ""
             }
            },
            "type": "scattergeo"
           }
          ],
          "scattergl": [
           {
            "marker": {
             "colorbar": {
              "outlinewidth": 0,
              "ticks": ""
             }
            },
            "type": "scattergl"
           }
          ],
          "scattermapbox": [
           {
            "marker": {
             "colorbar": {
              "outlinewidth": 0,
              "ticks": ""
             }
            },
            "type": "scattermapbox"
           }
          ],
          "scatterpolar": [
           {
            "marker": {
             "colorbar": {
              "outlinewidth": 0,
              "ticks": ""
             }
            },
            "type": "scatterpolar"
           }
          ],
          "scatterpolargl": [
           {
            "marker": {
             "colorbar": {
              "outlinewidth": 0,
              "ticks": ""
             }
            },
            "type": "scatterpolargl"
           }
          ],
          "scatterternary": [
           {
            "marker": {
             "colorbar": {
              "outlinewidth": 0,
              "ticks": ""
             }
            },
            "type": "scatterternary"
           }
          ],
          "surface": [
           {
            "colorbar": {
             "outlinewidth": 0,
             "ticks": ""
            },
            "colorscale": [
             [
              0,
              "#0d0887"
             ],
             [
              0.1111111111111111,
              "#46039f"
             ],
             [
              0.2222222222222222,
              "#7201a8"
             ],
             [
              0.3333333333333333,
              "#9c179e"
             ],
             [
              0.4444444444444444,
              "#bd3786"
             ],
             [
              0.5555555555555556,
              "#d8576b"
             ],
             [
              0.6666666666666666,
              "#ed7953"
             ],
             [
              0.7777777777777778,
              "#fb9f3a"
             ],
             [
              0.8888888888888888,
              "#fdca26"
             ],
             [
              1,
              "#f0f921"
             ]
            ],
            "type": "surface"
           }
          ],
          "table": [
           {
            "cells": {
             "fill": {
              "color": "#EBF0F8"
             },
             "line": {
              "color": "white"
             }
            },
            "header": {
             "fill": {
              "color": "#C8D4E3"
             },
             "line": {
              "color": "white"
             }
            },
            "type": "table"
           }
          ]
         },
         "layout": {
          "annotationdefaults": {
           "arrowcolor": "#2a3f5f",
           "arrowhead": 0,
           "arrowwidth": 1
          },
          "coloraxis": {
           "colorbar": {
            "outlinewidth": 0,
            "ticks": ""
           }
          },
          "colorscale": {
           "diverging": [
            [
             0,
             "#8e0152"
            ],
            [
             0.1,
             "#c51b7d"
            ],
            [
             0.2,
             "#de77ae"
            ],
            [
             0.3,
             "#f1b6da"
            ],
            [
             0.4,
             "#fde0ef"
            ],
            [
             0.5,
             "#f7f7f7"
            ],
            [
             0.6,
             "#e6f5d0"
            ],
            [
             0.7,
             "#b8e186"
            ],
            [
             0.8,
             "#7fbc41"
            ],
            [
             0.9,
             "#4d9221"
            ],
            [
             1,
             "#276419"
            ]
           ],
           "sequential": [
            [
             0,
             "#0d0887"
            ],
            [
             0.1111111111111111,
             "#46039f"
            ],
            [
             0.2222222222222222,
             "#7201a8"
            ],
            [
             0.3333333333333333,
             "#9c179e"
            ],
            [
             0.4444444444444444,
             "#bd3786"
            ],
            [
             0.5555555555555556,
             "#d8576b"
            ],
            [
             0.6666666666666666,
             "#ed7953"
            ],
            [
             0.7777777777777778,
             "#fb9f3a"
            ],
            [
             0.8888888888888888,
             "#fdca26"
            ],
            [
             1,
             "#f0f921"
            ]
           ],
           "sequentialminus": [
            [
             0,
             "#0d0887"
            ],
            [
             0.1111111111111111,
             "#46039f"
            ],
            [
             0.2222222222222222,
             "#7201a8"
            ],
            [
             0.3333333333333333,
             "#9c179e"
            ],
            [
             0.4444444444444444,
             "#bd3786"
            ],
            [
             0.5555555555555556,
             "#d8576b"
            ],
            [
             0.6666666666666666,
             "#ed7953"
            ],
            [
             0.7777777777777778,
             "#fb9f3a"
            ],
            [
             0.8888888888888888,
             "#fdca26"
            ],
            [
             1,
             "#f0f921"
            ]
           ]
          },
          "colorway": [
           "#636efa",
           "#EF553B",
           "#00cc96",
           "#ab63fa",
           "#FFA15A",
           "#19d3f3",
           "#FF6692",
           "#B6E880",
           "#FF97FF",
           "#FECB52"
          ],
          "font": {
           "color": "#2a3f5f"
          },
          "geo": {
           "bgcolor": "white",
           "lakecolor": "white",
           "landcolor": "#E5ECF6",
           "showlakes": true,
           "showland": true,
           "subunitcolor": "white"
          },
          "hoverlabel": {
           "align": "left"
          },
          "hovermode": "closest",
          "mapbox": {
           "style": "light"
          },
          "paper_bgcolor": "white",
          "plot_bgcolor": "#E5ECF6",
          "polar": {
           "angularaxis": {
            "gridcolor": "white",
            "linecolor": "white",
            "ticks": ""
           },
           "bgcolor": "#E5ECF6",
           "radialaxis": {
            "gridcolor": "white",
            "linecolor": "white",
            "ticks": ""
           }
          },
          "scene": {
           "xaxis": {
            "backgroundcolor": "#E5ECF6",
            "gridcolor": "white",
            "gridwidth": 2,
            "linecolor": "white",
            "showbackground": true,
            "ticks": "",
            "zerolinecolor": "white"
           },
           "yaxis": {
            "backgroundcolor": "#E5ECF6",
            "gridcolor": "white",
            "gridwidth": 2,
            "linecolor": "white",
            "showbackground": true,
            "ticks": "",
            "zerolinecolor": "white"
           },
           "zaxis": {
            "backgroundcolor": "#E5ECF6",
            "gridcolor": "white",
            "gridwidth": 2,
            "linecolor": "white",
            "showbackground": true,
            "ticks": "",
            "zerolinecolor": "white"
           }
          },
          "shapedefaults": {
           "line": {
            "color": "#2a3f5f"
           }
          },
          "ternary": {
           "aaxis": {
            "gridcolor": "white",
            "linecolor": "white",
            "ticks": ""
           },
           "baxis": {
            "gridcolor": "white",
            "linecolor": "white",
            "ticks": ""
           },
           "bgcolor": "#E5ECF6",
           "caxis": {
            "gridcolor": "white",
            "linecolor": "white",
            "ticks": ""
           }
          },
          "title": {
           "x": 0.05
          },
          "xaxis": {
           "automargin": true,
           "gridcolor": "white",
           "linecolor": "white",
           "ticks": "",
           "title": {
            "standoff": 15
           },
           "zerolinecolor": "white",
           "zerolinewidth": 2
          },
          "yaxis": {
           "automargin": true,
           "gridcolor": "white",
           "linecolor": "white",
           "ticks": "",
           "title": {
            "standoff": 15
           },
           "zerolinecolor": "white",
           "zerolinewidth": 2
          }
         }
        },
        "title": {
         "text": "Relationship between each fuel type and price"
        },
        "xaxis": {
         "anchor": "y",
         "domain": [
          0,
          1
         ],
         "title": {
          "text": "Fuel type"
         }
        },
        "yaxis": {
         "anchor": "x",
         "domain": [
          0,
          1
         ],
         "title": {
          "text": "Price(GH¢)"
         }
        }
       }
      },
      "text/html": [
       "<div>\n",
       "        \n",
       "        \n",
       "            <div id=\"32a4f532-f891-4b24-854b-1e5f167bb6e3\" class=\"plotly-graph-div\" style=\"height:525px; width:100%;\"></div>\n",
       "            <script type=\"text/javascript\">\n",
       "                require([\"plotly\"], function(Plotly) {\n",
       "                    window.PLOTLYENV=window.PLOTLYENV || {};\n",
       "                    \n",
       "                if (document.getElementById(\"32a4f532-f891-4b24-854b-1e5f167bb6e3\")) {\n",
       "                    Plotly.newPlot(\n",
       "                        '32a4f532-f891-4b24-854b-1e5f167bb6e3',\n",
       "                        [{\"alignmentgroup\": \"True\", \"hovertemplate\": \"Fuel type=%{x}<br>Price(GH\\u00a2)=%{y}<extra></extra>\", \"legendgroup\": \"\", \"marker\": {\"color\": \"#636efa\"}, \"name\": \"\", \"notched\": false, \"offsetgroup\": \"\", \"orientation\": \"v\", \"showlegend\": false, \"type\": \"box\", \"x\": [\"Petrol\", \"Petrol\", \"Diesel\", \"Diesel\", \"Petrol\", \"Petrol\", \"Petrol\", \"Petrol\", \"Petrol\", \"Petrol\", \"Petrol\", \"Petrol\", \"Petrol\", \"Petrol\", \"Petrol\", \"Petrol\", \"Petrol\", \"Petrol\", \"Petrol\", \"Petrol\", \"Petrol\", \"Petrol\", \"Other\", \"Petrol\", \"Petrol\", \"Petrol\", \"Petrol\", \"Petrol\", \"Petrol\", \"Petrol\", \"Petrol\", \"Petrol\", \"Petrol\", \"Petrol\", \"Petrol\", \"Petrol\", \"Petrol\", \"Petrol\", \"Petrol\", \"Petrol\", \"Petrol\", \"Petrol\", \"Petrol\", \"Petrol\", \"Petrol\", \"Petrol\", \"Petrol\", \"Petrol\", \"Petrol\", \"Petrol\", \"Petrol\", \"Petrol\", \"Petrol\", \"Petrol\", \"Petrol\", \"Petrol\", \"Petrol\", \"Petrol\", \"Petrol\", \"Petrol\", \"Petrol\", \"Diesel\", \"Petrol\", \"Petrol\", \"Petrol\", \"Petrol\", \"Petrol\", \"Petrol\", \"Petrol\", \"Petrol\", \"Petrol\", \"Petrol\", \"Petrol\", \"Petrol\", \"Petrol\", \"Petrol\", \"Petrol\", \"Petrol\", \"Petrol\", \"Petrol\", \"Petrol\", \"Petrol\", \"Petrol\", \"Petrol\", \"Petrol\", \"Diesel\", \"Petrol\", \"Petrol\", \"Petrol\", \"Petrol\", \"Petrol\", \"Petrol\", \"Petrol\", \"Petrol\", \"Petrol\", \"Petrol\", \"Petrol\", \"Petrol\", \"Petrol\", \"Petrol\", \"Petrol\", \"Petrol\", \"Petrol\", \"Petrol\", \"Petrol\", \"Petrol\", \"Petrol\", \"Petrol\", \"Petrol\", \"Petrol\", \"Petrol\", \"Petrol\", \"Petrol\", \"Petrol\", \"Petrol\", \"Petrol\", \"Petrol\", \"Petrol\", \"Petrol\", \"Petrol\", \"Petrol\", \"Petrol\", \"Petrol\", \"Petrol\", \"Petrol\", \"Petrol\", \"Petrol\", \"Petrol\", \"Petrol\", \"Petrol\", \"Petrol\", \"Petrol\", \"Petrol\", \"Petrol\", \"Petrol\", \"Petrol\", \"Petrol\", \"Petrol\", \"Petrol\", \"Petrol\", \"Petrol\", \"Petrol\", \"Petrol\", \"Petrol\", \"Petrol\", \"Petrol\", \"Petrol\", \"Petrol\", \"Petrol\", \"Petrol\", \"Petrol\", \"Petrol\", \"Petrol\", \"Petrol\", \"Petrol\", \"Petrol\", \"Petrol\", \"Petrol\", \"Petrol\", \"Petrol\", \"Petrol\", \"Petrol\", \"Petrol\", \"Petrol\", \"Petrol\", \"Petrol\", \"Petrol\", \"Petrol\", \"Petrol\", \"Petrol\", \"Petrol\", \"Petrol\", \"Petrol\", \"Petrol\", \"Petrol\", \"Petrol\", \"Petrol\", \"Petrol\", \"Other\", \"Other\", \"Petrol\", \"Diesel\", \"Petrol\", \"Petrol\", \"Petrol\", \"Petrol\", \"Petrol\", \"Petrol\", \"Petrol\", \"Petrol\", \"Petrol\", \"Petrol\", \"Petrol\", \"Petrol\", \"Petrol\", \"Petrol\", \"Petrol\", \"Petrol\", \"Petrol\", \"Petrol\", \"Petrol\", \"Petrol\", \"Petrol\", \"Petrol\", \"Petrol\", \"Petrol\", \"Petrol\", \"Petrol\", \"Petrol\", \"Petrol\", \"Petrol\", \"Petrol\", \"Petrol\", \"Petrol\", \"Petrol\", \"Petrol\", \"Petrol\", \"Petrol\", \"Petrol\", \"Petrol\", \"Petrol\", \"Petrol\", \"Petrol\", \"Petrol\", \"Petrol\", \"Petrol\", \"Petrol\", \"Petrol\", \"Petrol\", \"Diesel\", \"Petrol\", \"Petrol\", \"Petrol\", \"Petrol\", \"Petrol\", \"Petrol\", \"Petrol\", \"Petrol\", \"Petrol\", \"Petrol\", \"Petrol\", \"Petrol\", \"Petrol\", \"Petrol\", \"Petrol\", \"Petrol\", \"Petrol\", \"Petrol\", \"Petrol\", \"Petrol\", \"Petrol\", \"Petrol\", \"Petrol\", \"Petrol\", \"Petrol\", \"Petrol\", \"Petrol\", \"Petrol\", \"Petrol\", \"Petrol\", \"Petrol\", \"Petrol\", \"Petrol\", \"Petrol\", \"Petrol\", \"Petrol\", \"Petrol\", \"Petrol\", \"Petrol\", \"Petrol\", \"Petrol\", \"Petrol\", \"Petrol\", \"Petrol\", \"Petrol\", \"Petrol\", \"Petrol\", \"Petrol\", \"Petrol\", \"Petrol\", \"Petrol\", \"Petrol\", \"Petrol\", \"Petrol\", \"Petrol\", \"Petrol\", \"Petrol\", \"Petrol\", \"Petrol\", \"Petrol\", \"Petrol\", \"Petrol\", \"Petrol\", \"Petrol\", \"Petrol\", \"Petrol\", \"Diesel\", \"Petrol\", \"Petrol\", \"Petrol\", \"Petrol\", \"Petrol\", \"Petrol\", \"Petrol\", \"Other\", \"Petrol\", \"Petrol\", \"Petrol\", \"Petrol\", \"Petrol\", \"Petrol\", \"Petrol\", \"Petrol\", \"Petrol\", \"Petrol\", \"Petrol\", \"Petrol\", \"Petrol\", \"Petrol\", \"Petrol\", \"Petrol\", \"Petrol\", \"Petrol\", \"Petrol\", \"Petrol\", \"Petrol\", \"Petrol\", \"Petrol\", \"Petrol\", \"Petrol\", \"Petrol\", \"Petrol\", \"Petrol\"], \"x0\": \" \", \"xaxis\": \"x\", \"y\": [42500, 42000, 48000, 60000, 44000, 68500, 58000, 42500, 48000, 69500, 45000, 55500, 70000, 44000, 65000, 58000, 56000, 55500, 60000, 48000, 76000, 43500, 75000, 53000, 56000, 72000, 52500, 45000, 42000, 60000, 55000, 46000, 53000, 56500, 62000, 70000, 55500, 51000, 44000, 52000, 48100, 43000, 47200, 45000, 47000, 45000, 60000, 65000, 42000, 58000, 74000, 43500, 49900, 65777, 72000, 55000, 70000, 62000, 59800, 49000, 78000, 55000, 74000, 49500, 41777, 47777, 50000, 75000, 65000, 50555, 42000, 78500, 46000, 50555, 48950, 55000, 60000, 62000, 55000, 45500, 47000, 43000, 46500, 50000, 64000, 78000, 47000, 40999, 50500, 79500, 49500, 58500, 51000, 65500, 62000, 45000, 65000, 45000, 77000, 45000, 78000, 48500, 62000, 54500, 68000, 68000, 46500, 65000, 78000, 55000, 58500, 41000, 40500, 77000, 65000, 67000, 48500, 52000, 66600, 65000, 75000, 45000, 42000, 50000, 62000, 46000, 66000, 72000, 76000, 47500, 43500, 78000, 68000, 40500, 58500, 41900, 48000, 60000, 75000, 45000, 65000, 43500, 70000, 58500, 63000, 63800, 48500, 45000, 42000, 45000, 50000, 45000, 58000, 79000, 45000, 50000, 67000, 46000, 59900, 42000, 43000, 45000, 50000, 48000, 78000, 43000, 55000, 60000, 64000, 62900, 49000, 63000, 62000, 42500, 62000, 48500, 48500, 43500, 69000, 48500, 58000, 57500, 56500, 43000, 55000, 60000, 55000, 77000, 58000, 55000, 45500, 52000, 56500, 68000, 48000, 70000, 42000, 40500, 78000, 57000, 52000, 68000, 42000, 42000, 56000, 45000, 59500, 75000, 75500, 63000, 56000, 59500, 41000, 63000, 42500, 43000, 75000, 56000, 63000, 58000, 63000, 55000, 47000, 54000, 46000, 68500, 49000, 78000, 57000, 75000, 60500, 45500, 75000, 65000, 57500, 43500, 55000, 42000, 70000, 44500, 54500, 63000, 65700, 44500, 78000, 78000, 45500, 55200, 71588, 72000, 65000, 73000, 49500, 63000, 78500, 57500, 46000, 48500, 48000, 50500, 46500, 74500, 53000, 49000, 53000, 60000, 62000, 42000, 46000, 50000, 70000, 42400, 58000, 61000, 75000, 42500, 67000, 43000, 75000, 77000, 65000, 60000, 78000, 48500, 65000, 42000, 42500, 53000, 51000, 47500, 63500, 65500, 58000, 68000, 56500, 52500, 60000, 65000, 65000, 77000, 46000, 42800, 45000, 65000, 55000, 67000, 44000, 48000, 65000, 43000, 57888, 52000, 49000, 67000, 57000, 57000, 75000, 79000, 45000, 49500, 46500, 49500, 49000, 60000, 43000, 69500, 43000, 55000, 79000, 60000, 71000, 40700, 68500], \"y0\": \" \", \"yaxis\": \"y\"}],\n",
       "                        {\"boxmode\": \"group\", \"legend\": {\"tracegroupgap\": 0}, \"template\": {\"data\": {\"bar\": [{\"error_x\": {\"color\": \"#2a3f5f\"}, \"error_y\": {\"color\": \"#2a3f5f\"}, \"marker\": {\"line\": {\"color\": \"#E5ECF6\", \"width\": 0.5}}, \"type\": \"bar\"}], \"barpolar\": [{\"marker\": {\"line\": {\"color\": \"#E5ECF6\", \"width\": 0.5}}, \"type\": \"barpolar\"}], \"carpet\": [{\"aaxis\": {\"endlinecolor\": \"#2a3f5f\", \"gridcolor\": \"white\", \"linecolor\": \"white\", \"minorgridcolor\": \"white\", \"startlinecolor\": \"#2a3f5f\"}, \"baxis\": {\"endlinecolor\": \"#2a3f5f\", \"gridcolor\": \"white\", \"linecolor\": \"white\", \"minorgridcolor\": \"white\", \"startlinecolor\": \"#2a3f5f\"}, \"type\": \"carpet\"}], \"choropleth\": [{\"colorbar\": {\"outlinewidth\": 0, \"ticks\": \"\"}, \"type\": \"choropleth\"}], \"contour\": [{\"colorbar\": {\"outlinewidth\": 0, \"ticks\": \"\"}, \"colorscale\": [[0.0, \"#0d0887\"], [0.1111111111111111, \"#46039f\"], [0.2222222222222222, \"#7201a8\"], [0.3333333333333333, \"#9c179e\"], [0.4444444444444444, \"#bd3786\"], [0.5555555555555556, \"#d8576b\"], [0.6666666666666666, \"#ed7953\"], [0.7777777777777778, \"#fb9f3a\"], [0.8888888888888888, \"#fdca26\"], [1.0, \"#f0f921\"]], \"type\": \"contour\"}], \"contourcarpet\": [{\"colorbar\": {\"outlinewidth\": 0, \"ticks\": \"\"}, \"type\": \"contourcarpet\"}], \"heatmap\": [{\"colorbar\": {\"outlinewidth\": 0, \"ticks\": \"\"}, \"colorscale\": [[0.0, \"#0d0887\"], [0.1111111111111111, \"#46039f\"], [0.2222222222222222, \"#7201a8\"], [0.3333333333333333, \"#9c179e\"], [0.4444444444444444, \"#bd3786\"], [0.5555555555555556, \"#d8576b\"], [0.6666666666666666, \"#ed7953\"], [0.7777777777777778, \"#fb9f3a\"], [0.8888888888888888, \"#fdca26\"], [1.0, \"#f0f921\"]], \"type\": \"heatmap\"}], \"heatmapgl\": [{\"colorbar\": {\"outlinewidth\": 0, \"ticks\": \"\"}, \"colorscale\": [[0.0, \"#0d0887\"], [0.1111111111111111, \"#46039f\"], [0.2222222222222222, \"#7201a8\"], [0.3333333333333333, \"#9c179e\"], [0.4444444444444444, \"#bd3786\"], [0.5555555555555556, \"#d8576b\"], [0.6666666666666666, \"#ed7953\"], [0.7777777777777778, \"#fb9f3a\"], [0.8888888888888888, \"#fdca26\"], [1.0, \"#f0f921\"]], \"type\": \"heatmapgl\"}], \"histogram\": [{\"marker\": {\"colorbar\": {\"outlinewidth\": 0, \"ticks\": \"\"}}, \"type\": \"histogram\"}], \"histogram2d\": [{\"colorbar\": {\"outlinewidth\": 0, \"ticks\": \"\"}, \"colorscale\": [[0.0, \"#0d0887\"], [0.1111111111111111, \"#46039f\"], [0.2222222222222222, \"#7201a8\"], [0.3333333333333333, \"#9c179e\"], [0.4444444444444444, \"#bd3786\"], [0.5555555555555556, \"#d8576b\"], [0.6666666666666666, \"#ed7953\"], [0.7777777777777778, \"#fb9f3a\"], [0.8888888888888888, \"#fdca26\"], [1.0, \"#f0f921\"]], \"type\": \"histogram2d\"}], \"histogram2dcontour\": [{\"colorbar\": {\"outlinewidth\": 0, \"ticks\": \"\"}, \"colorscale\": [[0.0, \"#0d0887\"], [0.1111111111111111, \"#46039f\"], [0.2222222222222222, \"#7201a8\"], [0.3333333333333333, \"#9c179e\"], [0.4444444444444444, \"#bd3786\"], [0.5555555555555556, \"#d8576b\"], [0.6666666666666666, \"#ed7953\"], [0.7777777777777778, \"#fb9f3a\"], [0.8888888888888888, \"#fdca26\"], [1.0, \"#f0f921\"]], \"type\": \"histogram2dcontour\"}], \"mesh3d\": [{\"colorbar\": {\"outlinewidth\": 0, \"ticks\": \"\"}, \"type\": \"mesh3d\"}], \"parcoords\": [{\"line\": {\"colorbar\": {\"outlinewidth\": 0, \"ticks\": \"\"}}, \"type\": \"parcoords\"}], \"pie\": [{\"automargin\": true, \"type\": \"pie\"}], \"scatter\": [{\"marker\": {\"colorbar\": {\"outlinewidth\": 0, \"ticks\": \"\"}}, \"type\": \"scatter\"}], \"scatter3d\": [{\"line\": {\"colorbar\": {\"outlinewidth\": 0, \"ticks\": \"\"}}, \"marker\": {\"colorbar\": {\"outlinewidth\": 0, \"ticks\": \"\"}}, \"type\": \"scatter3d\"}], \"scattercarpet\": [{\"marker\": {\"colorbar\": {\"outlinewidth\": 0, \"ticks\": \"\"}}, \"type\": \"scattercarpet\"}], \"scattergeo\": [{\"marker\": {\"colorbar\": {\"outlinewidth\": 0, \"ticks\": \"\"}}, \"type\": \"scattergeo\"}], \"scattergl\": [{\"marker\": {\"colorbar\": {\"outlinewidth\": 0, \"ticks\": \"\"}}, \"type\": \"scattergl\"}], \"scattermapbox\": [{\"marker\": {\"colorbar\": {\"outlinewidth\": 0, \"ticks\": \"\"}}, \"type\": \"scattermapbox\"}], \"scatterpolar\": [{\"marker\": {\"colorbar\": {\"outlinewidth\": 0, \"ticks\": \"\"}}, \"type\": \"scatterpolar\"}], \"scatterpolargl\": [{\"marker\": {\"colorbar\": {\"outlinewidth\": 0, \"ticks\": \"\"}}, \"type\": \"scatterpolargl\"}], \"scatterternary\": [{\"marker\": {\"colorbar\": {\"outlinewidth\": 0, \"ticks\": \"\"}}, \"type\": \"scatterternary\"}], \"surface\": [{\"colorbar\": {\"outlinewidth\": 0, \"ticks\": \"\"}, \"colorscale\": [[0.0, \"#0d0887\"], [0.1111111111111111, \"#46039f\"], [0.2222222222222222, \"#7201a8\"], [0.3333333333333333, \"#9c179e\"], [0.4444444444444444, \"#bd3786\"], [0.5555555555555556, \"#d8576b\"], [0.6666666666666666, \"#ed7953\"], [0.7777777777777778, \"#fb9f3a\"], [0.8888888888888888, \"#fdca26\"], [1.0, \"#f0f921\"]], \"type\": \"surface\"}], \"table\": [{\"cells\": {\"fill\": {\"color\": \"#EBF0F8\"}, \"line\": {\"color\": \"white\"}}, \"header\": {\"fill\": {\"color\": \"#C8D4E3\"}, \"line\": {\"color\": \"white\"}}, \"type\": \"table\"}]}, \"layout\": {\"annotationdefaults\": {\"arrowcolor\": \"#2a3f5f\", \"arrowhead\": 0, \"arrowwidth\": 1}, \"coloraxis\": {\"colorbar\": {\"outlinewidth\": 0, \"ticks\": \"\"}}, \"colorscale\": {\"diverging\": [[0, \"#8e0152\"], [0.1, \"#c51b7d\"], [0.2, \"#de77ae\"], [0.3, \"#f1b6da\"], [0.4, \"#fde0ef\"], [0.5, \"#f7f7f7\"], [0.6, \"#e6f5d0\"], [0.7, \"#b8e186\"], [0.8, \"#7fbc41\"], [0.9, \"#4d9221\"], [1, \"#276419\"]], \"sequential\": [[0.0, \"#0d0887\"], [0.1111111111111111, \"#46039f\"], [0.2222222222222222, \"#7201a8\"], [0.3333333333333333, \"#9c179e\"], [0.4444444444444444, \"#bd3786\"], [0.5555555555555556, \"#d8576b\"], [0.6666666666666666, \"#ed7953\"], [0.7777777777777778, \"#fb9f3a\"], [0.8888888888888888, \"#fdca26\"], [1.0, \"#f0f921\"]], \"sequentialminus\": [[0.0, \"#0d0887\"], [0.1111111111111111, \"#46039f\"], [0.2222222222222222, \"#7201a8\"], [0.3333333333333333, \"#9c179e\"], [0.4444444444444444, \"#bd3786\"], [0.5555555555555556, \"#d8576b\"], [0.6666666666666666, \"#ed7953\"], [0.7777777777777778, \"#fb9f3a\"], [0.8888888888888888, \"#fdca26\"], [1.0, \"#f0f921\"]]}, \"colorway\": [\"#636efa\", \"#EF553B\", \"#00cc96\", \"#ab63fa\", \"#FFA15A\", \"#19d3f3\", \"#FF6692\", \"#B6E880\", \"#FF97FF\", \"#FECB52\"], \"font\": {\"color\": \"#2a3f5f\"}, \"geo\": {\"bgcolor\": \"white\", \"lakecolor\": \"white\", \"landcolor\": \"#E5ECF6\", \"showlakes\": true, \"showland\": true, \"subunitcolor\": \"white\"}, \"hoverlabel\": {\"align\": \"left\"}, \"hovermode\": \"closest\", \"mapbox\": {\"style\": \"light\"}, \"paper_bgcolor\": \"white\", \"plot_bgcolor\": \"#E5ECF6\", \"polar\": {\"angularaxis\": {\"gridcolor\": \"white\", \"linecolor\": \"white\", \"ticks\": \"\"}, \"bgcolor\": \"#E5ECF6\", \"radialaxis\": {\"gridcolor\": \"white\", \"linecolor\": \"white\", \"ticks\": \"\"}}, \"scene\": {\"xaxis\": {\"backgroundcolor\": \"#E5ECF6\", \"gridcolor\": \"white\", \"gridwidth\": 2, \"linecolor\": \"white\", \"showbackground\": true, \"ticks\": \"\", \"zerolinecolor\": \"white\"}, \"yaxis\": {\"backgroundcolor\": \"#E5ECF6\", \"gridcolor\": \"white\", \"gridwidth\": 2, \"linecolor\": \"white\", \"showbackground\": true, \"ticks\": \"\", \"zerolinecolor\": \"white\"}, \"zaxis\": {\"backgroundcolor\": \"#E5ECF6\", \"gridcolor\": \"white\", \"gridwidth\": 2, \"linecolor\": \"white\", \"showbackground\": true, \"ticks\": \"\", \"zerolinecolor\": \"white\"}}, \"shapedefaults\": {\"line\": {\"color\": \"#2a3f5f\"}}, \"ternary\": {\"aaxis\": {\"gridcolor\": \"white\", \"linecolor\": \"white\", \"ticks\": \"\"}, \"baxis\": {\"gridcolor\": \"white\", \"linecolor\": \"white\", \"ticks\": \"\"}, \"bgcolor\": \"#E5ECF6\", \"caxis\": {\"gridcolor\": \"white\", \"linecolor\": \"white\", \"ticks\": \"\"}}, \"title\": {\"x\": 0.05}, \"xaxis\": {\"automargin\": true, \"gridcolor\": \"white\", \"linecolor\": \"white\", \"ticks\": \"\", \"title\": {\"standoff\": 15}, \"zerolinecolor\": \"white\", \"zerolinewidth\": 2}, \"yaxis\": {\"automargin\": true, \"gridcolor\": \"white\", \"linecolor\": \"white\", \"ticks\": \"\", \"title\": {\"standoff\": 15}, \"zerolinecolor\": \"white\", \"zerolinewidth\": 2}}}, \"title\": {\"text\": \"Relationship between each fuel type and price\"}, \"xaxis\": {\"anchor\": \"y\", \"domain\": [0.0, 1.0], \"title\": {\"text\": \"Fuel type\"}}, \"yaxis\": {\"anchor\": \"x\", \"domain\": [0.0, 1.0], \"title\": {\"text\": \"Price(GH\\u00a2)\"}}},\n",
       "                        {\"responsive\": true}\n",
       "                    ).then(function(){\n",
       "                            \n",
       "var gd = document.getElementById('32a4f532-f891-4b24-854b-1e5f167bb6e3');\n",
       "var x = new MutationObserver(function (mutations, observer) {{\n",
       "        var display = window.getComputedStyle(gd).display;\n",
       "        if (!display || display === 'none') {{\n",
       "            console.log([gd, 'removed!']);\n",
       "            Plotly.purge(gd);\n",
       "            observer.disconnect();\n",
       "        }}\n",
       "}});\n",
       "\n",
       "// Listen for the removal of the full notebook cells\n",
       "var notebookContainer = gd.closest('#notebook-container');\n",
       "if (notebookContainer) {{\n",
       "    x.observe(notebookContainer, {childList: true});\n",
       "}}\n",
       "\n",
       "// Listen for the clearing of the current output cell\n",
       "var outputEl = gd.closest('.output');\n",
       "if (outputEl) {{\n",
       "    x.observe(outputEl, {childList: true});\n",
       "}}\n",
       "\n",
       "                        })\n",
       "                };\n",
       "                });\n",
       "            </script>\n",
       "        </div>"
      ]
     },
     "metadata": {},
     "output_type": "display_data"
    }
   ],
   "source": [
    "fig = px.box(filtered, x=\"Fuel type\", y=\"Price(GH¢)\", title='Relationship between each fuel type and price')\n",
    "fig.show()"
   ]
  },
  {
   "cell_type": "markdown",
   "metadata": {},
   "source": [
    "### Condition vs Price"
   ]
  },
  {
   "cell_type": "code",
   "execution_count": 64,
   "metadata": {
    "scrolled": false
   },
   "outputs": [
    {
     "data": {
      "application/vnd.plotly.v1+json": {
       "config": {
        "plotlyServerURL": "https://plot.ly"
       },
       "data": [
        {
         "alignmentgroup": "True",
         "hovertemplate": "Condition=%{x}<br>Price(GH¢)=%{y}<extra></extra>",
         "legendgroup": "",
         "marker": {
          "color": "#636efa"
         },
         "name": "",
         "notched": false,
         "offsetgroup": "",
         "orientation": "v",
         "showlegend": false,
         "type": "box",
         "x": [
          "Used",
          "Used",
          "New",
          "Used",
          "Used",
          "Used",
          "Used",
          "Used",
          "Used",
          "New",
          "Used",
          "New",
          "Used",
          "Used",
          "New",
          "Used",
          "Used",
          "New",
          "Used",
          "Used",
          "Used",
          "Used",
          "Used",
          "Used",
          "Used",
          "New",
          "Used",
          "Used",
          "Used",
          "New",
          "Used",
          "Used",
          "Used",
          "Used",
          "New",
          "Used",
          "Used",
          "Used",
          "Used",
          "Used",
          "Used",
          "New",
          "Used",
          "Used",
          "Used",
          "Used",
          "Used",
          "Used",
          "New",
          "Used",
          "Used",
          "Used",
          "New",
          "New",
          "Used",
          "Used",
          "Used",
          "Used",
          "Used",
          "Used",
          "New",
          "Used",
          "New",
          "Used",
          "New",
          "New",
          "Used",
          "Used",
          "Used",
          "Used",
          "Used",
          "Used",
          "Used",
          "Used",
          "Used",
          "Used",
          "Used",
          "Used",
          "Used",
          "Used",
          "Used",
          "New",
          "New",
          "New",
          "Used",
          "New",
          "Used",
          "Used",
          "Used",
          "Used",
          "Used",
          "Used",
          "Used",
          "Used",
          "Used",
          "Used",
          "Used",
          "Used",
          "Used",
          "Used",
          "Used",
          "Used",
          "Used",
          "New",
          "Used",
          "Used",
          "Used",
          "Used",
          "Used",
          "Used",
          "Used",
          "Used",
          "Used",
          "Used",
          "Used",
          "Used",
          "Used",
          "Used",
          "Used",
          "Used",
          "Used",
          "Used",
          "Used",
          "Used",
          "Used",
          "Used",
          "New",
          "Used",
          "Used",
          "New",
          "New",
          "Used",
          "Used",
          "Used",
          "Used",
          "Used",
          "Used",
          "Used",
          "Used",
          "Used",
          "Used",
          "Used",
          "Used",
          "Used",
          "Used",
          "Used",
          "Used",
          "Used",
          "Used",
          "Used",
          "Used",
          "Used",
          "Used",
          "Used",
          "Used",
          "Used",
          "Used",
          "Used",
          "Used",
          "Used",
          "Used",
          "Used",
          "Used",
          "Used",
          "New",
          "Used",
          "Used",
          "Used",
          "New",
          "Used",
          "Used",
          "New",
          "New",
          "Used",
          "Used",
          "Used",
          "Used",
          "Used",
          "New",
          "Used",
          "Used",
          "Used",
          "New",
          "Used",
          "Used",
          "Used",
          "Used",
          "Used",
          "Used",
          "Used",
          "Used",
          "Used",
          "Used",
          "Used",
          "Used",
          "Used",
          "Used",
          "Used",
          "Used",
          "Used",
          "Used",
          "Used",
          "Used",
          "Used",
          "Used",
          "Used",
          "Used",
          "Used",
          "Used",
          "Used",
          "Used",
          "Used",
          "Used",
          "Used",
          "Used",
          "Used",
          "Used",
          "Used",
          "Used",
          "Used",
          "Used",
          "Used",
          "Used",
          "New",
          "Used",
          "Used",
          "Used",
          "New",
          "Used",
          "Used",
          "Used",
          "Used",
          "Used",
          "Used",
          "Used",
          "Used",
          "Used",
          "Used",
          "Used",
          "Used",
          "Used",
          "Used",
          "Used",
          "New",
          "Used",
          "Used",
          "Used",
          "Used",
          "Used",
          "Used",
          "New",
          "Used",
          "Used",
          "Used",
          "Used",
          "Used",
          "Used",
          "Used",
          "Used",
          "Used",
          "Used",
          "Used",
          "Used",
          "Used",
          "Used",
          "New",
          "Used",
          "Used",
          "Used",
          "Used",
          "Used",
          "Used",
          "Used",
          "Used",
          "Used",
          "Used",
          "New",
          "Used",
          "Used",
          "New",
          "Used",
          "New",
          "Used",
          "Used",
          "Used",
          "Used",
          "New",
          "New",
          "Used",
          "New",
          "Used",
          "Used",
          "Used",
          "New",
          "Used",
          "Used",
          "Used",
          "Used",
          "Used",
          "Used",
          "Used",
          "Used",
          "Used",
          "Used",
          "Used",
          "Used",
          "Used",
          "Used",
          "Used",
          "Used",
          "Used",
          "Used",
          "Used",
          "Used",
          "Used",
          "Used",
          "Used",
          "Used",
          "Used",
          "Used",
          "Used",
          "Used",
          "Used",
          "New",
          "Used",
          "Used",
          "Used",
          "Used",
          "Used",
          "Used",
          "New",
          "Used",
          "Used"
         ],
         "x0": " ",
         "xaxis": "x",
         "y": [
          42500,
          42000,
          48000,
          60000,
          44000,
          68500,
          58000,
          42500,
          48000,
          69500,
          45000,
          55500,
          70000,
          44000,
          65000,
          58000,
          56000,
          55500,
          60000,
          48000,
          76000,
          43500,
          75000,
          53000,
          56000,
          72000,
          52500,
          45000,
          42000,
          60000,
          55000,
          46000,
          53000,
          56500,
          62000,
          70000,
          55500,
          51000,
          44000,
          52000,
          48100,
          43000,
          47200,
          45000,
          47000,
          45000,
          60000,
          65000,
          42000,
          58000,
          74000,
          43500,
          49900,
          65777,
          72000,
          55000,
          70000,
          62000,
          59800,
          49000,
          78000,
          55000,
          74000,
          49500,
          41777,
          47777,
          50000,
          75000,
          65000,
          50555,
          42000,
          78500,
          46000,
          50555,
          48950,
          55000,
          60000,
          62000,
          55000,
          45500,
          47000,
          43000,
          46500,
          50000,
          64000,
          78000,
          47000,
          40999,
          50500,
          79500,
          49500,
          58500,
          51000,
          65500,
          62000,
          45000,
          65000,
          45000,
          77000,
          45000,
          78000,
          48500,
          62000,
          54500,
          68000,
          68000,
          46500,
          65000,
          78000,
          55000,
          58500,
          41000,
          40500,
          77000,
          65000,
          67000,
          48500,
          52000,
          66600,
          65000,
          75000,
          45000,
          42000,
          50000,
          62000,
          46000,
          66000,
          72000,
          76000,
          47500,
          43500,
          78000,
          68000,
          40500,
          58500,
          41900,
          48000,
          60000,
          75000,
          45000,
          65000,
          43500,
          70000,
          58500,
          63000,
          63800,
          48500,
          45000,
          42000,
          45000,
          50000,
          45000,
          58000,
          79000,
          45000,
          50000,
          67000,
          46000,
          59900,
          42000,
          43000,
          45000,
          50000,
          48000,
          78000,
          43000,
          55000,
          60000,
          64000,
          62900,
          49000,
          63000,
          62000,
          42500,
          62000,
          48500,
          48500,
          43500,
          69000,
          48500,
          58000,
          57500,
          56500,
          43000,
          55000,
          60000,
          55000,
          77000,
          58000,
          55000,
          45500,
          52000,
          56500,
          68000,
          48000,
          70000,
          42000,
          40500,
          78000,
          57000,
          52000,
          68000,
          42000,
          42000,
          56000,
          45000,
          59500,
          75000,
          75500,
          63000,
          56000,
          59500,
          41000,
          63000,
          42500,
          43000,
          75000,
          56000,
          63000,
          58000,
          63000,
          55000,
          47000,
          54000,
          46000,
          68500,
          49000,
          78000,
          57000,
          75000,
          60500,
          45500,
          75000,
          65000,
          57500,
          43500,
          55000,
          42000,
          70000,
          44500,
          54500,
          63000,
          65700,
          44500,
          78000,
          78000,
          45500,
          55200,
          71588,
          72000,
          65000,
          73000,
          49500,
          63000,
          78500,
          57500,
          46000,
          48500,
          48000,
          50500,
          46500,
          74500,
          53000,
          49000,
          53000,
          60000,
          62000,
          42000,
          46000,
          50000,
          70000,
          42400,
          58000,
          61000,
          75000,
          42500,
          67000,
          43000,
          75000,
          77000,
          65000,
          60000,
          78000,
          48500,
          65000,
          42000,
          42500,
          53000,
          51000,
          47500,
          63500,
          65500,
          58000,
          68000,
          56500,
          52500,
          60000,
          65000,
          65000,
          77000,
          46000,
          42800,
          45000,
          65000,
          55000,
          67000,
          44000,
          48000,
          65000,
          43000,
          57888,
          52000,
          49000,
          67000,
          57000,
          57000,
          75000,
          79000,
          45000,
          49500,
          46500,
          49500,
          49000,
          60000,
          43000,
          69500,
          43000,
          55000,
          79000,
          60000,
          71000,
          40700,
          68500
         ],
         "y0": " ",
         "yaxis": "y"
        }
       ],
       "layout": {
        "boxmode": "group",
        "legend": {
         "tracegroupgap": 0
        },
        "template": {
         "data": {
          "bar": [
           {
            "error_x": {
             "color": "#2a3f5f"
            },
            "error_y": {
             "color": "#2a3f5f"
            },
            "marker": {
             "line": {
              "color": "#E5ECF6",
              "width": 0.5
             }
            },
            "type": "bar"
           }
          ],
          "barpolar": [
           {
            "marker": {
             "line": {
              "color": "#E5ECF6",
              "width": 0.5
             }
            },
            "type": "barpolar"
           }
          ],
          "carpet": [
           {
            "aaxis": {
             "endlinecolor": "#2a3f5f",
             "gridcolor": "white",
             "linecolor": "white",
             "minorgridcolor": "white",
             "startlinecolor": "#2a3f5f"
            },
            "baxis": {
             "endlinecolor": "#2a3f5f",
             "gridcolor": "white",
             "linecolor": "white",
             "minorgridcolor": "white",
             "startlinecolor": "#2a3f5f"
            },
            "type": "carpet"
           }
          ],
          "choropleth": [
           {
            "colorbar": {
             "outlinewidth": 0,
             "ticks": ""
            },
            "type": "choropleth"
           }
          ],
          "contour": [
           {
            "colorbar": {
             "outlinewidth": 0,
             "ticks": ""
            },
            "colorscale": [
             [
              0,
              "#0d0887"
             ],
             [
              0.1111111111111111,
              "#46039f"
             ],
             [
              0.2222222222222222,
              "#7201a8"
             ],
             [
              0.3333333333333333,
              "#9c179e"
             ],
             [
              0.4444444444444444,
              "#bd3786"
             ],
             [
              0.5555555555555556,
              "#d8576b"
             ],
             [
              0.6666666666666666,
              "#ed7953"
             ],
             [
              0.7777777777777778,
              "#fb9f3a"
             ],
             [
              0.8888888888888888,
              "#fdca26"
             ],
             [
              1,
              "#f0f921"
             ]
            ],
            "type": "contour"
           }
          ],
          "contourcarpet": [
           {
            "colorbar": {
             "outlinewidth": 0,
             "ticks": ""
            },
            "type": "contourcarpet"
           }
          ],
          "heatmap": [
           {
            "colorbar": {
             "outlinewidth": 0,
             "ticks": ""
            },
            "colorscale": [
             [
              0,
              "#0d0887"
             ],
             [
              0.1111111111111111,
              "#46039f"
             ],
             [
              0.2222222222222222,
              "#7201a8"
             ],
             [
              0.3333333333333333,
              "#9c179e"
             ],
             [
              0.4444444444444444,
              "#bd3786"
             ],
             [
              0.5555555555555556,
              "#d8576b"
             ],
             [
              0.6666666666666666,
              "#ed7953"
             ],
             [
              0.7777777777777778,
              "#fb9f3a"
             ],
             [
              0.8888888888888888,
              "#fdca26"
             ],
             [
              1,
              "#f0f921"
             ]
            ],
            "type": "heatmap"
           }
          ],
          "heatmapgl": [
           {
            "colorbar": {
             "outlinewidth": 0,
             "ticks": ""
            },
            "colorscale": [
             [
              0,
              "#0d0887"
             ],
             [
              0.1111111111111111,
              "#46039f"
             ],
             [
              0.2222222222222222,
              "#7201a8"
             ],
             [
              0.3333333333333333,
              "#9c179e"
             ],
             [
              0.4444444444444444,
              "#bd3786"
             ],
             [
              0.5555555555555556,
              "#d8576b"
             ],
             [
              0.6666666666666666,
              "#ed7953"
             ],
             [
              0.7777777777777778,
              "#fb9f3a"
             ],
             [
              0.8888888888888888,
              "#fdca26"
             ],
             [
              1,
              "#f0f921"
             ]
            ],
            "type": "heatmapgl"
           }
          ],
          "histogram": [
           {
            "marker": {
             "colorbar": {
              "outlinewidth": 0,
              "ticks": ""
             }
            },
            "type": "histogram"
           }
          ],
          "histogram2d": [
           {
            "colorbar": {
             "outlinewidth": 0,
             "ticks": ""
            },
            "colorscale": [
             [
              0,
              "#0d0887"
             ],
             [
              0.1111111111111111,
              "#46039f"
             ],
             [
              0.2222222222222222,
              "#7201a8"
             ],
             [
              0.3333333333333333,
              "#9c179e"
             ],
             [
              0.4444444444444444,
              "#bd3786"
             ],
             [
              0.5555555555555556,
              "#d8576b"
             ],
             [
              0.6666666666666666,
              "#ed7953"
             ],
             [
              0.7777777777777778,
              "#fb9f3a"
             ],
             [
              0.8888888888888888,
              "#fdca26"
             ],
             [
              1,
              "#f0f921"
             ]
            ],
            "type": "histogram2d"
           }
          ],
          "histogram2dcontour": [
           {
            "colorbar": {
             "outlinewidth": 0,
             "ticks": ""
            },
            "colorscale": [
             [
              0,
              "#0d0887"
             ],
             [
              0.1111111111111111,
              "#46039f"
             ],
             [
              0.2222222222222222,
              "#7201a8"
             ],
             [
              0.3333333333333333,
              "#9c179e"
             ],
             [
              0.4444444444444444,
              "#bd3786"
             ],
             [
              0.5555555555555556,
              "#d8576b"
             ],
             [
              0.6666666666666666,
              "#ed7953"
             ],
             [
              0.7777777777777778,
              "#fb9f3a"
             ],
             [
              0.8888888888888888,
              "#fdca26"
             ],
             [
              1,
              "#f0f921"
             ]
            ],
            "type": "histogram2dcontour"
           }
          ],
          "mesh3d": [
           {
            "colorbar": {
             "outlinewidth": 0,
             "ticks": ""
            },
            "type": "mesh3d"
           }
          ],
          "parcoords": [
           {
            "line": {
             "colorbar": {
              "outlinewidth": 0,
              "ticks": ""
             }
            },
            "type": "parcoords"
           }
          ],
          "pie": [
           {
            "automargin": true,
            "type": "pie"
           }
          ],
          "scatter": [
           {
            "marker": {
             "colorbar": {
              "outlinewidth": 0,
              "ticks": ""
             }
            },
            "type": "scatter"
           }
          ],
          "scatter3d": [
           {
            "line": {
             "colorbar": {
              "outlinewidth": 0,
              "ticks": ""
             }
            },
            "marker": {
             "colorbar": {
              "outlinewidth": 0,
              "ticks": ""
             }
            },
            "type": "scatter3d"
           }
          ],
          "scattercarpet": [
           {
            "marker": {
             "colorbar": {
              "outlinewidth": 0,
              "ticks": ""
             }
            },
            "type": "scattercarpet"
           }
          ],
          "scattergeo": [
           {
            "marker": {
             "colorbar": {
              "outlinewidth": 0,
              "ticks": ""
             }
            },
            "type": "scattergeo"
           }
          ],
          "scattergl": [
           {
            "marker": {
             "colorbar": {
              "outlinewidth": 0,
              "ticks": ""
             }
            },
            "type": "scattergl"
           }
          ],
          "scattermapbox": [
           {
            "marker": {
             "colorbar": {
              "outlinewidth": 0,
              "ticks": ""
             }
            },
            "type": "scattermapbox"
           }
          ],
          "scatterpolar": [
           {
            "marker": {
             "colorbar": {
              "outlinewidth": 0,
              "ticks": ""
             }
            },
            "type": "scatterpolar"
           }
          ],
          "scatterpolargl": [
           {
            "marker": {
             "colorbar": {
              "outlinewidth": 0,
              "ticks": ""
             }
            },
            "type": "scatterpolargl"
           }
          ],
          "scatterternary": [
           {
            "marker": {
             "colorbar": {
              "outlinewidth": 0,
              "ticks": ""
             }
            },
            "type": "scatterternary"
           }
          ],
          "surface": [
           {
            "colorbar": {
             "outlinewidth": 0,
             "ticks": ""
            },
            "colorscale": [
             [
              0,
              "#0d0887"
             ],
             [
              0.1111111111111111,
              "#46039f"
             ],
             [
              0.2222222222222222,
              "#7201a8"
             ],
             [
              0.3333333333333333,
              "#9c179e"
             ],
             [
              0.4444444444444444,
              "#bd3786"
             ],
             [
              0.5555555555555556,
              "#d8576b"
             ],
             [
              0.6666666666666666,
              "#ed7953"
             ],
             [
              0.7777777777777778,
              "#fb9f3a"
             ],
             [
              0.8888888888888888,
              "#fdca26"
             ],
             [
              1,
              "#f0f921"
             ]
            ],
            "type": "surface"
           }
          ],
          "table": [
           {
            "cells": {
             "fill": {
              "color": "#EBF0F8"
             },
             "line": {
              "color": "white"
             }
            },
            "header": {
             "fill": {
              "color": "#C8D4E3"
             },
             "line": {
              "color": "white"
             }
            },
            "type": "table"
           }
          ]
         },
         "layout": {
          "annotationdefaults": {
           "arrowcolor": "#2a3f5f",
           "arrowhead": 0,
           "arrowwidth": 1
          },
          "coloraxis": {
           "colorbar": {
            "outlinewidth": 0,
            "ticks": ""
           }
          },
          "colorscale": {
           "diverging": [
            [
             0,
             "#8e0152"
            ],
            [
             0.1,
             "#c51b7d"
            ],
            [
             0.2,
             "#de77ae"
            ],
            [
             0.3,
             "#f1b6da"
            ],
            [
             0.4,
             "#fde0ef"
            ],
            [
             0.5,
             "#f7f7f7"
            ],
            [
             0.6,
             "#e6f5d0"
            ],
            [
             0.7,
             "#b8e186"
            ],
            [
             0.8,
             "#7fbc41"
            ],
            [
             0.9,
             "#4d9221"
            ],
            [
             1,
             "#276419"
            ]
           ],
           "sequential": [
            [
             0,
             "#0d0887"
            ],
            [
             0.1111111111111111,
             "#46039f"
            ],
            [
             0.2222222222222222,
             "#7201a8"
            ],
            [
             0.3333333333333333,
             "#9c179e"
            ],
            [
             0.4444444444444444,
             "#bd3786"
            ],
            [
             0.5555555555555556,
             "#d8576b"
            ],
            [
             0.6666666666666666,
             "#ed7953"
            ],
            [
             0.7777777777777778,
             "#fb9f3a"
            ],
            [
             0.8888888888888888,
             "#fdca26"
            ],
            [
             1,
             "#f0f921"
            ]
           ],
           "sequentialminus": [
            [
             0,
             "#0d0887"
            ],
            [
             0.1111111111111111,
             "#46039f"
            ],
            [
             0.2222222222222222,
             "#7201a8"
            ],
            [
             0.3333333333333333,
             "#9c179e"
            ],
            [
             0.4444444444444444,
             "#bd3786"
            ],
            [
             0.5555555555555556,
             "#d8576b"
            ],
            [
             0.6666666666666666,
             "#ed7953"
            ],
            [
             0.7777777777777778,
             "#fb9f3a"
            ],
            [
             0.8888888888888888,
             "#fdca26"
            ],
            [
             1,
             "#f0f921"
            ]
           ]
          },
          "colorway": [
           "#636efa",
           "#EF553B",
           "#00cc96",
           "#ab63fa",
           "#FFA15A",
           "#19d3f3",
           "#FF6692",
           "#B6E880",
           "#FF97FF",
           "#FECB52"
          ],
          "font": {
           "color": "#2a3f5f"
          },
          "geo": {
           "bgcolor": "white",
           "lakecolor": "white",
           "landcolor": "#E5ECF6",
           "showlakes": true,
           "showland": true,
           "subunitcolor": "white"
          },
          "hoverlabel": {
           "align": "left"
          },
          "hovermode": "closest",
          "mapbox": {
           "style": "light"
          },
          "paper_bgcolor": "white",
          "plot_bgcolor": "#E5ECF6",
          "polar": {
           "angularaxis": {
            "gridcolor": "white",
            "linecolor": "white",
            "ticks": ""
           },
           "bgcolor": "#E5ECF6",
           "radialaxis": {
            "gridcolor": "white",
            "linecolor": "white",
            "ticks": ""
           }
          },
          "scene": {
           "xaxis": {
            "backgroundcolor": "#E5ECF6",
            "gridcolor": "white",
            "gridwidth": 2,
            "linecolor": "white",
            "showbackground": true,
            "ticks": "",
            "zerolinecolor": "white"
           },
           "yaxis": {
            "backgroundcolor": "#E5ECF6",
            "gridcolor": "white",
            "gridwidth": 2,
            "linecolor": "white",
            "showbackground": true,
            "ticks": "",
            "zerolinecolor": "white"
           },
           "zaxis": {
            "backgroundcolor": "#E5ECF6",
            "gridcolor": "white",
            "gridwidth": 2,
            "linecolor": "white",
            "showbackground": true,
            "ticks": "",
            "zerolinecolor": "white"
           }
          },
          "shapedefaults": {
           "line": {
            "color": "#2a3f5f"
           }
          },
          "ternary": {
           "aaxis": {
            "gridcolor": "white",
            "linecolor": "white",
            "ticks": ""
           },
           "baxis": {
            "gridcolor": "white",
            "linecolor": "white",
            "ticks": ""
           },
           "bgcolor": "#E5ECF6",
           "caxis": {
            "gridcolor": "white",
            "linecolor": "white",
            "ticks": ""
           }
          },
          "title": {
           "x": 0.05
          },
          "xaxis": {
           "automargin": true,
           "gridcolor": "white",
           "linecolor": "white",
           "ticks": "",
           "title": {
            "standoff": 15
           },
           "zerolinecolor": "white",
           "zerolinewidth": 2
          },
          "yaxis": {
           "automargin": true,
           "gridcolor": "white",
           "linecolor": "white",
           "ticks": "",
           "title": {
            "standoff": 15
           },
           "zerolinecolor": "white",
           "zerolinewidth": 2
          }
         }
        },
        "title": {
         "text": "Relationship between each condition and price"
        },
        "xaxis": {
         "anchor": "y",
         "domain": [
          0,
          1
         ],
         "title": {
          "text": "Condition"
         }
        },
        "yaxis": {
         "anchor": "x",
         "domain": [
          0,
          1
         ],
         "title": {
          "text": "Price(GH¢)"
         }
        }
       }
      },
      "text/html": [
       "<div>\n",
       "        \n",
       "        \n",
       "            <div id=\"c0db8b92-acc2-41f2-b137-35617d040812\" class=\"plotly-graph-div\" style=\"height:525px; width:100%;\"></div>\n",
       "            <script type=\"text/javascript\">\n",
       "                require([\"plotly\"], function(Plotly) {\n",
       "                    window.PLOTLYENV=window.PLOTLYENV || {};\n",
       "                    \n",
       "                if (document.getElementById(\"c0db8b92-acc2-41f2-b137-35617d040812\")) {\n",
       "                    Plotly.newPlot(\n",
       "                        'c0db8b92-acc2-41f2-b137-35617d040812',\n",
       "                        [{\"alignmentgroup\": \"True\", \"hovertemplate\": \"Condition=%{x}<br>Price(GH\\u00a2)=%{y}<extra></extra>\", \"legendgroup\": \"\", \"marker\": {\"color\": \"#636efa\"}, \"name\": \"\", \"notched\": false, \"offsetgroup\": \"\", \"orientation\": \"v\", \"showlegend\": false, \"type\": \"box\", \"x\": [\"Used\", \"Used\", \"New\", \"Used\", \"Used\", \"Used\", \"Used\", \"Used\", \"Used\", \"New\", \"Used\", \"New\", \"Used\", \"Used\", \"New\", \"Used\", \"Used\", \"New\", \"Used\", \"Used\", \"Used\", \"Used\", \"Used\", \"Used\", \"Used\", \"New\", \"Used\", \"Used\", \"Used\", \"New\", \"Used\", \"Used\", \"Used\", \"Used\", \"New\", \"Used\", \"Used\", \"Used\", \"Used\", \"Used\", \"Used\", \"New\", \"Used\", \"Used\", \"Used\", \"Used\", \"Used\", \"Used\", \"New\", \"Used\", \"Used\", \"Used\", \"New\", \"New\", \"Used\", \"Used\", \"Used\", \"Used\", \"Used\", \"Used\", \"New\", \"Used\", \"New\", \"Used\", \"New\", \"New\", \"Used\", \"Used\", \"Used\", \"Used\", \"Used\", \"Used\", \"Used\", \"Used\", \"Used\", \"Used\", \"Used\", \"Used\", \"Used\", \"Used\", \"Used\", \"New\", \"New\", \"New\", \"Used\", \"New\", \"Used\", \"Used\", \"Used\", \"Used\", \"Used\", \"Used\", \"Used\", \"Used\", \"Used\", \"Used\", \"Used\", \"Used\", \"Used\", \"Used\", \"Used\", \"Used\", \"Used\", \"New\", \"Used\", \"Used\", \"Used\", \"Used\", \"Used\", \"Used\", \"Used\", \"Used\", \"Used\", \"Used\", \"Used\", \"Used\", \"Used\", \"Used\", \"Used\", \"Used\", \"Used\", \"Used\", \"Used\", \"Used\", \"Used\", \"Used\", \"New\", \"Used\", \"Used\", \"New\", \"New\", \"Used\", \"Used\", \"Used\", \"Used\", \"Used\", \"Used\", \"Used\", \"Used\", \"Used\", \"Used\", \"Used\", \"Used\", \"Used\", \"Used\", \"Used\", \"Used\", \"Used\", \"Used\", \"Used\", \"Used\", \"Used\", \"Used\", \"Used\", \"Used\", \"Used\", \"Used\", \"Used\", \"Used\", \"Used\", \"Used\", \"Used\", \"Used\", \"Used\", \"New\", \"Used\", \"Used\", \"Used\", \"New\", \"Used\", \"Used\", \"New\", \"New\", \"Used\", \"Used\", \"Used\", \"Used\", \"Used\", \"New\", \"Used\", \"Used\", \"Used\", \"New\", \"Used\", \"Used\", \"Used\", \"Used\", \"Used\", \"Used\", \"Used\", \"Used\", \"Used\", \"Used\", \"Used\", \"Used\", \"Used\", \"Used\", \"Used\", \"Used\", \"Used\", \"Used\", \"Used\", \"Used\", \"Used\", \"Used\", \"Used\", \"Used\", \"Used\", \"Used\", \"Used\", \"Used\", \"Used\", \"Used\", \"Used\", \"Used\", \"Used\", \"Used\", \"Used\", \"Used\", \"Used\", \"Used\", \"Used\", \"Used\", \"New\", \"Used\", \"Used\", \"Used\", \"New\", \"Used\", \"Used\", \"Used\", \"Used\", \"Used\", \"Used\", \"Used\", \"Used\", \"Used\", \"Used\", \"Used\", \"Used\", \"Used\", \"Used\", \"Used\", \"New\", \"Used\", \"Used\", \"Used\", \"Used\", \"Used\", \"Used\", \"New\", \"Used\", \"Used\", \"Used\", \"Used\", \"Used\", \"Used\", \"Used\", \"Used\", \"Used\", \"Used\", \"Used\", \"Used\", \"Used\", \"Used\", \"New\", \"Used\", \"Used\", \"Used\", \"Used\", \"Used\", \"Used\", \"Used\", \"Used\", \"Used\", \"Used\", \"New\", \"Used\", \"Used\", \"New\", \"Used\", \"New\", \"Used\", \"Used\", \"Used\", \"Used\", \"New\", \"New\", \"Used\", \"New\", \"Used\", \"Used\", \"Used\", \"New\", \"Used\", \"Used\", \"Used\", \"Used\", \"Used\", \"Used\", \"Used\", \"Used\", \"Used\", \"Used\", \"Used\", \"Used\", \"Used\", \"Used\", \"Used\", \"Used\", \"Used\", \"Used\", \"Used\", \"Used\", \"Used\", \"Used\", \"Used\", \"Used\", \"Used\", \"Used\", \"Used\", \"Used\", \"Used\", \"New\", \"Used\", \"Used\", \"Used\", \"Used\", \"Used\", \"Used\", \"New\", \"Used\", \"Used\"], \"x0\": \" \", \"xaxis\": \"x\", \"y\": [42500, 42000, 48000, 60000, 44000, 68500, 58000, 42500, 48000, 69500, 45000, 55500, 70000, 44000, 65000, 58000, 56000, 55500, 60000, 48000, 76000, 43500, 75000, 53000, 56000, 72000, 52500, 45000, 42000, 60000, 55000, 46000, 53000, 56500, 62000, 70000, 55500, 51000, 44000, 52000, 48100, 43000, 47200, 45000, 47000, 45000, 60000, 65000, 42000, 58000, 74000, 43500, 49900, 65777, 72000, 55000, 70000, 62000, 59800, 49000, 78000, 55000, 74000, 49500, 41777, 47777, 50000, 75000, 65000, 50555, 42000, 78500, 46000, 50555, 48950, 55000, 60000, 62000, 55000, 45500, 47000, 43000, 46500, 50000, 64000, 78000, 47000, 40999, 50500, 79500, 49500, 58500, 51000, 65500, 62000, 45000, 65000, 45000, 77000, 45000, 78000, 48500, 62000, 54500, 68000, 68000, 46500, 65000, 78000, 55000, 58500, 41000, 40500, 77000, 65000, 67000, 48500, 52000, 66600, 65000, 75000, 45000, 42000, 50000, 62000, 46000, 66000, 72000, 76000, 47500, 43500, 78000, 68000, 40500, 58500, 41900, 48000, 60000, 75000, 45000, 65000, 43500, 70000, 58500, 63000, 63800, 48500, 45000, 42000, 45000, 50000, 45000, 58000, 79000, 45000, 50000, 67000, 46000, 59900, 42000, 43000, 45000, 50000, 48000, 78000, 43000, 55000, 60000, 64000, 62900, 49000, 63000, 62000, 42500, 62000, 48500, 48500, 43500, 69000, 48500, 58000, 57500, 56500, 43000, 55000, 60000, 55000, 77000, 58000, 55000, 45500, 52000, 56500, 68000, 48000, 70000, 42000, 40500, 78000, 57000, 52000, 68000, 42000, 42000, 56000, 45000, 59500, 75000, 75500, 63000, 56000, 59500, 41000, 63000, 42500, 43000, 75000, 56000, 63000, 58000, 63000, 55000, 47000, 54000, 46000, 68500, 49000, 78000, 57000, 75000, 60500, 45500, 75000, 65000, 57500, 43500, 55000, 42000, 70000, 44500, 54500, 63000, 65700, 44500, 78000, 78000, 45500, 55200, 71588, 72000, 65000, 73000, 49500, 63000, 78500, 57500, 46000, 48500, 48000, 50500, 46500, 74500, 53000, 49000, 53000, 60000, 62000, 42000, 46000, 50000, 70000, 42400, 58000, 61000, 75000, 42500, 67000, 43000, 75000, 77000, 65000, 60000, 78000, 48500, 65000, 42000, 42500, 53000, 51000, 47500, 63500, 65500, 58000, 68000, 56500, 52500, 60000, 65000, 65000, 77000, 46000, 42800, 45000, 65000, 55000, 67000, 44000, 48000, 65000, 43000, 57888, 52000, 49000, 67000, 57000, 57000, 75000, 79000, 45000, 49500, 46500, 49500, 49000, 60000, 43000, 69500, 43000, 55000, 79000, 60000, 71000, 40700, 68500], \"y0\": \" \", \"yaxis\": \"y\"}],\n",
       "                        {\"boxmode\": \"group\", \"legend\": {\"tracegroupgap\": 0}, \"template\": {\"data\": {\"bar\": [{\"error_x\": {\"color\": \"#2a3f5f\"}, \"error_y\": {\"color\": \"#2a3f5f\"}, \"marker\": {\"line\": {\"color\": \"#E5ECF6\", \"width\": 0.5}}, \"type\": \"bar\"}], \"barpolar\": [{\"marker\": {\"line\": {\"color\": \"#E5ECF6\", \"width\": 0.5}}, \"type\": \"barpolar\"}], \"carpet\": [{\"aaxis\": {\"endlinecolor\": \"#2a3f5f\", \"gridcolor\": \"white\", \"linecolor\": \"white\", \"minorgridcolor\": \"white\", \"startlinecolor\": \"#2a3f5f\"}, \"baxis\": {\"endlinecolor\": \"#2a3f5f\", \"gridcolor\": \"white\", \"linecolor\": \"white\", \"minorgridcolor\": \"white\", \"startlinecolor\": \"#2a3f5f\"}, \"type\": \"carpet\"}], \"choropleth\": [{\"colorbar\": {\"outlinewidth\": 0, \"ticks\": \"\"}, \"type\": \"choropleth\"}], \"contour\": [{\"colorbar\": {\"outlinewidth\": 0, \"ticks\": \"\"}, \"colorscale\": [[0.0, \"#0d0887\"], [0.1111111111111111, \"#46039f\"], [0.2222222222222222, \"#7201a8\"], [0.3333333333333333, \"#9c179e\"], [0.4444444444444444, \"#bd3786\"], [0.5555555555555556, \"#d8576b\"], [0.6666666666666666, \"#ed7953\"], [0.7777777777777778, \"#fb9f3a\"], [0.8888888888888888, \"#fdca26\"], [1.0, \"#f0f921\"]], \"type\": \"contour\"}], \"contourcarpet\": [{\"colorbar\": {\"outlinewidth\": 0, \"ticks\": \"\"}, \"type\": \"contourcarpet\"}], \"heatmap\": [{\"colorbar\": {\"outlinewidth\": 0, \"ticks\": \"\"}, \"colorscale\": [[0.0, \"#0d0887\"], [0.1111111111111111, \"#46039f\"], [0.2222222222222222, \"#7201a8\"], [0.3333333333333333, \"#9c179e\"], [0.4444444444444444, \"#bd3786\"], [0.5555555555555556, \"#d8576b\"], [0.6666666666666666, \"#ed7953\"], [0.7777777777777778, \"#fb9f3a\"], [0.8888888888888888, \"#fdca26\"], [1.0, \"#f0f921\"]], \"type\": \"heatmap\"}], \"heatmapgl\": [{\"colorbar\": {\"outlinewidth\": 0, \"ticks\": \"\"}, \"colorscale\": [[0.0, \"#0d0887\"], [0.1111111111111111, \"#46039f\"], [0.2222222222222222, \"#7201a8\"], [0.3333333333333333, \"#9c179e\"], [0.4444444444444444, \"#bd3786\"], [0.5555555555555556, \"#d8576b\"], [0.6666666666666666, \"#ed7953\"], [0.7777777777777778, \"#fb9f3a\"], [0.8888888888888888, \"#fdca26\"], [1.0, \"#f0f921\"]], \"type\": \"heatmapgl\"}], \"histogram\": [{\"marker\": {\"colorbar\": {\"outlinewidth\": 0, \"ticks\": \"\"}}, \"type\": \"histogram\"}], \"histogram2d\": [{\"colorbar\": {\"outlinewidth\": 0, \"ticks\": \"\"}, \"colorscale\": [[0.0, \"#0d0887\"], [0.1111111111111111, \"#46039f\"], [0.2222222222222222, \"#7201a8\"], [0.3333333333333333, \"#9c179e\"], [0.4444444444444444, \"#bd3786\"], [0.5555555555555556, \"#d8576b\"], [0.6666666666666666, \"#ed7953\"], [0.7777777777777778, \"#fb9f3a\"], [0.8888888888888888, \"#fdca26\"], [1.0, \"#f0f921\"]], \"type\": \"histogram2d\"}], \"histogram2dcontour\": [{\"colorbar\": {\"outlinewidth\": 0, \"ticks\": \"\"}, \"colorscale\": [[0.0, \"#0d0887\"], [0.1111111111111111, \"#46039f\"], [0.2222222222222222, \"#7201a8\"], [0.3333333333333333, \"#9c179e\"], [0.4444444444444444, \"#bd3786\"], [0.5555555555555556, \"#d8576b\"], [0.6666666666666666, \"#ed7953\"], [0.7777777777777778, \"#fb9f3a\"], [0.8888888888888888, \"#fdca26\"], [1.0, \"#f0f921\"]], \"type\": \"histogram2dcontour\"}], \"mesh3d\": [{\"colorbar\": {\"outlinewidth\": 0, \"ticks\": \"\"}, \"type\": \"mesh3d\"}], \"parcoords\": [{\"line\": {\"colorbar\": {\"outlinewidth\": 0, \"ticks\": \"\"}}, \"type\": \"parcoords\"}], \"pie\": [{\"automargin\": true, \"type\": \"pie\"}], \"scatter\": [{\"marker\": {\"colorbar\": {\"outlinewidth\": 0, \"ticks\": \"\"}}, \"type\": \"scatter\"}], \"scatter3d\": [{\"line\": {\"colorbar\": {\"outlinewidth\": 0, \"ticks\": \"\"}}, \"marker\": {\"colorbar\": {\"outlinewidth\": 0, \"ticks\": \"\"}}, \"type\": \"scatter3d\"}], \"scattercarpet\": [{\"marker\": {\"colorbar\": {\"outlinewidth\": 0, \"ticks\": \"\"}}, \"type\": \"scattercarpet\"}], \"scattergeo\": [{\"marker\": {\"colorbar\": {\"outlinewidth\": 0, \"ticks\": \"\"}}, \"type\": \"scattergeo\"}], \"scattergl\": [{\"marker\": {\"colorbar\": {\"outlinewidth\": 0, \"ticks\": \"\"}}, \"type\": \"scattergl\"}], \"scattermapbox\": [{\"marker\": {\"colorbar\": {\"outlinewidth\": 0, \"ticks\": \"\"}}, \"type\": \"scattermapbox\"}], \"scatterpolar\": [{\"marker\": {\"colorbar\": {\"outlinewidth\": 0, \"ticks\": \"\"}}, \"type\": \"scatterpolar\"}], \"scatterpolargl\": [{\"marker\": {\"colorbar\": {\"outlinewidth\": 0, \"ticks\": \"\"}}, \"type\": \"scatterpolargl\"}], \"scatterternary\": [{\"marker\": {\"colorbar\": {\"outlinewidth\": 0, \"ticks\": \"\"}}, \"type\": \"scatterternary\"}], \"surface\": [{\"colorbar\": {\"outlinewidth\": 0, \"ticks\": \"\"}, \"colorscale\": [[0.0, \"#0d0887\"], [0.1111111111111111, \"#46039f\"], [0.2222222222222222, \"#7201a8\"], [0.3333333333333333, \"#9c179e\"], [0.4444444444444444, \"#bd3786\"], [0.5555555555555556, \"#d8576b\"], [0.6666666666666666, \"#ed7953\"], [0.7777777777777778, \"#fb9f3a\"], [0.8888888888888888, \"#fdca26\"], [1.0, \"#f0f921\"]], \"type\": \"surface\"}], \"table\": [{\"cells\": {\"fill\": {\"color\": \"#EBF0F8\"}, \"line\": {\"color\": \"white\"}}, \"header\": {\"fill\": {\"color\": \"#C8D4E3\"}, \"line\": {\"color\": \"white\"}}, \"type\": \"table\"}]}, \"layout\": {\"annotationdefaults\": {\"arrowcolor\": \"#2a3f5f\", \"arrowhead\": 0, \"arrowwidth\": 1}, \"coloraxis\": {\"colorbar\": {\"outlinewidth\": 0, \"ticks\": \"\"}}, \"colorscale\": {\"diverging\": [[0, \"#8e0152\"], [0.1, \"#c51b7d\"], [0.2, \"#de77ae\"], [0.3, \"#f1b6da\"], [0.4, \"#fde0ef\"], [0.5, \"#f7f7f7\"], [0.6, \"#e6f5d0\"], [0.7, \"#b8e186\"], [0.8, \"#7fbc41\"], [0.9, \"#4d9221\"], [1, \"#276419\"]], \"sequential\": [[0.0, \"#0d0887\"], [0.1111111111111111, \"#46039f\"], [0.2222222222222222, \"#7201a8\"], [0.3333333333333333, \"#9c179e\"], [0.4444444444444444, \"#bd3786\"], [0.5555555555555556, \"#d8576b\"], [0.6666666666666666, \"#ed7953\"], [0.7777777777777778, \"#fb9f3a\"], [0.8888888888888888, \"#fdca26\"], [1.0, \"#f0f921\"]], \"sequentialminus\": [[0.0, \"#0d0887\"], [0.1111111111111111, \"#46039f\"], [0.2222222222222222, \"#7201a8\"], [0.3333333333333333, \"#9c179e\"], [0.4444444444444444, \"#bd3786\"], [0.5555555555555556, \"#d8576b\"], [0.6666666666666666, \"#ed7953\"], [0.7777777777777778, \"#fb9f3a\"], [0.8888888888888888, \"#fdca26\"], [1.0, \"#f0f921\"]]}, \"colorway\": [\"#636efa\", \"#EF553B\", \"#00cc96\", \"#ab63fa\", \"#FFA15A\", \"#19d3f3\", \"#FF6692\", \"#B6E880\", \"#FF97FF\", \"#FECB52\"], \"font\": {\"color\": \"#2a3f5f\"}, \"geo\": {\"bgcolor\": \"white\", \"lakecolor\": \"white\", \"landcolor\": \"#E5ECF6\", \"showlakes\": true, \"showland\": true, \"subunitcolor\": \"white\"}, \"hoverlabel\": {\"align\": \"left\"}, \"hovermode\": \"closest\", \"mapbox\": {\"style\": \"light\"}, \"paper_bgcolor\": \"white\", \"plot_bgcolor\": \"#E5ECF6\", \"polar\": {\"angularaxis\": {\"gridcolor\": \"white\", \"linecolor\": \"white\", \"ticks\": \"\"}, \"bgcolor\": \"#E5ECF6\", \"radialaxis\": {\"gridcolor\": \"white\", \"linecolor\": \"white\", \"ticks\": \"\"}}, \"scene\": {\"xaxis\": {\"backgroundcolor\": \"#E5ECF6\", \"gridcolor\": \"white\", \"gridwidth\": 2, \"linecolor\": \"white\", \"showbackground\": true, \"ticks\": \"\", \"zerolinecolor\": \"white\"}, \"yaxis\": {\"backgroundcolor\": \"#E5ECF6\", \"gridcolor\": \"white\", \"gridwidth\": 2, \"linecolor\": \"white\", \"showbackground\": true, \"ticks\": \"\", \"zerolinecolor\": \"white\"}, \"zaxis\": {\"backgroundcolor\": \"#E5ECF6\", \"gridcolor\": \"white\", \"gridwidth\": 2, \"linecolor\": \"white\", \"showbackground\": true, \"ticks\": \"\", \"zerolinecolor\": \"white\"}}, \"shapedefaults\": {\"line\": {\"color\": \"#2a3f5f\"}}, \"ternary\": {\"aaxis\": {\"gridcolor\": \"white\", \"linecolor\": \"white\", \"ticks\": \"\"}, \"baxis\": {\"gridcolor\": \"white\", \"linecolor\": \"white\", \"ticks\": \"\"}, \"bgcolor\": \"#E5ECF6\", \"caxis\": {\"gridcolor\": \"white\", \"linecolor\": \"white\", \"ticks\": \"\"}}, \"title\": {\"x\": 0.05}, \"xaxis\": {\"automargin\": true, \"gridcolor\": \"white\", \"linecolor\": \"white\", \"ticks\": \"\", \"title\": {\"standoff\": 15}, \"zerolinecolor\": \"white\", \"zerolinewidth\": 2}, \"yaxis\": {\"automargin\": true, \"gridcolor\": \"white\", \"linecolor\": \"white\", \"ticks\": \"\", \"title\": {\"standoff\": 15}, \"zerolinecolor\": \"white\", \"zerolinewidth\": 2}}}, \"title\": {\"text\": \"Relationship between each condition and price\"}, \"xaxis\": {\"anchor\": \"y\", \"domain\": [0.0, 1.0], \"title\": {\"text\": \"Condition\"}}, \"yaxis\": {\"anchor\": \"x\", \"domain\": [0.0, 1.0], \"title\": {\"text\": \"Price(GH\\u00a2)\"}}},\n",
       "                        {\"responsive\": true}\n",
       "                    ).then(function(){\n",
       "                            \n",
       "var gd = document.getElementById('c0db8b92-acc2-41f2-b137-35617d040812');\n",
       "var x = new MutationObserver(function (mutations, observer) {{\n",
       "        var display = window.getComputedStyle(gd).display;\n",
       "        if (!display || display === 'none') {{\n",
       "            console.log([gd, 'removed!']);\n",
       "            Plotly.purge(gd);\n",
       "            observer.disconnect();\n",
       "        }}\n",
       "}});\n",
       "\n",
       "// Listen for the removal of the full notebook cells\n",
       "var notebookContainer = gd.closest('#notebook-container');\n",
       "if (notebookContainer) {{\n",
       "    x.observe(notebookContainer, {childList: true});\n",
       "}}\n",
       "\n",
       "// Listen for the clearing of the current output cell\n",
       "var outputEl = gd.closest('.output');\n",
       "if (outputEl) {{\n",
       "    x.observe(outputEl, {childList: true});\n",
       "}}\n",
       "\n",
       "                        })\n",
       "                };\n",
       "                });\n",
       "            </script>\n",
       "        </div>"
      ]
     },
     "metadata": {},
     "output_type": "display_data"
    }
   ],
   "source": [
    "fig = px.box(filtered, x=\"Condition\", y=\"Price(GH¢)\", title='Relationship between each condition and price')\n",
    "fig.show()"
   ]
  },
  {
   "cell_type": "code",
   "execution_count": 65,
   "metadata": {
    "scrolled": true
   },
   "outputs": [
    {
     "data": {
      "text/plain": [
       "Condition\n",
       "New     59062.068182\n",
       "Used    56259.636678\n",
       "Name: Price(GH¢), dtype: float64"
      ]
     },
     "execution_count": 65,
     "metadata": {},
     "output_type": "execute_result"
    }
   ],
   "source": [
    "filtered.groupby('Condition').mean()['Price(GH¢)']"
   ]
  },
  {
   "cell_type": "markdown",
   "metadata": {},
   "source": [
    "### Transmission vs Price"
   ]
  },
  {
   "cell_type": "code",
   "execution_count": 66,
   "metadata": {},
   "outputs": [
    {
     "data": {
      "application/vnd.plotly.v1+json": {
       "config": {
        "plotlyServerURL": "https://plot.ly"
       },
       "data": [
        {
         "alignmentgroup": "True",
         "hovertemplate": "Transmission=%{x}<br>Price(GH¢)=%{y}<extra></extra>",
         "legendgroup": "",
         "marker": {
          "color": "#636efa"
         },
         "name": "",
         "notched": false,
         "offsetgroup": "",
         "orientation": "v",
         "showlegend": false,
         "type": "box",
         "x": [
          "Automatic",
          "Automatic",
          "Automatic",
          "Manual",
          "Automatic",
          "Automatic",
          "Automatic",
          "Automatic",
          "Automatic",
          "Automatic",
          "Manual",
          "Automatic",
          "Automatic",
          "Automatic",
          "Automatic",
          "Automatic",
          "Automatic",
          "Automatic",
          "Automatic",
          "Automatic",
          "Automatic",
          "Automatic",
          "Automatic",
          "Automatic",
          "Manual",
          "Automatic",
          "Automatic",
          "Automatic",
          "Automatic",
          "Automatic",
          "Automatic",
          "Automatic",
          "Automatic",
          "Automatic",
          "Automatic",
          "Automatic",
          "Automatic",
          "Automatic",
          "Automatic",
          "Automatic",
          "Manual",
          "Automatic",
          "Manual",
          "Automatic",
          "Automatic",
          "Automatic",
          "Automatic",
          "Automatic",
          "Automatic",
          "Automatic",
          "Automatic",
          "Automatic",
          "Automatic",
          "Automatic",
          "Automatic",
          "Automatic",
          "Automatic",
          "Automatic",
          "Automatic",
          "Automatic",
          "Automatic",
          "Manual",
          "Automatic",
          "Automatic",
          "Automatic",
          "Automatic",
          "Automatic",
          "Automatic",
          "Automatic",
          "Automatic",
          "Automatic",
          "Automatic",
          "Automatic",
          "Automatic",
          "Automatic",
          "Automatic",
          "Automatic",
          "Automatic",
          "Automatic",
          "Automatic",
          "Automatic",
          "Automatic",
          "Automatic",
          "Automatic",
          "Automatic",
          "Manual",
          "Automatic",
          "Automatic",
          "Automatic",
          "Automatic",
          "Automatic",
          "Automatic",
          "Automatic",
          "Automatic",
          "Automatic",
          "Automatic",
          "Automatic",
          "Automatic",
          "Automatic",
          "Automatic",
          "Automatic",
          "Automatic",
          "Automatic",
          "Automatic",
          "Automatic",
          "Automatic",
          "Automatic",
          "Automatic",
          "Automatic",
          "Automatic",
          "Automatic",
          "Automatic",
          "Automatic",
          "Automatic",
          "Automatic",
          "Automatic",
          "Automatic",
          "Automatic",
          "Automatic",
          "Automatic",
          "Automatic",
          "Automatic",
          "Automatic",
          "Automatic",
          "Automatic",
          "Automatic",
          "Automatic",
          "Automatic",
          "Automatic",
          "Automatic",
          "Automatic",
          "Automatic",
          "Automatic",
          "Automatic",
          "Automatic",
          "Automatic",
          "Automatic",
          "Automatic",
          "Automatic",
          "Automatic",
          "Automatic",
          "Automatic",
          "Automatic",
          "Automatic",
          "Automatic",
          "Automatic",
          "Automatic",
          "Automatic",
          "Automatic",
          "Automatic",
          "Automatic",
          "Automatic",
          "Automatic",
          "Automatic",
          "Automatic",
          "Automatic",
          "Automatic",
          "Automatic",
          "Automatic",
          "Automatic",
          "Automatic",
          "Automatic",
          "Automatic",
          "Automatic",
          "Automatic",
          "Automatic",
          "Automatic",
          "Automatic",
          "Automatic",
          "Automatic",
          "Automatic",
          "Automatic",
          "Automatic",
          "Automatic",
          "Automatic",
          "Automatic",
          "Automatic",
          "Automatic",
          "Automatic",
          "Automatic",
          "Automatic",
          "Manual",
          "Automatic",
          "Automatic",
          "Automatic",
          "Automatic",
          "Automatic",
          "Automatic",
          "Automatic",
          "Automatic",
          "Automatic",
          "Automatic",
          "Automatic",
          "Automatic",
          "Automatic",
          "Automatic",
          "Automatic",
          "Automatic",
          "Automatic",
          "Automatic",
          "Automatic",
          "Automatic",
          "Automatic",
          "Automatic",
          "Automatic",
          "Automatic",
          "Automatic",
          "Automatic",
          "Automatic",
          "Automatic",
          "Automatic",
          "Automatic",
          "Automatic",
          "Automatic",
          "Automatic",
          "Automatic",
          "Automatic",
          "Automatic",
          "Automatic",
          "Automatic",
          "Automatic",
          "Automatic",
          "Automatic",
          "Automatic",
          "Automatic",
          "Automatic",
          "Automatic",
          "Automatic",
          "Automatic",
          "Automatic",
          "Automatic",
          "Automatic",
          "Automatic",
          "Automatic",
          "Automatic",
          "Automatic",
          "Automatic",
          "Automatic",
          "Automatic",
          "Automatic",
          "Automatic",
          "Automatic",
          "Automatic",
          "Automatic",
          "Automatic",
          "Automatic",
          "Automatic",
          "Automatic",
          "Automatic",
          "Automatic",
          "Automatic",
          "Automatic",
          "Automatic",
          "Automatic",
          "Automatic",
          "Automatic",
          "Automatic",
          "Automatic",
          "Automatic",
          "Automatic",
          "Automatic",
          "Automatic",
          "Automatic",
          "Automatic",
          "Automatic",
          "Automatic",
          "Automatic",
          "Automatic",
          "Automatic",
          "Automatic",
          "Automatic",
          "Automatic",
          "Automatic",
          "Automatic",
          "Automatic",
          "Automatic",
          "Automatic",
          "Automatic",
          "Automatic",
          "Automatic",
          "Automatic",
          "Automatic",
          "Automatic",
          "Automatic",
          "Automatic",
          "Automatic",
          "Automatic",
          "Automatic",
          "Automatic",
          "Automatic",
          "Automatic",
          "Automatic",
          "Automatic",
          "Automatic",
          "Automatic",
          "Automatic",
          "Manual",
          "Automatic",
          "Automatic",
          "Automatic",
          "Automatic",
          "Automatic",
          "Automatic",
          "Automatic",
          "Automatic",
          "Automatic",
          "Automatic",
          "Automatic",
          "Automatic",
          "Automatic",
          "Automatic",
          "Automatic",
          "Automatic",
          "Automatic",
          "Automatic",
          "Automatic",
          "Automatic",
          "Automatic",
          "Automatic",
          "Automatic",
          "Automatic",
          "Automatic",
          "Automatic",
          "Automatic",
          "Automatic",
          "Automatic",
          "Automatic",
          "Automatic",
          "Automatic",
          "Automatic",
          "Automatic",
          "Automatic",
          "Automatic"
         ],
         "x0": " ",
         "xaxis": "x",
         "y": [
          42500,
          42000,
          48000,
          60000,
          44000,
          68500,
          58000,
          42500,
          48000,
          69500,
          45000,
          55500,
          70000,
          44000,
          65000,
          58000,
          56000,
          55500,
          60000,
          48000,
          76000,
          43500,
          75000,
          53000,
          56000,
          72000,
          52500,
          45000,
          42000,
          60000,
          55000,
          46000,
          53000,
          56500,
          62000,
          70000,
          55500,
          51000,
          44000,
          52000,
          48100,
          43000,
          47200,
          45000,
          47000,
          45000,
          60000,
          65000,
          42000,
          58000,
          74000,
          43500,
          49900,
          65777,
          72000,
          55000,
          70000,
          62000,
          59800,
          49000,
          78000,
          55000,
          74000,
          49500,
          41777,
          47777,
          50000,
          75000,
          65000,
          50555,
          42000,
          78500,
          46000,
          50555,
          48950,
          55000,
          60000,
          62000,
          55000,
          45500,
          47000,
          43000,
          46500,
          50000,
          64000,
          78000,
          47000,
          40999,
          50500,
          79500,
          49500,
          58500,
          51000,
          65500,
          62000,
          45000,
          65000,
          45000,
          77000,
          45000,
          78000,
          48500,
          62000,
          54500,
          68000,
          68000,
          46500,
          65000,
          78000,
          55000,
          58500,
          41000,
          40500,
          77000,
          65000,
          67000,
          48500,
          52000,
          66600,
          65000,
          75000,
          45000,
          42000,
          50000,
          62000,
          46000,
          66000,
          72000,
          76000,
          47500,
          43500,
          78000,
          68000,
          40500,
          58500,
          41900,
          48000,
          60000,
          75000,
          45000,
          65000,
          43500,
          70000,
          58500,
          63000,
          63800,
          48500,
          45000,
          42000,
          45000,
          50000,
          45000,
          58000,
          79000,
          45000,
          50000,
          67000,
          46000,
          59900,
          42000,
          43000,
          45000,
          50000,
          48000,
          78000,
          43000,
          55000,
          60000,
          64000,
          62900,
          49000,
          63000,
          62000,
          42500,
          62000,
          48500,
          48500,
          43500,
          69000,
          48500,
          58000,
          57500,
          56500,
          43000,
          55000,
          60000,
          55000,
          77000,
          58000,
          55000,
          45500,
          52000,
          56500,
          68000,
          48000,
          70000,
          42000,
          40500,
          78000,
          57000,
          52000,
          68000,
          42000,
          42000,
          56000,
          45000,
          59500,
          75000,
          75500,
          63000,
          56000,
          59500,
          41000,
          63000,
          42500,
          43000,
          75000,
          56000,
          63000,
          58000,
          63000,
          55000,
          47000,
          54000,
          46000,
          68500,
          49000,
          78000,
          57000,
          75000,
          60500,
          45500,
          75000,
          65000,
          57500,
          43500,
          55000,
          42000,
          70000,
          44500,
          54500,
          63000,
          65700,
          44500,
          78000,
          78000,
          45500,
          55200,
          71588,
          72000,
          65000,
          73000,
          49500,
          63000,
          78500,
          57500,
          46000,
          48500,
          48000,
          50500,
          46500,
          74500,
          53000,
          49000,
          53000,
          60000,
          62000,
          42000,
          46000,
          50000,
          70000,
          42400,
          58000,
          61000,
          75000,
          42500,
          67000,
          43000,
          75000,
          77000,
          65000,
          60000,
          78000,
          48500,
          65000,
          42000,
          42500,
          53000,
          51000,
          47500,
          63500,
          65500,
          58000,
          68000,
          56500,
          52500,
          60000,
          65000,
          65000,
          77000,
          46000,
          42800,
          45000,
          65000,
          55000,
          67000,
          44000,
          48000,
          65000,
          43000,
          57888,
          52000,
          49000,
          67000,
          57000,
          57000,
          75000,
          79000,
          45000,
          49500,
          46500,
          49500,
          49000,
          60000,
          43000,
          69500,
          43000,
          55000,
          79000,
          60000,
          71000,
          40700,
          68500
         ],
         "y0": " ",
         "yaxis": "y"
        }
       ],
       "layout": {
        "boxmode": "group",
        "legend": {
         "tracegroupgap": 0
        },
        "template": {
         "data": {
          "bar": [
           {
            "error_x": {
             "color": "#2a3f5f"
            },
            "error_y": {
             "color": "#2a3f5f"
            },
            "marker": {
             "line": {
              "color": "#E5ECF6",
              "width": 0.5
             }
            },
            "type": "bar"
           }
          ],
          "barpolar": [
           {
            "marker": {
             "line": {
              "color": "#E5ECF6",
              "width": 0.5
             }
            },
            "type": "barpolar"
           }
          ],
          "carpet": [
           {
            "aaxis": {
             "endlinecolor": "#2a3f5f",
             "gridcolor": "white",
             "linecolor": "white",
             "minorgridcolor": "white",
             "startlinecolor": "#2a3f5f"
            },
            "baxis": {
             "endlinecolor": "#2a3f5f",
             "gridcolor": "white",
             "linecolor": "white",
             "minorgridcolor": "white",
             "startlinecolor": "#2a3f5f"
            },
            "type": "carpet"
           }
          ],
          "choropleth": [
           {
            "colorbar": {
             "outlinewidth": 0,
             "ticks": ""
            },
            "type": "choropleth"
           }
          ],
          "contour": [
           {
            "colorbar": {
             "outlinewidth": 0,
             "ticks": ""
            },
            "colorscale": [
             [
              0,
              "#0d0887"
             ],
             [
              0.1111111111111111,
              "#46039f"
             ],
             [
              0.2222222222222222,
              "#7201a8"
             ],
             [
              0.3333333333333333,
              "#9c179e"
             ],
             [
              0.4444444444444444,
              "#bd3786"
             ],
             [
              0.5555555555555556,
              "#d8576b"
             ],
             [
              0.6666666666666666,
              "#ed7953"
             ],
             [
              0.7777777777777778,
              "#fb9f3a"
             ],
             [
              0.8888888888888888,
              "#fdca26"
             ],
             [
              1,
              "#f0f921"
             ]
            ],
            "type": "contour"
           }
          ],
          "contourcarpet": [
           {
            "colorbar": {
             "outlinewidth": 0,
             "ticks": ""
            },
            "type": "contourcarpet"
           }
          ],
          "heatmap": [
           {
            "colorbar": {
             "outlinewidth": 0,
             "ticks": ""
            },
            "colorscale": [
             [
              0,
              "#0d0887"
             ],
             [
              0.1111111111111111,
              "#46039f"
             ],
             [
              0.2222222222222222,
              "#7201a8"
             ],
             [
              0.3333333333333333,
              "#9c179e"
             ],
             [
              0.4444444444444444,
              "#bd3786"
             ],
             [
              0.5555555555555556,
              "#d8576b"
             ],
             [
              0.6666666666666666,
              "#ed7953"
             ],
             [
              0.7777777777777778,
              "#fb9f3a"
             ],
             [
              0.8888888888888888,
              "#fdca26"
             ],
             [
              1,
              "#f0f921"
             ]
            ],
            "type": "heatmap"
           }
          ],
          "heatmapgl": [
           {
            "colorbar": {
             "outlinewidth": 0,
             "ticks": ""
            },
            "colorscale": [
             [
              0,
              "#0d0887"
             ],
             [
              0.1111111111111111,
              "#46039f"
             ],
             [
              0.2222222222222222,
              "#7201a8"
             ],
             [
              0.3333333333333333,
              "#9c179e"
             ],
             [
              0.4444444444444444,
              "#bd3786"
             ],
             [
              0.5555555555555556,
              "#d8576b"
             ],
             [
              0.6666666666666666,
              "#ed7953"
             ],
             [
              0.7777777777777778,
              "#fb9f3a"
             ],
             [
              0.8888888888888888,
              "#fdca26"
             ],
             [
              1,
              "#f0f921"
             ]
            ],
            "type": "heatmapgl"
           }
          ],
          "histogram": [
           {
            "marker": {
             "colorbar": {
              "outlinewidth": 0,
              "ticks": ""
             }
            },
            "type": "histogram"
           }
          ],
          "histogram2d": [
           {
            "colorbar": {
             "outlinewidth": 0,
             "ticks": ""
            },
            "colorscale": [
             [
              0,
              "#0d0887"
             ],
             [
              0.1111111111111111,
              "#46039f"
             ],
             [
              0.2222222222222222,
              "#7201a8"
             ],
             [
              0.3333333333333333,
              "#9c179e"
             ],
             [
              0.4444444444444444,
              "#bd3786"
             ],
             [
              0.5555555555555556,
              "#d8576b"
             ],
             [
              0.6666666666666666,
              "#ed7953"
             ],
             [
              0.7777777777777778,
              "#fb9f3a"
             ],
             [
              0.8888888888888888,
              "#fdca26"
             ],
             [
              1,
              "#f0f921"
             ]
            ],
            "type": "histogram2d"
           }
          ],
          "histogram2dcontour": [
           {
            "colorbar": {
             "outlinewidth": 0,
             "ticks": ""
            },
            "colorscale": [
             [
              0,
              "#0d0887"
             ],
             [
              0.1111111111111111,
              "#46039f"
             ],
             [
              0.2222222222222222,
              "#7201a8"
             ],
             [
              0.3333333333333333,
              "#9c179e"
             ],
             [
              0.4444444444444444,
              "#bd3786"
             ],
             [
              0.5555555555555556,
              "#d8576b"
             ],
             [
              0.6666666666666666,
              "#ed7953"
             ],
             [
              0.7777777777777778,
              "#fb9f3a"
             ],
             [
              0.8888888888888888,
              "#fdca26"
             ],
             [
              1,
              "#f0f921"
             ]
            ],
            "type": "histogram2dcontour"
           }
          ],
          "mesh3d": [
           {
            "colorbar": {
             "outlinewidth": 0,
             "ticks": ""
            },
            "type": "mesh3d"
           }
          ],
          "parcoords": [
           {
            "line": {
             "colorbar": {
              "outlinewidth": 0,
              "ticks": ""
             }
            },
            "type": "parcoords"
           }
          ],
          "pie": [
           {
            "automargin": true,
            "type": "pie"
           }
          ],
          "scatter": [
           {
            "marker": {
             "colorbar": {
              "outlinewidth": 0,
              "ticks": ""
             }
            },
            "type": "scatter"
           }
          ],
          "scatter3d": [
           {
            "line": {
             "colorbar": {
              "outlinewidth": 0,
              "ticks": ""
             }
            },
            "marker": {
             "colorbar": {
              "outlinewidth": 0,
              "ticks": ""
             }
            },
            "type": "scatter3d"
           }
          ],
          "scattercarpet": [
           {
            "marker": {
             "colorbar": {
              "outlinewidth": 0,
              "ticks": ""
             }
            },
            "type": "scattercarpet"
           }
          ],
          "scattergeo": [
           {
            "marker": {
             "colorbar": {
              "outlinewidth": 0,
              "ticks": ""
             }
            },
            "type": "scattergeo"
           }
          ],
          "scattergl": [
           {
            "marker": {
             "colorbar": {
              "outlinewidth": 0,
              "ticks": ""
             }
            },
            "type": "scattergl"
           }
          ],
          "scattermapbox": [
           {
            "marker": {
             "colorbar": {
              "outlinewidth": 0,
              "ticks": ""
             }
            },
            "type": "scattermapbox"
           }
          ],
          "scatterpolar": [
           {
            "marker": {
             "colorbar": {
              "outlinewidth": 0,
              "ticks": ""
             }
            },
            "type": "scatterpolar"
           }
          ],
          "scatterpolargl": [
           {
            "marker": {
             "colorbar": {
              "outlinewidth": 0,
              "ticks": ""
             }
            },
            "type": "scatterpolargl"
           }
          ],
          "scatterternary": [
           {
            "marker": {
             "colorbar": {
              "outlinewidth": 0,
              "ticks": ""
             }
            },
            "type": "scatterternary"
           }
          ],
          "surface": [
           {
            "colorbar": {
             "outlinewidth": 0,
             "ticks": ""
            },
            "colorscale": [
             [
              0,
              "#0d0887"
             ],
             [
              0.1111111111111111,
              "#46039f"
             ],
             [
              0.2222222222222222,
              "#7201a8"
             ],
             [
              0.3333333333333333,
              "#9c179e"
             ],
             [
              0.4444444444444444,
              "#bd3786"
             ],
             [
              0.5555555555555556,
              "#d8576b"
             ],
             [
              0.6666666666666666,
              "#ed7953"
             ],
             [
              0.7777777777777778,
              "#fb9f3a"
             ],
             [
              0.8888888888888888,
              "#fdca26"
             ],
             [
              1,
              "#f0f921"
             ]
            ],
            "type": "surface"
           }
          ],
          "table": [
           {
            "cells": {
             "fill": {
              "color": "#EBF0F8"
             },
             "line": {
              "color": "white"
             }
            },
            "header": {
             "fill": {
              "color": "#C8D4E3"
             },
             "line": {
              "color": "white"
             }
            },
            "type": "table"
           }
          ]
         },
         "layout": {
          "annotationdefaults": {
           "arrowcolor": "#2a3f5f",
           "arrowhead": 0,
           "arrowwidth": 1
          },
          "coloraxis": {
           "colorbar": {
            "outlinewidth": 0,
            "ticks": ""
           }
          },
          "colorscale": {
           "diverging": [
            [
             0,
             "#8e0152"
            ],
            [
             0.1,
             "#c51b7d"
            ],
            [
             0.2,
             "#de77ae"
            ],
            [
             0.3,
             "#f1b6da"
            ],
            [
             0.4,
             "#fde0ef"
            ],
            [
             0.5,
             "#f7f7f7"
            ],
            [
             0.6,
             "#e6f5d0"
            ],
            [
             0.7,
             "#b8e186"
            ],
            [
             0.8,
             "#7fbc41"
            ],
            [
             0.9,
             "#4d9221"
            ],
            [
             1,
             "#276419"
            ]
           ],
           "sequential": [
            [
             0,
             "#0d0887"
            ],
            [
             0.1111111111111111,
             "#46039f"
            ],
            [
             0.2222222222222222,
             "#7201a8"
            ],
            [
             0.3333333333333333,
             "#9c179e"
            ],
            [
             0.4444444444444444,
             "#bd3786"
            ],
            [
             0.5555555555555556,
             "#d8576b"
            ],
            [
             0.6666666666666666,
             "#ed7953"
            ],
            [
             0.7777777777777778,
             "#fb9f3a"
            ],
            [
             0.8888888888888888,
             "#fdca26"
            ],
            [
             1,
             "#f0f921"
            ]
           ],
           "sequentialminus": [
            [
             0,
             "#0d0887"
            ],
            [
             0.1111111111111111,
             "#46039f"
            ],
            [
             0.2222222222222222,
             "#7201a8"
            ],
            [
             0.3333333333333333,
             "#9c179e"
            ],
            [
             0.4444444444444444,
             "#bd3786"
            ],
            [
             0.5555555555555556,
             "#d8576b"
            ],
            [
             0.6666666666666666,
             "#ed7953"
            ],
            [
             0.7777777777777778,
             "#fb9f3a"
            ],
            [
             0.8888888888888888,
             "#fdca26"
            ],
            [
             1,
             "#f0f921"
            ]
           ]
          },
          "colorway": [
           "#636efa",
           "#EF553B",
           "#00cc96",
           "#ab63fa",
           "#FFA15A",
           "#19d3f3",
           "#FF6692",
           "#B6E880",
           "#FF97FF",
           "#FECB52"
          ],
          "font": {
           "color": "#2a3f5f"
          },
          "geo": {
           "bgcolor": "white",
           "lakecolor": "white",
           "landcolor": "#E5ECF6",
           "showlakes": true,
           "showland": true,
           "subunitcolor": "white"
          },
          "hoverlabel": {
           "align": "left"
          },
          "hovermode": "closest",
          "mapbox": {
           "style": "light"
          },
          "paper_bgcolor": "white",
          "plot_bgcolor": "#E5ECF6",
          "polar": {
           "angularaxis": {
            "gridcolor": "white",
            "linecolor": "white",
            "ticks": ""
           },
           "bgcolor": "#E5ECF6",
           "radialaxis": {
            "gridcolor": "white",
            "linecolor": "white",
            "ticks": ""
           }
          },
          "scene": {
           "xaxis": {
            "backgroundcolor": "#E5ECF6",
            "gridcolor": "white",
            "gridwidth": 2,
            "linecolor": "white",
            "showbackground": true,
            "ticks": "",
            "zerolinecolor": "white"
           },
           "yaxis": {
            "backgroundcolor": "#E5ECF6",
            "gridcolor": "white",
            "gridwidth": 2,
            "linecolor": "white",
            "showbackground": true,
            "ticks": "",
            "zerolinecolor": "white"
           },
           "zaxis": {
            "backgroundcolor": "#E5ECF6",
            "gridcolor": "white",
            "gridwidth": 2,
            "linecolor": "white",
            "showbackground": true,
            "ticks": "",
            "zerolinecolor": "white"
           }
          },
          "shapedefaults": {
           "line": {
            "color": "#2a3f5f"
           }
          },
          "ternary": {
           "aaxis": {
            "gridcolor": "white",
            "linecolor": "white",
            "ticks": ""
           },
           "baxis": {
            "gridcolor": "white",
            "linecolor": "white",
            "ticks": ""
           },
           "bgcolor": "#E5ECF6",
           "caxis": {
            "gridcolor": "white",
            "linecolor": "white",
            "ticks": ""
           }
          },
          "title": {
           "x": 0.05
          },
          "xaxis": {
           "automargin": true,
           "gridcolor": "white",
           "linecolor": "white",
           "ticks": "",
           "title": {
            "standoff": 15
           },
           "zerolinecolor": "white",
           "zerolinewidth": 2
          },
          "yaxis": {
           "automargin": true,
           "gridcolor": "white",
           "linecolor": "white",
           "ticks": "",
           "title": {
            "standoff": 15
           },
           "zerolinecolor": "white",
           "zerolinewidth": 2
          }
         }
        },
        "title": {
         "text": "Relationship between each transmission and price"
        },
        "xaxis": {
         "anchor": "y",
         "domain": [
          0,
          1
         ],
         "title": {
          "text": "Transmission"
         }
        },
        "yaxis": {
         "anchor": "x",
         "domain": [
          0,
          1
         ],
         "title": {
          "text": "Price(GH¢)"
         }
        }
       }
      },
      "text/html": [
       "<div>\n",
       "        \n",
       "        \n",
       "            <div id=\"b5a28a39-cb1d-4312-b03d-88198779bf58\" class=\"plotly-graph-div\" style=\"height:525px; width:100%;\"></div>\n",
       "            <script type=\"text/javascript\">\n",
       "                require([\"plotly\"], function(Plotly) {\n",
       "                    window.PLOTLYENV=window.PLOTLYENV || {};\n",
       "                    \n",
       "                if (document.getElementById(\"b5a28a39-cb1d-4312-b03d-88198779bf58\")) {\n",
       "                    Plotly.newPlot(\n",
       "                        'b5a28a39-cb1d-4312-b03d-88198779bf58',\n",
       "                        [{\"alignmentgroup\": \"True\", \"hovertemplate\": \"Transmission=%{x}<br>Price(GH\\u00a2)=%{y}<extra></extra>\", \"legendgroup\": \"\", \"marker\": {\"color\": \"#636efa\"}, \"name\": \"\", \"notched\": false, \"offsetgroup\": \"\", \"orientation\": \"v\", \"showlegend\": false, \"type\": \"box\", \"x\": [\"Automatic\", \"Automatic\", \"Automatic\", \"Manual\", \"Automatic\", \"Automatic\", \"Automatic\", \"Automatic\", \"Automatic\", \"Automatic\", \"Manual\", \"Automatic\", \"Automatic\", \"Automatic\", \"Automatic\", \"Automatic\", \"Automatic\", \"Automatic\", \"Automatic\", \"Automatic\", \"Automatic\", \"Automatic\", \"Automatic\", \"Automatic\", \"Manual\", \"Automatic\", \"Automatic\", \"Automatic\", \"Automatic\", \"Automatic\", \"Automatic\", \"Automatic\", \"Automatic\", \"Automatic\", \"Automatic\", \"Automatic\", \"Automatic\", \"Automatic\", \"Automatic\", \"Automatic\", \"Manual\", \"Automatic\", \"Manual\", \"Automatic\", \"Automatic\", \"Automatic\", \"Automatic\", \"Automatic\", \"Automatic\", \"Automatic\", \"Automatic\", \"Automatic\", \"Automatic\", \"Automatic\", \"Automatic\", \"Automatic\", \"Automatic\", \"Automatic\", \"Automatic\", \"Automatic\", \"Automatic\", \"Manual\", \"Automatic\", \"Automatic\", \"Automatic\", \"Automatic\", \"Automatic\", \"Automatic\", \"Automatic\", \"Automatic\", \"Automatic\", \"Automatic\", \"Automatic\", \"Automatic\", \"Automatic\", \"Automatic\", \"Automatic\", \"Automatic\", \"Automatic\", \"Automatic\", \"Automatic\", \"Automatic\", \"Automatic\", \"Automatic\", \"Automatic\", \"Manual\", \"Automatic\", \"Automatic\", \"Automatic\", \"Automatic\", \"Automatic\", \"Automatic\", \"Automatic\", \"Automatic\", \"Automatic\", \"Automatic\", \"Automatic\", \"Automatic\", \"Automatic\", \"Automatic\", \"Automatic\", \"Automatic\", \"Automatic\", \"Automatic\", \"Automatic\", \"Automatic\", \"Automatic\", \"Automatic\", \"Automatic\", \"Automatic\", \"Automatic\", \"Automatic\", \"Automatic\", \"Automatic\", \"Automatic\", \"Automatic\", \"Automatic\", \"Automatic\", \"Automatic\", \"Automatic\", \"Automatic\", \"Automatic\", \"Automatic\", \"Automatic\", \"Automatic\", \"Automatic\", \"Automatic\", \"Automatic\", \"Automatic\", \"Automatic\", \"Automatic\", \"Automatic\", \"Automatic\", \"Automatic\", \"Automatic\", \"Automatic\", \"Automatic\", \"Automatic\", \"Automatic\", \"Automatic\", \"Automatic\", \"Automatic\", \"Automatic\", \"Automatic\", \"Automatic\", \"Automatic\", \"Automatic\", \"Automatic\", \"Automatic\", \"Automatic\", \"Automatic\", \"Automatic\", \"Automatic\", \"Automatic\", \"Automatic\", \"Automatic\", \"Automatic\", \"Automatic\", \"Automatic\", \"Automatic\", \"Automatic\", \"Automatic\", \"Automatic\", \"Automatic\", \"Automatic\", \"Automatic\", \"Automatic\", \"Automatic\", \"Automatic\", \"Automatic\", \"Automatic\", \"Automatic\", \"Automatic\", \"Automatic\", \"Automatic\", \"Automatic\", \"Automatic\", \"Automatic\", \"Automatic\", \"Automatic\", \"Automatic\", \"Manual\", \"Automatic\", \"Automatic\", \"Automatic\", \"Automatic\", \"Automatic\", \"Automatic\", \"Automatic\", \"Automatic\", \"Automatic\", \"Automatic\", \"Automatic\", \"Automatic\", \"Automatic\", \"Automatic\", \"Automatic\", \"Automatic\", \"Automatic\", \"Automatic\", \"Automatic\", \"Automatic\", \"Automatic\", \"Automatic\", \"Automatic\", \"Automatic\", \"Automatic\", \"Automatic\", \"Automatic\", \"Automatic\", \"Automatic\", \"Automatic\", \"Automatic\", \"Automatic\", \"Automatic\", \"Automatic\", \"Automatic\", \"Automatic\", \"Automatic\", \"Automatic\", \"Automatic\", \"Automatic\", \"Automatic\", \"Automatic\", \"Automatic\", \"Automatic\", \"Automatic\", \"Automatic\", \"Automatic\", \"Automatic\", \"Automatic\", \"Automatic\", \"Automatic\", \"Automatic\", \"Automatic\", \"Automatic\", \"Automatic\", \"Automatic\", \"Automatic\", \"Automatic\", \"Automatic\", \"Automatic\", \"Automatic\", \"Automatic\", \"Automatic\", \"Automatic\", \"Automatic\", \"Automatic\", \"Automatic\", \"Automatic\", \"Automatic\", \"Automatic\", \"Automatic\", \"Automatic\", \"Automatic\", \"Automatic\", \"Automatic\", \"Automatic\", \"Automatic\", \"Automatic\", \"Automatic\", \"Automatic\", \"Automatic\", \"Automatic\", \"Automatic\", \"Automatic\", \"Automatic\", \"Automatic\", \"Automatic\", \"Automatic\", \"Automatic\", \"Automatic\", \"Automatic\", \"Automatic\", \"Automatic\", \"Automatic\", \"Automatic\", \"Automatic\", \"Automatic\", \"Automatic\", \"Automatic\", \"Automatic\", \"Automatic\", \"Automatic\", \"Automatic\", \"Automatic\", \"Automatic\", \"Automatic\", \"Automatic\", \"Automatic\", \"Automatic\", \"Automatic\", \"Automatic\", \"Automatic\", \"Automatic\", \"Automatic\", \"Manual\", \"Automatic\", \"Automatic\", \"Automatic\", \"Automatic\", \"Automatic\", \"Automatic\", \"Automatic\", \"Automatic\", \"Automatic\", \"Automatic\", \"Automatic\", \"Automatic\", \"Automatic\", \"Automatic\", \"Automatic\", \"Automatic\", \"Automatic\", \"Automatic\", \"Automatic\", \"Automatic\", \"Automatic\", \"Automatic\", \"Automatic\", \"Automatic\", \"Automatic\", \"Automatic\", \"Automatic\", \"Automatic\", \"Automatic\", \"Automatic\", \"Automatic\", \"Automatic\", \"Automatic\", \"Automatic\", \"Automatic\", \"Automatic\"], \"x0\": \" \", \"xaxis\": \"x\", \"y\": [42500, 42000, 48000, 60000, 44000, 68500, 58000, 42500, 48000, 69500, 45000, 55500, 70000, 44000, 65000, 58000, 56000, 55500, 60000, 48000, 76000, 43500, 75000, 53000, 56000, 72000, 52500, 45000, 42000, 60000, 55000, 46000, 53000, 56500, 62000, 70000, 55500, 51000, 44000, 52000, 48100, 43000, 47200, 45000, 47000, 45000, 60000, 65000, 42000, 58000, 74000, 43500, 49900, 65777, 72000, 55000, 70000, 62000, 59800, 49000, 78000, 55000, 74000, 49500, 41777, 47777, 50000, 75000, 65000, 50555, 42000, 78500, 46000, 50555, 48950, 55000, 60000, 62000, 55000, 45500, 47000, 43000, 46500, 50000, 64000, 78000, 47000, 40999, 50500, 79500, 49500, 58500, 51000, 65500, 62000, 45000, 65000, 45000, 77000, 45000, 78000, 48500, 62000, 54500, 68000, 68000, 46500, 65000, 78000, 55000, 58500, 41000, 40500, 77000, 65000, 67000, 48500, 52000, 66600, 65000, 75000, 45000, 42000, 50000, 62000, 46000, 66000, 72000, 76000, 47500, 43500, 78000, 68000, 40500, 58500, 41900, 48000, 60000, 75000, 45000, 65000, 43500, 70000, 58500, 63000, 63800, 48500, 45000, 42000, 45000, 50000, 45000, 58000, 79000, 45000, 50000, 67000, 46000, 59900, 42000, 43000, 45000, 50000, 48000, 78000, 43000, 55000, 60000, 64000, 62900, 49000, 63000, 62000, 42500, 62000, 48500, 48500, 43500, 69000, 48500, 58000, 57500, 56500, 43000, 55000, 60000, 55000, 77000, 58000, 55000, 45500, 52000, 56500, 68000, 48000, 70000, 42000, 40500, 78000, 57000, 52000, 68000, 42000, 42000, 56000, 45000, 59500, 75000, 75500, 63000, 56000, 59500, 41000, 63000, 42500, 43000, 75000, 56000, 63000, 58000, 63000, 55000, 47000, 54000, 46000, 68500, 49000, 78000, 57000, 75000, 60500, 45500, 75000, 65000, 57500, 43500, 55000, 42000, 70000, 44500, 54500, 63000, 65700, 44500, 78000, 78000, 45500, 55200, 71588, 72000, 65000, 73000, 49500, 63000, 78500, 57500, 46000, 48500, 48000, 50500, 46500, 74500, 53000, 49000, 53000, 60000, 62000, 42000, 46000, 50000, 70000, 42400, 58000, 61000, 75000, 42500, 67000, 43000, 75000, 77000, 65000, 60000, 78000, 48500, 65000, 42000, 42500, 53000, 51000, 47500, 63500, 65500, 58000, 68000, 56500, 52500, 60000, 65000, 65000, 77000, 46000, 42800, 45000, 65000, 55000, 67000, 44000, 48000, 65000, 43000, 57888, 52000, 49000, 67000, 57000, 57000, 75000, 79000, 45000, 49500, 46500, 49500, 49000, 60000, 43000, 69500, 43000, 55000, 79000, 60000, 71000, 40700, 68500], \"y0\": \" \", \"yaxis\": \"y\"}],\n",
       "                        {\"boxmode\": \"group\", \"legend\": {\"tracegroupgap\": 0}, \"template\": {\"data\": {\"bar\": [{\"error_x\": {\"color\": \"#2a3f5f\"}, \"error_y\": {\"color\": \"#2a3f5f\"}, \"marker\": {\"line\": {\"color\": \"#E5ECF6\", \"width\": 0.5}}, \"type\": \"bar\"}], \"barpolar\": [{\"marker\": {\"line\": {\"color\": \"#E5ECF6\", \"width\": 0.5}}, \"type\": \"barpolar\"}], \"carpet\": [{\"aaxis\": {\"endlinecolor\": \"#2a3f5f\", \"gridcolor\": \"white\", \"linecolor\": \"white\", \"minorgridcolor\": \"white\", \"startlinecolor\": \"#2a3f5f\"}, \"baxis\": {\"endlinecolor\": \"#2a3f5f\", \"gridcolor\": \"white\", \"linecolor\": \"white\", \"minorgridcolor\": \"white\", \"startlinecolor\": \"#2a3f5f\"}, \"type\": \"carpet\"}], \"choropleth\": [{\"colorbar\": {\"outlinewidth\": 0, \"ticks\": \"\"}, \"type\": \"choropleth\"}], \"contour\": [{\"colorbar\": {\"outlinewidth\": 0, \"ticks\": \"\"}, \"colorscale\": [[0.0, \"#0d0887\"], [0.1111111111111111, \"#46039f\"], [0.2222222222222222, \"#7201a8\"], [0.3333333333333333, \"#9c179e\"], [0.4444444444444444, \"#bd3786\"], [0.5555555555555556, \"#d8576b\"], [0.6666666666666666, \"#ed7953\"], [0.7777777777777778, \"#fb9f3a\"], [0.8888888888888888, \"#fdca26\"], [1.0, \"#f0f921\"]], \"type\": \"contour\"}], \"contourcarpet\": [{\"colorbar\": {\"outlinewidth\": 0, \"ticks\": \"\"}, \"type\": \"contourcarpet\"}], \"heatmap\": [{\"colorbar\": {\"outlinewidth\": 0, \"ticks\": \"\"}, \"colorscale\": [[0.0, \"#0d0887\"], [0.1111111111111111, \"#46039f\"], [0.2222222222222222, \"#7201a8\"], [0.3333333333333333, \"#9c179e\"], [0.4444444444444444, \"#bd3786\"], [0.5555555555555556, \"#d8576b\"], [0.6666666666666666, \"#ed7953\"], [0.7777777777777778, \"#fb9f3a\"], [0.8888888888888888, \"#fdca26\"], [1.0, \"#f0f921\"]], \"type\": \"heatmap\"}], \"heatmapgl\": [{\"colorbar\": {\"outlinewidth\": 0, \"ticks\": \"\"}, \"colorscale\": [[0.0, \"#0d0887\"], [0.1111111111111111, \"#46039f\"], [0.2222222222222222, \"#7201a8\"], [0.3333333333333333, \"#9c179e\"], [0.4444444444444444, \"#bd3786\"], [0.5555555555555556, \"#d8576b\"], [0.6666666666666666, \"#ed7953\"], [0.7777777777777778, \"#fb9f3a\"], [0.8888888888888888, \"#fdca26\"], [1.0, \"#f0f921\"]], \"type\": \"heatmapgl\"}], \"histogram\": [{\"marker\": {\"colorbar\": {\"outlinewidth\": 0, \"ticks\": \"\"}}, \"type\": \"histogram\"}], \"histogram2d\": [{\"colorbar\": {\"outlinewidth\": 0, \"ticks\": \"\"}, \"colorscale\": [[0.0, \"#0d0887\"], [0.1111111111111111, \"#46039f\"], [0.2222222222222222, \"#7201a8\"], [0.3333333333333333, \"#9c179e\"], [0.4444444444444444, \"#bd3786\"], [0.5555555555555556, \"#d8576b\"], [0.6666666666666666, \"#ed7953\"], [0.7777777777777778, \"#fb9f3a\"], [0.8888888888888888, \"#fdca26\"], [1.0, \"#f0f921\"]], \"type\": \"histogram2d\"}], \"histogram2dcontour\": [{\"colorbar\": {\"outlinewidth\": 0, \"ticks\": \"\"}, \"colorscale\": [[0.0, \"#0d0887\"], [0.1111111111111111, \"#46039f\"], [0.2222222222222222, \"#7201a8\"], [0.3333333333333333, \"#9c179e\"], [0.4444444444444444, \"#bd3786\"], [0.5555555555555556, \"#d8576b\"], [0.6666666666666666, \"#ed7953\"], [0.7777777777777778, \"#fb9f3a\"], [0.8888888888888888, \"#fdca26\"], [1.0, \"#f0f921\"]], \"type\": \"histogram2dcontour\"}], \"mesh3d\": [{\"colorbar\": {\"outlinewidth\": 0, \"ticks\": \"\"}, \"type\": \"mesh3d\"}], \"parcoords\": [{\"line\": {\"colorbar\": {\"outlinewidth\": 0, \"ticks\": \"\"}}, \"type\": \"parcoords\"}], \"pie\": [{\"automargin\": true, \"type\": \"pie\"}], \"scatter\": [{\"marker\": {\"colorbar\": {\"outlinewidth\": 0, \"ticks\": \"\"}}, \"type\": \"scatter\"}], \"scatter3d\": [{\"line\": {\"colorbar\": {\"outlinewidth\": 0, \"ticks\": \"\"}}, \"marker\": {\"colorbar\": {\"outlinewidth\": 0, \"ticks\": \"\"}}, \"type\": \"scatter3d\"}], \"scattercarpet\": [{\"marker\": {\"colorbar\": {\"outlinewidth\": 0, \"ticks\": \"\"}}, \"type\": \"scattercarpet\"}], \"scattergeo\": [{\"marker\": {\"colorbar\": {\"outlinewidth\": 0, \"ticks\": \"\"}}, \"type\": \"scattergeo\"}], \"scattergl\": [{\"marker\": {\"colorbar\": {\"outlinewidth\": 0, \"ticks\": \"\"}}, \"type\": \"scattergl\"}], \"scattermapbox\": [{\"marker\": {\"colorbar\": {\"outlinewidth\": 0, \"ticks\": \"\"}}, \"type\": \"scattermapbox\"}], \"scatterpolar\": [{\"marker\": {\"colorbar\": {\"outlinewidth\": 0, \"ticks\": \"\"}}, \"type\": \"scatterpolar\"}], \"scatterpolargl\": [{\"marker\": {\"colorbar\": {\"outlinewidth\": 0, \"ticks\": \"\"}}, \"type\": \"scatterpolargl\"}], \"scatterternary\": [{\"marker\": {\"colorbar\": {\"outlinewidth\": 0, \"ticks\": \"\"}}, \"type\": \"scatterternary\"}], \"surface\": [{\"colorbar\": {\"outlinewidth\": 0, \"ticks\": \"\"}, \"colorscale\": [[0.0, \"#0d0887\"], [0.1111111111111111, \"#46039f\"], [0.2222222222222222, \"#7201a8\"], [0.3333333333333333, \"#9c179e\"], [0.4444444444444444, \"#bd3786\"], [0.5555555555555556, \"#d8576b\"], [0.6666666666666666, \"#ed7953\"], [0.7777777777777778, \"#fb9f3a\"], [0.8888888888888888, \"#fdca26\"], [1.0, \"#f0f921\"]], \"type\": \"surface\"}], \"table\": [{\"cells\": {\"fill\": {\"color\": \"#EBF0F8\"}, \"line\": {\"color\": \"white\"}}, \"header\": {\"fill\": {\"color\": \"#C8D4E3\"}, \"line\": {\"color\": \"white\"}}, \"type\": \"table\"}]}, \"layout\": {\"annotationdefaults\": {\"arrowcolor\": \"#2a3f5f\", \"arrowhead\": 0, \"arrowwidth\": 1}, \"coloraxis\": {\"colorbar\": {\"outlinewidth\": 0, \"ticks\": \"\"}}, \"colorscale\": {\"diverging\": [[0, \"#8e0152\"], [0.1, \"#c51b7d\"], [0.2, \"#de77ae\"], [0.3, \"#f1b6da\"], [0.4, \"#fde0ef\"], [0.5, \"#f7f7f7\"], [0.6, \"#e6f5d0\"], [0.7, \"#b8e186\"], [0.8, \"#7fbc41\"], [0.9, \"#4d9221\"], [1, \"#276419\"]], \"sequential\": [[0.0, \"#0d0887\"], [0.1111111111111111, \"#46039f\"], [0.2222222222222222, \"#7201a8\"], [0.3333333333333333, \"#9c179e\"], [0.4444444444444444, \"#bd3786\"], [0.5555555555555556, \"#d8576b\"], [0.6666666666666666, \"#ed7953\"], [0.7777777777777778, \"#fb9f3a\"], [0.8888888888888888, \"#fdca26\"], [1.0, \"#f0f921\"]], \"sequentialminus\": [[0.0, \"#0d0887\"], [0.1111111111111111, \"#46039f\"], [0.2222222222222222, \"#7201a8\"], [0.3333333333333333, \"#9c179e\"], [0.4444444444444444, \"#bd3786\"], [0.5555555555555556, \"#d8576b\"], [0.6666666666666666, \"#ed7953\"], [0.7777777777777778, \"#fb9f3a\"], [0.8888888888888888, \"#fdca26\"], [1.0, \"#f0f921\"]]}, \"colorway\": [\"#636efa\", \"#EF553B\", \"#00cc96\", \"#ab63fa\", \"#FFA15A\", \"#19d3f3\", \"#FF6692\", \"#B6E880\", \"#FF97FF\", \"#FECB52\"], \"font\": {\"color\": \"#2a3f5f\"}, \"geo\": {\"bgcolor\": \"white\", \"lakecolor\": \"white\", \"landcolor\": \"#E5ECF6\", \"showlakes\": true, \"showland\": true, \"subunitcolor\": \"white\"}, \"hoverlabel\": {\"align\": \"left\"}, \"hovermode\": \"closest\", \"mapbox\": {\"style\": \"light\"}, \"paper_bgcolor\": \"white\", \"plot_bgcolor\": \"#E5ECF6\", \"polar\": {\"angularaxis\": {\"gridcolor\": \"white\", \"linecolor\": \"white\", \"ticks\": \"\"}, \"bgcolor\": \"#E5ECF6\", \"radialaxis\": {\"gridcolor\": \"white\", \"linecolor\": \"white\", \"ticks\": \"\"}}, \"scene\": {\"xaxis\": {\"backgroundcolor\": \"#E5ECF6\", \"gridcolor\": \"white\", \"gridwidth\": 2, \"linecolor\": \"white\", \"showbackground\": true, \"ticks\": \"\", \"zerolinecolor\": \"white\"}, \"yaxis\": {\"backgroundcolor\": \"#E5ECF6\", \"gridcolor\": \"white\", \"gridwidth\": 2, \"linecolor\": \"white\", \"showbackground\": true, \"ticks\": \"\", \"zerolinecolor\": \"white\"}, \"zaxis\": {\"backgroundcolor\": \"#E5ECF6\", \"gridcolor\": \"white\", \"gridwidth\": 2, \"linecolor\": \"white\", \"showbackground\": true, \"ticks\": \"\", \"zerolinecolor\": \"white\"}}, \"shapedefaults\": {\"line\": {\"color\": \"#2a3f5f\"}}, \"ternary\": {\"aaxis\": {\"gridcolor\": \"white\", \"linecolor\": \"white\", \"ticks\": \"\"}, \"baxis\": {\"gridcolor\": \"white\", \"linecolor\": \"white\", \"ticks\": \"\"}, \"bgcolor\": \"#E5ECF6\", \"caxis\": {\"gridcolor\": \"white\", \"linecolor\": \"white\", \"ticks\": \"\"}}, \"title\": {\"x\": 0.05}, \"xaxis\": {\"automargin\": true, \"gridcolor\": \"white\", \"linecolor\": \"white\", \"ticks\": \"\", \"title\": {\"standoff\": 15}, \"zerolinecolor\": \"white\", \"zerolinewidth\": 2}, \"yaxis\": {\"automargin\": true, \"gridcolor\": \"white\", \"linecolor\": \"white\", \"ticks\": \"\", \"title\": {\"standoff\": 15}, \"zerolinecolor\": \"white\", \"zerolinewidth\": 2}}}, \"title\": {\"text\": \"Relationship between each transmission and price\"}, \"xaxis\": {\"anchor\": \"y\", \"domain\": [0.0, 1.0], \"title\": {\"text\": \"Transmission\"}}, \"yaxis\": {\"anchor\": \"x\", \"domain\": [0.0, 1.0], \"title\": {\"text\": \"Price(GH\\u00a2)\"}}},\n",
       "                        {\"responsive\": true}\n",
       "                    ).then(function(){\n",
       "                            \n",
       "var gd = document.getElementById('b5a28a39-cb1d-4312-b03d-88198779bf58');\n",
       "var x = new MutationObserver(function (mutations, observer) {{\n",
       "        var display = window.getComputedStyle(gd).display;\n",
       "        if (!display || display === 'none') {{\n",
       "            console.log([gd, 'removed!']);\n",
       "            Plotly.purge(gd);\n",
       "            observer.disconnect();\n",
       "        }}\n",
       "}});\n",
       "\n",
       "// Listen for the removal of the full notebook cells\n",
       "var notebookContainer = gd.closest('#notebook-container');\n",
       "if (notebookContainer) {{\n",
       "    x.observe(notebookContainer, {childList: true});\n",
       "}}\n",
       "\n",
       "// Listen for the clearing of the current output cell\n",
       "var outputEl = gd.closest('.output');\n",
       "if (outputEl) {{\n",
       "    x.observe(outputEl, {childList: true});\n",
       "}}\n",
       "\n",
       "                        })\n",
       "                };\n",
       "                });\n",
       "            </script>\n",
       "        </div>"
      ]
     },
     "metadata": {},
     "output_type": "display_data"
    }
   ],
   "source": [
    "fig = px.box(filtered, x=\"Transmission\", y=\"Price(GH¢)\", title='Relationship between each transmission and price')\n",
    "fig.show()"
   ]
  },
  {
   "cell_type": "code",
   "execution_count": 67,
   "metadata": {},
   "outputs": [
    {
     "data": {
      "text/plain": [
       "Transmission\n",
       "Automatic    56638.783951\n",
       "Manual       56311.111111\n",
       "Name: Price(GH¢), dtype: float64"
      ]
     },
     "execution_count": 67,
     "metadata": {},
     "output_type": "execute_result"
    }
   ],
   "source": [
    "filtered.groupby('Transmission').mean()['Price(GH¢)']"
   ]
  },
  {
   "cell_type": "markdown",
   "metadata": {},
   "source": [
    "### Mileage vs Price"
   ]
  },
  {
   "cell_type": "code",
   "execution_count": 68,
   "metadata": {
    "scrolled": false
   },
   "outputs": [
    {
     "data": {
      "text/plain": [
       "<matplotlib.axes._subplots.AxesSubplot at 0x2623906f448>"
      ]
     },
     "execution_count": 68,
     "metadata": {},
     "output_type": "execute_result"
    },
    {
     "data": {
      "image/png": "[encoded data removed]",
      "text/plain": [
       "<Figure size 936x576 with 1 Axes>"
      ]
     },
     "metadata": {},
     "output_type": "display_data"
    }
   ],
   "source": [
    "fig, ax = plt.subplots(figsize=(13, 8))\n",
    "sns.distplot(filtered['Mileage(km)'])"
   ]
  },
  {
   "cell_type": "code",
   "execution_count": 69,
   "metadata": {
    "scrolled": true
   },
   "outputs": [
    {
     "data": {
      "text/plain": [
       "71588.0"
      ]
     },
     "execution_count": 69,
     "metadata": {},
     "output_type": "execute_result"
    }
   ],
   "source": [
    "g_mile = filtered[filtered['Mileage(km)'] > 200000]\n",
    "\n",
    "g_mile['Price(GH¢)'].median()"
   ]
  },
  {
   "cell_type": "markdown",
   "metadata": {},
   "source": [
    "Average price for cars with mileage above 200,000km is GH¢67,017"
   ]
  },
  {
   "cell_type": "code",
   "execution_count": 70,
   "metadata": {},
   "outputs": [
    {
     "data": {
      "text/plain": [
       "55000.0"
      ]
     },
     "execution_count": 70,
     "metadata": {},
     "output_type": "execute_result"
    }
   ],
   "source": [
    "l_mile = filtered[filtered['Mileage(km)'] < 200000]\n",
    "\n",
    "l_mile['Price(GH¢)'].median()"
   ]
  },
  {
   "cell_type": "markdown",
   "metadata": {},
   "source": [
    "Average price for cars with mileage below 200,000km is GH¢56,471"
   ]
  },
  {
   "cell_type": "code",
   "execution_count": 71,
   "metadata": {},
   "outputs": [
    {
     "data": {
      "text/plain": [
       "<matplotlib.axes._subplots.AxesSubplot at 0x2623cfa8048>"
      ]
     },
     "execution_count": 71,
     "metadata": {},
     "output_type": "execute_result"
    },
    {
     "data": {
      "image/png": "[encoded data removed]",
      "text/plain": [
       "<Figure size 936x576 with 1 Axes>"
      ]
     },
     "metadata": {},
     "output_type": "display_data"
    }
   ],
   "source": [
    "fig, ax = plt.subplots(figsize=(13, 8))\n",
    "sns.scatterplot(x=filtered['Mileage(km)'], y=filtered['Price(GH¢)'])"
   ]
  },
  {
   "cell_type": "code",
   "execution_count": 72,
   "metadata": {
    "scrolled": true
   },
   "outputs": [
    {
     "data": {
      "text/html": [
       "<div>\n",
       "<style scoped>\n",
       "    .dataframe tbody tr th:only-of-type {\n",
       "        vertical-align: middle;\n",
       "    }\n",
       "\n",
       "    .dataframe tbody tr th {\n",
       "        vertical-align: top;\n",
       "    }\n",
       "\n",
       "    .dataframe thead th {\n",
       "        text-align: right;\n",
       "    }\n",
       "</style>\n",
       "<table border=\"1\" class=\"dataframe\">\n",
       "  <thead>\n",
       "    <tr style=\"text-align: right;\">\n",
       "      <th></th>\n",
       "      <th>Mileage(km)</th>\n",
       "      <th>Price(GH¢)</th>\n",
       "    </tr>\n",
       "  </thead>\n",
       "  <tbody>\n",
       "    <tr>\n",
       "      <th>Mileage(km)</th>\n",
       "      <td>1.000000</td>\n",
       "      <td>0.036053</td>\n",
       "    </tr>\n",
       "    <tr>\n",
       "      <th>Price(GH¢)</th>\n",
       "      <td>0.036053</td>\n",
       "      <td>1.000000</td>\n",
       "    </tr>\n",
       "  </tbody>\n",
       "</table>\n",
       "</div>"
      ],
      "text/plain": [
       "             Mileage(km)  Price(GH¢)\n",
       "Mileage(km)     1.000000    0.036053\n",
       "Price(GH¢)      0.036053    1.000000"
      ]
     },
     "execution_count": 72,
     "metadata": {},
     "output_type": "execute_result"
    }
   ],
   "source": [
    "filtered[['Mileage(km)', 'Price(GH¢)']].corr()"
   ]
  },
  {
   "cell_type": "markdown",
   "metadata": {},
   "source": [
    "### Model year vs Price"
   ]
  },
  {
   "cell_type": "code",
   "execution_count": 73,
   "metadata": {
    "scrolled": false
   },
   "outputs": [
    {
     "data": {
      "text/plain": [
       "([0, 1, 2, 3, 4, 5, 6, 7, 8, 9, 10, 11, 12, 13, 14, 15],\n",
       " <a list of 16 Text xticklabel objects>)"
      ]
     },
     "execution_count": 73,
     "metadata": {},
     "output_type": "execute_result"
    },
    {
     "data": {
      "image/png": "[encoded data removed]",
      "text/plain": [
       "<Figure size 936x576 with 1 Axes>"
      ]
     },
     "metadata": {},
     "output_type": "display_data"
    }
   ],
   "source": [
    "year_price = filtered.groupby('Model year').mean()['Price(GH¢)'].to_frame().reset_index().sort_values('Price(GH¢)', ascending=False)\n",
    "\n",
    "fig, ax = plt.subplots(figsize=(13, 8))\n",
    "sns.lineplot(x=\"Model year\", y=\"Price(GH¢)\", data=year_price)\n",
    "plt.title(\"Price progression of years\")\n",
    "plt.xticks(rotation=45)"
   ]
  },
  {
   "cell_type": "markdown",
   "metadata": {},
   "source": [
    "#### Derive an age column"
   ]
  },
  {
   "cell_type": "code",
   "execution_count": 74,
   "metadata": {},
   "outputs": [],
   "source": [
    "filtered['Model year'] = pd.to_datetime(filtered['Model year'])"
   ]
  },
  {
   "cell_type": "code",
   "execution_count": 75,
   "metadata": {},
   "outputs": [],
   "source": [
    "from datetime import datetime\n",
    "from datetime import date\n",
    "\n",
    "def calculate_age(born):\n",
    "    today = date.today()\n",
    "    return today.year - born.year - ((today.month, today.day) < (born.month, born.day))\n",
    "\n",
    "filtered.loc[:, 'Age'] = filtered['Model year'].apply(calculate_age)"
   ]
  },
  {
   "cell_type": "code",
   "execution_count": 76,
   "metadata": {},
   "outputs": [
    {
     "data": {
      "text/html": [
       "<div>\n",
       "<style scoped>\n",
       "    .dataframe tbody tr th:only-of-type {\n",
       "        vertical-align: middle;\n",
       "    }\n",
       "\n",
       "    .dataframe tbody tr th {\n",
       "        vertical-align: top;\n",
       "    }\n",
       "\n",
       "    .dataframe thead th {\n",
       "        text-align: right;\n",
       "    }\n",
       "</style>\n",
       "<table border=\"1\" class=\"dataframe\">\n",
       "  <thead>\n",
       "    <tr style=\"text-align: right;\">\n",
       "      <th></th>\n",
       "      <th>Model year</th>\n",
       "      <th>Age</th>\n",
       "    </tr>\n",
       "  </thead>\n",
       "  <tbody>\n",
       "    <tr>\n",
       "      <th>2</th>\n",
       "      <td>2015-01-01</td>\n",
       "      <td>5</td>\n",
       "    </tr>\n",
       "    <tr>\n",
       "      <th>10</th>\n",
       "      <td>2015-01-01</td>\n",
       "      <td>5</td>\n",
       "    </tr>\n",
       "    <tr>\n",
       "      <th>14</th>\n",
       "      <td>2011-01-01</td>\n",
       "      <td>9</td>\n",
       "    </tr>\n",
       "    <tr>\n",
       "      <th>19</th>\n",
       "      <td>2006-01-01</td>\n",
       "      <td>14</td>\n",
       "    </tr>\n",
       "    <tr>\n",
       "      <th>24</th>\n",
       "      <td>2014-01-01</td>\n",
       "      <td>6</td>\n",
       "    </tr>\n",
       "    <tr>\n",
       "      <th>...</th>\n",
       "      <td>...</td>\n",
       "      <td>...</td>\n",
       "    </tr>\n",
       "    <tr>\n",
       "      <th>1187</th>\n",
       "      <td>2015-01-01</td>\n",
       "      <td>5</td>\n",
       "    </tr>\n",
       "    <tr>\n",
       "      <th>1194</th>\n",
       "      <td>2010-01-01</td>\n",
       "      <td>10</td>\n",
       "    </tr>\n",
       "    <tr>\n",
       "      <th>1199</th>\n",
       "      <td>2017-01-01</td>\n",
       "      <td>3</td>\n",
       "    </tr>\n",
       "    <tr>\n",
       "      <th>1203</th>\n",
       "      <td>2008-01-01</td>\n",
       "      <td>12</td>\n",
       "    </tr>\n",
       "    <tr>\n",
       "      <th>1206</th>\n",
       "      <td>2007-01-01</td>\n",
       "      <td>13</td>\n",
       "    </tr>\n",
       "  </tbody>\n",
       "</table>\n",
       "<p>333 rows × 2 columns</p>\n",
       "</div>"
      ],
      "text/plain": [
       "     Model year  Age\n",
       "2    2015-01-01    5\n",
       "10   2015-01-01    5\n",
       "14   2011-01-01    9\n",
       "19   2006-01-01   14\n",
       "24   2014-01-01    6\n",
       "...         ...  ...\n",
       "1187 2015-01-01    5\n",
       "1194 2010-01-01   10\n",
       "1199 2017-01-01    3\n",
       "1203 2008-01-01   12\n",
       "1206 2007-01-01   13\n",
       "\n",
       "[333 rows x 2 columns]"
      ]
     },
     "execution_count": 76,
     "metadata": {},
     "output_type": "execute_result"
    }
   ],
   "source": [
    "filtered[['Model year', 'Age']]"
   ]
  },
  {
   "cell_type": "code",
   "execution_count": 77,
   "metadata": {
    "scrolled": false
   },
   "outputs": [
    {
     "data": {
      "text/plain": [
       "<matplotlib.axes._subplots.AxesSubplot at 0x2623d5c2fc8>"
      ]
     },
     "execution_count": 77,
     "metadata": {},
     "output_type": "execute_result"
    },
    {
     "data": {
      "image/png": "[encoded data removed]",
      "text/plain": [
       "<Figure size 936x576 with 1 Axes>"
      ]
     },
     "metadata": {},
     "output_type": "display_data"
    }
   ],
   "source": [
    "fig, ax = plt.subplots(figsize=(13,8))\n",
    "sns.distplot(filtered['Age'])"
   ]
  },
  {
   "cell_type": "code",
   "execution_count": 78,
   "metadata": {
    "scrolled": false
   },
   "outputs": [
    {
     "data": {
      "text/plain": [
       "<matplotlib.axes._subplots.AxesSubplot at 0x2623c6564c8>"
      ]
     },
     "execution_count": 78,
     "metadata": {},
     "output_type": "execute_result"
    },
    {
     "data": {
      "image/png": "[encoded data removed]",
      "text/plain": [
       "<Figure size 936x576 with 1 Axes>"
      ]
     },
     "metadata": {},
     "output_type": "display_data"
    }
   ],
   "source": [
    "fig, ax=plt.subplots(figsize=(13, 8))\n",
    "sns.scatterplot(x=filtered['Age'], y=filtered['Price(GH¢)'])"
   ]
  },
  {
   "cell_type": "code",
   "execution_count": 79,
   "metadata": {
    "scrolled": true
   },
   "outputs": [
    {
     "data": {
      "text/html": [
       "<div>\n",
       "<style scoped>\n",
       "    .dataframe tbody tr th:only-of-type {\n",
       "        vertical-align: middle;\n",
       "    }\n",
       "\n",
       "    .dataframe tbody tr th {\n",
       "        vertical-align: top;\n",
       "    }\n",
       "\n",
       "    .dataframe thead th {\n",
       "        text-align: right;\n",
       "    }\n",
       "</style>\n",
       "<table border=\"1\" class=\"dataframe\">\n",
       "  <thead>\n",
       "    <tr style=\"text-align: right;\">\n",
       "      <th></th>\n",
       "      <th>Age</th>\n",
       "      <th>Price(GH¢)</th>\n",
       "    </tr>\n",
       "  </thead>\n",
       "  <tbody>\n",
       "    <tr>\n",
       "      <th>Age</th>\n",
       "      <td>1.000000</td>\n",
       "      <td>-0.186474</td>\n",
       "    </tr>\n",
       "    <tr>\n",
       "      <th>Price(GH¢)</th>\n",
       "      <td>-0.186474</td>\n",
       "      <td>1.000000</td>\n",
       "    </tr>\n",
       "  </tbody>\n",
       "</table>\n",
       "</div>"
      ],
      "text/plain": [
       "                 Age  Price(GH¢)\n",
       "Age         1.000000   -0.186474\n",
       "Price(GH¢) -0.186474    1.000000"
      ]
     },
     "execution_count": 79,
     "metadata": {},
     "output_type": "execute_result"
    }
   ],
   "source": [
    "filtered[['Age', 'Price(GH¢)']].corr()"
   ]
  },
  {
   "cell_type": "markdown",
   "metadata": {},
   "source": [
    "### Engine capacity vs Price"
   ]
  },
  {
   "cell_type": "code",
   "execution_count": 80,
   "metadata": {},
   "outputs": [
    {
     "data": {
      "text/plain": [
       "<matplotlib.axes._subplots.AxesSubplot at 0x2623cf2c648>"
      ]
     },
     "execution_count": 80,
     "metadata": {},
     "output_type": "execute_result"
    },
    {
     "data": {
      "image/png": "[encoded data removed]",
      "text/plain": [
       "<Figure size 936x576 with 1 Axes>"
      ]
     },
     "metadata": {},
     "output_type": "display_data"
    }
   ],
   "source": [
    "fig, ax = plt.subplots(figsize=(13, 8))\n",
    "sns.countplot(filtered['Engine capacity(L)'])"
   ]
  },
  {
   "cell_type": "code",
   "execution_count": 81,
   "metadata": {},
   "outputs": [
    {
     "data": {
      "application/vnd.plotly.v1+json": {
       "config": {
        "plotlyServerURL": "https://plot.ly"
       },
       "data": [
        {
         "alignmentgroup": "True",
         "hovertemplate": "Engine capacity(L)=%{x}<br>Price(GH¢)=%{y}<extra></extra>",
         "legendgroup": "",
         "marker": {
          "color": "#636efa"
         },
         "name": "",
         "notched": false,
         "offsetgroup": "",
         "orientation": "v",
         "showlegend": false,
         "type": "box",
         "x": [
          "1.8",
          "1.6",
          "2.0",
          "4.2",
          "1.6",
          "3.0",
          "1.8",
          "2.0",
          "2.0",
          "1.8",
          "1.8",
          "1.8",
          "1.8",
          "1.8",
          "2.4",
          "2.5",
          "2.0",
          "1.5",
          "1.5",
          "1.8",
          "1.8",
          "1.8",
          "2.0",
          "2.0",
          "2.0",
          "2.0",
          "1.6",
          "1.6",
          "1.7",
          "2.0",
          "2.5",
          "1.6",
          "3.0",
          "1.5",
          "1.8",
          "3.5",
          "1.8",
          "1.8",
          "1.8",
          "1.8",
          "1.8",
          "2.4",
          "1.8",
          "2.4",
          "3.0",
          "1.4",
          "2.5",
          "2.7",
          "2.5",
          "2.4",
          "1.8",
          "2.0",
          "2.8",
          "2.4",
          "2.4",
          "1.6",
          "2.5",
          "2.0",
          "2.4",
          "1.7",
          "2.5",
          "2.7",
          "1.8",
          "1.8",
          "1.6",
          "1.8",
          "1.8",
          "2.4",
          "2.0",
          "1.8",
          "2.7",
          "1.8",
          "1.5",
          "1.8",
          "1.8",
          "2.7",
          "2.4",
          "1.8",
          "2.4",
          "3.0",
          "2.7",
          "1.8",
          "1.8",
          "1.6",
          "2.5",
          "2.5",
          "1.8",
          "1.6",
          "1.8",
          "2.4",
          "2.4",
          "2.4",
          "1.8",
          "1.8",
          "1.8",
          "1.8",
          "2.4",
          "2.7",
          "2.4",
          "1.8",
          "2.4",
          "1.8",
          "1.8",
          "2.4",
          "1.8",
          "2.4",
          "2.4",
          "3.5",
          "2.4",
          "2.0",
          "1.8",
          "1.8",
          "2.4",
          "1.8",
          "2.0",
          "2.4",
          "1.6",
          "1.8",
          "3.0",
          "1.6",
          "2.0",
          "3.5",
          "1.8",
          "3.7",
          "1.8",
          "2.5",
          "2.4",
          "1.8",
          "2.4",
          "1.8",
          "2.4",
          "2.4",
          "1.8",
          "1.5",
          "2.4",
          "1.8",
          "1.8",
          "1.8",
          "2.5",
          "2.5",
          "2.4",
          "1.8",
          "1.5",
          "1.5",
          "1.8",
          "2.4",
          "1.8",
          "2.7",
          "1.8",
          "3.7",
          "3.2",
          "1.8",
          "2.5",
          "2.4",
          "1.6",
          "1.8",
          "1.8",
          "1.8",
          "2.0",
          "2.0",
          "1.8",
          "1.8",
          "2.0",
          "2.4",
          "2.5",
          "2.4",
          "2.0",
          "1.8",
          "1.8",
          "2.5",
          "1.8",
          "2.5",
          "3.3",
          "2.0",
          "3.0",
          "2.4",
          "1.6",
          "1.8",
          "2.4",
          "2.4",
          "2.4",
          "3.0",
          "1.8",
          "1.8",
          "1.5",
          "2.4",
          "1.8",
          "1.8",
          "2.4",
          "1.8",
          "2.5",
          "2.4",
          "2.5",
          "1.6",
          "1.8",
          "2.4",
          "1.8",
          "1.6",
          "1.5",
          "1.8",
          "1.6",
          "2.0",
          "1.6",
          "2.4",
          "2.4",
          "2.5",
          "1.8",
          "2.4",
          "1.8",
          "1.8",
          "1.8",
          "1.8",
          "1.8",
          "2.0",
          "1.8",
          "4.0",
          "1.8",
          "2.4",
          "2.4",
          "2.5",
          "1.8",
          "1.8",
          "2.5",
          "1.8",
          "1.8",
          "3.7",
          "1.8",
          "2.4",
          "2.4",
          "3.0",
          "1.8",
          "1.6",
          "3.5",
          "2.0",
          "2.5",
          "1.8",
          "2.7",
          "2.0",
          "1.4",
          "1.8",
          "1.8",
          "1.8",
          "2.4",
          "1.8",
          "2.4",
          "1.5",
          "2.0",
          "1.8",
          "2.4",
          "2.4",
          "1.8",
          "1.8",
          "2.5",
          "2.5",
          "2.7",
          "2.4",
          "1.6",
          "2.5",
          "2.5",
          "2.0",
          "1.6",
          "2.7",
          "1.8",
          "1.8",
          "2.5",
          "1.8",
          "3.5",
          "1.8",
          "1.6",
          "1.8",
          "2.4",
          "1.8",
          "2.4",
          "2.4",
          "3.0",
          "2.4",
          "1.8",
          "2.4",
          "2.5",
          "1.8",
          "1.8",
          "2.4",
          "2.4",
          "2.4",
          "3.0",
          "1.5",
          "1.8",
          "1.8",
          "2.4",
          "1.8",
          "2.4",
          "1.8",
          "2.5",
          "2.5",
          "1.8",
          "1.8",
          "2.7",
          "3.0",
          "2.8",
          "2.4",
          "2.4",
          "1.8",
          "1.8",
          "2.4",
          "2.4",
          "2.4",
          "1.6",
          "1.8",
          "1.8",
          "2.4",
          "1.8",
          "1.8",
          "2.4",
          "3.0",
          "2.4",
          "1.8",
          "2.0",
          "1.5",
          "3.0",
          "2.5",
          "2.4",
          "2.5",
          "2.4",
          "1.8",
          "1.8",
          "2.0",
          "1.8",
          "3.0",
          "2.0",
          "2.0",
          "2.0",
          "1.8",
          "2.4"
         ],
         "x0": " ",
         "xaxis": "x",
         "y": [
          42500,
          42000,
          48000,
          60000,
          44000,
          68500,
          58000,
          42500,
          48000,
          69500,
          45000,
          55500,
          70000,
          44000,
          65000,
          58000,
          56000,
          55500,
          60000,
          48000,
          76000,
          43500,
          75000,
          53000,
          56000,
          72000,
          52500,
          45000,
          42000,
          60000,
          55000,
          46000,
          53000,
          56500,
          62000,
          70000,
          55500,
          51000,
          44000,
          52000,
          48100,
          43000,
          47200,
          45000,
          47000,
          45000,
          60000,
          65000,
          42000,
          58000,
          74000,
          43500,
          49900,
          65777,
          72000,
          55000,
          70000,
          62000,
          59800,
          49000,
          78000,
          55000,
          74000,
          49500,
          41777,
          47777,
          50000,
          75000,
          65000,
          50555,
          42000,
          78500,
          46000,
          50555,
          48950,
          55000,
          60000,
          62000,
          55000,
          45500,
          47000,
          43000,
          46500,
          50000,
          64000,
          78000,
          47000,
          40999,
          50500,
          79500,
          49500,
          58500,
          51000,
          65500,
          62000,
          45000,
          65000,
          45000,
          77000,
          45000,
          78000,
          48500,
          62000,
          54500,
          68000,
          68000,
          46500,
          65000,
          78000,
          55000,
          58500,
          41000,
          40500,
          77000,
          65000,
          67000,
          48500,
          52000,
          66600,
          65000,
          75000,
          45000,
          42000,
          50000,
          62000,
          46000,
          66000,
          72000,
          76000,
          47500,
          43500,
          78000,
          68000,
          40500,
          58500,
          41900,
          48000,
          60000,
          75000,
          45000,
          65000,
          43500,
          70000,
          58500,
          63000,
          63800,
          48500,
          45000,
          42000,
          45000,
          50000,
          45000,
          58000,
          79000,
          45000,
          50000,
          67000,
          46000,
          59900,
          42000,
          43000,
          45000,
          50000,
          48000,
          78000,
          43000,
          55000,
          60000,
          64000,
          62900,
          49000,
          63000,
          62000,
          42500,
          62000,
          48500,
          48500,
          43500,
          69000,
          48500,
          58000,
          57500,
          56500,
          43000,
          55000,
          60000,
          55000,
          77000,
          58000,
          55000,
          45500,
          52000,
          56500,
          68000,
          48000,
          70000,
          42000,
          40500,
          78000,
          57000,
          52000,
          68000,
          42000,
          42000,
          56000,
          45000,
          59500,
          75000,
          75500,
          63000,
          56000,
          59500,
          41000,
          63000,
          42500,
          43000,
          75000,
          56000,
          63000,
          58000,
          63000,
          55000,
          47000,
          54000,
          46000,
          68500,
          49000,
          78000,
          57000,
          75000,
          60500,
          45500,
          75000,
          65000,
          57500,
          43500,
          55000,
          42000,
          70000,
          44500,
          54500,
          63000,
          65700,
          44500,
          78000,
          78000,
          45500,
          55200,
          71588,
          72000,
          65000,
          73000,
          49500,
          63000,
          78500,
          57500,
          46000,
          48500,
          48000,
          50500,
          46500,
          74500,
          53000,
          49000,
          53000,
          60000,
          62000,
          42000,
          46000,
          50000,
          70000,
          42400,
          58000,
          61000,
          75000,
          42500,
          67000,
          43000,
          75000,
          77000,
          65000,
          60000,
          78000,
          48500,
          65000,
          42000,
          42500,
          53000,
          51000,
          47500,
          63500,
          65500,
          58000,
          68000,
          56500,
          52500,
          60000,
          65000,
          65000,
          77000,
          46000,
          42800,
          45000,
          65000,
          55000,
          67000,
          44000,
          48000,
          65000,
          43000,
          57888,
          52000,
          49000,
          67000,
          57000,
          57000,
          75000,
          79000,
          45000,
          49500,
          46500,
          49500,
          49000,
          60000,
          43000,
          69500,
          43000,
          55000,
          79000,
          60000,
          71000,
          40700,
          68500
         ],
         "y0": " ",
         "yaxis": "y"
        }
       ],
       "layout": {
        "boxmode": "group",
        "legend": {
         "tracegroupgap": 0
        },
        "template": {
         "data": {
          "bar": [
           {
            "error_x": {
             "color": "#2a3f5f"
            },
            "error_y": {
             "color": "#2a3f5f"
            },
            "marker": {
             "line": {
              "color": "#E5ECF6",
              "width": 0.5
             }
            },
            "type": "bar"
           }
          ],
          "barpolar": [
           {
            "marker": {
             "line": {
              "color": "#E5ECF6",
              "width": 0.5
             }
            },
            "type": "barpolar"
           }
          ],
          "carpet": [
           {
            "aaxis": {
             "endlinecolor": "#2a3f5f",
             "gridcolor": "white",
             "linecolor": "white",
             "minorgridcolor": "white",
             "startlinecolor": "#2a3f5f"
            },
            "baxis": {
             "endlinecolor": "#2a3f5f",
             "gridcolor": "white",
             "linecolor": "white",
             "minorgridcolor": "white",
             "startlinecolor": "#2a3f5f"
            },
            "type": "carpet"
           }
          ],
          "choropleth": [
           {
            "colorbar": {
             "outlinewidth": 0,
             "ticks": ""
            },
            "type": "choropleth"
           }
          ],
          "contour": [
           {
            "colorbar": {
             "outlinewidth": 0,
             "ticks": ""
            },
            "colorscale": [
             [
              0,
              "#0d0887"
             ],
             [
              0.1111111111111111,
              "#46039f"
             ],
             [
              0.2222222222222222,
              "#7201a8"
             ],
             [
              0.3333333333333333,
              "#9c179e"
             ],
             [
              0.4444444444444444,
              "#bd3786"
             ],
             [
              0.5555555555555556,
              "#d8576b"
             ],
             [
              0.6666666666666666,
              "#ed7953"
             ],
             [
              0.7777777777777778,
              "#fb9f3a"
             ],
             [
              0.8888888888888888,
              "#fdca26"
             ],
             [
              1,
              "#f0f921"
             ]
            ],
            "type": "contour"
           }
          ],
          "contourcarpet": [
           {
            "colorbar": {
             "outlinewidth": 0,
             "ticks": ""
            },
            "type": "contourcarpet"
           }
          ],
          "heatmap": [
           {
            "colorbar": {
             "outlinewidth": 0,
             "ticks": ""
            },
            "colorscale": [
             [
              0,
              "#0d0887"
             ],
             [
              0.1111111111111111,
              "#46039f"
             ],
             [
              0.2222222222222222,
              "#7201a8"
             ],
             [
              0.3333333333333333,
              "#9c179e"
             ],
             [
              0.4444444444444444,
              "#bd3786"
             ],
             [
              0.5555555555555556,
              "#d8576b"
             ],
             [
              0.6666666666666666,
              "#ed7953"
             ],
             [
              0.7777777777777778,
              "#fb9f3a"
             ],
             [
              0.8888888888888888,
              "#fdca26"
             ],
             [
              1,
              "#f0f921"
             ]
            ],
            "type": "heatmap"
           }
          ],
          "heatmapgl": [
           {
            "colorbar": {
             "outlinewidth": 0,
             "ticks": ""
            },
            "colorscale": [
             [
              0,
              "#0d0887"
             ],
             [
              0.1111111111111111,
              "#46039f"
             ],
             [
              0.2222222222222222,
              "#7201a8"
             ],
             [
              0.3333333333333333,
              "#9c179e"
             ],
             [
              0.4444444444444444,
              "#bd3786"
             ],
             [
              0.5555555555555556,
              "#d8576b"
             ],
             [
              0.6666666666666666,
              "#ed7953"
             ],
             [
              0.7777777777777778,
              "#fb9f3a"
             ],
             [
              0.8888888888888888,
              "#fdca26"
             ],
             [
              1,
              "#f0f921"
             ]
            ],
            "type": "heatmapgl"
           }
          ],
          "histogram": [
           {
            "marker": {
             "colorbar": {
              "outlinewidth": 0,
              "ticks": ""
             }
            },
            "type": "histogram"
           }
          ],
          "histogram2d": [
           {
            "colorbar": {
             "outlinewidth": 0,
             "ticks": ""
            },
            "colorscale": [
             [
              0,
              "#0d0887"
             ],
             [
              0.1111111111111111,
              "#46039f"
             ],
             [
              0.2222222222222222,
              "#7201a8"
             ],
             [
              0.3333333333333333,
              "#9c179e"
             ],
             [
              0.4444444444444444,
              "#bd3786"
             ],
             [
              0.5555555555555556,
              "#d8576b"
             ],
             [
              0.6666666666666666,
              "#ed7953"
             ],
             [
              0.7777777777777778,
              "#fb9f3a"
             ],
             [
              0.8888888888888888,
              "#fdca26"
             ],
             [
              1,
              "#f0f921"
             ]
            ],
            "type": "histogram2d"
           }
          ],
          "histogram2dcontour": [
           {
            "colorbar": {
             "outlinewidth": 0,
             "ticks": ""
            },
            "colorscale": [
             [
              0,
              "#0d0887"
             ],
             [
              0.1111111111111111,
              "#46039f"
             ],
             [
              0.2222222222222222,
              "#7201a8"
             ],
             [
              0.3333333333333333,
              "#9c179e"
             ],
             [
              0.4444444444444444,
              "#bd3786"
             ],
             [
              0.5555555555555556,
              "#d8576b"
             ],
             [
              0.6666666666666666,
              "#ed7953"
             ],
             [
              0.7777777777777778,
              "#fb9f3a"
             ],
             [
              0.8888888888888888,
              "#fdca26"
             ],
             [
              1,
              "#f0f921"
             ]
            ],
            "type": "histogram2dcontour"
           }
          ],
          "mesh3d": [
           {
            "colorbar": {
             "outlinewidth": 0,
             "ticks": ""
            },
            "type": "mesh3d"
           }
          ],
          "parcoords": [
           {
            "line": {
             "colorbar": {
              "outlinewidth": 0,
              "ticks": ""
             }
            },
            "type": "parcoords"
           }
          ],
          "pie": [
           {
            "automargin": true,
            "type": "pie"
           }
          ],
          "scatter": [
           {
            "marker": {
             "colorbar": {
              "outlinewidth": 0,
              "ticks": ""
             }
            },
            "type": "scatter"
           }
          ],
          "scatter3d": [
           {
            "line": {
             "colorbar": {
              "outlinewidth": 0,
              "ticks": ""
             }
            },
            "marker": {
             "colorbar": {
              "outlinewidth": 0,
              "ticks": ""
             }
            },
            "type": "scatter3d"
           }
          ],
          "scattercarpet": [
           {
            "marker": {
             "colorbar": {
              "outlinewidth": 0,
              "ticks": ""
             }
            },
            "type": "scattercarpet"
           }
          ],
          "scattergeo": [
           {
            "marker": {
             "colorbar": {
              "outlinewidth": 0,
              "ticks": ""
             }
            },
            "type": "scattergeo"
           }
          ],
          "scattergl": [
           {
            "marker": {
             "colorbar": {
              "outlinewidth": 0,
              "ticks": ""
             }
            },
            "type": "scattergl"
           }
          ],
          "scattermapbox": [
           {
            "marker": {
             "colorbar": {
              "outlinewidth": 0,
              "ticks": ""
             }
            },
            "type": "scattermapbox"
           }
          ],
          "scatterpolar": [
           {
            "marker": {
             "colorbar": {
              "outlinewidth": 0,
              "ticks": ""
             }
            },
            "type": "scatterpolar"
           }
          ],
          "scatterpolargl": [
           {
            "marker": {
             "colorbar": {
              "outlinewidth": 0,
              "ticks": ""
             }
            },
            "type": "scatterpolargl"
           }
          ],
          "scatterternary": [
           {
            "marker": {
             "colorbar": {
              "outlinewidth": 0,
              "ticks": ""
             }
            },
            "type": "scatterternary"
           }
          ],
          "surface": [
           {
            "colorbar": {
             "outlinewidth": 0,
             "ticks": ""
            },
            "colorscale": [
             [
              0,
              "#0d0887"
             ],
             [
              0.1111111111111111,
              "#46039f"
             ],
             [
              0.2222222222222222,
              "#7201a8"
             ],
             [
              0.3333333333333333,
              "#9c179e"
             ],
             [
              0.4444444444444444,
              "#bd3786"
             ],
             [
              0.5555555555555556,
              "#d8576b"
             ],
             [
              0.6666666666666666,
              "#ed7953"
             ],
             [
              0.7777777777777778,
              "#fb9f3a"
             ],
             [
              0.8888888888888888,
              "#fdca26"
             ],
             [
              1,
              "#f0f921"
             ]
            ],
            "type": "surface"
           }
          ],
          "table": [
           {
            "cells": {
             "fill": {
              "color": "#EBF0F8"
             },
             "line": {
              "color": "white"
             }
            },
            "header": {
             "fill": {
              "color": "#C8D4E3"
             },
             "line": {
              "color": "white"
             }
            },
            "type": "table"
           }
          ]
         },
         "layout": {
          "annotationdefaults": {
           "arrowcolor": "#2a3f5f",
           "arrowhead": 0,
           "arrowwidth": 1
          },
          "coloraxis": {
           "colorbar": {
            "outlinewidth": 0,
            "ticks": ""
           }
          },
          "colorscale": {
           "diverging": [
            [
             0,
             "#8e0152"
            ],
            [
             0.1,
             "#c51b7d"
            ],
            [
             0.2,
             "#de77ae"
            ],
            [
             0.3,
             "#f1b6da"
            ],
            [
             0.4,
             "#fde0ef"
            ],
            [
             0.5,
             "#f7f7f7"
            ],
            [
             0.6,
             "#e6f5d0"
            ],
            [
             0.7,
             "#b8e186"
            ],
            [
             0.8,
             "#7fbc41"
            ],
            [
             0.9,
             "#4d9221"
            ],
            [
             1,
             "#276419"
            ]
           ],
           "sequential": [
            [
             0,
             "#0d0887"
            ],
            [
             0.1111111111111111,
             "#46039f"
            ],
            [
             0.2222222222222222,
             "#7201a8"
            ],
            [
             0.3333333333333333,
             "#9c179e"
            ],
            [
             0.4444444444444444,
             "#bd3786"
            ],
            [
             0.5555555555555556,
             "#d8576b"
            ],
            [
             0.6666666666666666,
             "#ed7953"
            ],
            [
             0.7777777777777778,
             "#fb9f3a"
            ],
            [
             0.8888888888888888,
             "#fdca26"
            ],
            [
             1,
             "#f0f921"
            ]
           ],
           "sequentialminus": [
            [
             0,
             "#0d0887"
            ],
            [
             0.1111111111111111,
             "#46039f"
            ],
            [
             0.2222222222222222,
             "#7201a8"
            ],
            [
             0.3333333333333333,
             "#9c179e"
            ],
            [
             0.4444444444444444,
             "#bd3786"
            ],
            [
             0.5555555555555556,
             "#d8576b"
            ],
            [
             0.6666666666666666,
             "#ed7953"
            ],
            [
             0.7777777777777778,
             "#fb9f3a"
            ],
            [
             0.8888888888888888,
             "#fdca26"
            ],
            [
             1,
             "#f0f921"
            ]
           ]
          },
          "colorway": [
           "#636efa",
           "#EF553B",
           "#00cc96",
           "#ab63fa",
           "#FFA15A",
           "#19d3f3",
           "#FF6692",
           "#B6E880",
           "#FF97FF",
           "#FECB52"
          ],
          "font": {
           "color": "#2a3f5f"
          },
          "geo": {
           "bgcolor": "white",
           "lakecolor": "white",
           "landcolor": "#E5ECF6",
           "showlakes": true,
           "showland": true,
           "subunitcolor": "white"
          },
          "hoverlabel": {
           "align": "left"
          },
          "hovermode": "closest",
          "mapbox": {
           "style": "light"
          },
          "paper_bgcolor": "white",
          "plot_bgcolor": "#E5ECF6",
          "polar": {
           "angularaxis": {
            "gridcolor": "white",
            "linecolor": "white",
            "ticks": ""
           },
           "bgcolor": "#E5ECF6",
           "radialaxis": {
            "gridcolor": "white",
            "linecolor": "white",
            "ticks": ""
           }
          },
          "scene": {
           "xaxis": {
            "backgroundcolor": "#E5ECF6",
            "gridcolor": "white",
            "gridwidth": 2,
            "linecolor": "white",
            "showbackground": true,
            "ticks": "",
            "zerolinecolor": "white"
           },
           "yaxis": {
            "backgroundcolor": "#E5ECF6",
            "gridcolor": "white",
            "gridwidth": 2,
            "linecolor": "white",
            "showbackground": true,
            "ticks": "",
            "zerolinecolor": "white"
           },
           "zaxis": {
            "backgroundcolor": "#E5ECF6",
            "gridcolor": "white",
            "gridwidth": 2,
            "linecolor": "white",
            "showbackground": true,
            "ticks": "",
            "zerolinecolor": "white"
           }
          },
          "shapedefaults": {
           "line": {
            "color": "#2a3f5f"
           }
          },
          "ternary": {
           "aaxis": {
            "gridcolor": "white",
            "linecolor": "white",
            "ticks": ""
           },
           "baxis": {
            "gridcolor": "white",
            "linecolor": "white",
            "ticks": ""
           },
           "bgcolor": "#E5ECF6",
           "caxis": {
            "gridcolor": "white",
            "linecolor": "white",
            "ticks": ""
           }
          },
          "title": {
           "x": 0.05
          },
          "xaxis": {
           "automargin": true,
           "gridcolor": "white",
           "linecolor": "white",
           "ticks": "",
           "title": {
            "standoff": 15
           },
           "zerolinecolor": "white",
           "zerolinewidth": 2
          },
          "yaxis": {
           "automargin": true,
           "gridcolor": "white",
           "linecolor": "white",
           "ticks": "",
           "title": {
            "standoff": 15
           },
           "zerolinecolor": "white",
           "zerolinewidth": 2
          }
         }
        },
        "title": {
         "text": "Relationship between each engine capacity and price"
        },
        "xaxis": {
         "anchor": "y",
         "domain": [
          0,
          1
         ],
         "title": {
          "text": "Engine capacity(L)"
         }
        },
        "yaxis": {
         "anchor": "x",
         "domain": [
          0,
          1
         ],
         "title": {
          "text": "Price(GH¢)"
         }
        }
       }
      },
      "text/html": [
       "<div>\n",
       "        \n",
       "        \n",
       "            <div id=\"9f7af25c-d0c6-422d-83c0-ee218b1e6bbf\" class=\"plotly-graph-div\" style=\"height:525px; width:100%;\"></div>\n",
       "            <script type=\"text/javascript\">\n",
       "                require([\"plotly\"], function(Plotly) {\n",
       "                    window.PLOTLYENV=window.PLOTLYENV || {};\n",
       "                    \n",
       "                if (document.getElementById(\"9f7af25c-d0c6-422d-83c0-ee218b1e6bbf\")) {\n",
       "                    Plotly.newPlot(\n",
       "                        '9f7af25c-d0c6-422d-83c0-ee218b1e6bbf',\n",
       "                        [{\"alignmentgroup\": \"True\", \"hovertemplate\": \"Engine capacity(L)=%{x}<br>Price(GH\\u00a2)=%{y}<extra></extra>\", \"legendgroup\": \"\", \"marker\": {\"color\": \"#636efa\"}, \"name\": \"\", \"notched\": false, \"offsetgroup\": \"\", \"orientation\": \"v\", \"showlegend\": false, \"type\": \"box\", \"x\": [\"1.8\", \"1.6\", \"2.0\", \"4.2\", \"1.6\", \"3.0\", \"1.8\", \"2.0\", \"2.0\", \"1.8\", \"1.8\", \"1.8\", \"1.8\", \"1.8\", \"2.4\", \"2.5\", \"2.0\", \"1.5\", \"1.5\", \"1.8\", \"1.8\", \"1.8\", \"2.0\", \"2.0\", \"2.0\", \"2.0\", \"1.6\", \"1.6\", \"1.7\", \"2.0\", \"2.5\", \"1.6\", \"3.0\", \"1.5\", \"1.8\", \"3.5\", \"1.8\", \"1.8\", \"1.8\", \"1.8\", \"1.8\", \"2.4\", \"1.8\", \"2.4\", \"3.0\", \"1.4\", \"2.5\", \"2.7\", \"2.5\", \"2.4\", \"1.8\", \"2.0\", \"2.8\", \"2.4\", \"2.4\", \"1.6\", \"2.5\", \"2.0\", \"2.4\", \"1.7\", \"2.5\", \"2.7\", \"1.8\", \"1.8\", \"1.6\", \"1.8\", \"1.8\", \"2.4\", \"2.0\", \"1.8\", \"2.7\", \"1.8\", \"1.5\", \"1.8\", \"1.8\", \"2.7\", \"2.4\", \"1.8\", \"2.4\", \"3.0\", \"2.7\", \"1.8\", \"1.8\", \"1.6\", \"2.5\", \"2.5\", \"1.8\", \"1.6\", \"1.8\", \"2.4\", \"2.4\", \"2.4\", \"1.8\", \"1.8\", \"1.8\", \"1.8\", \"2.4\", \"2.7\", \"2.4\", \"1.8\", \"2.4\", \"1.8\", \"1.8\", \"2.4\", \"1.8\", \"2.4\", \"2.4\", \"3.5\", \"2.4\", \"2.0\", \"1.8\", \"1.8\", \"2.4\", \"1.8\", \"2.0\", \"2.4\", \"1.6\", \"1.8\", \"3.0\", \"1.6\", \"2.0\", \"3.5\", \"1.8\", \"3.7\", \"1.8\", \"2.5\", \"2.4\", \"1.8\", \"2.4\", \"1.8\", \"2.4\", \"2.4\", \"1.8\", \"1.5\", \"2.4\", \"1.8\", \"1.8\", \"1.8\", \"2.5\", \"2.5\", \"2.4\", \"1.8\", \"1.5\", \"1.5\", \"1.8\", \"2.4\", \"1.8\", \"2.7\", \"1.8\", \"3.7\", \"3.2\", \"1.8\", \"2.5\", \"2.4\", \"1.6\", \"1.8\", \"1.8\", \"1.8\", \"2.0\", \"2.0\", \"1.8\", \"1.8\", \"2.0\", \"2.4\", \"2.5\", \"2.4\", \"2.0\", \"1.8\", \"1.8\", \"2.5\", \"1.8\", \"2.5\", \"3.3\", \"2.0\", \"3.0\", \"2.4\", \"1.6\", \"1.8\", \"2.4\", \"2.4\", \"2.4\", \"3.0\", \"1.8\", \"1.8\", \"1.5\", \"2.4\", \"1.8\", \"1.8\", \"2.4\", \"1.8\", \"2.5\", \"2.4\", \"2.5\", \"1.6\", \"1.8\", \"2.4\", \"1.8\", \"1.6\", \"1.5\", \"1.8\", \"1.6\", \"2.0\", \"1.6\", \"2.4\", \"2.4\", \"2.5\", \"1.8\", \"2.4\", \"1.8\", \"1.8\", \"1.8\", \"1.8\", \"1.8\", \"2.0\", \"1.8\", \"4.0\", \"1.8\", \"2.4\", \"2.4\", \"2.5\", \"1.8\", \"1.8\", \"2.5\", \"1.8\", \"1.8\", \"3.7\", \"1.8\", \"2.4\", \"2.4\", \"3.0\", \"1.8\", \"1.6\", \"3.5\", \"2.0\", \"2.5\", \"1.8\", \"2.7\", \"2.0\", \"1.4\", \"1.8\", \"1.8\", \"1.8\", \"2.4\", \"1.8\", \"2.4\", \"1.5\", \"2.0\", \"1.8\", \"2.4\", \"2.4\", \"1.8\", \"1.8\", \"2.5\", \"2.5\", \"2.7\", \"2.4\", \"1.6\", \"2.5\", \"2.5\", \"2.0\", \"1.6\", \"2.7\", \"1.8\", \"1.8\", \"2.5\", \"1.8\", \"3.5\", \"1.8\", \"1.6\", \"1.8\", \"2.4\", \"1.8\", \"2.4\", \"2.4\", \"3.0\", \"2.4\", \"1.8\", \"2.4\", \"2.5\", \"1.8\", \"1.8\", \"2.4\", \"2.4\", \"2.4\", \"3.0\", \"1.5\", \"1.8\", \"1.8\", \"2.4\", \"1.8\", \"2.4\", \"1.8\", \"2.5\", \"2.5\", \"1.8\", \"1.8\", \"2.7\", \"3.0\", \"2.8\", \"2.4\", \"2.4\", \"1.8\", \"1.8\", \"2.4\", \"2.4\", \"2.4\", \"1.6\", \"1.8\", \"1.8\", \"2.4\", \"1.8\", \"1.8\", \"2.4\", \"3.0\", \"2.4\", \"1.8\", \"2.0\", \"1.5\", \"3.0\", \"2.5\", \"2.4\", \"2.5\", \"2.4\", \"1.8\", \"1.8\", \"2.0\", \"1.8\", \"3.0\", \"2.0\", \"2.0\", \"2.0\", \"1.8\", \"2.4\"], \"x0\": \" \", \"xaxis\": \"x\", \"y\": [42500, 42000, 48000, 60000, 44000, 68500, 58000, 42500, 48000, 69500, 45000, 55500, 70000, 44000, 65000, 58000, 56000, 55500, 60000, 48000, 76000, 43500, 75000, 53000, 56000, 72000, 52500, 45000, 42000, 60000, 55000, 46000, 53000, 56500, 62000, 70000, 55500, 51000, 44000, 52000, 48100, 43000, 47200, 45000, 47000, 45000, 60000, 65000, 42000, 58000, 74000, 43500, 49900, 65777, 72000, 55000, 70000, 62000, 59800, 49000, 78000, 55000, 74000, 49500, 41777, 47777, 50000, 75000, 65000, 50555, 42000, 78500, 46000, 50555, 48950, 55000, 60000, 62000, 55000, 45500, 47000, 43000, 46500, 50000, 64000, 78000, 47000, 40999, 50500, 79500, 49500, 58500, 51000, 65500, 62000, 45000, 65000, 45000, 77000, 45000, 78000, 48500, 62000, 54500, 68000, 68000, 46500, 65000, 78000, 55000, 58500, 41000, 40500, 77000, 65000, 67000, 48500, 52000, 66600, 65000, 75000, 45000, 42000, 50000, 62000, 46000, 66000, 72000, 76000, 47500, 43500, 78000, 68000, 40500, 58500, 41900, 48000, 60000, 75000, 45000, 65000, 43500, 70000, 58500, 63000, 63800, 48500, 45000, 42000, 45000, 50000, 45000, 58000, 79000, 45000, 50000, 67000, 46000, 59900, 42000, 43000, 45000, 50000, 48000, 78000, 43000, 55000, 60000, 64000, 62900, 49000, 63000, 62000, 42500, 62000, 48500, 48500, 43500, 69000, 48500, 58000, 57500, 56500, 43000, 55000, 60000, 55000, 77000, 58000, 55000, 45500, 52000, 56500, 68000, 48000, 70000, 42000, 40500, 78000, 57000, 52000, 68000, 42000, 42000, 56000, 45000, 59500, 75000, 75500, 63000, 56000, 59500, 41000, 63000, 42500, 43000, 75000, 56000, 63000, 58000, 63000, 55000, 47000, 54000, 46000, 68500, 49000, 78000, 57000, 75000, 60500, 45500, 75000, 65000, 57500, 43500, 55000, 42000, 70000, 44500, 54500, 63000, 65700, 44500, 78000, 78000, 45500, 55200, 71588, 72000, 65000, 73000, 49500, 63000, 78500, 57500, 46000, 48500, 48000, 50500, 46500, 74500, 53000, 49000, 53000, 60000, 62000, 42000, 46000, 50000, 70000, 42400, 58000, 61000, 75000, 42500, 67000, 43000, 75000, 77000, 65000, 60000, 78000, 48500, 65000, 42000, 42500, 53000, 51000, 47500, 63500, 65500, 58000, 68000, 56500, 52500, 60000, 65000, 65000, 77000, 46000, 42800, 45000, 65000, 55000, 67000, 44000, 48000, 65000, 43000, 57888, 52000, 49000, 67000, 57000, 57000, 75000, 79000, 45000, 49500, 46500, 49500, 49000, 60000, 43000, 69500, 43000, 55000, 79000, 60000, 71000, 40700, 68500], \"y0\": \" \", \"yaxis\": \"y\"}],\n",
       "                        {\"boxmode\": \"group\", \"legend\": {\"tracegroupgap\": 0}, \"template\": {\"data\": {\"bar\": [{\"error_x\": {\"color\": \"#2a3f5f\"}, \"error_y\": {\"color\": \"#2a3f5f\"}, \"marker\": {\"line\": {\"color\": \"#E5ECF6\", \"width\": 0.5}}, \"type\": \"bar\"}], \"barpolar\": [{\"marker\": {\"line\": {\"color\": \"#E5ECF6\", \"width\": 0.5}}, \"type\": \"barpolar\"}], \"carpet\": [{\"aaxis\": {\"endlinecolor\": \"#2a3f5f\", \"gridcolor\": \"white\", \"linecolor\": \"white\", \"minorgridcolor\": \"white\", \"startlinecolor\": \"#2a3f5f\"}, \"baxis\": {\"endlinecolor\": \"#2a3f5f\", \"gridcolor\": \"white\", \"linecolor\": \"white\", \"minorgridcolor\": \"white\", \"startlinecolor\": \"#2a3f5f\"}, \"type\": \"carpet\"}], \"choropleth\": [{\"colorbar\": {\"outlinewidth\": 0, \"ticks\": \"\"}, \"type\": \"choropleth\"}], \"contour\": [{\"colorbar\": {\"outlinewidth\": 0, \"ticks\": \"\"}, \"colorscale\": [[0.0, \"#0d0887\"], [0.1111111111111111, \"#46039f\"], [0.2222222222222222, \"#7201a8\"], [0.3333333333333333, \"#9c179e\"], [0.4444444444444444, \"#bd3786\"], [0.5555555555555556, \"#d8576b\"], [0.6666666666666666, \"#ed7953\"], [0.7777777777777778, \"#fb9f3a\"], [0.8888888888888888, \"#fdca26\"], [1.0, \"#f0f921\"]], \"type\": \"contour\"}], \"contourcarpet\": [{\"colorbar\": {\"outlinewidth\": 0, \"ticks\": \"\"}, \"type\": \"contourcarpet\"}], \"heatmap\": [{\"colorbar\": {\"outlinewidth\": 0, \"ticks\": \"\"}, \"colorscale\": [[0.0, \"#0d0887\"], [0.1111111111111111, \"#46039f\"], [0.2222222222222222, \"#7201a8\"], [0.3333333333333333, \"#9c179e\"], [0.4444444444444444, \"#bd3786\"], [0.5555555555555556, \"#d8576b\"], [0.6666666666666666, \"#ed7953\"], [0.7777777777777778, \"#fb9f3a\"], [0.8888888888888888, \"#fdca26\"], [1.0, \"#f0f921\"]], \"type\": \"heatmap\"}], \"heatmapgl\": [{\"colorbar\": {\"outlinewidth\": 0, \"ticks\": \"\"}, \"colorscale\": [[0.0, \"#0d0887\"], [0.1111111111111111, \"#46039f\"], [0.2222222222222222, \"#7201a8\"], [0.3333333333333333, \"#9c179e\"], [0.4444444444444444, \"#bd3786\"], [0.5555555555555556, \"#d8576b\"], [0.6666666666666666, \"#ed7953\"], [0.7777777777777778, \"#fb9f3a\"], [0.8888888888888888, \"#fdca26\"], [1.0, \"#f0f921\"]], \"type\": \"heatmapgl\"}], \"histogram\": [{\"marker\": {\"colorbar\": {\"outlinewidth\": 0, \"ticks\": \"\"}}, \"type\": \"histogram\"}], \"histogram2d\": [{\"colorbar\": {\"outlinewidth\": 0, \"ticks\": \"\"}, \"colorscale\": [[0.0, \"#0d0887\"], [0.1111111111111111, \"#46039f\"], [0.2222222222222222, \"#7201a8\"], [0.3333333333333333, \"#9c179e\"], [0.4444444444444444, \"#bd3786\"], [0.5555555555555556, \"#d8576b\"], [0.6666666666666666, \"#ed7953\"], [0.7777777777777778, \"#fb9f3a\"], [0.8888888888888888, \"#fdca26\"], [1.0, \"#f0f921\"]], \"type\": \"histogram2d\"}], \"histogram2dcontour\": [{\"colorbar\": {\"outlinewidth\": 0, \"ticks\": \"\"}, \"colorscale\": [[0.0, \"#0d0887\"], [0.1111111111111111, \"#46039f\"], [0.2222222222222222, \"#7201a8\"], [0.3333333333333333, \"#9c179e\"], [0.4444444444444444, \"#bd3786\"], [0.5555555555555556, \"#d8576b\"], [0.6666666666666666, \"#ed7953\"], [0.7777777777777778, \"#fb9f3a\"], [0.8888888888888888, \"#fdca26\"], [1.0, \"#f0f921\"]], \"type\": \"histogram2dcontour\"}], \"mesh3d\": [{\"colorbar\": {\"outlinewidth\": 0, \"ticks\": \"\"}, \"type\": \"mesh3d\"}], \"parcoords\": [{\"line\": {\"colorbar\": {\"outlinewidth\": 0, \"ticks\": \"\"}}, \"type\": \"parcoords\"}], \"pie\": [{\"automargin\": true, \"type\": \"pie\"}], \"scatter\": [{\"marker\": {\"colorbar\": {\"outlinewidth\": 0, \"ticks\": \"\"}}, \"type\": \"scatter\"}], \"scatter3d\": [{\"line\": {\"colorbar\": {\"outlinewidth\": 0, \"ticks\": \"\"}}, \"marker\": {\"colorbar\": {\"outlinewidth\": 0, \"ticks\": \"\"}}, \"type\": \"scatter3d\"}], \"scattercarpet\": [{\"marker\": {\"colorbar\": {\"outlinewidth\": 0, \"ticks\": \"\"}}, \"type\": \"scattercarpet\"}], \"scattergeo\": [{\"marker\": {\"colorbar\": {\"outlinewidth\": 0, \"ticks\": \"\"}}, \"type\": \"scattergeo\"}], \"scattergl\": [{\"marker\": {\"colorbar\": {\"outlinewidth\": 0, \"ticks\": \"\"}}, \"type\": \"scattergl\"}], \"scattermapbox\": [{\"marker\": {\"colorbar\": {\"outlinewidth\": 0, \"ticks\": \"\"}}, \"type\": \"scattermapbox\"}], \"scatterpolar\": [{\"marker\": {\"colorbar\": {\"outlinewidth\": 0, \"ticks\": \"\"}}, \"type\": \"scatterpolar\"}], \"scatterpolargl\": [{\"marker\": {\"colorbar\": {\"outlinewidth\": 0, \"ticks\": \"\"}}, \"type\": \"scatterpolargl\"}], \"scatterternary\": [{\"marker\": {\"colorbar\": {\"outlinewidth\": 0, \"ticks\": \"\"}}, \"type\": \"scatterternary\"}], \"surface\": [{\"colorbar\": {\"outlinewidth\": 0, \"ticks\": \"\"}, \"colorscale\": [[0.0, \"#0d0887\"], [0.1111111111111111, \"#46039f\"], [0.2222222222222222, \"#7201a8\"], [0.3333333333333333, \"#9c179e\"], [0.4444444444444444, \"#bd3786\"], [0.5555555555555556, \"#d8576b\"], [0.6666666666666666, \"#ed7953\"], [0.7777777777777778, \"#fb9f3a\"], [0.8888888888888888, \"#fdca26\"], [1.0, \"#f0f921\"]], \"type\": \"surface\"}], \"table\": [{\"cells\": {\"fill\": {\"color\": \"#EBF0F8\"}, \"line\": {\"color\": \"white\"}}, \"header\": {\"fill\": {\"color\": \"#C8D4E3\"}, \"line\": {\"color\": \"white\"}}, \"type\": \"table\"}]}, \"layout\": {\"annotationdefaults\": {\"arrowcolor\": \"#2a3f5f\", \"arrowhead\": 0, \"arrowwidth\": 1}, \"coloraxis\": {\"colorbar\": {\"outlinewidth\": 0, \"ticks\": \"\"}}, \"colorscale\": {\"diverging\": [[0, \"#8e0152\"], [0.1, \"#c51b7d\"], [0.2, \"#de77ae\"], [0.3, \"#f1b6da\"], [0.4, \"#fde0ef\"], [0.5, \"#f7f7f7\"], [0.6, \"#e6f5d0\"], [0.7, \"#b8e186\"], [0.8, \"#7fbc41\"], [0.9, \"#4d9221\"], [1, \"#276419\"]], \"sequential\": [[0.0, \"#0d0887\"], [0.1111111111111111, \"#46039f\"], [0.2222222222222222, \"#7201a8\"], [0.3333333333333333, \"#9c179e\"], [0.4444444444444444, \"#bd3786\"], [0.5555555555555556, \"#d8576b\"], [0.6666666666666666, \"#ed7953\"], [0.7777777777777778, \"#fb9f3a\"], [0.8888888888888888, \"#fdca26\"], [1.0, \"#f0f921\"]], \"sequentialminus\": [[0.0, \"#0d0887\"], [0.1111111111111111, \"#46039f\"], [0.2222222222222222, \"#7201a8\"], [0.3333333333333333, \"#9c179e\"], [0.4444444444444444, \"#bd3786\"], [0.5555555555555556, \"#d8576b\"], [0.6666666666666666, \"#ed7953\"], [0.7777777777777778, \"#fb9f3a\"], [0.8888888888888888, \"#fdca26\"], [1.0, \"#f0f921\"]]}, \"colorway\": [\"#636efa\", \"#EF553B\", \"#00cc96\", \"#ab63fa\", \"#FFA15A\", \"#19d3f3\", \"#FF6692\", \"#B6E880\", \"#FF97FF\", \"#FECB52\"], \"font\": {\"color\": \"#2a3f5f\"}, \"geo\": {\"bgcolor\": \"white\", \"lakecolor\": \"white\", \"landcolor\": \"#E5ECF6\", \"showlakes\": true, \"showland\": true, \"subunitcolor\": \"white\"}, \"hoverlabel\": {\"align\": \"left\"}, \"hovermode\": \"closest\", \"mapbox\": {\"style\": \"light\"}, \"paper_bgcolor\": \"white\", \"plot_bgcolor\": \"#E5ECF6\", \"polar\": {\"angularaxis\": {\"gridcolor\": \"white\", \"linecolor\": \"white\", \"ticks\": \"\"}, \"bgcolor\": \"#E5ECF6\", \"radialaxis\": {\"gridcolor\": \"white\", \"linecolor\": \"white\", \"ticks\": \"\"}}, \"scene\": {\"xaxis\": {\"backgroundcolor\": \"#E5ECF6\", \"gridcolor\": \"white\", \"gridwidth\": 2, \"linecolor\": \"white\", \"showbackground\": true, \"ticks\": \"\", \"zerolinecolor\": \"white\"}, \"yaxis\": {\"backgroundcolor\": \"#E5ECF6\", \"gridcolor\": \"white\", \"gridwidth\": 2, \"linecolor\": \"white\", \"showbackground\": true, \"ticks\": \"\", \"zerolinecolor\": \"white\"}, \"zaxis\": {\"backgroundcolor\": \"#E5ECF6\", \"gridcolor\": \"white\", \"gridwidth\": 2, \"linecolor\": \"white\", \"showbackground\": true, \"ticks\": \"\", \"zerolinecolor\": \"white\"}}, \"shapedefaults\": {\"line\": {\"color\": \"#2a3f5f\"}}, \"ternary\": {\"aaxis\": {\"gridcolor\": \"white\", \"linecolor\": \"white\", \"ticks\": \"\"}, \"baxis\": {\"gridcolor\": \"white\", \"linecolor\": \"white\", \"ticks\": \"\"}, \"bgcolor\": \"#E5ECF6\", \"caxis\": {\"gridcolor\": \"white\", \"linecolor\": \"white\", \"ticks\": \"\"}}, \"title\": {\"x\": 0.05}, \"xaxis\": {\"automargin\": true, \"gridcolor\": \"white\", \"linecolor\": \"white\", \"ticks\": \"\", \"title\": {\"standoff\": 15}, \"zerolinecolor\": \"white\", \"zerolinewidth\": 2}, \"yaxis\": {\"automargin\": true, \"gridcolor\": \"white\", \"linecolor\": \"white\", \"ticks\": \"\", \"title\": {\"standoff\": 15}, \"zerolinecolor\": \"white\", \"zerolinewidth\": 2}}}, \"title\": {\"text\": \"Relationship between each engine capacity and price\"}, \"xaxis\": {\"anchor\": \"y\", \"domain\": [0.0, 1.0], \"title\": {\"text\": \"Engine capacity(L)\"}}, \"yaxis\": {\"anchor\": \"x\", \"domain\": [0.0, 1.0], \"title\": {\"text\": \"Price(GH\\u00a2)\"}}},\n",
       "                        {\"responsive\": true}\n",
       "                    ).then(function(){\n",
       "                            \n",
       "var gd = document.getElementById('9f7af25c-d0c6-422d-83c0-ee218b1e6bbf');\n",
       "var x = new MutationObserver(function (mutations, observer) {{\n",
       "        var display = window.getComputedStyle(gd).display;\n",
       "        if (!display || display === 'none') {{\n",
       "            console.log([gd, 'removed!']);\n",
       "            Plotly.purge(gd);\n",
       "            observer.disconnect();\n",
       "        }}\n",
       "}});\n",
       "\n",
       "// Listen for the removal of the full notebook cells\n",
       "var notebookContainer = gd.closest('#notebook-container');\n",
       "if (notebookContainer) {{\n",
       "    x.observe(notebookContainer, {childList: true});\n",
       "}}\n",
       "\n",
       "// Listen for the clearing of the current output cell\n",
       "var outputEl = gd.closest('.output');\n",
       "if (outputEl) {{\n",
       "    x.observe(outputEl, {childList: true});\n",
       "}}\n",
       "\n",
       "                        })\n",
       "                };\n",
       "                });\n",
       "            </script>\n",
       "        </div>"
      ]
     },
     "metadata": {},
     "output_type": "display_data"
    }
   ],
   "source": [
    "fig = px.box(filtered, x=\"Engine capacity(L)\", y=\"Price(GH¢)\", title='Relationship between each engine capacity and price')\n",
    "fig.show()"
   ]
  },
  {
   "cell_type": "code",
   "execution_count": null,
   "metadata": {},
   "outputs": [],
   "source": []
  },
  {
   "cell_type": "code",
   "execution_count": null,
   "metadata": {},
   "outputs": [],
   "source": []
  }
 ],
 "metadata": {
  "kernelspec": {
   "display_name": "Python 3",
   "language": "python",
   "name": "python3"
  },
  "language_info": {
   "codemirror_mode": {
    "name": "ipython",
    "version": 3
   },
   "file_extension": ".py",
   "mimetype": "text/x-python",
   "name": "python",
   "nbconvert_exporter": "python",
   "pygments_lexer": "ipython3",
   "version": "3.7.4"
  }
 },
 "nbformat": 4,
 "nbformat_minor": 2
}
