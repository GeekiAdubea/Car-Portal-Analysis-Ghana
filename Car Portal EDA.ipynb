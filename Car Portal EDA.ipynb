{
 "cells": [
  {
   "cell_type": "markdown",
   "metadata": {},
   "source": [
    "# Exploratory Data Analysis"
   ]
  },
  {
   "cell_type": "markdown",
   "metadata": {},
   "source": [
    "This notebook is for performing analysis on car data scraped from an online car portal"
   ]
  },
  {
   "cell_type": "markdown",
   "metadata": {},
   "source": [
    "The data is stored in a local MongoDB database <br>\n",
    "The goal is to explore each feature of a car and observe how each affects the pricing of a car in Ghana"
   ]
  },
  {
   "cell_type": "markdown",
   "metadata": {},
   "source": [
    "## Importing standard libraries"
   ]
  },
  {
   "cell_type": "code",
   "execution_count": 382,
   "metadata": {},
   "outputs": [],
   "source": [
    "#Python data analysis imports\n",
    "import pymongo\n",
    "import pandas as pd\n",
    "import numpy as np\n",
    "import matplotlib.pyplot as plt\n",
    "import seaborn as sns\n",
    "import plotly.express as px\n",
    "%matplotlib inline"
   ]
  },
  {
   "cell_type": "code",
   "execution_count": 384,
   "metadata": {},
   "outputs": [],
   "source": [
    "#object for connecting to local MongoDB\n",
    "from pymongo import MongoClient\n",
    "db_client = MongoClient()"
   ]
  },
  {
   "cell_type": "markdown",
   "metadata": {},
   "source": [
    "#### Connecting to database and fetching data"
   ]
  },
  {
   "cell_type": "code",
   "execution_count": 385,
   "metadata": {},
   "outputs": [],
   "source": [
    "data = pd.DataFrame(list(db_client.web_scraping_db.cars_collection.find()))"
   ]
  },
  {
   "cell_type": "markdown",
   "metadata": {},
   "source": [
    ".shape method to show the number of rows and columns"
   ]
  },
  {
   "cell_type": "code",
   "execution_count": 386,
   "metadata": {
    "scrolled": true
   },
   "outputs": [
    {
     "data": {
      "text/plain": [
       "(1207, 14)"
      ]
     },
     "execution_count": 386,
     "metadata": {},
     "output_type": "execute_result"
    }
   ],
   "source": [
    "data.shape"
   ]
  },
  {
   "cell_type": "markdown",
   "metadata": {},
   "source": [
    "head() to view the first 5 rows"
   ]
  },
  {
   "cell_type": "code",
   "execution_count": 387,
   "metadata": {
    "scrolled": false
   },
   "outputs": [
    {
     "data": {
      "text/html": [
       "<div>\n",
       "<style scoped>\n",
       "    .dataframe tbody tr th:only-of-type {\n",
       "        vertical-align: middle;\n",
       "    }\n",
       "\n",
       "    .dataframe tbody tr th {\n",
       "        vertical-align: top;\n",
       "    }\n",
       "\n",
       "    .dataframe thead th {\n",
       "        text-align: right;\n",
       "    }\n",
       "</style>\n",
       "<table border=\"1\" class=\"dataframe\">\n",
       "  <thead>\n",
       "    <tr style=\"text-align: right;\">\n",
       "      <th></th>\n",
       "      <th>_id</th>\n",
       "      <th>Listing</th>\n",
       "      <th>Price</th>\n",
       "      <th>Condition:</th>\n",
       "      <th>Brand:</th>\n",
       "      <th>Model:</th>\n",
       "      <th>Trim / Edition:</th>\n",
       "      <th>Model year:</th>\n",
       "      <th>Transmission:</th>\n",
       "      <th>Body type:</th>\n",
       "      <th>Fuel type:</th>\n",
       "      <th>Mileage:</th>\n",
       "      <th>Engine capacity:</th>\n",
       "      <th>URL</th>\n",
       "    </tr>\n",
       "  </thead>\n",
       "  <tbody>\n",
       "    <tr>\n",
       "      <th>0</th>\n",
       "      <td>5ef7879be1a9534c47aae29b</td>\n",
       "      <td>Kia Optima Full Option 2012</td>\n",
       "      <td>GH₵ 39,500</td>\n",
       "      <td>Used</td>\n",
       "      <td>Kia</td>\n",
       "      <td>Optima</td>\n",
       "      <td>Full Option</td>\n",
       "      <td>2012</td>\n",
       "      <td>Automatic</td>\n",
       "      <td>Saloon</td>\n",
       "      <td>Petrol</td>\n",
       "      <td>64,683 km</td>\n",
       "      <td>2.4 Liter</td>\n",
       "      <td>http://tonaton.com/en/ad/kia-optima-full-optio...</td>\n",
       "    </tr>\n",
       "    <tr>\n",
       "      <th>1</th>\n",
       "      <td>5ef7879ee1a9534c47aae29c</td>\n",
       "      <td>Mercedes Cclass 2006</td>\n",
       "      <td>GH₵ 25,000</td>\n",
       "      <td>Used</td>\n",
       "      <td>Mercedes</td>\n",
       "      <td>Cclass</td>\n",
       "      <td>NaN</td>\n",
       "      <td>2006</td>\n",
       "      <td>Automatic</td>\n",
       "      <td>Saloon</td>\n",
       "      <td>Petrol</td>\n",
       "      <td>98,124 km</td>\n",
       "      <td>1.8 Liter</td>\n",
       "      <td>http://tonaton.com/en/ad/mercedes-cclass-2006-...</td>\n",
       "    </tr>\n",
       "    <tr>\n",
       "      <th>2</th>\n",
       "      <td>5ef787afe1a9534c47aae29d</td>\n",
       "      <td>Toyota Corolla 2015</td>\n",
       "      <td>GH₵ 42,500</td>\n",
       "      <td>Used</td>\n",
       "      <td>Toyota</td>\n",
       "      <td>Corolla</td>\n",
       "      <td>NaN</td>\n",
       "      <td>2015</td>\n",
       "      <td>Automatic</td>\n",
       "      <td>NaN</td>\n",
       "      <td>Petrol</td>\n",
       "      <td>51,410 km</td>\n",
       "      <td>1.8 Liter</td>\n",
       "      <td>http://tonaton.com/en/ad/toyota-corolla-2015-f...</td>\n",
       "    </tr>\n",
       "    <tr>\n",
       "      <th>3</th>\n",
       "      <td>5ef787b2e1a9534c47aae29e</td>\n",
       "      <td>Toyota Corolla Auto 2010</td>\n",
       "      <td>GH₵ 28,500</td>\n",
       "      <td>Used</td>\n",
       "      <td>Toyota</td>\n",
       "      <td>Corolla</td>\n",
       "      <td>Auto</td>\n",
       "      <td>2010</td>\n",
       "      <td>Automatic</td>\n",
       "      <td>Saloon</td>\n",
       "      <td>Petrol</td>\n",
       "      <td>76,552 km</td>\n",
       "      <td>1.8 Liter</td>\n",
       "      <td>http://tonaton.com/en/ad/toyota-corolla-auto-2...</td>\n",
       "    </tr>\n",
       "    <tr>\n",
       "      <th>4</th>\n",
       "      <td>5ef787b6e1a9534c47aae29f</td>\n",
       "      <td>Chevrolet Cruze . 2014</td>\n",
       "      <td>GH₵ 26,500</td>\n",
       "      <td>Used</td>\n",
       "      <td>Chevrolet</td>\n",
       "      <td>Cruze</td>\n",
       "      <td>.</td>\n",
       "      <td>2014</td>\n",
       "      <td>Automatic</td>\n",
       "      <td>Saloon</td>\n",
       "      <td>Petrol</td>\n",
       "      <td>86,995 km</td>\n",
       "      <td>1.4 Liter</td>\n",
       "      <td>http://tonaton.com/en/ad/chevrolet-cruze-2014-...</td>\n",
       "    </tr>\n",
       "  </tbody>\n",
       "</table>\n",
       "</div>"
      ],
      "text/plain": [
       "                        _id                      Listing       Price  \\\n",
       "0  5ef7879be1a9534c47aae29b  Kia Optima Full Option 2012  GH₵ 39,500   \n",
       "1  5ef7879ee1a9534c47aae29c         Mercedes Cclass 2006  GH₵ 25,000   \n",
       "2  5ef787afe1a9534c47aae29d          Toyota Corolla 2015  GH₵ 42,500   \n",
       "3  5ef787b2e1a9534c47aae29e     Toyota Corolla Auto 2010  GH₵ 28,500   \n",
       "4  5ef787b6e1a9534c47aae29f       Chevrolet Cruze . 2014  GH₵ 26,500   \n",
       "\n",
       "  Condition:     Brand:   Model:  Trim / Edition:  Model year:   \\\n",
       "0        Used        Kia   Optima      Full Option         2012   \n",
       "1        Used   Mercedes   Cclass              NaN         2006   \n",
       "2        Used     Toyota  Corolla              NaN         2015   \n",
       "3        Used     Toyota  Corolla             Auto         2010   \n",
       "4        Used  Chevrolet    Cruze                .         2014   \n",
       "\n",
       "  Transmission:  Body type:  Fuel type:   Mileage:  Engine capacity:   \\\n",
       "0      Automatic      Saloon      Petrol  64,683 km         2.4 Liter   \n",
       "1      Automatic      Saloon      Petrol  98,124 km         1.8 Liter   \n",
       "2      Automatic         NaN      Petrol  51,410 km         1.8 Liter   \n",
       "3      Automatic      Saloon      Petrol  76,552 km         1.8 Liter   \n",
       "4      Automatic      Saloon      Petrol  86,995 km         1.4 Liter   \n",
       "\n",
       "                                                 URL  \n",
       "0  http://tonaton.com/en/ad/kia-optima-full-optio...  \n",
       "1  http://tonaton.com/en/ad/mercedes-cclass-2006-...  \n",
       "2  http://tonaton.com/en/ad/toyota-corolla-2015-f...  \n",
       "3  http://tonaton.com/en/ad/toyota-corolla-auto-2...  \n",
       "4  http://tonaton.com/en/ad/chevrolet-cruze-2014-...  "
      ]
     },
     "execution_count": 387,
     "metadata": {},
     "output_type": "execute_result"
    }
   ],
   "source": [
    "data.head()"
   ]
  },
  {
   "cell_type": "markdown",
   "metadata": {},
   "source": [
    "Pandas describe method generates descriptive statistics that include information that summarizes the central tendency, \n",
    "dispersion, and shape of a dataset’s distribution, excluding NaN values."
   ]
  },
  {
   "cell_type": "code",
   "execution_count": 388,
   "metadata": {},
   "outputs": [
    {
     "data": {
      "text/html": [
       "<div>\n",
       "<style scoped>\n",
       "    .dataframe tbody tr th:only-of-type {\n",
       "        vertical-align: middle;\n",
       "    }\n",
       "\n",
       "    .dataframe tbody tr th {\n",
       "        vertical-align: top;\n",
       "    }\n",
       "\n",
       "    .dataframe thead th {\n",
       "        text-align: right;\n",
       "    }\n",
       "</style>\n",
       "<table border=\"1\" class=\"dataframe\">\n",
       "  <thead>\n",
       "    <tr style=\"text-align: right;\">\n",
       "      <th></th>\n",
       "      <th>_id</th>\n",
       "      <th>Listing</th>\n",
       "      <th>Price</th>\n",
       "      <th>Condition:</th>\n",
       "      <th>Brand:</th>\n",
       "      <th>Model:</th>\n",
       "      <th>Trim / Edition:</th>\n",
       "      <th>Model year:</th>\n",
       "      <th>Transmission:</th>\n",
       "      <th>Body type:</th>\n",
       "      <th>Fuel type:</th>\n",
       "      <th>Mileage:</th>\n",
       "      <th>Engine capacity:</th>\n",
       "      <th>URL</th>\n",
       "    </tr>\n",
       "  </thead>\n",
       "  <tbody>\n",
       "    <tr>\n",
       "      <th>count</th>\n",
       "      <td>1207</td>\n",
       "      <td>1207</td>\n",
       "      <td>1207</td>\n",
       "      <td>1207</td>\n",
       "      <td>1207</td>\n",
       "      <td>1207</td>\n",
       "      <td>722</td>\n",
       "      <td>1207</td>\n",
       "      <td>1207</td>\n",
       "      <td>1165</td>\n",
       "      <td>1207</td>\n",
       "      <td>1207</td>\n",
       "      <td>1207</td>\n",
       "      <td>1207</td>\n",
       "    </tr>\n",
       "    <tr>\n",
       "      <th>unique</th>\n",
       "      <td>1207</td>\n",
       "      <td>921</td>\n",
       "      <td>306</td>\n",
       "      <td>2</td>\n",
       "      <td>38</td>\n",
       "      <td>166</td>\n",
       "      <td>313</td>\n",
       "      <td>28</td>\n",
       "      <td>2</td>\n",
       "      <td>7</td>\n",
       "      <td>8</td>\n",
       "      <td>790</td>\n",
       "      <td>37</td>\n",
       "      <td>1126</td>\n",
       "    </tr>\n",
       "    <tr>\n",
       "      <th>top</th>\n",
       "      <td>5ef794c3e1a9534c47aae5f9</td>\n",
       "      <td>Toyota Land Cruiser 2019</td>\n",
       "      <td>GH₵ 35,000</td>\n",
       "      <td>Used</td>\n",
       "      <td>Toyota</td>\n",
       "      <td>Corolla</td>\n",
       "      <td>SE</td>\n",
       "      <td>2014</td>\n",
       "      <td>Automatic</td>\n",
       "      <td>Saloon</td>\n",
       "      <td>Petrol</td>\n",
       "      <td>0 km</td>\n",
       "      <td>1.8 Liter</td>\n",
       "      <td>http://tonaton.com/en/ad/mitsubishi-mirage-201...</td>\n",
       "    </tr>\n",
       "    <tr>\n",
       "      <th>freq</th>\n",
       "      <td>1</td>\n",
       "      <td>11</td>\n",
       "      <td>30</td>\n",
       "      <td>1082</td>\n",
       "      <td>437</td>\n",
       "      <td>154</td>\n",
       "      <td>27</td>\n",
       "      <td>112</td>\n",
       "      <td>1123</td>\n",
       "      <td>599</td>\n",
       "      <td>1156</td>\n",
       "      <td>53</td>\n",
       "      <td>328</td>\n",
       "      <td>7</td>\n",
       "    </tr>\n",
       "  </tbody>\n",
       "</table>\n",
       "</div>"
      ],
      "text/plain": [
       "                             _id                   Listing       Price  \\\n",
       "count                       1207                      1207        1207   \n",
       "unique                      1207                       921         306   \n",
       "top     5ef794c3e1a9534c47aae5f9  Toyota Land Cruiser 2019  GH₵ 35,000   \n",
       "freq                           1                        11          30   \n",
       "\n",
       "       Condition:  Brand:   Model:  Trim / Edition:  Model year:   \\\n",
       "count         1207    1207     1207              722         1207   \n",
       "unique           2      38      166              313           28   \n",
       "top           Used  Toyota  Corolla               SE         2014   \n",
       "freq          1082     437      154               27          112   \n",
       "\n",
       "       Transmission:  Body type:  Fuel type:  Mileage:  Engine capacity:   \\\n",
       "count            1207        1165        1207      1207              1207   \n",
       "unique              2           7           8       790                37   \n",
       "top         Automatic      Saloon      Petrol      0 km         1.8 Liter   \n",
       "freq             1123         599        1156        53               328   \n",
       "\n",
       "                                                      URL  \n",
       "count                                                1207  \n",
       "unique                                               1126  \n",
       "top     http://tonaton.com/en/ad/mitsubishi-mirage-201...  \n",
       "freq                                                    7  "
      ]
     },
     "execution_count": 388,
     "metadata": {},
     "output_type": "execute_result"
    }
   ],
   "source": [
    "data.describe()"
   ]
  },
  {
   "cell_type": "markdown",
   "metadata": {},
   "source": [
    "#### .info to give summary of data <br>\n",
    "This method prints information about a DataFrame including the index data type and column data types, non-null values and memory usage."
   ]
  },
  {
   "cell_type": "code",
   "execution_count": 389,
   "metadata": {
    "scrolled": false
   },
   "outputs": [
    {
     "name": "stdout",
     "output_type": "stream",
     "text": [
      "<class 'pandas.core.frame.DataFrame'>\n",
      "RangeIndex: 1207 entries, 0 to 1206\n",
      "Data columns (total 14 columns):\n",
      "_id                  1207 non-null object\n",
      "Listing              1207 non-null object\n",
      "Price                1207 non-null object\n",
      "Condition:           1207 non-null object\n",
      "Brand:               1207 non-null object\n",
      "Model:               1207 non-null object\n",
      "Trim / Edition:      722 non-null object\n",
      "Model year:          1207 non-null object\n",
      "Transmission:        1207 non-null object\n",
      "Body type:           1165 non-null object\n",
      "Fuel type:           1207 non-null object\n",
      "Mileage:             1207 non-null object\n",
      "Engine capacity:     1207 non-null object\n",
      "URL                  1207 non-null object\n",
      "dtypes: object(14)\n",
      "memory usage: 132.1+ KB\n"
     ]
    }
   ],
   "source": [
    "data.info()"
   ]
  },
  {
   "cell_type": "markdown",
   "metadata": {},
   "source": [
    "##### Observations: \n",
    "\n",
    "* Price, Mileage and Engine Capacity have object data types\n",
    "* Trim/Edition has 485 null values \n",
    "* Body type has 42 null values"
   ]
  },
  {
   "cell_type": "markdown",
   "metadata": {},
   "source": [
    "## Cleaning data\n",
    "Generally this entails, dealing with null values, duplicates, converting to appropriate data types, etc"
   ]
  },
  {
   "cell_type": "markdown",
   "metadata": {},
   "source": [
    "#### a. Renaming columns"
   ]
  },
  {
   "cell_type": "code",
   "execution_count": 390,
   "metadata": {},
   "outputs": [],
   "source": [
    "data.rename(columns={'Price':'Price(GH¢)', 'Condition: ':'Condition', 'Brand: ':'Brand', 'Model: ':'Model', 'Trim / Edition: ':'Trim/Edition', 'Model year: ':'Model year', 'Transmission: ':'Transmission','Body type: ':'Body type', 'Fuel type: ':'Fuel type','Mileage: ':'Mileage(km)', 'Engine capacity: ':\"Engine capacity(L)\"}, inplace=True)"
   ]
  },
  {
   "cell_type": "code",
   "execution_count": 391,
   "metadata": {
    "scrolled": false
   },
   "outputs": [
    {
     "data": {
      "text/plain": [
       "Index(['_id', 'Listing', 'Price(GH¢)', 'Condition', 'Brand', 'Model',\n",
       "       'Trim/Edition', 'Model year', 'Transmission', 'Body type', 'Fuel type',\n",
       "       'Mileage(km)', 'Engine capacity(L)', 'URL'],\n",
       "      dtype='object')"
      ]
     },
     "execution_count": 391,
     "metadata": {},
     "output_type": "execute_result"
    }
   ],
   "source": [
    "data.columns"
   ]
  },
  {
   "cell_type": "markdown",
   "metadata": {},
   "source": [
    "#### b. Removing columns with too many null values"
   ]
  },
  {
   "cell_type": "code",
   "execution_count": 392,
   "metadata": {},
   "outputs": [
    {
     "data": {
      "text/plain": [
       "0            Full Option\n",
       "1                    NaN\n",
       "2                    NaN\n",
       "3                   Auto\n",
       "4                      .\n",
       "5                    NaN\n",
       "6                  Sport\n",
       "7                    NaN\n",
       "8                    NaN\n",
       "9             2.4 liters\n",
       "10                   NaN\n",
       "11                 sedan\n",
       "12           Spider auto\n",
       "13                   NaN\n",
       "14                   NaN\n",
       "15                   NaN\n",
       "16                   NaN\n",
       "17                   NaN\n",
       "18                     ,\n",
       "19                   NaN\n",
       "20          Fully Loaded\n",
       "21                  Reno\n",
       "22               Limited\n",
       "23                   NaN\n",
       "24                   GDI\n",
       "25               Limited\n",
       "26                   XLE\n",
       "27                   NaN\n",
       "28    Limited( 7 seater)\n",
       "29                    se\n",
       "Name: Trim/Edition, dtype: object"
      ]
     },
     "execution_count": 392,
     "metadata": {},
     "output_type": "execute_result"
    }
   ],
   "source": [
    "data['Trim/Edition'].head(30)"
   ]
  },
  {
   "cell_type": "code",
   "execution_count": 393,
   "metadata": {
    "scrolled": true
   },
   "outputs": [
    {
     "data": {
      "text/plain": [
       "485"
      ]
     },
     "execution_count": 393,
     "metadata": {},
     "output_type": "execute_result"
    }
   ],
   "source": [
    "data['Trim/Edition'].isnull().sum()"
   ]
  },
  {
   "cell_type": "markdown",
   "metadata": {},
   "source": [
    "A closer look at the Trim/Edition reveals that there are a lot of null values and will not be useful for analysis <br>\n",
    "Hence, I will drop the Trim/Edition column"
   ]
  },
  {
   "cell_type": "code",
   "execution_count": 394,
   "metadata": {},
   "outputs": [],
   "source": [
    "data.drop(columns = ['Trim/Edition'], inplace=True)"
   ]
  },
  {
   "cell_type": "markdown",
   "metadata": {},
   "source": [
    "#### c. Removing redundant variables"
   ]
  },
  {
   "cell_type": "markdown",
   "metadata": {},
   "source": [
    "Drop the _id (autogenerated by MongoDB) and URL(not useful)"
   ]
  },
  {
   "cell_type": "code",
   "execution_count": 395,
   "metadata": {},
   "outputs": [],
   "source": [
    "data.drop(columns = ['_id', 'URL'], inplace=True)"
   ]
  },
  {
   "cell_type": "code",
   "execution_count": 396,
   "metadata": {},
   "outputs": [
    {
     "data": {
      "text/html": [
       "<div>\n",
       "<style scoped>\n",
       "    .dataframe tbody tr th:only-of-type {\n",
       "        vertical-align: middle;\n",
       "    }\n",
       "\n",
       "    .dataframe tbody tr th {\n",
       "        vertical-align: top;\n",
       "    }\n",
       "\n",
       "    .dataframe thead th {\n",
       "        text-align: right;\n",
       "    }\n",
       "</style>\n",
       "<table border=\"1\" class=\"dataframe\">\n",
       "  <thead>\n",
       "    <tr style=\"text-align: right;\">\n",
       "      <th></th>\n",
       "      <th>Listing</th>\n",
       "      <th>Price(GH¢)</th>\n",
       "      <th>Condition</th>\n",
       "      <th>Brand</th>\n",
       "      <th>Model</th>\n",
       "      <th>Model year</th>\n",
       "      <th>Transmission</th>\n",
       "      <th>Body type</th>\n",
       "      <th>Fuel type</th>\n",
       "      <th>Mileage(km)</th>\n",
       "      <th>Engine capacity(L)</th>\n",
       "    </tr>\n",
       "  </thead>\n",
       "  <tbody>\n",
       "    <tr>\n",
       "      <th>0</th>\n",
       "      <td>Kia Optima Full Option 2012</td>\n",
       "      <td>GH₵ 39,500</td>\n",
       "      <td>Used</td>\n",
       "      <td>Kia</td>\n",
       "      <td>Optima</td>\n",
       "      <td>2012</td>\n",
       "      <td>Automatic</td>\n",
       "      <td>Saloon</td>\n",
       "      <td>Petrol</td>\n",
       "      <td>64,683 km</td>\n",
       "      <td>2.4 Liter</td>\n",
       "    </tr>\n",
       "    <tr>\n",
       "      <th>1</th>\n",
       "      <td>Mercedes Cclass 2006</td>\n",
       "      <td>GH₵ 25,000</td>\n",
       "      <td>Used</td>\n",
       "      <td>Mercedes</td>\n",
       "      <td>Cclass</td>\n",
       "      <td>2006</td>\n",
       "      <td>Automatic</td>\n",
       "      <td>Saloon</td>\n",
       "      <td>Petrol</td>\n",
       "      <td>98,124 km</td>\n",
       "      <td>1.8 Liter</td>\n",
       "    </tr>\n",
       "    <tr>\n",
       "      <th>2</th>\n",
       "      <td>Toyota Corolla 2015</td>\n",
       "      <td>GH₵ 42,500</td>\n",
       "      <td>Used</td>\n",
       "      <td>Toyota</td>\n",
       "      <td>Corolla</td>\n",
       "      <td>2015</td>\n",
       "      <td>Automatic</td>\n",
       "      <td>NaN</td>\n",
       "      <td>Petrol</td>\n",
       "      <td>51,410 km</td>\n",
       "      <td>1.8 Liter</td>\n",
       "    </tr>\n",
       "    <tr>\n",
       "      <th>3</th>\n",
       "      <td>Toyota Corolla Auto 2010</td>\n",
       "      <td>GH₵ 28,500</td>\n",
       "      <td>Used</td>\n",
       "      <td>Toyota</td>\n",
       "      <td>Corolla</td>\n",
       "      <td>2010</td>\n",
       "      <td>Automatic</td>\n",
       "      <td>Saloon</td>\n",
       "      <td>Petrol</td>\n",
       "      <td>76,552 km</td>\n",
       "      <td>1.8 Liter</td>\n",
       "    </tr>\n",
       "    <tr>\n",
       "      <th>4</th>\n",
       "      <td>Chevrolet Cruze . 2014</td>\n",
       "      <td>GH₵ 26,500</td>\n",
       "      <td>Used</td>\n",
       "      <td>Chevrolet</td>\n",
       "      <td>Cruze</td>\n",
       "      <td>2014</td>\n",
       "      <td>Automatic</td>\n",
       "      <td>Saloon</td>\n",
       "      <td>Petrol</td>\n",
       "      <td>86,995 km</td>\n",
       "      <td>1.4 Liter</td>\n",
       "    </tr>\n",
       "  </tbody>\n",
       "</table>\n",
       "</div>"
      ],
      "text/plain": [
       "                       Listing  Price(GH¢) Condition      Brand    Model  \\\n",
       "0  Kia Optima Full Option 2012  GH₵ 39,500      Used        Kia   Optima   \n",
       "1         Mercedes Cclass 2006  GH₵ 25,000      Used   Mercedes   Cclass   \n",
       "2          Toyota Corolla 2015  GH₵ 42,500      Used     Toyota  Corolla   \n",
       "3     Toyota Corolla Auto 2010  GH₵ 28,500      Used     Toyota  Corolla   \n",
       "4       Chevrolet Cruze . 2014  GH₵ 26,500      Used  Chevrolet    Cruze   \n",
       "\n",
       "  Model year Transmission Body type Fuel type Mileage(km) Engine capacity(L)  \n",
       "0       2012    Automatic    Saloon    Petrol   64,683 km          2.4 Liter  \n",
       "1       2006    Automatic    Saloon    Petrol   98,124 km          1.8 Liter  \n",
       "2       2015    Automatic       NaN    Petrol   51,410 km          1.8 Liter  \n",
       "3       2010    Automatic    Saloon    Petrol   76,552 km          1.8 Liter  \n",
       "4       2014    Automatic    Saloon    Petrol   86,995 km          1.4 Liter  "
      ]
     },
     "execution_count": 396,
     "metadata": {},
     "output_type": "execute_result"
    }
   ],
   "source": [
    "data.head()"
   ]
  },
  {
   "cell_type": "markdown",
   "metadata": {},
   "source": [
    "#### d. Null Values"
   ]
  },
  {
   "cell_type": "code",
   "execution_count": 397,
   "metadata": {
    "scrolled": false
   },
   "outputs": [
    {
     "data": {
      "text/plain": [
       "Listing                0\n",
       "Price(GH¢)             0\n",
       "Condition              0\n",
       "Brand                  0\n",
       "Model                  0\n",
       "Model year             0\n",
       "Transmission           0\n",
       "Body type             42\n",
       "Fuel type              0\n",
       "Mileage(km)            0\n",
       "Engine capacity(L)     0\n",
       "dtype: int64"
      ]
     },
     "execution_count": 397,
     "metadata": {},
     "output_type": "execute_result"
    }
   ],
   "source": [
    "data.isnull().sum()"
   ]
  },
  {
   "cell_type": "markdown",
   "metadata": {},
   "source": [
    "Body type has 42 nulls, however, I will not want to drop the rows altogether because it contains valuable data for analysis <br>\n",
    "It will be difficult to impute also since the values will vary for each record and it will be nearly impossible to fill it in"
   ]
  },
  {
   "cell_type": "code",
   "execution_count": 398,
   "metadata": {},
   "outputs": [
    {
     "data": {
      "text/plain": [
       "Saloon          599\n",
       "SUV / 4x4       363\n",
       "Hatchback       182\n",
       "Estate           10\n",
       "MPV               5\n",
       "Convertible       3\n",
       "Coupé/Sports      3\n",
       "Name: Body type, dtype: int64"
      ]
     },
     "execution_count": 398,
     "metadata": {},
     "output_type": "execute_result"
    }
   ],
   "source": [
    "data['Body type'].value_counts()"
   ]
  },
  {
   "cell_type": "markdown",
   "metadata": {},
   "source": [
    "#### e. Duplicates"
   ]
  },
  {
   "cell_type": "code",
   "execution_count": 399,
   "metadata": {
    "scrolled": false
   },
   "outputs": [
    {
     "data": {
      "text/html": [
       "<div>\n",
       "<style scoped>\n",
       "    .dataframe tbody tr th:only-of-type {\n",
       "        vertical-align: middle;\n",
       "    }\n",
       "\n",
       "    .dataframe tbody tr th {\n",
       "        vertical-align: top;\n",
       "    }\n",
       "\n",
       "    .dataframe thead th {\n",
       "        text-align: right;\n",
       "    }\n",
       "</style>\n",
       "<table border=\"1\" class=\"dataframe\">\n",
       "  <thead>\n",
       "    <tr style=\"text-align: right;\">\n",
       "      <th></th>\n",
       "      <th>Listing</th>\n",
       "      <th>Price(GH¢)</th>\n",
       "      <th>Condition</th>\n",
       "      <th>Brand</th>\n",
       "      <th>Model</th>\n",
       "      <th>Model year</th>\n",
       "      <th>Transmission</th>\n",
       "      <th>Body type</th>\n",
       "      <th>Fuel type</th>\n",
       "      <th>Mileage(km)</th>\n",
       "      <th>Engine capacity(L)</th>\n",
       "    </tr>\n",
       "  </thead>\n",
       "  <tbody>\n",
       "    <tr>\n",
       "      <th>37</th>\n",
       "      <td>Kia Sportage EX 2018</td>\n",
       "      <td>GH₵ 120,000</td>\n",
       "      <td>Used</td>\n",
       "      <td>Kia</td>\n",
       "      <td>Sportage</td>\n",
       "      <td>2018</td>\n",
       "      <td>Automatic</td>\n",
       "      <td>SUV / 4x4</td>\n",
       "      <td>Petrol</td>\n",
       "      <td>19,672 km</td>\n",
       "      <td>2.0 Liter</td>\n",
       "    </tr>\n",
       "    <tr>\n",
       "      <th>38</th>\n",
       "      <td>Ford Explorer , 2006</td>\n",
       "      <td>GH₵ 48,000</td>\n",
       "      <td>Used</td>\n",
       "      <td>Ford</td>\n",
       "      <td>Explorer</td>\n",
       "      <td>2006</td>\n",
       "      <td>Automatic</td>\n",
       "      <td>SUV / 4x4</td>\n",
       "      <td>Petrol</td>\n",
       "      <td>193,040 km</td>\n",
       "      <td>2.0 Liter</td>\n",
       "    </tr>\n",
       "    <tr>\n",
       "      <th>39</th>\n",
       "      <td>Toyota Corolla 2017</td>\n",
       "      <td>GH₵ 69,500</td>\n",
       "      <td>New</td>\n",
       "      <td>Toyota</td>\n",
       "      <td>Corolla</td>\n",
       "      <td>2017</td>\n",
       "      <td>Automatic</td>\n",
       "      <td>Saloon</td>\n",
       "      <td>Petrol</td>\n",
       "      <td>38,321 km</td>\n",
       "      <td>1.8 Liter</td>\n",
       "    </tr>\n",
       "    <tr>\n",
       "      <th>63</th>\n",
       "      <td>Mitsubishi Mirage 2015</td>\n",
       "      <td>GH₵ 38,000</td>\n",
       "      <td>Used</td>\n",
       "      <td>Mitsubishi</td>\n",
       "      <td>Mirage</td>\n",
       "      <td>2015</td>\n",
       "      <td>Automatic</td>\n",
       "      <td>Hatchback</td>\n",
       "      <td>Petrol</td>\n",
       "      <td>71,849 km</td>\n",
       "      <td>1.2 Liter</td>\n",
       "    </tr>\n",
       "    <tr>\n",
       "      <th>64</th>\n",
       "      <td>Toyota Camry 2009</td>\n",
       "      <td>GH₵ 35,000</td>\n",
       "      <td>Used</td>\n",
       "      <td>Toyota</td>\n",
       "      <td>Camry</td>\n",
       "      <td>2009</td>\n",
       "      <td>Automatic</td>\n",
       "      <td>NaN</td>\n",
       "      <td>Petrol</td>\n",
       "      <td>160,651 km</td>\n",
       "      <td>2.4 Liter</td>\n",
       "    </tr>\n",
       "    <tr>\n",
       "      <th>...</th>\n",
       "      <td>...</td>\n",
       "      <td>...</td>\n",
       "      <td>...</td>\n",
       "      <td>...</td>\n",
       "      <td>...</td>\n",
       "      <td>...</td>\n",
       "      <td>...</td>\n",
       "      <td>...</td>\n",
       "      <td>...</td>\n",
       "      <td>...</td>\n",
       "      <td>...</td>\n",
       "    </tr>\n",
       "    <tr>\n",
       "      <th>1117</th>\n",
       "      <td>Volkswagen Passat , 2003</td>\n",
       "      <td>GH₵ 16,000</td>\n",
       "      <td>Used</td>\n",
       "      <td>Volkswagen</td>\n",
       "      <td>Passat</td>\n",
       "      <td>2003</td>\n",
       "      <td>Automatic</td>\n",
       "      <td>Saloon</td>\n",
       "      <td>Petrol</td>\n",
       "      <td>71,000 km</td>\n",
       "      <td>1.8 Liter</td>\n",
       "    </tr>\n",
       "    <tr>\n",
       "      <th>1142</th>\n",
       "      <td>Toyota Corolla Limited Edition 2010</td>\n",
       "      <td>GH₵ 38,500</td>\n",
       "      <td>Used</td>\n",
       "      <td>Toyota</td>\n",
       "      <td>Corolla</td>\n",
       "      <td>2010</td>\n",
       "      <td>Automatic</td>\n",
       "      <td>Saloon</td>\n",
       "      <td>Petrol</td>\n",
       "      <td>45,280 km</td>\n",
       "      <td>1.8 Liter</td>\n",
       "    </tr>\n",
       "    <tr>\n",
       "      <th>1143</th>\n",
       "      <td>Honda Civic Fully loaded 2015</td>\n",
       "      <td>GH₵ 58,500</td>\n",
       "      <td>Used</td>\n",
       "      <td>Honda</td>\n",
       "      <td>Civic</td>\n",
       "      <td>2015</td>\n",
       "      <td>Automatic</td>\n",
       "      <td>Saloon</td>\n",
       "      <td>Petrol</td>\n",
       "      <td>46,824 km</td>\n",
       "      <td>1.8 Liter</td>\n",
       "    </tr>\n",
       "    <tr>\n",
       "      <th>1169</th>\n",
       "      <td>Hyundai Elantra S 2013</td>\n",
       "      <td>GH₵ 45,000</td>\n",
       "      <td>Used</td>\n",
       "      <td>Hyundai</td>\n",
       "      <td>Elantra</td>\n",
       "      <td>2013</td>\n",
       "      <td>Manual</td>\n",
       "      <td>Saloon</td>\n",
       "      <td>Petrol</td>\n",
       "      <td>36,000 km</td>\n",
       "      <td>1.8 Liter</td>\n",
       "    </tr>\n",
       "    <tr>\n",
       "      <th>1188</th>\n",
       "      <td>Daewoo Kalos 2004</td>\n",
       "      <td>GH₵ 11,500</td>\n",
       "      <td>Used</td>\n",
       "      <td>Daewoo</td>\n",
       "      <td>Kalos</td>\n",
       "      <td>2004</td>\n",
       "      <td>Manual</td>\n",
       "      <td>Hatchback</td>\n",
       "      <td>Petrol</td>\n",
       "      <td>10,725 km</td>\n",
       "      <td>1.2 Liter</td>\n",
       "    </tr>\n",
       "  </tbody>\n",
       "</table>\n",
       "<p>91 rows × 11 columns</p>\n",
       "</div>"
      ],
      "text/plain": [
       "                                  Listing   Price(GH¢) Condition       Brand  \\\n",
       "37                   Kia Sportage EX 2018  GH₵ 120,000      Used         Kia   \n",
       "38                   Ford Explorer , 2006   GH₵ 48,000      Used        Ford   \n",
       "39                    Toyota Corolla 2017   GH₵ 69,500       New      Toyota   \n",
       "63                 Mitsubishi Mirage 2015   GH₵ 38,000      Used  Mitsubishi   \n",
       "64                      Toyota Camry 2009   GH₵ 35,000      Used      Toyota   \n",
       "...                                   ...          ...       ...         ...   \n",
       "1117             Volkswagen Passat , 2003   GH₵ 16,000      Used  Volkswagen   \n",
       "1142  Toyota Corolla Limited Edition 2010   GH₵ 38,500      Used      Toyota   \n",
       "1143        Honda Civic Fully loaded 2015   GH₵ 58,500      Used       Honda   \n",
       "1169               Hyundai Elantra S 2013   GH₵ 45,000      Used     Hyundai   \n",
       "1188                    Daewoo Kalos 2004   GH₵ 11,500      Used      Daewoo   \n",
       "\n",
       "         Model Model year Transmission  Body type Fuel type Mileage(km)  \\\n",
       "37    Sportage       2018    Automatic  SUV / 4x4    Petrol   19,672 km   \n",
       "38    Explorer       2006    Automatic  SUV / 4x4    Petrol  193,040 km   \n",
       "39     Corolla       2017    Automatic     Saloon    Petrol   38,321 km   \n",
       "63      Mirage       2015    Automatic  Hatchback    Petrol   71,849 km   \n",
       "64       Camry       2009    Automatic        NaN    Petrol  160,651 km   \n",
       "...        ...        ...          ...        ...       ...         ...   \n",
       "1117    Passat       2003    Automatic     Saloon    Petrol   71,000 km   \n",
       "1142   Corolla       2010    Automatic     Saloon    Petrol   45,280 km   \n",
       "1143     Civic       2015    Automatic     Saloon    Petrol   46,824 km   \n",
       "1169   Elantra       2013       Manual     Saloon    Petrol   36,000 km   \n",
       "1188     Kalos       2004       Manual  Hatchback    Petrol   10,725 km   \n",
       "\n",
       "     Engine capacity(L)  \n",
       "37            2.0 Liter  \n",
       "38            2.0 Liter  \n",
       "39            1.8 Liter  \n",
       "63            1.2 Liter  \n",
       "64            2.4 Liter  \n",
       "...                 ...  \n",
       "1117          1.8 Liter  \n",
       "1142          1.8 Liter  \n",
       "1143          1.8 Liter  \n",
       "1169          1.8 Liter  \n",
       "1188          1.2 Liter  \n",
       "\n",
       "[91 rows x 11 columns]"
      ]
     },
     "execution_count": 399,
     "metadata": {},
     "output_type": "execute_result"
    }
   ],
   "source": [
    "data[data.duplicated()]"
   ]
  },
  {
   "cell_type": "code",
   "execution_count": 400,
   "metadata": {},
   "outputs": [],
   "source": [
    "data.drop_duplicates(keep='first', inplace=True)"
   ]
  },
  {
   "cell_type": "code",
   "execution_count": 401,
   "metadata": {
    "scrolled": true
   },
   "outputs": [
    {
     "name": "stdout",
     "output_type": "stream",
     "text": [
      "<class 'pandas.core.frame.DataFrame'>\n",
      "Int64Index: 1116 entries, 0 to 1206\n",
      "Data columns (total 11 columns):\n",
      "Listing               1116 non-null object\n",
      "Price(GH¢)            1116 non-null object\n",
      "Condition             1116 non-null object\n",
      "Brand                 1116 non-null object\n",
      "Model                 1116 non-null object\n",
      "Model year            1116 non-null object\n",
      "Transmission          1116 non-null object\n",
      "Body type             1077 non-null object\n",
      "Fuel type             1116 non-null object\n",
      "Mileage(km)           1116 non-null object\n",
      "Engine capacity(L)    1116 non-null object\n",
      "dtypes: object(11)\n",
      "memory usage: 104.6+ KB\n"
     ]
    }
   ],
   "source": [
    "data.info()"
   ]
  },
  {
   "cell_type": "markdown",
   "metadata": {},
   "source": [
    "#### Converting values to numeric types"
   ]
  },
  {
   "cell_type": "code",
   "execution_count": 402,
   "metadata": {},
   "outputs": [],
   "source": [
    "def get_figure(value, index):\n",
    "    return value.split(\" \")[index]\n",
    "\n",
    "def comma(value):\n",
    "    return int(value.replace(\",\", \"\"))"
   ]
  },
  {
   "cell_type": "code",
   "execution_count": 403,
   "metadata": {
    "scrolled": true
   },
   "outputs": [],
   "source": [
    "data['Price(GH¢)'] = data['Price(GH¢)'].apply(lambda x: get_figure(x, 1)).apply(lambda x: comma(x))\n",
    "\n",
    "data['Mileage(km)'] = data['Mileage(km)'].apply(lambda x: get_figure(x, 0)).apply(lambda x: comma(x))\n",
    "\n",
    "data['Engine capacity(L)'] = data['Engine capacity(L)'].apply(lambda x: get_figure(x, 0))"
   ]
  },
  {
   "cell_type": "code",
   "execution_count": 404,
   "metadata": {},
   "outputs": [],
   "source": [
    "data['Engine capacity(L)'] = data['Engine capacity(L)'].astype('float')"
   ]
  },
  {
   "cell_type": "code",
   "execution_count": 405,
   "metadata": {
    "scrolled": true
   },
   "outputs": [
    {
     "name": "stdout",
     "output_type": "stream",
     "text": [
      "int64\n",
      "int64\n",
      "float64\n"
     ]
    }
   ],
   "source": [
    "#checking the data types after converting\n",
    "print(data['Price(GH¢)'].dtype)\n",
    "\n",
    "print(data['Mileage(km)'].dtype)\n",
    "\n",
    "print(data['Engine capacity(L)'].dtype)"
   ]
  },
  {
   "cell_type": "code",
   "execution_count": 406,
   "metadata": {
    "scrolled": false
   },
   "outputs": [
    {
     "data": {
      "text/html": [
       "<div>\n",
       "<style scoped>\n",
       "    .dataframe tbody tr th:only-of-type {\n",
       "        vertical-align: middle;\n",
       "    }\n",
       "\n",
       "    .dataframe tbody tr th {\n",
       "        vertical-align: top;\n",
       "    }\n",
       "\n",
       "    .dataframe thead th {\n",
       "        text-align: right;\n",
       "    }\n",
       "</style>\n",
       "<table border=\"1\" class=\"dataframe\">\n",
       "  <thead>\n",
       "    <tr style=\"text-align: right;\">\n",
       "      <th></th>\n",
       "      <th>count</th>\n",
       "      <th>mean</th>\n",
       "      <th>std</th>\n",
       "      <th>min</th>\n",
       "      <th>25%</th>\n",
       "      <th>50%</th>\n",
       "      <th>75%</th>\n",
       "      <th>max</th>\n",
       "    </tr>\n",
       "  </thead>\n",
       "  <tbody>\n",
       "    <tr>\n",
       "      <th>Price(GH¢)</th>\n",
       "      <td>1116.0</td>\n",
       "      <td>69779.270609</td>\n",
       "      <td>85355.747022</td>\n",
       "      <td>5500.0</td>\n",
       "      <td>27500.0</td>\n",
       "      <td>43500.0</td>\n",
       "      <td>78000.00</td>\n",
       "      <td>981750.0</td>\n",
       "    </tr>\n",
       "    <tr>\n",
       "      <th>Mileage(km)</th>\n",
       "      <td>1116.0</td>\n",
       "      <td>69918.453405</td>\n",
       "      <td>81857.069767</td>\n",
       "      <td>0.0</td>\n",
       "      <td>32000.0</td>\n",
       "      <td>60001.0</td>\n",
       "      <td>87707.75</td>\n",
       "      <td>954642.0</td>\n",
       "    </tr>\n",
       "  </tbody>\n",
       "</table>\n",
       "</div>"
      ],
      "text/plain": [
       "              count          mean           std     min      25%      50%  \\\n",
       "Price(GH¢)   1116.0  69779.270609  85355.747022  5500.0  27500.0  43500.0   \n",
       "Mileage(km)  1116.0  69918.453405  81857.069767     0.0  32000.0  60001.0   \n",
       "\n",
       "                  75%       max  \n",
       "Price(GH¢)   78000.00  981750.0  \n",
       "Mileage(km)  87707.75  954642.0  "
      ]
     },
     "execution_count": 406,
     "metadata": {},
     "output_type": "execute_result"
    }
   ],
   "source": [
    "data[['Price(GH¢)', 'Mileage(km)']].describe().transpose()"
   ]
  },
  {
   "cell_type": "code",
   "execution_count": 407,
   "metadata": {},
   "outputs": [
    {
     "name": "stdout",
     "output_type": "stream",
     "text": [
      "<class 'pandas.core.frame.DataFrame'>\n",
      "Int64Index: 1116 entries, 0 to 1206\n",
      "Data columns (total 11 columns):\n",
      "Listing               1116 non-null object\n",
      "Price(GH¢)            1116 non-null int64\n",
      "Condition             1116 non-null object\n",
      "Brand                 1116 non-null object\n",
      "Model                 1116 non-null object\n",
      "Model year            1116 non-null object\n",
      "Transmission          1116 non-null object\n",
      "Body type             1077 non-null object\n",
      "Fuel type             1116 non-null object\n",
      "Mileage(km)           1116 non-null int64\n",
      "Engine capacity(L)    1116 non-null float64\n",
      "dtypes: float64(1), int64(2), object(8)\n",
      "memory usage: 104.6+ KB\n"
     ]
    }
   ],
   "source": [
    "data.info()"
   ]
  },
  {
   "cell_type": "markdown",
   "metadata": {},
   "source": [
    "## Exploration\n",
    "**Initial exploration of all variables in the dataset**"
   ]
  },
  {
   "cell_type": "markdown",
   "metadata": {},
   "source": [
    "#### Brand"
   ]
  },
  {
   "cell_type": "code",
   "execution_count": 408,
   "metadata": {
    "scrolled": false
   },
   "outputs": [
    {
     "data": {
      "text/plain": [
       "Text(0.5, 1.0, 'Top 10 Brands')"
      ]
     },
     "execution_count": 408,
     "metadata": {},
     "output_type": "execute_result"
    },
    {
     "data": {
      "image/png": "[encoded data removed]",
      "text/plain": [
       "<Figure size 936x576 with 1 Axes>"
      ]
     },
     "metadata": {
      "needs_background": "light"
     },
     "output_type": "display_data"
    }
   ],
   "source": [
    "fig, ax = plt.subplots(figsize=(13, 8))\n",
    "top10_brands = data['Brand'].value_counts()[:10]\n",
    "\n",
    "sns.barplot(top10_brands.index, top10_brands.values)\n",
    "sns.set(style='darkgrid')\n",
    "plt.title(\"Top 10 Brands\")"
   ]
  },
  {
   "cell_type": "markdown",
   "metadata": {},
   "source": [
    "Above is a bar chart of the top 10 brands listed"
   ]
  },
  {
   "cell_type": "markdown",
   "metadata": {},
   "source": [
    "#### Model year"
   ]
  },
  {
   "cell_type": "code",
   "execution_count": 409,
   "metadata": {},
   "outputs": [],
   "source": [
    "data['Model year'] = data['Model year'].astype('int')"
   ]
  },
  {
   "cell_type": "code",
   "execution_count": 410,
   "metadata": {},
   "outputs": [
    {
     "data": {
      "text/plain": [
       "Text(0.5, 1.0, 'Count of cars per model year')"
      ]
     },
     "execution_count": 410,
     "metadata": {},
     "output_type": "execute_result"
    },
    {
     "data": {
      "image/png": "[encoded data removed]",
      "text/plain": [
       "<Figure size 936x576 with 1 Axes>"
      ]
     },
     "metadata": {},
     "output_type": "display_data"
    }
   ],
   "source": [
    "fig, ax = plt.subplots(figsize=(13, 8))\n",
    "sns.countplot(x='Model year', data=data)\n",
    "plt.xticks(rotation=45)\n",
    "plt.title(\"Count of cars per model year\")"
   ]
  },
  {
   "cell_type": "markdown",
   "metadata": {},
   "source": [
    "Above is a count of cars per model year\n",
    "* Most cars listed were manufactured in 2010 and between 2013 and 2015\n",
    "* There are some really old cars as well; from 1971 which may distort the data so will be dropped"
   ]
  },
  {
   "cell_type": "code",
   "execution_count": 411,
   "metadata": {},
   "outputs": [],
   "source": [
    " data = data[data['Model year'] > 1971]"
   ]
  },
  {
   "cell_type": "code",
   "execution_count": 412,
   "metadata": {
    "scrolled": false
   },
   "outputs": [
    {
     "data": {
      "text/plain": [
       "1115"
      ]
     },
     "execution_count": 412,
     "metadata": {},
     "output_type": "execute_result"
    }
   ],
   "source": [
    "len(data)"
   ]
  },
  {
   "cell_type": "markdown",
   "metadata": {},
   "source": [
    "#### Transmission"
   ]
  },
  {
   "cell_type": "code",
   "execution_count": 413,
   "metadata": {},
   "outputs": [
    {
     "data": {
      "text/plain": [
       "Automatic    1038\n",
       "Manual         77\n",
       "Name: Transmission, dtype: int64"
      ]
     },
     "execution_count": 413,
     "metadata": {},
     "output_type": "execute_result"
    }
   ],
   "source": [
    "data['Transmission'].value_counts()"
   ]
  },
  {
   "cell_type": "code",
   "execution_count": 414,
   "metadata": {
    "scrolled": false
   },
   "outputs": [
    {
     "data": {
      "text/plain": [
       "(array([], dtype=float64), <a list of 0 Text xticklabel objects>)"
      ]
     },
     "execution_count": 414,
     "metadata": {},
     "output_type": "execute_result"
    },
    {
     "data": {
      "image/png": "[encoded data removed]",
      "text/plain": [
       "<Figure size 936x576 with 1 Axes>"
      ]
     },
     "metadata": {},
     "output_type": "display_data"
    }
   ],
   "source": [
    "trans = data['Transmission'].value_counts()\n",
    "\n",
    "fig, ax = plt.subplots(figsize=(13, 8))\n",
    "plt.pie(trans.values, labels=trans.index, autopct='%1.1f%%')\n",
    "plt.title(\"Transmission Types\")\n",
    "\n",
    "\n",
    "plt.xticks(rotation=45)"
   ]
  },
  {
   "cell_type": "markdown",
   "metadata": {},
   "source": [
    "#### Body type"
   ]
  },
  {
   "cell_type": "code",
   "execution_count": 415,
   "metadata": {
    "scrolled": false
   },
   "outputs": [
    {
     "data": {
      "text/plain": [
       "Saloon          562\n",
       "SUV / 4x4       333\n",
       "Hatchback       161\n",
       "Estate           10\n",
       "MPV               4\n",
       "Convertible       3\n",
       "Coupé/Sports      3\n",
       "Name: Body type, dtype: int64"
      ]
     },
     "execution_count": 415,
     "metadata": {},
     "output_type": "execute_result"
    }
   ],
   "source": [
    "data['Body type'].value_counts()"
   ]
  },
  {
   "cell_type": "code",
   "execution_count": 416,
   "metadata": {},
   "outputs": [
    {
     "data": {
      "text/plain": [
       "(array([], dtype=float64), <a list of 0 Text xticklabel objects>)"
      ]
     },
     "execution_count": 416,
     "metadata": {},
     "output_type": "execute_result"
    },
    {
     "data": {
      "image/png": "[encoded data removed]",
      "text/plain": [
       "<Figure size 936x576 with 1 Axes>"
      ]
     },
     "metadata": {},
     "output_type": "display_data"
    }
   ],
   "source": [
    "btype = data['Body type'].value_counts()\n",
    "\n",
    "fig, ax = plt.subplots(figsize=(13, 8))\n",
    "plt.pie(btype.values, labels=btype.index, autopct='%1.1f%%')\n",
    "plt.title(\"Body Types\")\n",
    "\n",
    "\n",
    "plt.xticks(rotation=45)"
   ]
  },
  {
   "cell_type": "markdown",
   "metadata": {},
   "source": [
    "**The body types with smaller percentages will be grouped into an 'Other' value**"
   ]
  },
  {
   "cell_type": "code",
   "execution_count": 417,
   "metadata": {},
   "outputs": [],
   "source": [
    "def combine(val):\n",
    "    if val in ['Estate', 'Coupé/Sports', 'MPV', 'Convertible']:\n",
    "        val = 'Other'\n",
    "    else:\n",
    "        pass\n",
    "    return val"
   ]
  },
  {
   "cell_type": "code",
   "execution_count": 418,
   "metadata": {},
   "outputs": [],
   "source": [
    "data['Body type'] = data['Body type'].apply(lambda x: combine(x))"
   ]
  },
  {
   "cell_type": "code",
   "execution_count": 419,
   "metadata": {},
   "outputs": [
    {
     "data": {
      "text/plain": [
       "Saloon       562\n",
       "SUV / 4x4    333\n",
       "Hatchback    161\n",
       "Other         20\n",
       "Name: Body type, dtype: int64"
      ]
     },
     "execution_count": 419,
     "metadata": {},
     "output_type": "execute_result"
    }
   ],
   "source": [
    "data['Body type'].value_counts()"
   ]
  },
  {
   "cell_type": "markdown",
   "metadata": {},
   "source": [
    "#### Fuel type"
   ]
  },
  {
   "cell_type": "code",
   "execution_count": 420,
   "metadata": {},
   "outputs": [
    {
     "data": {
      "text/plain": [
       "count       1115\n",
       "unique         8\n",
       "top       Petrol\n",
       "freq        1067\n",
       "Name: Fuel type, dtype: object"
      ]
     },
     "execution_count": 420,
     "metadata": {},
     "output_type": "execute_result"
    }
   ],
   "source": [
    "data['Fuel type'].describe()"
   ]
  },
  {
   "cell_type": "code",
   "execution_count": 421,
   "metadata": {
    "scrolled": false
   },
   "outputs": [
    {
     "data": {
      "text/plain": [
       "Petrol            1067\n",
       "Diesel              41\n",
       "Other                2\n",
       "Petrol, Hybrid       1\n",
       "Petrol, Other        1\n",
       "CNG                  1\n",
       "Hybrid               1\n",
       "Diesel, Petrol       1\n",
       "Name: Fuel type, dtype: int64"
      ]
     },
     "execution_count": 421,
     "metadata": {},
     "output_type": "execute_result"
    }
   ],
   "source": [
    "data['Fuel type'].value_counts()"
   ]
  },
  {
   "cell_type": "markdown",
   "metadata": {},
   "source": [
    "**Since there are very small values of other fuel types, it will be grouped into a value \"Other\"**"
   ]
  },
  {
   "cell_type": "code",
   "execution_count": 422,
   "metadata": {},
   "outputs": [],
   "source": [
    "def combine(val):\n",
    "    if val not in ['Petrol', 'Diesel']:\n",
    "        val = 'Other'\n",
    "    else:\n",
    "        pass\n",
    "    return val"
   ]
  },
  {
   "cell_type": "code",
   "execution_count": 423,
   "metadata": {},
   "outputs": [],
   "source": [
    "data['Fuel type'] = data['Fuel type'].apply(lambda x: combine(x))"
   ]
  },
  {
   "cell_type": "code",
   "execution_count": 424,
   "metadata": {},
   "outputs": [
    {
     "data": {
      "text/plain": [
       "Petrol    1067\n",
       "Diesel      41\n",
       "Other        7\n",
       "Name: Fuel type, dtype: int64"
      ]
     },
     "execution_count": 424,
     "metadata": {},
     "output_type": "execute_result"
    }
   ],
   "source": [
    "data['Fuel type'].value_counts()"
   ]
  },
  {
   "cell_type": "code",
   "execution_count": 425,
   "metadata": {},
   "outputs": [
    {
     "data": {
      "text/plain": [
       "(array([0, 1, 2]), <a list of 3 Text xticklabel objects>)"
      ]
     },
     "execution_count": 425,
     "metadata": {},
     "output_type": "execute_result"
    },
    {
     "data": {
      "image/png": "[encoded data removed]",
      "text/plain": [
       "<Figure size 936x576 with 1 Axes>"
      ]
     },
     "metadata": {},
     "output_type": "display_data"
    }
   ],
   "source": [
    "fig, ax = plt.subplots(figsize=(13, 8))\n",
    "sns.countplot(x='Fuel type', data=data)\n",
    "plt.title(\"Count of Fuel Types\")\n",
    "\n",
    "plt.xticks(rotation=45)"
   ]
  },
  {
   "cell_type": "markdown",
   "metadata": {},
   "source": [
    "#### Mileage"
   ]
  },
  {
   "cell_type": "code",
   "execution_count": 426,
   "metadata": {},
   "outputs": [
    {
     "data": {
      "text/plain": [
       "count      1115.000000\n",
       "mean      69967.491480\n",
       "std       81877.400198\n",
       "min           0.000000\n",
       "25%       32000.000000\n",
       "50%       60002.000000\n",
       "75%       87765.500000\n",
       "max      954642.000000\n",
       "Name: Mileage(km), dtype: float64"
      ]
     },
     "execution_count": 426,
     "metadata": {},
     "output_type": "execute_result"
    }
   ],
   "source": [
    "data['Mileage(km)'].describe()"
   ]
  },
  {
   "cell_type": "code",
   "execution_count": 427,
   "metadata": {},
   "outputs": [
    {
     "data": {
      "text/plain": [
       "Text(0.5, 1.0, 'Distribution of mileage in kilometers')"
      ]
     },
     "execution_count": 427,
     "metadata": {},
     "output_type": "execute_result"
    },
    {
     "data": {
      "image/png": "[encoded data removed]",
      "text/plain": [
       "<Figure size 936x576 with 1 Axes>"
      ]
     },
     "metadata": {},
     "output_type": "display_data"
    }
   ],
   "source": [
    "fig, ax = plt.subplots(figsize=(13, 8))\n",
    "sns.distplot(data['Mileage(km)'])\n",
    "plt.title(\"Distribution of mileage in kilometers\")"
   ]
  },
  {
   "cell_type": "markdown",
   "metadata": {},
   "source": [
    "##### Observations:\n",
    "\n",
    "* The average mileage is approximately 70,000km <br> \n",
    "* Very few cars have mileage greater than 200,000km <br>\n",
    "* Mileage of 0km"
   ]
  },
  {
   "cell_type": "markdown",
   "metadata": {},
   "source": [
    "Split the data into the two groups: cars with mileage below 300,000km and cars above 300,000km and investigate how it affects price"
   ]
  },
  {
   "cell_type": "markdown",
   "metadata": {},
   "source": [
    "#### Mileage above 300,000km"
   ]
  },
  {
   "cell_type": "code",
   "execution_count": 428,
   "metadata": {},
   "outputs": [],
   "source": [
    "g_mile = data[data['Mileage(km)'] > 300000]"
   ]
  },
  {
   "cell_type": "code",
   "execution_count": 429,
   "metadata": {
    "scrolled": true
   },
   "outputs": [
    {
     "data": {
      "text/plain": [
       "54739.2"
      ]
     },
     "execution_count": 429,
     "metadata": {},
     "output_type": "execute_result"
    }
   ],
   "source": [
    "g_mile['Price(GH¢)'].mean()"
   ]
  },
  {
   "cell_type": "markdown",
   "metadata": {},
   "source": [
    "Average price for cars with mileage above 300,000km is GH¢ 54,739"
   ]
  },
  {
   "cell_type": "markdown",
   "metadata": {},
   "source": [
    "#### Mileage below 300,000km"
   ]
  },
  {
   "cell_type": "code",
   "execution_count": 430,
   "metadata": {},
   "outputs": [],
   "source": [
    "l_mile = data[~(data['Mileage(km)'] > 300000)]"
   ]
  },
  {
   "cell_type": "code",
   "execution_count": 431,
   "metadata": {
    "scrolled": false
   },
   "outputs": [
    {
     "data": {
      "text/plain": [
       "69988.70727272728"
      ]
     },
     "execution_count": 431,
     "metadata": {},
     "output_type": "execute_result"
    }
   ],
   "source": [
    "l_mile['Price(GH¢)'].mean()"
   ]
  },
  {
   "cell_type": "markdown",
   "metadata": {},
   "source": [
    "Average price for cars with mileage below 300,000km is GH¢ 66,378"
   ]
  },
  {
   "cell_type": "markdown",
   "metadata": {},
   "source": [
    "#### There is an inverse relationship between mileage and price. When the mileage is low, the price is high and vice versa"
   ]
  },
  {
   "cell_type": "markdown",
   "metadata": {},
   "source": [
    "#### Exploring 0km mileage"
   ]
  },
  {
   "cell_type": "code",
   "execution_count": 432,
   "metadata": {
    "scrolled": false
   },
   "outputs": [
    {
     "data": {
      "text/plain": [
       "0"
      ]
     },
     "execution_count": 432,
     "metadata": {},
     "output_type": "execute_result"
    }
   ],
   "source": [
    "len(data[data['Mileage(km)'] < 0])"
   ]
  },
  {
   "cell_type": "code",
   "execution_count": 433,
   "metadata": {
    "scrolled": true
   },
   "outputs": [
    {
     "data": {
      "text/plain": [
       "Used    29\n",
       "New     13\n",
       "Name: Condition, dtype: int64"
      ]
     },
     "execution_count": 433,
     "metadata": {},
     "output_type": "execute_result"
    }
   ],
   "source": [
    "data[data['Mileage(km)'] == 0]['Condition'].value_counts()"
   ]
  },
  {
   "cell_type": "markdown",
   "metadata": {},
   "source": [
    "##### Observation:\n",
    "\n",
    "It is almost impossible to have a mileage of 0km because for a new car <br> Furthermore, more than half of these vehicles are used ones so the mileage data for these vehicles are false <br>\n",
    "Therefore, I will delete the rows containing them"
   ]
  },
  {
   "cell_type": "code",
   "execution_count": 434,
   "metadata": {
    "scrolled": true
   },
   "outputs": [],
   "source": [
    "data = data[data['Mileage(km)'] > 0]"
   ]
  },
  {
   "cell_type": "markdown",
   "metadata": {},
   "source": [
    "#### Engine Capacity"
   ]
  },
  {
   "cell_type": "code",
   "execution_count": 435,
   "metadata": {
    "scrolled": true
   },
   "outputs": [
    {
     "data": {
      "text/plain": [
       "count    1073.000000\n",
       "mean        2.108947\n",
       "std         0.709316\n",
       "min         0.500000\n",
       "25%         1.800000\n",
       "50%         1.800000\n",
       "75%         2.400000\n",
       "max         6.000000\n",
       "Name: Engine capacity(L), dtype: float64"
      ]
     },
     "execution_count": 435,
     "metadata": {},
     "output_type": "execute_result"
    }
   ],
   "source": [
    "data['Engine capacity(L)'].describe()"
   ]
  },
  {
   "cell_type": "code",
   "execution_count": 436,
   "metadata": {
    "scrolled": false
   },
   "outputs": [
    {
     "data": {
      "text/plain": [
       "Text(0.5, 1.0, 'Distribution of Engine Capacity in litres')"
      ]
     },
     "execution_count": 436,
     "metadata": {},
     "output_type": "execute_result"
    },
    {
     "data": {
      "image/png": "[encoded data removed]",
      "text/plain": [
       "<Figure size 936x576 with 1 Axes>"
      ]
     },
     "metadata": {},
     "output_type": "display_data"
    }
   ],
   "source": [
    "fig, ax = plt.subplots(figsize=(13, 8))\n",
    "sns.distplot(data['Engine capacity(L)'])\n",
    "plt.title(\"Distribution of Engine Capacity in litres\")"
   ]
  },
  {
   "cell_type": "markdown",
   "metadata": {},
   "source": [
    "##### Observations: \n",
    "\n",
    "* Most cars have an engine capacity of 1.8 litres\n",
    "* Engine capacities range from 0.5 to 6 litres"
   ]
  },
  {
   "cell_type": "markdown",
   "metadata": {},
   "source": [
    "### Since this analysis focuses on the regular Ghanaian, further analysis will be conducted on which features affect cars that cost between GH¢40,000 and GH¢90,000"
   ]
  },
  {
   "cell_type": "code",
   "execution_count": 437,
   "metadata": {},
   "outputs": [],
   "source": [
    "df = data[(data['Price(GH¢)'] > 40000) & (data['Price(GH¢)'] < 90000)]"
   ]
  },
  {
   "cell_type": "code",
   "execution_count": 438,
   "metadata": {
    "scrolled": false
   },
   "outputs": [
    {
     "data": {
      "text/html": [
       "<div>\n",
       "<style scoped>\n",
       "    .dataframe tbody tr th:only-of-type {\n",
       "        vertical-align: middle;\n",
       "    }\n",
       "\n",
       "    .dataframe tbody tr th {\n",
       "        vertical-align: top;\n",
       "    }\n",
       "\n",
       "    .dataframe thead th {\n",
       "        text-align: right;\n",
       "    }\n",
       "</style>\n",
       "<table border=\"1\" class=\"dataframe\">\n",
       "  <thead>\n",
       "    <tr style=\"text-align: right;\">\n",
       "      <th></th>\n",
       "      <th>Listing</th>\n",
       "      <th>Price(GH¢)</th>\n",
       "      <th>Condition</th>\n",
       "      <th>Brand</th>\n",
       "      <th>Model</th>\n",
       "      <th>Model year</th>\n",
       "      <th>Transmission</th>\n",
       "      <th>Body type</th>\n",
       "      <th>Fuel type</th>\n",
       "      <th>Mileage(km)</th>\n",
       "      <th>Engine capacity(L)</th>\n",
       "    </tr>\n",
       "  </thead>\n",
       "  <tbody>\n",
       "    <tr>\n",
       "      <th>2</th>\n",
       "      <td>Toyota Corolla 2015</td>\n",
       "      <td>42500</td>\n",
       "      <td>Used</td>\n",
       "      <td>Toyota</td>\n",
       "      <td>Corolla</td>\n",
       "      <td>2015</td>\n",
       "      <td>Automatic</td>\n",
       "      <td>NaN</td>\n",
       "      <td>Petrol</td>\n",
       "      <td>51410</td>\n",
       "      <td>1.8</td>\n",
       "    </tr>\n",
       "    <tr>\n",
       "      <th>10</th>\n",
       "      <td>Hyundai Accent 2015</td>\n",
       "      <td>42000</td>\n",
       "      <td>Used</td>\n",
       "      <td>Hyundai</td>\n",
       "      <td>Accent</td>\n",
       "      <td>2015</td>\n",
       "      <td>Automatic</td>\n",
       "      <td>Saloon</td>\n",
       "      <td>Petrol</td>\n",
       "      <td>231</td>\n",
       "      <td>1.6</td>\n",
       "    </tr>\n",
       "    <tr>\n",
       "      <th>14</th>\n",
       "      <td>SEAT Exeo 2011</td>\n",
       "      <td>48000</td>\n",
       "      <td>New</td>\n",
       "      <td>SEAT</td>\n",
       "      <td>Exeo</td>\n",
       "      <td>2011</td>\n",
       "      <td>Automatic</td>\n",
       "      <td>NaN</td>\n",
       "      <td>Diesel</td>\n",
       "      <td>170</td>\n",
       "      <td>2.0</td>\n",
       "    </tr>\n",
       "    <tr>\n",
       "      <th>19</th>\n",
       "      <td>Toyota Land Cruiser 2006</td>\n",
       "      <td>60000</td>\n",
       "      <td>Used</td>\n",
       "      <td>Toyota</td>\n",
       "      <td>Land Cruiser</td>\n",
       "      <td>2006</td>\n",
       "      <td>Manual</td>\n",
       "      <td>SUV / 4x4</td>\n",
       "      <td>Diesel</td>\n",
       "      <td>194860</td>\n",
       "      <td>4.2</td>\n",
       "    </tr>\n",
       "    <tr>\n",
       "      <th>20</th>\n",
       "      <td>Nissan Qashqai Fully Loaded 2015</td>\n",
       "      <td>80000</td>\n",
       "      <td>Used</td>\n",
       "      <td>Nissan</td>\n",
       "      <td>Qashqai</td>\n",
       "      <td>2015</td>\n",
       "      <td>Automatic</td>\n",
       "      <td>SUV / 4x4</td>\n",
       "      <td>Petrol</td>\n",
       "      <td>51000</td>\n",
       "      <td>2.0</td>\n",
       "    </tr>\n",
       "  </tbody>\n",
       "</table>\n",
       "</div>"
      ],
      "text/plain": [
       "                             Listing  Price(GH¢) Condition    Brand  \\\n",
       "2                Toyota Corolla 2015       42500      Used   Toyota   \n",
       "10               Hyundai Accent 2015       42000      Used  Hyundai   \n",
       "14                    SEAT Exeo 2011       48000       New     SEAT   \n",
       "19          Toyota Land Cruiser 2006       60000      Used   Toyota   \n",
       "20  Nissan Qashqai Fully Loaded 2015       80000      Used   Nissan   \n",
       "\n",
       "           Model  Model year Transmission  Body type Fuel type  Mileage(km)  \\\n",
       "2        Corolla        2015    Automatic        NaN    Petrol        51410   \n",
       "10        Accent        2015    Automatic     Saloon    Petrol          231   \n",
       "14          Exeo        2011    Automatic        NaN    Diesel          170   \n",
       "19  Land Cruiser        2006       Manual  SUV / 4x4    Diesel       194860   \n",
       "20       Qashqai        2015    Automatic  SUV / 4x4    Petrol        51000   \n",
       "\n",
       "    Engine capacity(L)  \n",
       "2                  1.8  \n",
       "10                 1.6  \n",
       "14                 2.0  \n",
       "19                 4.2  \n",
       "20                 2.0  "
      ]
     },
     "execution_count": 438,
     "metadata": {},
     "output_type": "execute_result"
    }
   ],
   "source": [
    "df.head()"
   ]
  },
  {
   "cell_type": "code",
   "execution_count": 439,
   "metadata": {
    "scrolled": true
   },
   "outputs": [
    {
     "name": "stdout",
     "output_type": "stream",
     "text": [
      "<class 'pandas.core.frame.DataFrame'>\n",
      "Int64Index: 372 entries, 2 to 1206\n",
      "Data columns (total 11 columns):\n",
      "Listing               372 non-null object\n",
      "Price(GH¢)            372 non-null int64\n",
      "Condition             372 non-null object\n",
      "Brand                 372 non-null object\n",
      "Model                 372 non-null object\n",
      "Model year            372 non-null int32\n",
      "Transmission          372 non-null object\n",
      "Body type             360 non-null object\n",
      "Fuel type             372 non-null object\n",
      "Mileage(km)           372 non-null int64\n",
      "Engine capacity(L)    372 non-null float64\n",
      "dtypes: float64(1), int32(1), int64(2), object(7)\n",
      "memory usage: 33.4+ KB\n"
     ]
    }
   ],
   "source": [
    "df.info()"
   ]
  },
  {
   "cell_type": "markdown",
   "metadata": {},
   "source": [
    "###  Exploring Price"
   ]
  },
  {
   "cell_type": "code",
   "execution_count": 440,
   "metadata": {
    "scrolled": false
   },
   "outputs": [
    {
     "data": {
      "text/plain": [
       "<matplotlib.axes._subplots.AxesSubplot at 0x25cf895bd48>"
      ]
     },
     "execution_count": 440,
     "metadata": {},
     "output_type": "execute_result"
    },
    {
     "data": {
      "image/png": "[encoded data removed]",
      "text/plain": [
       "<Figure size 936x576 with 1 Axes>"
      ]
     },
     "metadata": {},
     "output_type": "display_data"
    }
   ],
   "source": [
    "fig, ax = plt.subplots(figsize=(13, 8))\n",
    "sns.distplot(df['Price(GH¢)'], bins=10)"
   ]
  },
  {
   "cell_type": "markdown",
   "metadata": {},
   "source": [
    "##### Observations:\n",
    "\n",
    "* It is highly likely to purchase a car between 40,000 and 50,000 "
   ]
  },
  {
   "cell_type": "code",
   "execution_count": 441,
   "metadata": {
    "scrolled": true
   },
   "outputs": [
    {
     "data": {
      "text/plain": [
       "count      372.000000\n",
       "mean     60250.443548\n",
       "std      14040.649444\n",
       "min      40500.000000\n",
       "25%      48000.000000\n",
       "50%      58000.000000\n",
       "75%      70250.000000\n",
       "max      89000.000000\n",
       "Name: Price(GH¢), dtype: float64"
      ]
     },
     "execution_count": 441,
     "metadata": {},
     "output_type": "execute_result"
    }
   ],
   "source": [
    "df['Price(GH¢)'].describe()"
   ]
  },
  {
   "cell_type": "code",
   "execution_count": 442,
   "metadata": {
    "scrolled": true
   },
   "outputs": [],
   "source": [
    "df['Price binned']=pd.cut(df['Price(GH¢)'], 3, labels=[\"Low\", \"Mid-range\", \"High\"])"
   ]
  },
  {
   "cell_type": "code",
   "execution_count": 443,
   "metadata": {
    "scrolled": false
   },
   "outputs": [
    {
     "data": {
      "text/plain": [
       "Low          174\n",
       "Mid-range    111\n",
       "High          87\n",
       "Name: Price binned, dtype: int64"
      ]
     },
     "execution_count": 443,
     "metadata": {},
     "output_type": "execute_result"
    }
   ],
   "source": [
    "df['Price binned'].value_counts()"
   ]
  },
  {
   "cell_type": "code",
   "execution_count": 444,
   "metadata": {},
   "outputs": [
    {
     "data": {
      "text/plain": [
       "Price binned\n",
       "Low          47783.408046\n",
       "Mid-range    63558.135135\n",
       "High         80964.356322\n",
       "Name: Price(GH¢), dtype: float64"
      ]
     },
     "execution_count": 444,
     "metadata": {},
     "output_type": "execute_result"
    }
   ],
   "source": [
    "df.groupby('Price binned').mean()['Price(GH¢)']"
   ]
  },
  {
   "cell_type": "markdown",
   "metadata": {},
   "source": [
    "### Brand vs Price"
   ]
  },
  {
   "cell_type": "code",
   "execution_count": 445,
   "metadata": {
    "scrolled": false
   },
   "outputs": [
    {
     "data": {
      "application/vnd.plotly.v1+json": {
       "config": {
        "plotlyServerURL": "https://plot.ly"
       },
       "data": [
        {
         "alignmentgroup": "True",
         "hovertemplate": "Brand=%{x}<br>Price(GH¢)=%{y}<extra></extra>",
         "legendgroup": "",
         "marker": {
          "color": "#636efa"
         },
         "name": "",
         "notched": false,
         "offsetgroup": "",
         "orientation": "v",
         "showlegend": false,
         "type": "box",
         "x": [
          "Toyota",
          "Hyundai",
          "SEAT",
          "Toyota",
          "Nissan",
          "Kia",
          "Mercedes",
          "Toyota",
          "Kia",
          "Ford",
          "Toyota",
          "Hyundai",
          "Hyundai",
          "Toyota",
          "Toyota",
          "Nissan",
          "Hyundai",
          "Honda",
          "Honda",
          "Toyota",
          "Toyota",
          "Hyundai",
          "Hyundai",
          "BMW",
          "Ford",
          "Honda",
          "Hyundai",
          "Kia",
          "Nissan",
          "Kia",
          "Kia",
          "Ford",
          "Ford",
          "Honda",
          "Toyota",
          "Hyundai",
          "Honda",
          "Toyota",
          "Nissan",
          "Hyundai",
          "Nissan",
          "Toyota",
          "Chrysler",
          "Toyota",
          "Hyundai",
          "Toyota",
          "Toyota",
          "Honda",
          "Hyundai",
          "Chevrolet",
          "Hyundai",
          "Mini",
          "Toyota",
          "Hyundai",
          "Toyota",
          "Toyota",
          "Hyundai",
          "Mercedes",
          "Toyota",
          "Hyundai",
          "Hyundai",
          "Kia",
          "Toyota",
          "Nissan",
          "Toyota",
          "Hyundai",
          "Toyota",
          "Toyota",
          "Toyota",
          "Toyota",
          "Hyundai",
          "Ford",
          "Toyota",
          "Toyota",
          "Honda",
          "Kia",
          "Toyota",
          "Volvo",
          "Mercedes",
          "Honda",
          "Toyota",
          "Toyota",
          "Toyota",
          "Honda",
          "Toyota",
          "Mercedes",
          "Infiniti",
          "Toyota",
          "Hyundai",
          "Toyota",
          "Toyota",
          "Toyota",
          "Toyota",
          "Kia",
          "Kia",
          "Hyundai",
          "Nissan",
          "Toyota",
          "Honda",
          "Hyundai",
          "Toyota",
          "Toyota",
          "Toyota",
          "Hyundai",
          "Hyundai",
          "Chrysler",
          "Toyota",
          "Honda",
          "Toyota",
          "Hyundai",
          "Kia",
          "Hyundai",
          "Toyota",
          "Mercedes",
          "Toyota",
          "Toyota",
          "Honda",
          "Nissan",
          "Toyota",
          "Honda",
          "Toyota",
          "Honda",
          "Toyota",
          "Ford",
          "Honda",
          "Toyota",
          "Toyota",
          "Toyota",
          "Honda",
          "Toyota",
          "Kia",
          "Toyota",
          "Kia",
          "Toyota",
          "Mercedes",
          "Nissan",
          "Mercedes",
          "Toyota",
          "Infiniti",
          "Mitsubishi",
          "cadillac",
          "Jeep",
          "Hyundai",
          "Nissan",
          "Toyota",
          "Toyota",
          "Honda",
          "Kia",
          "Nissan",
          "Toyota",
          "Toyota",
          "Toyota",
          "Hyundai",
          "Kia",
          "Hyundai",
          "Toyota",
          "Toyota",
          "BMW",
          "Honda",
          "Volkswagen",
          "Mercedes",
          "Mitsubishi",
          "Honda",
          "Toyota",
          "Toyota",
          "Toyota",
          "Toyota",
          "Chrysler",
          "Hyundai",
          "Toyota",
          "Saturn",
          "Toyota",
          "BMW",
          "Mercedes",
          "Nissan",
          "Toyota",
          "Toyota",
          "Ford",
          "Toyota",
          "Toyota",
          "Hyundai",
          "Kia",
          "Hyundai",
          "Toyota",
          "Hyundai",
          "Hyundai",
          "Hyundai",
          "Toyota",
          "Kia",
          "Hyundai",
          "Mercedes",
          "Hyundai",
          "Hyundai",
          "Toyota",
          "Nissan",
          "Toyota",
          "Toyota",
          "Kia",
          "Mercedes",
          "Hyundai",
          "Honda",
          "Mercedes",
          "Toyota",
          "Toyota",
          "Kia",
          "Kia",
          "Toyota",
          "Hyundai",
          "Toyota",
          "Hyundai",
          "Toyota",
          "Toyota",
          "Hyundai",
          "Toyota",
          "Toyota",
          "Toyota",
          "Nissan",
          "Mitsubishi",
          "Toyota",
          "Nissan",
          "Hyundai",
          "Kia",
          "Hyundai",
          "Hyundai",
          "Honda",
          "Honda",
          "Honda",
          "Nissan",
          "Hyundai",
          "Hyundai",
          "Toyota",
          "Kia",
          "BMW",
          "Hyundai",
          "Toyota",
          "Toyota",
          "Mercedes",
          "Toyota",
          "Toyota",
          "Toyota",
          "Hyundai",
          "Hyundai",
          "Hyundai",
          "Hyundai",
          "BMW",
          "Toyota",
          "Toyota",
          "Toyota",
          "Hyundai",
          "Toyota",
          "Toyota",
          "Toyota",
          "Toyota",
          "Honda",
          "Toyota",
          "Hummer",
          "Toyota",
          "Nissan",
          "Hyundai",
          "Volkswagen",
          "Toyota",
          "Kia",
          "Nissan",
          "BMW",
          "Toyota",
          "Honda",
          "Audi",
          "Mercedes",
          "Toyota",
          "Honda",
          "Toyota",
          "Honda",
          "Nissan",
          "Hyundai",
          "Hyundai",
          "Toyota",
          "Toyota",
          "Mercedes",
          "Toyota",
          "Honda",
          "Toyota",
          "Toyota",
          "Toyota",
          "Toyota",
          "Honda",
          "Mercedes",
          "Toyota",
          "Toyota",
          "Toyota",
          "Kia",
          "Toyota",
          "Toyota",
          "Toyota",
          "Mazda",
          "Ford",
          "Mercedes",
          "Toyota",
          "Toyota",
          "Toyota",
          "Dodge",
          "Toyota",
          "Hummer",
          "Hyundai",
          "Toyota",
          "Toyota",
          "Chrysler",
          "Toyota",
          "Hyundai",
          "Hyundai",
          "Mercedes",
          "Hyundai",
          "Dodge",
          "Kia",
          "Toyota",
          "Honda",
          "Hyundai",
          "Toyota",
          "Toyota",
          "Toyota",
          "Honda",
          "Kia",
          "Ford",
          "Toyota",
          "Hyundai",
          "Hyundai",
          "Toyota",
          "Hyundai",
          "Chrysler",
          "Toyota",
          "Toyota",
          "Toyota",
          "Toyota",
          "Toyota",
          "Toyota",
          "Toyota",
          "BMW",
          "Kia",
          "Honda",
          "Toyota",
          "Toyota",
          "Toyota",
          "Kia",
          "Hyundai",
          "Toyota",
          "Toyota",
          "Kia",
          "Buick",
          "Nissan",
          "Toyota",
          "Honda",
          "Toyota",
          "Range Rover",
          "Hyundai",
          "Toyota",
          "Mitsubishi",
          "Honda",
          "Mercedes",
          "Toyota",
          "Honda",
          "Nissan",
          "Toyota",
          "Toyota",
          "Nissan",
          "Toyota",
          "Hyundai",
          "Toyota",
          "Mercedes",
          "Nissan",
          "Toyota",
          "Honda",
          "Toyota",
          "Honda"
         ],
         "x0": " ",
         "xaxis": "x",
         "y": [
          42500,
          42000,
          48000,
          60000,
          80000,
          44000,
          68500,
          58000,
          42500,
          48000,
          69500,
          45000,
          55500,
          80000,
          65000,
          58000,
          56000,
          55500,
          60000,
          48000,
          76000,
          43500,
          75000,
          85000,
          53000,
          56000,
          72000,
          52500,
          45000,
          42000,
          60000,
          55000,
          46000,
          53000,
          56500,
          62000,
          70000,
          55500,
          51000,
          44000,
          52000,
          48100,
          43000,
          47200,
          45000,
          47000,
          60000,
          85000,
          65000,
          42000,
          58000,
          82000,
          84000,
          74000,
          83000,
          85000,
          43500,
          49900,
          65777,
          72000,
          87000,
          55000,
          70000,
          62000,
          59800,
          49000,
          78000,
          55000,
          74000,
          84999,
          49500,
          41777,
          47777,
          50000,
          75000,
          65000,
          50555,
          42000,
          78500,
          85500,
          50555,
          48950,
          55000,
          60000,
          62000,
          55000,
          45500,
          84000,
          85000,
          47000,
          43000,
          83900,
          46500,
          50000,
          80000,
          64000,
          78000,
          47000,
          80500,
          40999,
          85000,
          50500,
          85500,
          79500,
          49500,
          58500,
          51000,
          65500,
          62000,
          45000,
          65000,
          45000,
          77000,
          45000,
          78000,
          48500,
          62000,
          54500,
          68000,
          68000,
          46500,
          65000,
          78000,
          55000,
          58500,
          41000,
          40500,
          77000,
          88000,
          87000,
          65000,
          67000,
          48500,
          52000,
          66600,
          65000,
          75000,
          86000,
          45000,
          42000,
          50000,
          85000,
          62000,
          46000,
          66000,
          72000,
          76000,
          87000,
          47500,
          43500,
          78000,
          68000,
          40500,
          58500,
          41900,
          48000,
          60000,
          75000,
          85000,
          85000,
          45000,
          65000,
          84500,
          43500,
          70000,
          58500,
          63000,
          63800,
          89000,
          48500,
          45000,
          42000,
          45000,
          50000,
          45000,
          58000,
          79000,
          45000,
          50000,
          67000,
          46000,
          59900,
          42000,
          43000,
          85000,
          45000,
          50000,
          48000,
          43000,
          55000,
          89000,
          60000,
          64000,
          62900,
          49000,
          63000,
          62000,
          42500,
          62000,
          43500,
          80000,
          86000,
          69000,
          83000,
          48500,
          58000,
          57500,
          56500,
          43000,
          55000,
          60000,
          89000,
          55000,
          77000,
          58000,
          55000,
          45500,
          52000,
          56500,
          68000,
          48000,
          70000,
          42000,
          40500,
          78000,
          85000,
          57000,
          52000,
          68000,
          42000,
          42000,
          56000,
          45000,
          59500,
          75000,
          83000,
          85000,
          75500,
          63000,
          56000,
          59500,
          41000,
          63000,
          42500,
          43000,
          75000,
          56000,
          80000,
          63000,
          58000,
          63000,
          55000,
          47000,
          54000,
          46000,
          68500,
          49000,
          78000,
          83000,
          75000,
          60500,
          45500,
          75000,
          65000,
          57500,
          43500,
          80000,
          55000,
          42000,
          70000,
          44500,
          88000,
          54500,
          63000,
          65700,
          44500,
          88500,
          85000,
          78000,
          78000,
          45500,
          55200,
          71588,
          72000,
          65000,
          73000,
          49500,
          63000,
          78500,
          57500,
          46000,
          48500,
          48000,
          50500,
          46500,
          74500,
          53000,
          85000,
          49000,
          53000,
          60000,
          62000,
          42000,
          46000,
          50000,
          70000,
          42400,
          58000,
          61000,
          88000,
          81000,
          75000,
          42500,
          80000,
          67000,
          43000,
          75000,
          65000,
          60000,
          78000,
          48500,
          65000,
          42000,
          42500,
          53000,
          51000,
          47500,
          63500,
          80000,
          65500,
          58000,
          68000,
          56500,
          52500,
          60000,
          65000,
          77000,
          46000,
          42800,
          45000,
          65000,
          55000,
          82000,
          67000,
          44000,
          48000,
          65000,
          43000,
          57888,
          52000,
          49000,
          67000,
          57000,
          57000,
          75000,
          79000,
          45000,
          49500,
          46500,
          49500,
          87000,
          49000,
          60000,
          43000,
          69500,
          43000,
          55000,
          79000,
          60000,
          71000,
          40700,
          68500
         ],
         "y0": " ",
         "yaxis": "y"
        }
       ],
       "layout": {
        "boxmode": "group",
        "legend": {
         "tracegroupgap": 0
        },
        "template": {
         "data": {
          "bar": [
           {
            "error_x": {
             "color": "#2a3f5f"
            },
            "error_y": {
             "color": "#2a3f5f"
            },
            "marker": {
             "line": {
              "color": "#E5ECF6",
              "width": 0.5
             }
            },
            "type": "bar"
           }
          ],
          "barpolar": [
           {
            "marker": {
             "line": {
              "color": "#E5ECF6",
              "width": 0.5
             }
            },
            "type": "barpolar"
           }
          ],
          "carpet": [
           {
            "aaxis": {
             "endlinecolor": "#2a3f5f",
             "gridcolor": "white",
             "linecolor": "white",
             "minorgridcolor": "white",
             "startlinecolor": "#2a3f5f"
            },
            "baxis": {
             "endlinecolor": "#2a3f5f",
             "gridcolor": "white",
             "linecolor": "white",
             "minorgridcolor": "white",
             "startlinecolor": "#2a3f5f"
            },
            "type": "carpet"
           }
          ],
          "choropleth": [
           {
            "colorbar": {
             "outlinewidth": 0,
             "ticks": ""
            },
            "type": "choropleth"
           }
          ],
          "contour": [
           {
            "colorbar": {
             "outlinewidth": 0,
             "ticks": ""
            },
            "colorscale": [
             [
              0,
              "#0d0887"
             ],
             [
              0.1111111111111111,
              "#46039f"
             ],
             [
              0.2222222222222222,
              "#7201a8"
             ],
             [
              0.3333333333333333,
              "#9c179e"
             ],
             [
              0.4444444444444444,
              "#bd3786"
             ],
             [
              0.5555555555555556,
              "#d8576b"
             ],
             [
              0.6666666666666666,
              "#ed7953"
             ],
             [
              0.7777777777777778,
              "#fb9f3a"
             ],
             [
              0.8888888888888888,
              "#fdca26"
             ],
             [
              1,
              "#f0f921"
             ]
            ],
            "type": "contour"
           }
          ],
          "contourcarpet": [
           {
            "colorbar": {
             "outlinewidth": 0,
             "ticks": ""
            },
            "type": "contourcarpet"
           }
          ],
          "heatmap": [
           {
            "colorbar": {
             "outlinewidth": 0,
             "ticks": ""
            },
            "colorscale": [
             [
              0,
              "#0d0887"
             ],
             [
              0.1111111111111111,
              "#46039f"
             ],
             [
              0.2222222222222222,
              "#7201a8"
             ],
             [
              0.3333333333333333,
              "#9c179e"
             ],
             [
              0.4444444444444444,
              "#bd3786"
             ],
             [
              0.5555555555555556,
              "#d8576b"
             ],
             [
              0.6666666666666666,
              "#ed7953"
             ],
             [
              0.7777777777777778,
              "#fb9f3a"
             ],
             [
              0.8888888888888888,
              "#fdca26"
             ],
             [
              1,
              "#f0f921"
             ]
            ],
            "type": "heatmap"
           }
          ],
          "heatmapgl": [
           {
            "colorbar": {
             "outlinewidth": 0,
             "ticks": ""
            },
            "colorscale": [
             [
              0,
              "#0d0887"
             ],
             [
              0.1111111111111111,
              "#46039f"
             ],
             [
              0.2222222222222222,
              "#7201a8"
             ],
             [
              0.3333333333333333,
              "#9c179e"
             ],
             [
              0.4444444444444444,
              "#bd3786"
             ],
             [
              0.5555555555555556,
              "#d8576b"
             ],
             [
              0.6666666666666666,
              "#ed7953"
             ],
             [
              0.7777777777777778,
              "#fb9f3a"
             ],
             [
              0.8888888888888888,
              "#fdca26"
             ],
             [
              1,
              "#f0f921"
             ]
            ],
            "type": "heatmapgl"
           }
          ],
          "histogram": [
           {
            "marker": {
             "colorbar": {
              "outlinewidth": 0,
              "ticks": ""
             }
            },
            "type": "histogram"
           }
          ],
          "histogram2d": [
           {
            "colorbar": {
             "outlinewidth": 0,
             "ticks": ""
            },
            "colorscale": [
             [
              0,
              "#0d0887"
             ],
             [
              0.1111111111111111,
              "#46039f"
             ],
             [
              0.2222222222222222,
              "#7201a8"
             ],
             [
              0.3333333333333333,
              "#9c179e"
             ],
             [
              0.4444444444444444,
              "#bd3786"
             ],
             [
              0.5555555555555556,
              "#d8576b"
             ],
             [
              0.6666666666666666,
              "#ed7953"
             ],
             [
              0.7777777777777778,
              "#fb9f3a"
             ],
             [
              0.8888888888888888,
              "#fdca26"
             ],
             [
              1,
              "#f0f921"
             ]
            ],
            "type": "histogram2d"
           }
          ],
          "histogram2dcontour": [
           {
            "colorbar": {
             "outlinewidth": 0,
             "ticks": ""
            },
            "colorscale": [
             [
              0,
              "#0d0887"
             ],
             [
              0.1111111111111111,
              "#46039f"
             ],
             [
              0.2222222222222222,
              "#7201a8"
             ],
             [
              0.3333333333333333,
              "#9c179e"
             ],
             [
              0.4444444444444444,
              "#bd3786"
             ],
             [
              0.5555555555555556,
              "#d8576b"
             ],
             [
              0.6666666666666666,
              "#ed7953"
             ],
             [
              0.7777777777777778,
              "#fb9f3a"
             ],
             [
              0.8888888888888888,
              "#fdca26"
             ],
             [
              1,
              "#f0f921"
             ]
            ],
            "type": "histogram2dcontour"
           }
          ],
          "mesh3d": [
           {
            "colorbar": {
             "outlinewidth": 0,
             "ticks": ""
            },
            "type": "mesh3d"
           }
          ],
          "parcoords": [
           {
            "line": {
             "colorbar": {
              "outlinewidth": 0,
              "ticks": ""
             }
            },
            "type": "parcoords"
           }
          ],
          "pie": [
           {
            "automargin": true,
            "type": "pie"
           }
          ],
          "scatter": [
           {
            "marker": {
             "colorbar": {
              "outlinewidth": 0,
              "ticks": ""
             }
            },
            "type": "scatter"
           }
          ],
          "scatter3d": [
           {
            "line": {
             "colorbar": {
              "outlinewidth": 0,
              "ticks": ""
             }
            },
            "marker": {
             "colorbar": {
              "outlinewidth": 0,
              "ticks": ""
             }
            },
            "type": "scatter3d"
           }
          ],
          "scattercarpet": [
           {
            "marker": {
             "colorbar": {
              "outlinewidth": 0,
              "ticks": ""
             }
            },
            "type": "scattercarpet"
           }
          ],
          "scattergeo": [
           {
            "marker": {
             "colorbar": {
              "outlinewidth": 0,
              "ticks": ""
             }
            },
            "type": "scattergeo"
           }
          ],
          "scattergl": [
           {
            "marker": {
             "colorbar": {
              "outlinewidth": 0,
              "ticks": ""
             }
            },
            "type": "scattergl"
           }
          ],
          "scattermapbox": [
           {
            "marker": {
             "colorbar": {
              "outlinewidth": 0,
              "ticks": ""
             }
            },
            "type": "scattermapbox"
           }
          ],
          "scatterpolar": [
           {
            "marker": {
             "colorbar": {
              "outlinewidth": 0,
              "ticks": ""
             }
            },
            "type": "scatterpolar"
           }
          ],
          "scatterpolargl": [
           {
            "marker": {
             "colorbar": {
              "outlinewidth": 0,
              "ticks": ""
             }
            },
            "type": "scatterpolargl"
           }
          ],
          "scatterternary": [
           {
            "marker": {
             "colorbar": {
              "outlinewidth": 0,
              "ticks": ""
             }
            },
            "type": "scatterternary"
           }
          ],
          "surface": [
           {
            "colorbar": {
             "outlinewidth": 0,
             "ticks": ""
            },
            "colorscale": [
             [
              0,
              "#0d0887"
             ],
             [
              0.1111111111111111,
              "#46039f"
             ],
             [
              0.2222222222222222,
              "#7201a8"
             ],
             [
              0.3333333333333333,
              "#9c179e"
             ],
             [
              0.4444444444444444,
              "#bd3786"
             ],
             [
              0.5555555555555556,
              "#d8576b"
             ],
             [
              0.6666666666666666,
              "#ed7953"
             ],
             [
              0.7777777777777778,
              "#fb9f3a"
             ],
             [
              0.8888888888888888,
              "#fdca26"
             ],
             [
              1,
              "#f0f921"
             ]
            ],
            "type": "surface"
           }
          ],
          "table": [
           {
            "cells": {
             "fill": {
              "color": "#EBF0F8"
             },
             "line": {
              "color": "white"
             }
            },
            "header": {
             "fill": {
              "color": "#C8D4E3"
             },
             "line": {
              "color": "white"
             }
            },
            "type": "table"
           }
          ]
         },
         "layout": {
          "annotationdefaults": {
           "arrowcolor": "#2a3f5f",
           "arrowhead": 0,
           "arrowwidth": 1
          },
          "coloraxis": {
           "colorbar": {
            "outlinewidth": 0,
            "ticks": ""
           }
          },
          "colorscale": {
           "diverging": [
            [
             0,
             "#8e0152"
            ],
            [
             0.1,
             "#c51b7d"
            ],
            [
             0.2,
             "#de77ae"
            ],
            [
             0.3,
             "#f1b6da"
            ],
            [
             0.4,
             "#fde0ef"
            ],
            [
             0.5,
             "#f7f7f7"
            ],
            [
             0.6,
             "#e6f5d0"
            ],
            [
             0.7,
             "#b8e186"
            ],
            [
             0.8,
             "#7fbc41"
            ],
            [
             0.9,
             "#4d9221"
            ],
            [
             1,
             "#276419"
            ]
           ],
           "sequential": [
            [
             0,
             "#0d0887"
            ],
            [
             0.1111111111111111,
             "#46039f"
            ],
            [
             0.2222222222222222,
             "#7201a8"
            ],
            [
             0.3333333333333333,
             "#9c179e"
            ],
            [
             0.4444444444444444,
             "#bd3786"
            ],
            [
             0.5555555555555556,
             "#d8576b"
            ],
            [
             0.6666666666666666,
             "#ed7953"
            ],
            [
             0.7777777777777778,
             "#fb9f3a"
            ],
            [
             0.8888888888888888,
             "#fdca26"
            ],
            [
             1,
             "#f0f921"
            ]
           ],
           "sequentialminus": [
            [
             0,
             "#0d0887"
            ],
            [
             0.1111111111111111,
             "#46039f"
            ],
            [
             0.2222222222222222,
             "#7201a8"
            ],
            [
             0.3333333333333333,
             "#9c179e"
            ],
            [
             0.4444444444444444,
             "#bd3786"
            ],
            [
             0.5555555555555556,
             "#d8576b"
            ],
            [
             0.6666666666666666,
             "#ed7953"
            ],
            [
             0.7777777777777778,
             "#fb9f3a"
            ],
            [
             0.8888888888888888,
             "#fdca26"
            ],
            [
             1,
             "#f0f921"
            ]
           ]
          },
          "colorway": [
           "#636efa",
           "#EF553B",
           "#00cc96",
           "#ab63fa",
           "#FFA15A",
           "#19d3f3",
           "#FF6692",
           "#B6E880",
           "#FF97FF",
           "#FECB52"
          ],
          "font": {
           "color": "#2a3f5f"
          },
          "geo": {
           "bgcolor": "white",
           "lakecolor": "white",
           "landcolor": "#E5ECF6",
           "showlakes": true,
           "showland": true,
           "subunitcolor": "white"
          },
          "hoverlabel": {
           "align": "left"
          },
          "hovermode": "closest",
          "mapbox": {
           "style": "light"
          },
          "paper_bgcolor": "white",
          "plot_bgcolor": "#E5ECF6",
          "polar": {
           "angularaxis": {
            "gridcolor": "white",
            "linecolor": "white",
            "ticks": ""
           },
           "bgcolor": "#E5ECF6",
           "radialaxis": {
            "gridcolor": "white",
            "linecolor": "white",
            "ticks": ""
           }
          },
          "scene": {
           "xaxis": {
            "backgroundcolor": "#E5ECF6",
            "gridcolor": "white",
            "gridwidth": 2,
            "linecolor": "white",
            "showbackground": true,
            "ticks": "",
            "zerolinecolor": "white"
           },
           "yaxis": {
            "backgroundcolor": "#E5ECF6",
            "gridcolor": "white",
            "gridwidth": 2,
            "linecolor": "white",
            "showbackground": true,
            "ticks": "",
            "zerolinecolor": "white"
           },
           "zaxis": {
            "backgroundcolor": "#E5ECF6",
            "gridcolor": "white",
            "gridwidth": 2,
            "linecolor": "white",
            "showbackground": true,
            "ticks": "",
            "zerolinecolor": "white"
           }
          },
          "shapedefaults": {
           "line": {
            "color": "#2a3f5f"
           }
          },
          "ternary": {
           "aaxis": {
            "gridcolor": "white",
            "linecolor": "white",
            "ticks": ""
           },
           "baxis": {
            "gridcolor": "white",
            "linecolor": "white",
            "ticks": ""
           },
           "bgcolor": "#E5ECF6",
           "caxis": {
            "gridcolor": "white",
            "linecolor": "white",
            "ticks": ""
           }
          },
          "title": {
           "x": 0.05
          },
          "xaxis": {
           "automargin": true,
           "gridcolor": "white",
           "linecolor": "white",
           "ticks": "",
           "title": {
            "standoff": 15
           },
           "zerolinecolor": "white",
           "zerolinewidth": 2
          },
          "yaxis": {
           "automargin": true,
           "gridcolor": "white",
           "linecolor": "white",
           "ticks": "",
           "title": {
            "standoff": 15
           },
           "zerolinecolor": "white",
           "zerolinewidth": 2
          }
         }
        },
        "title": {
         "text": "Relationship between each brand and price"
        },
        "xaxis": {
         "anchor": "y",
         "domain": [
          0,
          1
         ],
         "title": {
          "text": "Brand"
         }
        },
        "yaxis": {
         "anchor": "x",
         "domain": [
          0,
          1
         ],
         "title": {
          "text": "Price(GH¢)"
         }
        }
       }
      },
      "text/html": [
       "<div>\n",
       "        \n",
       "        \n",
       "            <div id=\"ada8d9ae-fb60-47e5-8234-646d3e3496d3\" class=\"plotly-graph-div\" style=\"height:525px; width:100%;\"></div>\n",
       "            <script type=\"text/javascript\">\n",
       "                require([\"plotly\"], function(Plotly) {\n",
       "                    window.PLOTLYENV=window.PLOTLYENV || {};\n",
       "                    \n",
       "                if (document.getElementById(\"ada8d9ae-fb60-47e5-8234-646d3e3496d3\")) {\n",
       "                    Plotly.newPlot(\n",
       "                        'ada8d9ae-fb60-47e5-8234-646d3e3496d3',\n",
       "                        [{\"alignmentgroup\": \"True\", \"hovertemplate\": \"Brand=%{x}<br>Price(GH\\u00a2)=%{y}<extra></extra>\", \"legendgroup\": \"\", \"marker\": {\"color\": \"#636efa\"}, \"name\": \"\", \"notched\": false, \"offsetgroup\": \"\", \"orientation\": \"v\", \"showlegend\": false, \"type\": \"box\", \"x\": [\"Toyota\", \"Hyundai\", \"SEAT\", \"Toyota\", \"Nissan\", \"Kia\", \"Mercedes\", \"Toyota\", \"Kia\", \"Ford\", \"Toyota\", \"Hyundai\", \"Hyundai\", \"Toyota\", \"Toyota\", \"Nissan\", \"Hyundai\", \"Honda\", \"Honda\", \"Toyota\", \"Toyota\", \"Hyundai\", \"Hyundai\", \"BMW\", \"Ford\", \"Honda\", \"Hyundai\", \"Kia\", \"Nissan\", \"Kia\", \"Kia\", \"Ford\", \"Ford\", \"Honda\", \"Toyota\", \"Hyundai\", \"Honda\", \"Toyota\", \"Nissan\", \"Hyundai\", \"Nissan\", \"Toyota\", \"Chrysler\", \"Toyota\", \"Hyundai\", \"Toyota\", \"Toyota\", \"Honda\", \"Hyundai\", \"Chevrolet\", \"Hyundai\", \"Mini\", \"Toyota\", \"Hyundai\", \"Toyota\", \"Toyota\", \"Hyundai\", \"Mercedes\", \"Toyota\", \"Hyundai\", \"Hyundai\", \"Kia\", \"Toyota\", \"Nissan\", \"Toyota\", \"Hyundai\", \"Toyota\", \"Toyota\", \"Toyota\", \"Toyota\", \"Hyundai\", \"Ford\", \"Toyota\", \"Toyota\", \"Honda\", \"Kia\", \"Toyota\", \"Volvo\", \"Mercedes\", \"Honda\", \"Toyota\", \"Toyota\", \"Toyota\", \"Honda\", \"Toyota\", \"Mercedes\", \"Infiniti\", \"Toyota\", \"Hyundai\", \"Toyota\", \"Toyota\", \"Toyota\", \"Toyota\", \"Kia\", \"Kia\", \"Hyundai\", \"Nissan\", \"Toyota\", \"Honda\", \"Hyundai\", \"Toyota\", \"Toyota\", \"Toyota\", \"Hyundai\", \"Hyundai\", \"Chrysler\", \"Toyota\", \"Honda\", \"Toyota\", \"Hyundai\", \"Kia\", \"Hyundai\", \"Toyota\", \"Mercedes\", \"Toyota\", \"Toyota\", \"Honda\", \"Nissan\", \"Toyota\", \"Honda\", \"Toyota\", \"Honda\", \"Toyota\", \"Ford\", \"Honda\", \"Toyota\", \"Toyota\", \"Toyota\", \"Honda\", \"Toyota\", \"Kia\", \"Toyota\", \"Kia\", \"Toyota\", \"Mercedes\", \"Nissan\", \"Mercedes\", \"Toyota\", \"Infiniti\", \"Mitsubishi\", \"cadillac\", \"Jeep\", \"Hyundai\", \"Nissan\", \"Toyota\", \"Toyota\", \"Honda\", \"Kia\", \"Nissan\", \"Toyota\", \"Toyota\", \"Toyota\", \"Hyundai\", \"Kia\", \"Hyundai\", \"Toyota\", \"Toyota\", \"BMW\", \"Honda\", \"Volkswagen\", \"Mercedes\", \"Mitsubishi\", \"Honda\", \"Toyota\", \"Toyota\", \"Toyota\", \"Toyota\", \"Chrysler\", \"Hyundai\", \"Toyota\", \"Saturn\", \"Toyota\", \"BMW\", \"Mercedes\", \"Nissan\", \"Toyota\", \"Toyota\", \"Ford\", \"Toyota\", \"Toyota\", \"Hyundai\", \"Kia\", \"Hyundai\", \"Toyota\", \"Hyundai\", \"Hyundai\", \"Hyundai\", \"Toyota\", \"Kia\", \"Hyundai\", \"Mercedes\", \"Hyundai\", \"Hyundai\", \"Toyota\", \"Nissan\", \"Toyota\", \"Toyota\", \"Kia\", \"Mercedes\", \"Hyundai\", \"Honda\", \"Mercedes\", \"Toyota\", \"Toyota\", \"Kia\", \"Kia\", \"Toyota\", \"Hyundai\", \"Toyota\", \"Hyundai\", \"Toyota\", \"Toyota\", \"Hyundai\", \"Toyota\", \"Toyota\", \"Toyota\", \"Nissan\", \"Mitsubishi\", \"Toyota\", \"Nissan\", \"Hyundai\", \"Kia\", \"Hyundai\", \"Hyundai\", \"Honda\", \"Honda\", \"Honda\", \"Nissan\", \"Hyundai\", \"Hyundai\", \"Toyota\", \"Kia\", \"BMW\", \"Hyundai\", \"Toyota\", \"Toyota\", \"Mercedes\", \"Toyota\", \"Toyota\", \"Toyota\", \"Hyundai\", \"Hyundai\", \"Hyundai\", \"Hyundai\", \"BMW\", \"Toyota\", \"Toyota\", \"Toyota\", \"Hyundai\", \"Toyota\", \"Toyota\", \"Toyota\", \"Toyota\", \"Honda\", \"Toyota\", \"Hummer\", \"Toyota\", \"Nissan\", \"Hyundai\", \"Volkswagen\", \"Toyota\", \"Kia\", \"Nissan\", \"BMW\", \"Toyota\", \"Honda\", \"Audi\", \"Mercedes\", \"Toyota\", \"Honda\", \"Toyota\", \"Honda\", \"Nissan\", \"Hyundai\", \"Hyundai\", \"Toyota\", \"Toyota\", \"Mercedes\", \"Toyota\", \"Honda\", \"Toyota\", \"Toyota\", \"Toyota\", \"Toyota\", \"Honda\", \"Mercedes\", \"Toyota\", \"Toyota\", \"Toyota\", \"Kia\", \"Toyota\", \"Toyota\", \"Toyota\", \"Mazda\", \"Ford\", \"Mercedes\", \"Toyota\", \"Toyota\", \"Toyota\", \"Dodge\", \"Toyota\", \"Hummer\", \"Hyundai\", \"Toyota\", \"Toyota\", \"Chrysler\", \"Toyota\", \"Hyundai\", \"Hyundai\", \"Mercedes\", \"Hyundai\", \"Dodge\", \"Kia\", \"Toyota\", \"Honda\", \"Hyundai\", \"Toyota\", \"Toyota\", \"Toyota\", \"Honda\", \"Kia\", \"Ford\", \"Toyota\", \"Hyundai\", \"Hyundai\", \"Toyota\", \"Hyundai\", \"Chrysler\", \"Toyota\", \"Toyota\", \"Toyota\", \"Toyota\", \"Toyota\", \"Toyota\", \"Toyota\", \"BMW\", \"Kia\", \"Honda\", \"Toyota\", \"Toyota\", \"Toyota\", \"Kia\", \"Hyundai\", \"Toyota\", \"Toyota\", \"Kia\", \"Buick\", \"Nissan\", \"Toyota\", \"Honda\", \"Toyota\", \"Range Rover\", \"Hyundai\", \"Toyota\", \"Mitsubishi\", \"Honda\", \"Mercedes\", \"Toyota\", \"Honda\", \"Nissan\", \"Toyota\", \"Toyota\", \"Nissan\", \"Toyota\", \"Hyundai\", \"Toyota\", \"Mercedes\", \"Nissan\", \"Toyota\", \"Honda\", \"Toyota\", \"Honda\"], \"x0\": \" \", \"xaxis\": \"x\", \"y\": [42500, 42000, 48000, 60000, 80000, 44000, 68500, 58000, 42500, 48000, 69500, 45000, 55500, 80000, 65000, 58000, 56000, 55500, 60000, 48000, 76000, 43500, 75000, 85000, 53000, 56000, 72000, 52500, 45000, 42000, 60000, 55000, 46000, 53000, 56500, 62000, 70000, 55500, 51000, 44000, 52000, 48100, 43000, 47200, 45000, 47000, 60000, 85000, 65000, 42000, 58000, 82000, 84000, 74000, 83000, 85000, 43500, 49900, 65777, 72000, 87000, 55000, 70000, 62000, 59800, 49000, 78000, 55000, 74000, 84999, 49500, 41777, 47777, 50000, 75000, 65000, 50555, 42000, 78500, 85500, 50555, 48950, 55000, 60000, 62000, 55000, 45500, 84000, 85000, 47000, 43000, 83900, 46500, 50000, 80000, 64000, 78000, 47000, 80500, 40999, 85000, 50500, 85500, 79500, 49500, 58500, 51000, 65500, 62000, 45000, 65000, 45000, 77000, 45000, 78000, 48500, 62000, 54500, 68000, 68000, 46500, 65000, 78000, 55000, 58500, 41000, 40500, 77000, 88000, 87000, 65000, 67000, 48500, 52000, 66600, 65000, 75000, 86000, 45000, 42000, 50000, 85000, 62000, 46000, 66000, 72000, 76000, 87000, 47500, 43500, 78000, 68000, 40500, 58500, 41900, 48000, 60000, 75000, 85000, 85000, 45000, 65000, 84500, 43500, 70000, 58500, 63000, 63800, 89000, 48500, 45000, 42000, 45000, 50000, 45000, 58000, 79000, 45000, 50000, 67000, 46000, 59900, 42000, 43000, 85000, 45000, 50000, 48000, 43000, 55000, 89000, 60000, 64000, 62900, 49000, 63000, 62000, 42500, 62000, 43500, 80000, 86000, 69000, 83000, 48500, 58000, 57500, 56500, 43000, 55000, 60000, 89000, 55000, 77000, 58000, 55000, 45500, 52000, 56500, 68000, 48000, 70000, 42000, 40500, 78000, 85000, 57000, 52000, 68000, 42000, 42000, 56000, 45000, 59500, 75000, 83000, 85000, 75500, 63000, 56000, 59500, 41000, 63000, 42500, 43000, 75000, 56000, 80000, 63000, 58000, 63000, 55000, 47000, 54000, 46000, 68500, 49000, 78000, 83000, 75000, 60500, 45500, 75000, 65000, 57500, 43500, 80000, 55000, 42000, 70000, 44500, 88000, 54500, 63000, 65700, 44500, 88500, 85000, 78000, 78000, 45500, 55200, 71588, 72000, 65000, 73000, 49500, 63000, 78500, 57500, 46000, 48500, 48000, 50500, 46500, 74500, 53000, 85000, 49000, 53000, 60000, 62000, 42000, 46000, 50000, 70000, 42400, 58000, 61000, 88000, 81000, 75000, 42500, 80000, 67000, 43000, 75000, 65000, 60000, 78000, 48500, 65000, 42000, 42500, 53000, 51000, 47500, 63500, 80000, 65500, 58000, 68000, 56500, 52500, 60000, 65000, 77000, 46000, 42800, 45000, 65000, 55000, 82000, 67000, 44000, 48000, 65000, 43000, 57888, 52000, 49000, 67000, 57000, 57000, 75000, 79000, 45000, 49500, 46500, 49500, 87000, 49000, 60000, 43000, 69500, 43000, 55000, 79000, 60000, 71000, 40700, 68500], \"y0\": \" \", \"yaxis\": \"y\"}],\n",
       "                        {\"boxmode\": \"group\", \"legend\": {\"tracegroupgap\": 0}, \"template\": {\"data\": {\"bar\": [{\"error_x\": {\"color\": \"#2a3f5f\"}, \"error_y\": {\"color\": \"#2a3f5f\"}, \"marker\": {\"line\": {\"color\": \"#E5ECF6\", \"width\": 0.5}}, \"type\": \"bar\"}], \"barpolar\": [{\"marker\": {\"line\": {\"color\": \"#E5ECF6\", \"width\": 0.5}}, \"type\": \"barpolar\"}], \"carpet\": [{\"aaxis\": {\"endlinecolor\": \"#2a3f5f\", \"gridcolor\": \"white\", \"linecolor\": \"white\", \"minorgridcolor\": \"white\", \"startlinecolor\": \"#2a3f5f\"}, \"baxis\": {\"endlinecolor\": \"#2a3f5f\", \"gridcolor\": \"white\", \"linecolor\": \"white\", \"minorgridcolor\": \"white\", \"startlinecolor\": \"#2a3f5f\"}, \"type\": \"carpet\"}], \"choropleth\": [{\"colorbar\": {\"outlinewidth\": 0, \"ticks\": \"\"}, \"type\": \"choropleth\"}], \"contour\": [{\"colorbar\": {\"outlinewidth\": 0, \"ticks\": \"\"}, \"colorscale\": [[0.0, \"#0d0887\"], [0.1111111111111111, \"#46039f\"], [0.2222222222222222, \"#7201a8\"], [0.3333333333333333, \"#9c179e\"], [0.4444444444444444, \"#bd3786\"], [0.5555555555555556, \"#d8576b\"], [0.6666666666666666, \"#ed7953\"], [0.7777777777777778, \"#fb9f3a\"], [0.8888888888888888, \"#fdca26\"], [1.0, \"#f0f921\"]], \"type\": \"contour\"}], \"contourcarpet\": [{\"colorbar\": {\"outlinewidth\": 0, \"ticks\": \"\"}, \"type\": \"contourcarpet\"}], \"heatmap\": [{\"colorbar\": {\"outlinewidth\": 0, \"ticks\": \"\"}, \"colorscale\": [[0.0, \"#0d0887\"], [0.1111111111111111, \"#46039f\"], [0.2222222222222222, \"#7201a8\"], [0.3333333333333333, \"#9c179e\"], [0.4444444444444444, \"#bd3786\"], [0.5555555555555556, \"#d8576b\"], [0.6666666666666666, \"#ed7953\"], [0.7777777777777778, \"#fb9f3a\"], [0.8888888888888888, \"#fdca26\"], [1.0, \"#f0f921\"]], \"type\": \"heatmap\"}], \"heatmapgl\": [{\"colorbar\": {\"outlinewidth\": 0, \"ticks\": \"\"}, \"colorscale\": [[0.0, \"#0d0887\"], [0.1111111111111111, \"#46039f\"], [0.2222222222222222, \"#7201a8\"], [0.3333333333333333, \"#9c179e\"], [0.4444444444444444, \"#bd3786\"], [0.5555555555555556, \"#d8576b\"], [0.6666666666666666, \"#ed7953\"], [0.7777777777777778, \"#fb9f3a\"], [0.8888888888888888, \"#fdca26\"], [1.0, \"#f0f921\"]], \"type\": \"heatmapgl\"}], \"histogram\": [{\"marker\": {\"colorbar\": {\"outlinewidth\": 0, \"ticks\": \"\"}}, \"type\": \"histogram\"}], \"histogram2d\": [{\"colorbar\": {\"outlinewidth\": 0, \"ticks\": \"\"}, \"colorscale\": [[0.0, \"#0d0887\"], [0.1111111111111111, \"#46039f\"], [0.2222222222222222, \"#7201a8\"], [0.3333333333333333, \"#9c179e\"], [0.4444444444444444, \"#bd3786\"], [0.5555555555555556, \"#d8576b\"], [0.6666666666666666, \"#ed7953\"], [0.7777777777777778, \"#fb9f3a\"], [0.8888888888888888, \"#fdca26\"], [1.0, \"#f0f921\"]], \"type\": \"histogram2d\"}], \"histogram2dcontour\": [{\"colorbar\": {\"outlinewidth\": 0, \"ticks\": \"\"}, \"colorscale\": [[0.0, \"#0d0887\"], [0.1111111111111111, \"#46039f\"], [0.2222222222222222, \"#7201a8\"], [0.3333333333333333, \"#9c179e\"], [0.4444444444444444, \"#bd3786\"], [0.5555555555555556, \"#d8576b\"], [0.6666666666666666, \"#ed7953\"], [0.7777777777777778, \"#fb9f3a\"], [0.8888888888888888, \"#fdca26\"], [1.0, \"#f0f921\"]], \"type\": \"histogram2dcontour\"}], \"mesh3d\": [{\"colorbar\": {\"outlinewidth\": 0, \"ticks\": \"\"}, \"type\": \"mesh3d\"}], \"parcoords\": [{\"line\": {\"colorbar\": {\"outlinewidth\": 0, \"ticks\": \"\"}}, \"type\": \"parcoords\"}], \"pie\": [{\"automargin\": true, \"type\": \"pie\"}], \"scatter\": [{\"marker\": {\"colorbar\": {\"outlinewidth\": 0, \"ticks\": \"\"}}, \"type\": \"scatter\"}], \"scatter3d\": [{\"line\": {\"colorbar\": {\"outlinewidth\": 0, \"ticks\": \"\"}}, \"marker\": {\"colorbar\": {\"outlinewidth\": 0, \"ticks\": \"\"}}, \"type\": \"scatter3d\"}], \"scattercarpet\": [{\"marker\": {\"colorbar\": {\"outlinewidth\": 0, \"ticks\": \"\"}}, \"type\": \"scattercarpet\"}], \"scattergeo\": [{\"marker\": {\"colorbar\": {\"outlinewidth\": 0, \"ticks\": \"\"}}, \"type\": \"scattergeo\"}], \"scattergl\": [{\"marker\": {\"colorbar\": {\"outlinewidth\": 0, \"ticks\": \"\"}}, \"type\": \"scattergl\"}], \"scattermapbox\": [{\"marker\": {\"colorbar\": {\"outlinewidth\": 0, \"ticks\": \"\"}}, \"type\": \"scattermapbox\"}], \"scatterpolar\": [{\"marker\": {\"colorbar\": {\"outlinewidth\": 0, \"ticks\": \"\"}}, \"type\": \"scatterpolar\"}], \"scatterpolargl\": [{\"marker\": {\"colorbar\": {\"outlinewidth\": 0, \"ticks\": \"\"}}, \"type\": \"scatterpolargl\"}], \"scatterternary\": [{\"marker\": {\"colorbar\": {\"outlinewidth\": 0, \"ticks\": \"\"}}, \"type\": \"scatterternary\"}], \"surface\": [{\"colorbar\": {\"outlinewidth\": 0, \"ticks\": \"\"}, \"colorscale\": [[0.0, \"#0d0887\"], [0.1111111111111111, \"#46039f\"], [0.2222222222222222, \"#7201a8\"], [0.3333333333333333, \"#9c179e\"], [0.4444444444444444, \"#bd3786\"], [0.5555555555555556, \"#d8576b\"], [0.6666666666666666, \"#ed7953\"], [0.7777777777777778, \"#fb9f3a\"], [0.8888888888888888, \"#fdca26\"], [1.0, \"#f0f921\"]], \"type\": \"surface\"}], \"table\": [{\"cells\": {\"fill\": {\"color\": \"#EBF0F8\"}, \"line\": {\"color\": \"white\"}}, \"header\": {\"fill\": {\"color\": \"#C8D4E3\"}, \"line\": {\"color\": \"white\"}}, \"type\": \"table\"}]}, \"layout\": {\"annotationdefaults\": {\"arrowcolor\": \"#2a3f5f\", \"arrowhead\": 0, \"arrowwidth\": 1}, \"coloraxis\": {\"colorbar\": {\"outlinewidth\": 0, \"ticks\": \"\"}}, \"colorscale\": {\"diverging\": [[0, \"#8e0152\"], [0.1, \"#c51b7d\"], [0.2, \"#de77ae\"], [0.3, \"#f1b6da\"], [0.4, \"#fde0ef\"], [0.5, \"#f7f7f7\"], [0.6, \"#e6f5d0\"], [0.7, \"#b8e186\"], [0.8, \"#7fbc41\"], [0.9, \"#4d9221\"], [1, \"#276419\"]], \"sequential\": [[0.0, \"#0d0887\"], [0.1111111111111111, \"#46039f\"], [0.2222222222222222, \"#7201a8\"], [0.3333333333333333, \"#9c179e\"], [0.4444444444444444, \"#bd3786\"], [0.5555555555555556, \"#d8576b\"], [0.6666666666666666, \"#ed7953\"], [0.7777777777777778, \"#fb9f3a\"], [0.8888888888888888, \"#fdca26\"], [1.0, \"#f0f921\"]], \"sequentialminus\": [[0.0, \"#0d0887\"], [0.1111111111111111, \"#46039f\"], [0.2222222222222222, \"#7201a8\"], [0.3333333333333333, \"#9c179e\"], [0.4444444444444444, \"#bd3786\"], [0.5555555555555556, \"#d8576b\"], [0.6666666666666666, \"#ed7953\"], [0.7777777777777778, \"#fb9f3a\"], [0.8888888888888888, \"#fdca26\"], [1.0, \"#f0f921\"]]}, \"colorway\": [\"#636efa\", \"#EF553B\", \"#00cc96\", \"#ab63fa\", \"#FFA15A\", \"#19d3f3\", \"#FF6692\", \"#B6E880\", \"#FF97FF\", \"#FECB52\"], \"font\": {\"color\": \"#2a3f5f\"}, \"geo\": {\"bgcolor\": \"white\", \"lakecolor\": \"white\", \"landcolor\": \"#E5ECF6\", \"showlakes\": true, \"showland\": true, \"subunitcolor\": \"white\"}, \"hoverlabel\": {\"align\": \"left\"}, \"hovermode\": \"closest\", \"mapbox\": {\"style\": \"light\"}, \"paper_bgcolor\": \"white\", \"plot_bgcolor\": \"#E5ECF6\", \"polar\": {\"angularaxis\": {\"gridcolor\": \"white\", \"linecolor\": \"white\", \"ticks\": \"\"}, \"bgcolor\": \"#E5ECF6\", \"radialaxis\": {\"gridcolor\": \"white\", \"linecolor\": \"white\", \"ticks\": \"\"}}, \"scene\": {\"xaxis\": {\"backgroundcolor\": \"#E5ECF6\", \"gridcolor\": \"white\", \"gridwidth\": 2, \"linecolor\": \"white\", \"showbackground\": true, \"ticks\": \"\", \"zerolinecolor\": \"white\"}, \"yaxis\": {\"backgroundcolor\": \"#E5ECF6\", \"gridcolor\": \"white\", \"gridwidth\": 2, \"linecolor\": \"white\", \"showbackground\": true, \"ticks\": \"\", \"zerolinecolor\": \"white\"}, \"zaxis\": {\"backgroundcolor\": \"#E5ECF6\", \"gridcolor\": \"white\", \"gridwidth\": 2, \"linecolor\": \"white\", \"showbackground\": true, \"ticks\": \"\", \"zerolinecolor\": \"white\"}}, \"shapedefaults\": {\"line\": {\"color\": \"#2a3f5f\"}}, \"ternary\": {\"aaxis\": {\"gridcolor\": \"white\", \"linecolor\": \"white\", \"ticks\": \"\"}, \"baxis\": {\"gridcolor\": \"white\", \"linecolor\": \"white\", \"ticks\": \"\"}, \"bgcolor\": \"#E5ECF6\", \"caxis\": {\"gridcolor\": \"white\", \"linecolor\": \"white\", \"ticks\": \"\"}}, \"title\": {\"x\": 0.05}, \"xaxis\": {\"automargin\": true, \"gridcolor\": \"white\", \"linecolor\": \"white\", \"ticks\": \"\", \"title\": {\"standoff\": 15}, \"zerolinecolor\": \"white\", \"zerolinewidth\": 2}, \"yaxis\": {\"automargin\": true, \"gridcolor\": \"white\", \"linecolor\": \"white\", \"ticks\": \"\", \"title\": {\"standoff\": 15}, \"zerolinecolor\": \"white\", \"zerolinewidth\": 2}}}, \"title\": {\"text\": \"Relationship between each brand and price\"}, \"xaxis\": {\"anchor\": \"y\", \"domain\": [0.0, 1.0], \"title\": {\"text\": \"Brand\"}}, \"yaxis\": {\"anchor\": \"x\", \"domain\": [0.0, 1.0], \"title\": {\"text\": \"Price(GH\\u00a2)\"}}},\n",
       "                        {\"responsive\": true}\n",
       "                    ).then(function(){\n",
       "                            \n",
       "var gd = document.getElementById('ada8d9ae-fb60-47e5-8234-646d3e3496d3');\n",
       "var x = new MutationObserver(function (mutations, observer) {{\n",
       "        var display = window.getComputedStyle(gd).display;\n",
       "        if (!display || display === 'none') {{\n",
       "            console.log([gd, 'removed!']);\n",
       "            Plotly.purge(gd);\n",
       "            observer.disconnect();\n",
       "        }}\n",
       "}});\n",
       "\n",
       "// Listen for the removal of the full notebook cells\n",
       "var notebookContainer = gd.closest('#notebook-container');\n",
       "if (notebookContainer) {{\n",
       "    x.observe(notebookContainer, {childList: true});\n",
       "}}\n",
       "\n",
       "// Listen for the clearing of the current output cell\n",
       "var outputEl = gd.closest('.output');\n",
       "if (outputEl) {{\n",
       "    x.observe(outputEl, {childList: true});\n",
       "}}\n",
       "\n",
       "                        })\n",
       "                };\n",
       "                });\n",
       "            </script>\n",
       "        </div>"
      ]
     },
     "metadata": {},
     "output_type": "display_data"
    }
   ],
   "source": [
    "fig = px.box(df, x=\"Brand\", y=\"Price(GH¢)\", title='Relationship between each brand and price')\n",
    "fig.show()"
   ]
  },
  {
   "cell_type": "markdown",
   "metadata": {},
   "source": [
    "##### Observations:\n",
    "\n",
    "* Most brands have their price between 45,000 and 80,000\n",
    "* Toyota, Hyundai, Mercedes and Honda cost more than other brands"
   ]
  },
  {
   "cell_type": "markdown",
   "metadata": {},
   "source": [
    "### Body type vs Price"
   ]
  },
  {
   "cell_type": "code",
   "execution_count": 446,
   "metadata": {},
   "outputs": [
    {
     "data": {
      "application/vnd.plotly.v1+json": {
       "config": {
        "plotlyServerURL": "https://plot.ly"
       },
       "data": [
        {
         "alignmentgroup": "True",
         "hovertemplate": "Body type=%{x}<br>Price(GH¢)=%{y}<extra></extra>",
         "legendgroup": "",
         "marker": {
          "color": "#636efa"
         },
         "name": "",
         "notched": false,
         "offsetgroup": "",
         "orientation": "v",
         "showlegend": false,
         "type": "box",
         "x": [
          null,
          "Saloon",
          null,
          "SUV / 4x4",
          "SUV / 4x4",
          "Hatchback",
          "Saloon",
          "Saloon",
          "Saloon",
          "SUV / 4x4",
          "Saloon",
          "Saloon",
          "Saloon",
          "Saloon",
          "SUV / 4x4",
          "SUV / 4x4",
          "Saloon",
          "Hatchback",
          "Hatchback",
          "Hatchback",
          "Saloon",
          "Saloon",
          "Saloon",
          null,
          "Saloon",
          "Saloon",
          "Saloon",
          "Hatchback",
          "SUV / 4x4",
          "Saloon",
          "Saloon",
          "SUV / 4x4",
          "SUV / 4x4",
          "Hatchback",
          null,
          "Saloon",
          "SUV / 4x4",
          "Saloon",
          "Saloon",
          "Saloon",
          "Saloon",
          "Saloon",
          "Saloon",
          "Saloon",
          "Saloon",
          "SUV / 4x4",
          "SUV / 4x4",
          "Saloon",
          "SUV / 4x4",
          null,
          "SUV / 4x4",
          "Hatchback",
          "SUV / 4x4",
          "Saloon",
          "SUV / 4x4",
          "SUV / 4x4",
          "Saloon",
          "Saloon",
          "SUV / 4x4",
          "Saloon",
          "SUV / 4x4",
          "Saloon",
          "Saloon",
          null,
          "SUV / 4x4",
          "Saloon",
          "Saloon",
          "SUV / 4x4",
          "Saloon",
          "Saloon",
          "Saloon",
          "Saloon",
          "Saloon",
          "Saloon",
          "Saloon",
          "SUV / 4x4",
          "Saloon",
          "SUV / 4x4",
          "Saloon",
          "Saloon",
          "Saloon",
          "Saloon",
          null,
          "SUV / 4x4",
          "Saloon",
          "Saloon",
          "SUV / 4x4",
          "SUV / 4x4",
          "SUV / 4x4",
          "SUV / 4x4",
          "Saloon",
          "Saloon",
          "Saloon",
          "Hatchback",
          "SUV / 4x4",
          "SUV / 4x4",
          "SUV / 4x4",
          "Saloon",
          "SUV / 4x4",
          "Saloon",
          "Saloon",
          "Saloon",
          "Other",
          "SUV / 4x4",
          "SUV / 4x4",
          "Saloon",
          "Saloon",
          "Saloon",
          "Saloon",
          "Saloon",
          "SUV / 4x4",
          "SUV / 4x4",
          "Saloon",
          "Saloon",
          "Saloon",
          "Saloon",
          "Saloon",
          "Saloon",
          "Saloon",
          "SUV / 4x4",
          "Saloon",
          "SUV / 4x4",
          "Saloon",
          "SUV / 4x4",
          "Saloon",
          "Saloon",
          "SUV / 4x4",
          "Saloon",
          "Saloon",
          "SUV / 4x4",
          "SUV / 4x4",
          "SUV / 4x4",
          "Hatchback",
          "Saloon",
          "Saloon",
          "SUV / 4x4",
          "Saloon",
          "SUV / 4x4",
          "SUV / 4x4",
          "Saloon",
          "Saloon",
          "SUV / 4x4",
          "Saloon",
          "Saloon",
          "Saloon",
          "Saloon",
          "Saloon",
          "Saloon",
          "Saloon",
          "Saloon",
          "Saloon",
          "Saloon",
          "Hatchback",
          "SUV / 4x4",
          "Saloon",
          "Saloon",
          "Saloon",
          "Saloon",
          "Saloon",
          "Saloon",
          "Saloon",
          "SUV / 4x4",
          "Saloon",
          "Saloon",
          "Saloon",
          "Saloon",
          "Saloon",
          "Saloon",
          "SUV / 4x4",
          "Saloon",
          "SUV / 4x4",
          "Saloon",
          "Saloon",
          "Saloon",
          "Saloon",
          "SUV / 4x4",
          "SUV / 4x4",
          "Saloon",
          "Saloon",
          "Saloon",
          "Saloon",
          "Saloon",
          "Saloon",
          "Saloon",
          "SUV / 4x4",
          null,
          "Other",
          "SUV / 4x4",
          "Saloon",
          "SUV / 4x4",
          "Saloon",
          "Saloon",
          "Saloon",
          "SUV / 4x4",
          "Saloon",
          "SUV / 4x4",
          "SUV / 4x4",
          "Hatchback",
          "Saloon",
          "Saloon",
          "SUV / 4x4",
          "Saloon",
          "Saloon",
          "Saloon",
          "SUV / 4x4",
          "SUV / 4x4",
          "SUV / 4x4",
          "Saloon",
          "Saloon",
          "Saloon",
          "Saloon",
          "SUV / 4x4",
          "Hatchback",
          "Saloon",
          "SUV / 4x4",
          "Saloon",
          "Saloon",
          "SUV / 4x4",
          null,
          "SUV / 4x4",
          "Saloon",
          "SUV / 4x4",
          "Saloon",
          "Saloon",
          "Saloon",
          "Saloon",
          "Saloon",
          null,
          "SUV / 4x4",
          "Saloon",
          "Saloon",
          "SUV / 4x4",
          "Other",
          "Saloon",
          "Saloon",
          "Saloon",
          "Saloon",
          "Saloon",
          "Saloon",
          "Saloon",
          "Saloon",
          "Saloon",
          "Saloon",
          "Saloon",
          "Saloon",
          "Saloon",
          "Saloon",
          "SUV / 4x4",
          "Saloon",
          "SUV / 4x4",
          "Saloon",
          "Saloon",
          "Saloon",
          "Saloon",
          "Saloon",
          "SUV / 4x4",
          "Saloon",
          "Saloon",
          "SUV / 4x4",
          "SUV / 4x4",
          "Saloon",
          "Hatchback",
          null,
          "Hatchback",
          "SUV / 4x4",
          "Saloon",
          "SUV / 4x4",
          "Saloon",
          "Saloon",
          "Hatchback",
          "Saloon",
          "Saloon",
          "Saloon",
          "Saloon",
          "Saloon",
          "Saloon",
          "Other",
          "Saloon",
          "Saloon",
          "Hatchback",
          "Saloon",
          "Saloon",
          "Saloon",
          "SUV / 4x4",
          "Saloon",
          "Saloon",
          "Saloon",
          "SUV / 4x4",
          "SUV / 4x4",
          "SUV / 4x4",
          "Saloon",
          "Saloon",
          "Saloon",
          "Saloon",
          "SUV / 4x4",
          "Saloon",
          "Saloon",
          "Saloon",
          "Saloon",
          "Saloon",
          "Saloon",
          "SUV / 4x4",
          "Saloon",
          null,
          "Saloon",
          "Saloon",
          "Saloon",
          "Saloon",
          "Saloon",
          "Saloon",
          "SUV / 4x4",
          "Saloon",
          "SUV / 4x4",
          "Saloon",
          "Saloon",
          "SUV / 4x4",
          "SUV / 4x4",
          "Saloon",
          "Saloon",
          "SUV / 4x4",
          "SUV / 4x4",
          "Other",
          "Saloon",
          "Saloon",
          "Saloon",
          "Saloon",
          "Saloon",
          "Saloon",
          "SUV / 4x4",
          "Saloon",
          "Saloon",
          "Saloon",
          "Saloon",
          "Saloon",
          "SUV / 4x4",
          "Saloon",
          "SUV / 4x4",
          "Saloon",
          "Saloon",
          "Saloon",
          "Saloon",
          "SUV / 4x4",
          "Saloon",
          "SUV / 4x4",
          "Saloon",
          "Hatchback",
          "SUV / 4x4",
          "SUV / 4x4",
          "Saloon",
          "Saloon",
          "SUV / 4x4",
          "SUV / 4x4",
          "Saloon",
          "Saloon",
          "SUV / 4x4",
          "Saloon",
          "Saloon",
          "Saloon",
          "Saloon",
          "Saloon",
          "SUV / 4x4",
          "Saloon",
          "Saloon",
          "Saloon",
          "SUV / 4x4",
          "Saloon",
          "Saloon",
          "SUV / 4x4",
          "SUV / 4x4",
          "Saloon",
          "Saloon",
          "SUV / 4x4"
         ],
         "x0": " ",
         "xaxis": "x",
         "y": [
          42500,
          42000,
          48000,
          60000,
          80000,
          44000,
          68500,
          58000,
          42500,
          48000,
          69500,
          45000,
          55500,
          80000,
          65000,
          58000,
          56000,
          55500,
          60000,
          48000,
          76000,
          43500,
          75000,
          85000,
          53000,
          56000,
          72000,
          52500,
          45000,
          42000,
          60000,
          55000,
          46000,
          53000,
          56500,
          62000,
          70000,
          55500,
          51000,
          44000,
          52000,
          48100,
          43000,
          47200,
          45000,
          47000,
          60000,
          85000,
          65000,
          42000,
          58000,
          82000,
          84000,
          74000,
          83000,
          85000,
          43500,
          49900,
          65777,
          72000,
          87000,
          55000,
          70000,
          62000,
          59800,
          49000,
          78000,
          55000,
          74000,
          84999,
          49500,
          41777,
          47777,
          50000,
          75000,
          65000,
          50555,
          42000,
          78500,
          85500,
          50555,
          48950,
          55000,
          60000,
          62000,
          55000,
          45500,
          84000,
          85000,
          47000,
          43000,
          83900,
          46500,
          50000,
          80000,
          64000,
          78000,
          47000,
          80500,
          40999,
          85000,
          50500,
          85500,
          79500,
          49500,
          58500,
          51000,
          65500,
          62000,
          45000,
          65000,
          45000,
          77000,
          45000,
          78000,
          48500,
          62000,
          54500,
          68000,
          68000,
          46500,
          65000,
          78000,
          55000,
          58500,
          41000,
          40500,
          77000,
          88000,
          87000,
          65000,
          67000,
          48500,
          52000,
          66600,
          65000,
          75000,
          86000,
          45000,
          42000,
          50000,
          85000,
          62000,
          46000,
          66000,
          72000,
          76000,
          87000,
          47500,
          43500,
          78000,
          68000,
          40500,
          58500,
          41900,
          48000,
          60000,
          75000,
          85000,
          85000,
          45000,
          65000,
          84500,
          43500,
          70000,
          58500,
          63000,
          63800,
          89000,
          48500,
          45000,
          42000,
          45000,
          50000,
          45000,
          58000,
          79000,
          45000,
          50000,
          67000,
          46000,
          59900,
          42000,
          43000,
          85000,
          45000,
          50000,
          48000,
          43000,
          55000,
          89000,
          60000,
          64000,
          62900,
          49000,
          63000,
          62000,
          42500,
          62000,
          43500,
          80000,
          86000,
          69000,
          83000,
          48500,
          58000,
          57500,
          56500,
          43000,
          55000,
          60000,
          89000,
          55000,
          77000,
          58000,
          55000,
          45500,
          52000,
          56500,
          68000,
          48000,
          70000,
          42000,
          40500,
          78000,
          85000,
          57000,
          52000,
          68000,
          42000,
          42000,
          56000,
          45000,
          59500,
          75000,
          83000,
          85000,
          75500,
          63000,
          56000,
          59500,
          41000,
          63000,
          42500,
          43000,
          75000,
          56000,
          80000,
          63000,
          58000,
          63000,
          55000,
          47000,
          54000,
          46000,
          68500,
          49000,
          78000,
          83000,
          75000,
          60500,
          45500,
          75000,
          65000,
          57500,
          43500,
          80000,
          55000,
          42000,
          70000,
          44500,
          88000,
          54500,
          63000,
          65700,
          44500,
          88500,
          85000,
          78000,
          78000,
          45500,
          55200,
          71588,
          72000,
          65000,
          73000,
          49500,
          63000,
          78500,
          57500,
          46000,
          48500,
          48000,
          50500,
          46500,
          74500,
          53000,
          85000,
          49000,
          53000,
          60000,
          62000,
          42000,
          46000,
          50000,
          70000,
          42400,
          58000,
          61000,
          88000,
          81000,
          75000,
          42500,
          80000,
          67000,
          43000,
          75000,
          65000,
          60000,
          78000,
          48500,
          65000,
          42000,
          42500,
          53000,
          51000,
          47500,
          63500,
          80000,
          65500,
          58000,
          68000,
          56500,
          52500,
          60000,
          65000,
          77000,
          46000,
          42800,
          45000,
          65000,
          55000,
          82000,
          67000,
          44000,
          48000,
          65000,
          43000,
          57888,
          52000,
          49000,
          67000,
          57000,
          57000,
          75000,
          79000,
          45000,
          49500,
          46500,
          49500,
          87000,
          49000,
          60000,
          43000,
          69500,
          43000,
          55000,
          79000,
          60000,
          71000,
          40700,
          68500
         ],
         "y0": " ",
         "yaxis": "y"
        }
       ],
       "layout": {
        "boxmode": "group",
        "legend": {
         "tracegroupgap": 0
        },
        "template": {
         "data": {
          "bar": [
           {
            "error_x": {
             "color": "#2a3f5f"
            },
            "error_y": {
             "color": "#2a3f5f"
            },
            "marker": {
             "line": {
              "color": "#E5ECF6",
              "width": 0.5
             }
            },
            "type": "bar"
           }
          ],
          "barpolar": [
           {
            "marker": {
             "line": {
              "color": "#E5ECF6",
              "width": 0.5
             }
            },
            "type": "barpolar"
           }
          ],
          "carpet": [
           {
            "aaxis": {
             "endlinecolor": "#2a3f5f",
             "gridcolor": "white",
             "linecolor": "white",
             "minorgridcolor": "white",
             "startlinecolor": "#2a3f5f"
            },
            "baxis": {
             "endlinecolor": "#2a3f5f",
             "gridcolor": "white",
             "linecolor": "white",
             "minorgridcolor": "white",
             "startlinecolor": "#2a3f5f"
            },
            "type": "carpet"
           }
          ],
          "choropleth": [
           {
            "colorbar": {
             "outlinewidth": 0,
             "ticks": ""
            },
            "type": "choropleth"
           }
          ],
          "contour": [
           {
            "colorbar": {
             "outlinewidth": 0,
             "ticks": ""
            },
            "colorscale": [
             [
              0,
              "#0d0887"
             ],
             [
              0.1111111111111111,
              "#46039f"
             ],
             [
              0.2222222222222222,
              "#7201a8"
             ],
             [
              0.3333333333333333,
              "#9c179e"
             ],
             [
              0.4444444444444444,
              "#bd3786"
             ],
             [
              0.5555555555555556,
              "#d8576b"
             ],
             [
              0.6666666666666666,
              "#ed7953"
             ],
             [
              0.7777777777777778,
              "#fb9f3a"
             ],
             [
              0.8888888888888888,
              "#fdca26"
             ],
             [
              1,
              "#f0f921"
             ]
            ],
            "type": "contour"
           }
          ],
          "contourcarpet": [
           {
            "colorbar": {
             "outlinewidth": 0,
             "ticks": ""
            },
            "type": "contourcarpet"
           }
          ],
          "heatmap": [
           {
            "colorbar": {
             "outlinewidth": 0,
             "ticks": ""
            },
            "colorscale": [
             [
              0,
              "#0d0887"
             ],
             [
              0.1111111111111111,
              "#46039f"
             ],
             [
              0.2222222222222222,
              "#7201a8"
             ],
             [
              0.3333333333333333,
              "#9c179e"
             ],
             [
              0.4444444444444444,
              "#bd3786"
             ],
             [
              0.5555555555555556,
              "#d8576b"
             ],
             [
              0.6666666666666666,
              "#ed7953"
             ],
             [
              0.7777777777777778,
              "#fb9f3a"
             ],
             [
              0.8888888888888888,
              "#fdca26"
             ],
             [
              1,
              "#f0f921"
             ]
            ],
            "type": "heatmap"
           }
          ],
          "heatmapgl": [
           {
            "colorbar": {
             "outlinewidth": 0,
             "ticks": ""
            },
            "colorscale": [
             [
              0,
              "#0d0887"
             ],
             [
              0.1111111111111111,
              "#46039f"
             ],
             [
              0.2222222222222222,
              "#7201a8"
             ],
             [
              0.3333333333333333,
              "#9c179e"
             ],
             [
              0.4444444444444444,
              "#bd3786"
             ],
             [
              0.5555555555555556,
              "#d8576b"
             ],
             [
              0.6666666666666666,
              "#ed7953"
             ],
             [
              0.7777777777777778,
              "#fb9f3a"
             ],
             [
              0.8888888888888888,
              "#fdca26"
             ],
             [
              1,
              "#f0f921"
             ]
            ],
            "type": "heatmapgl"
           }
          ],
          "histogram": [
           {
            "marker": {
             "colorbar": {
              "outlinewidth": 0,
              "ticks": ""
             }
            },
            "type": "histogram"
           }
          ],
          "histogram2d": [
           {
            "colorbar": {
             "outlinewidth": 0,
             "ticks": ""
            },
            "colorscale": [
             [
              0,
              "#0d0887"
             ],
             [
              0.1111111111111111,
              "#46039f"
             ],
             [
              0.2222222222222222,
              "#7201a8"
             ],
             [
              0.3333333333333333,
              "#9c179e"
             ],
             [
              0.4444444444444444,
              "#bd3786"
             ],
             [
              0.5555555555555556,
              "#d8576b"
             ],
             [
              0.6666666666666666,
              "#ed7953"
             ],
             [
              0.7777777777777778,
              "#fb9f3a"
             ],
             [
              0.8888888888888888,
              "#fdca26"
             ],
             [
              1,
              "#f0f921"
             ]
            ],
            "type": "histogram2d"
           }
          ],
          "histogram2dcontour": [
           {
            "colorbar": {
             "outlinewidth": 0,
             "ticks": ""
            },
            "colorscale": [
             [
              0,
              "#0d0887"
             ],
             [
              0.1111111111111111,
              "#46039f"
             ],
             [
              0.2222222222222222,
              "#7201a8"
             ],
             [
              0.3333333333333333,
              "#9c179e"
             ],
             [
              0.4444444444444444,
              "#bd3786"
             ],
             [
              0.5555555555555556,
              "#d8576b"
             ],
             [
              0.6666666666666666,
              "#ed7953"
             ],
             [
              0.7777777777777778,
              "#fb9f3a"
             ],
             [
              0.8888888888888888,
              "#fdca26"
             ],
             [
              1,
              "#f0f921"
             ]
            ],
            "type": "histogram2dcontour"
           }
          ],
          "mesh3d": [
           {
            "colorbar": {
             "outlinewidth": 0,
             "ticks": ""
            },
            "type": "mesh3d"
           }
          ],
          "parcoords": [
           {
            "line": {
             "colorbar": {
              "outlinewidth": 0,
              "ticks": ""
             }
            },
            "type": "parcoords"
           }
          ],
          "pie": [
           {
            "automargin": true,
            "type": "pie"
           }
          ],
          "scatter": [
           {
            "marker": {
             "colorbar": {
              "outlinewidth": 0,
              "ticks": ""
             }
            },
            "type": "scatter"
           }
          ],
          "scatter3d": [
           {
            "line": {
             "colorbar": {
              "outlinewidth": 0,
              "ticks": ""
             }
            },
            "marker": {
             "colorbar": {
              "outlinewidth": 0,
              "ticks": ""
             }
            },
            "type": "scatter3d"
           }
          ],
          "scattercarpet": [
           {
            "marker": {
             "colorbar": {
              "outlinewidth": 0,
              "ticks": ""
             }
            },
            "type": "scattercarpet"
           }
          ],
          "scattergeo": [
           {
            "marker": {
             "colorbar": {
              "outlinewidth": 0,
              "ticks": ""
             }
            },
            "type": "scattergeo"
           }
          ],
          "scattergl": [
           {
            "marker": {
             "colorbar": {
              "outlinewidth": 0,
              "ticks": ""
             }
            },
            "type": "scattergl"
           }
          ],
          "scattermapbox": [
           {
            "marker": {
             "colorbar": {
              "outlinewidth": 0,
              "ticks": ""
             }
            },
            "type": "scattermapbox"
           }
          ],
          "scatterpolar": [
           {
            "marker": {
             "colorbar": {
              "outlinewidth": 0,
              "ticks": ""
             }
            },
            "type": "scatterpolar"
           }
          ],
          "scatterpolargl": [
           {
            "marker": {
             "colorbar": {
              "outlinewidth": 0,
              "ticks": ""
             }
            },
            "type": "scatterpolargl"
           }
          ],
          "scatterternary": [
           {
            "marker": {
             "colorbar": {
              "outlinewidth": 0,
              "ticks": ""
             }
            },
            "type": "scatterternary"
           }
          ],
          "surface": [
           {
            "colorbar": {
             "outlinewidth": 0,
             "ticks": ""
            },
            "colorscale": [
             [
              0,
              "#0d0887"
             ],
             [
              0.1111111111111111,
              "#46039f"
             ],
             [
              0.2222222222222222,
              "#7201a8"
             ],
             [
              0.3333333333333333,
              "#9c179e"
             ],
             [
              0.4444444444444444,
              "#bd3786"
             ],
             [
              0.5555555555555556,
              "#d8576b"
             ],
             [
              0.6666666666666666,
              "#ed7953"
             ],
             [
              0.7777777777777778,
              "#fb9f3a"
             ],
             [
              0.8888888888888888,
              "#fdca26"
             ],
             [
              1,
              "#f0f921"
             ]
            ],
            "type": "surface"
           }
          ],
          "table": [
           {
            "cells": {
             "fill": {
              "color": "#EBF0F8"
             },
             "line": {
              "color": "white"
             }
            },
            "header": {
             "fill": {
              "color": "#C8D4E3"
             },
             "line": {
              "color": "white"
             }
            },
            "type": "table"
           }
          ]
         },
         "layout": {
          "annotationdefaults": {
           "arrowcolor": "#2a3f5f",
           "arrowhead": 0,
           "arrowwidth": 1
          },
          "coloraxis": {
           "colorbar": {
            "outlinewidth": 0,
            "ticks": ""
           }
          },
          "colorscale": {
           "diverging": [
            [
             0,
             "#8e0152"
            ],
            [
             0.1,
             "#c51b7d"
            ],
            [
             0.2,
             "#de77ae"
            ],
            [
             0.3,
             "#f1b6da"
            ],
            [
             0.4,
             "#fde0ef"
            ],
            [
             0.5,
             "#f7f7f7"
            ],
            [
             0.6,
             "#e6f5d0"
            ],
            [
             0.7,
             "#b8e186"
            ],
            [
             0.8,
             "#7fbc41"
            ],
            [
             0.9,
             "#4d9221"
            ],
            [
             1,
             "#276419"
            ]
           ],
           "sequential": [
            [
             0,
             "#0d0887"
            ],
            [
             0.1111111111111111,
             "#46039f"
            ],
            [
             0.2222222222222222,
             "#7201a8"
            ],
            [
             0.3333333333333333,
             "#9c179e"
            ],
            [
             0.4444444444444444,
             "#bd3786"
            ],
            [
             0.5555555555555556,
             "#d8576b"
            ],
            [
             0.6666666666666666,
             "#ed7953"
            ],
            [
             0.7777777777777778,
             "#fb9f3a"
            ],
            [
             0.8888888888888888,
             "#fdca26"
            ],
            [
             1,
             "#f0f921"
            ]
           ],
           "sequentialminus": [
            [
             0,
             "#0d0887"
            ],
            [
             0.1111111111111111,
             "#46039f"
            ],
            [
             0.2222222222222222,
             "#7201a8"
            ],
            [
             0.3333333333333333,
             "#9c179e"
            ],
            [
             0.4444444444444444,
             "#bd3786"
            ],
            [
             0.5555555555555556,
             "#d8576b"
            ],
            [
             0.6666666666666666,
             "#ed7953"
            ],
            [
             0.7777777777777778,
             "#fb9f3a"
            ],
            [
             0.8888888888888888,
             "#fdca26"
            ],
            [
             1,
             "#f0f921"
            ]
           ]
          },
          "colorway": [
           "#636efa",
           "#EF553B",
           "#00cc96",
           "#ab63fa",
           "#FFA15A",
           "#19d3f3",
           "#FF6692",
           "#B6E880",
           "#FF97FF",
           "#FECB52"
          ],
          "font": {
           "color": "#2a3f5f"
          },
          "geo": {
           "bgcolor": "white",
           "lakecolor": "white",
           "landcolor": "#E5ECF6",
           "showlakes": true,
           "showland": true,
           "subunitcolor": "white"
          },
          "hoverlabel": {
           "align": "left"
          },
          "hovermode": "closest",
          "mapbox": {
           "style": "light"
          },
          "paper_bgcolor": "white",
          "plot_bgcolor": "#E5ECF6",
          "polar": {
           "angularaxis": {
            "gridcolor": "white",
            "linecolor": "white",
            "ticks": ""
           },
           "bgcolor": "#E5ECF6",
           "radialaxis": {
            "gridcolor": "white",
            "linecolor": "white",
            "ticks": ""
           }
          },
          "scene": {
           "xaxis": {
            "backgroundcolor": "#E5ECF6",
            "gridcolor": "white",
            "gridwidth": 2,
            "linecolor": "white",
            "showbackground": true,
            "ticks": "",
            "zerolinecolor": "white"
           },
           "yaxis": {
            "backgroundcolor": "#E5ECF6",
            "gridcolor": "white",
            "gridwidth": 2,
            "linecolor": "white",
            "showbackground": true,
            "ticks": "",
            "zerolinecolor": "white"
           },
           "zaxis": {
            "backgroundcolor": "#E5ECF6",
            "gridcolor": "white",
            "gridwidth": 2,
            "linecolor": "white",
            "showbackground": true,
            "ticks": "",
            "zerolinecolor": "white"
           }
          },
          "shapedefaults": {
           "line": {
            "color": "#2a3f5f"
           }
          },
          "ternary": {
           "aaxis": {
            "gridcolor": "white",
            "linecolor": "white",
            "ticks": ""
           },
           "baxis": {
            "gridcolor": "white",
            "linecolor": "white",
            "ticks": ""
           },
           "bgcolor": "#E5ECF6",
           "caxis": {
            "gridcolor": "white",
            "linecolor": "white",
            "ticks": ""
           }
          },
          "title": {
           "x": 0.05
          },
          "xaxis": {
           "automargin": true,
           "gridcolor": "white",
           "linecolor": "white",
           "ticks": "",
           "title": {
            "standoff": 15
           },
           "zerolinecolor": "white",
           "zerolinewidth": 2
          },
          "yaxis": {
           "automargin": true,
           "gridcolor": "white",
           "linecolor": "white",
           "ticks": "",
           "title": {
            "standoff": 15
           },
           "zerolinecolor": "white",
           "zerolinewidth": 2
          }
         }
        },
        "title": {
         "text": "Relationship between each body type and price"
        },
        "xaxis": {
         "anchor": "y",
         "domain": [
          0,
          1
         ],
         "title": {
          "text": "Body type"
         }
        },
        "yaxis": {
         "anchor": "x",
         "domain": [
          0,
          1
         ],
         "title": {
          "text": "Price(GH¢)"
         }
        }
       }
      },
      "text/html": [
       "<div>\n",
       "        \n",
       "        \n",
       "            <div id=\"431c18ea-abe4-430e-a005-bb3ba8f9266f\" class=\"plotly-graph-div\" style=\"height:525px; width:100%;\"></div>\n",
       "            <script type=\"text/javascript\">\n",
       "                require([\"plotly\"], function(Plotly) {\n",
       "                    window.PLOTLYENV=window.PLOTLYENV || {};\n",
       "                    \n",
       "                if (document.getElementById(\"431c18ea-abe4-430e-a005-bb3ba8f9266f\")) {\n",
       "                    Plotly.newPlot(\n",
       "                        '431c18ea-abe4-430e-a005-bb3ba8f9266f',\n",
       "                        [{\"alignmentgroup\": \"True\", \"hovertemplate\": \"Body type=%{x}<br>Price(GH\\u00a2)=%{y}<extra></extra>\", \"legendgroup\": \"\", \"marker\": {\"color\": \"#636efa\"}, \"name\": \"\", \"notched\": false, \"offsetgroup\": \"\", \"orientation\": \"v\", \"showlegend\": false, \"type\": \"box\", \"x\": [null, \"Saloon\", null, \"SUV / 4x4\", \"SUV / 4x4\", \"Hatchback\", \"Saloon\", \"Saloon\", \"Saloon\", \"SUV / 4x4\", \"Saloon\", \"Saloon\", \"Saloon\", \"Saloon\", \"SUV / 4x4\", \"SUV / 4x4\", \"Saloon\", \"Hatchback\", \"Hatchback\", \"Hatchback\", \"Saloon\", \"Saloon\", \"Saloon\", null, \"Saloon\", \"Saloon\", \"Saloon\", \"Hatchback\", \"SUV / 4x4\", \"Saloon\", \"Saloon\", \"SUV / 4x4\", \"SUV / 4x4\", \"Hatchback\", null, \"Saloon\", \"SUV / 4x4\", \"Saloon\", \"Saloon\", \"Saloon\", \"Saloon\", \"Saloon\", \"Saloon\", \"Saloon\", \"Saloon\", \"SUV / 4x4\", \"SUV / 4x4\", \"Saloon\", \"SUV / 4x4\", null, \"SUV / 4x4\", \"Hatchback\", \"SUV / 4x4\", \"Saloon\", \"SUV / 4x4\", \"SUV / 4x4\", \"Saloon\", \"Saloon\", \"SUV / 4x4\", \"Saloon\", \"SUV / 4x4\", \"Saloon\", \"Saloon\", null, \"SUV / 4x4\", \"Saloon\", \"Saloon\", \"SUV / 4x4\", \"Saloon\", \"Saloon\", \"Saloon\", \"Saloon\", \"Saloon\", \"Saloon\", \"Saloon\", \"SUV / 4x4\", \"Saloon\", \"SUV / 4x4\", \"Saloon\", \"Saloon\", \"Saloon\", \"Saloon\", null, \"SUV / 4x4\", \"Saloon\", \"Saloon\", \"SUV / 4x4\", \"SUV / 4x4\", \"SUV / 4x4\", \"SUV / 4x4\", \"Saloon\", \"Saloon\", \"Saloon\", \"Hatchback\", \"SUV / 4x4\", \"SUV / 4x4\", \"SUV / 4x4\", \"Saloon\", \"SUV / 4x4\", \"Saloon\", \"Saloon\", \"Saloon\", \"Other\", \"SUV / 4x4\", \"SUV / 4x4\", \"Saloon\", \"Saloon\", \"Saloon\", \"Saloon\", \"Saloon\", \"SUV / 4x4\", \"SUV / 4x4\", \"Saloon\", \"Saloon\", \"Saloon\", \"Saloon\", \"Saloon\", \"Saloon\", \"Saloon\", \"SUV / 4x4\", \"Saloon\", \"SUV / 4x4\", \"Saloon\", \"SUV / 4x4\", \"Saloon\", \"Saloon\", \"SUV / 4x4\", \"Saloon\", \"Saloon\", \"SUV / 4x4\", \"SUV / 4x4\", \"SUV / 4x4\", \"Hatchback\", \"Saloon\", \"Saloon\", \"SUV / 4x4\", \"Saloon\", \"SUV / 4x4\", \"SUV / 4x4\", \"Saloon\", \"Saloon\", \"SUV / 4x4\", \"Saloon\", \"Saloon\", \"Saloon\", \"Saloon\", \"Saloon\", \"Saloon\", \"Saloon\", \"Saloon\", \"Saloon\", \"Saloon\", \"Hatchback\", \"SUV / 4x4\", \"Saloon\", \"Saloon\", \"Saloon\", \"Saloon\", \"Saloon\", \"Saloon\", \"Saloon\", \"SUV / 4x4\", \"Saloon\", \"Saloon\", \"Saloon\", \"Saloon\", \"Saloon\", \"Saloon\", \"SUV / 4x4\", \"Saloon\", \"SUV / 4x4\", \"Saloon\", \"Saloon\", \"Saloon\", \"Saloon\", \"SUV / 4x4\", \"SUV / 4x4\", \"Saloon\", \"Saloon\", \"Saloon\", \"Saloon\", \"Saloon\", \"Saloon\", \"Saloon\", \"SUV / 4x4\", null, \"Other\", \"SUV / 4x4\", \"Saloon\", \"SUV / 4x4\", \"Saloon\", \"Saloon\", \"Saloon\", \"SUV / 4x4\", \"Saloon\", \"SUV / 4x4\", \"SUV / 4x4\", \"Hatchback\", \"Saloon\", \"Saloon\", \"SUV / 4x4\", \"Saloon\", \"Saloon\", \"Saloon\", \"SUV / 4x4\", \"SUV / 4x4\", \"SUV / 4x4\", \"Saloon\", \"Saloon\", \"Saloon\", \"Saloon\", \"SUV / 4x4\", \"Hatchback\", \"Saloon\", \"SUV / 4x4\", \"Saloon\", \"Saloon\", \"SUV / 4x4\", null, \"SUV / 4x4\", \"Saloon\", \"SUV / 4x4\", \"Saloon\", \"Saloon\", \"Saloon\", \"Saloon\", \"Saloon\", null, \"SUV / 4x4\", \"Saloon\", \"Saloon\", \"SUV / 4x4\", \"Other\", \"Saloon\", \"Saloon\", \"Saloon\", \"Saloon\", \"Saloon\", \"Saloon\", \"Saloon\", \"Saloon\", \"Saloon\", \"Saloon\", \"Saloon\", \"Saloon\", \"Saloon\", \"Saloon\", \"SUV / 4x4\", \"Saloon\", \"SUV / 4x4\", \"Saloon\", \"Saloon\", \"Saloon\", \"Saloon\", \"Saloon\", \"SUV / 4x4\", \"Saloon\", \"Saloon\", \"SUV / 4x4\", \"SUV / 4x4\", \"Saloon\", \"Hatchback\", null, \"Hatchback\", \"SUV / 4x4\", \"Saloon\", \"SUV / 4x4\", \"Saloon\", \"Saloon\", \"Hatchback\", \"Saloon\", \"Saloon\", \"Saloon\", \"Saloon\", \"Saloon\", \"Saloon\", \"Other\", \"Saloon\", \"Saloon\", \"Hatchback\", \"Saloon\", \"Saloon\", \"Saloon\", \"SUV / 4x4\", \"Saloon\", \"Saloon\", \"Saloon\", \"SUV / 4x4\", \"SUV / 4x4\", \"SUV / 4x4\", \"Saloon\", \"Saloon\", \"Saloon\", \"Saloon\", \"SUV / 4x4\", \"Saloon\", \"Saloon\", \"Saloon\", \"Saloon\", \"Saloon\", \"Saloon\", \"SUV / 4x4\", \"Saloon\", null, \"Saloon\", \"Saloon\", \"Saloon\", \"Saloon\", \"Saloon\", \"Saloon\", \"SUV / 4x4\", \"Saloon\", \"SUV / 4x4\", \"Saloon\", \"Saloon\", \"SUV / 4x4\", \"SUV / 4x4\", \"Saloon\", \"Saloon\", \"SUV / 4x4\", \"SUV / 4x4\", \"Other\", \"Saloon\", \"Saloon\", \"Saloon\", \"Saloon\", \"Saloon\", \"Saloon\", \"SUV / 4x4\", \"Saloon\", \"Saloon\", \"Saloon\", \"Saloon\", \"Saloon\", \"SUV / 4x4\", \"Saloon\", \"SUV / 4x4\", \"Saloon\", \"Saloon\", \"Saloon\", \"Saloon\", \"SUV / 4x4\", \"Saloon\", \"SUV / 4x4\", \"Saloon\", \"Hatchback\", \"SUV / 4x4\", \"SUV / 4x4\", \"Saloon\", \"Saloon\", \"SUV / 4x4\", \"SUV / 4x4\", \"Saloon\", \"Saloon\", \"SUV / 4x4\", \"Saloon\", \"Saloon\", \"Saloon\", \"Saloon\", \"Saloon\", \"SUV / 4x4\", \"Saloon\", \"Saloon\", \"Saloon\", \"SUV / 4x4\", \"Saloon\", \"Saloon\", \"SUV / 4x4\", \"SUV / 4x4\", \"Saloon\", \"Saloon\", \"SUV / 4x4\"], \"x0\": \" \", \"xaxis\": \"x\", \"y\": [42500, 42000, 48000, 60000, 80000, 44000, 68500, 58000, 42500, 48000, 69500, 45000, 55500, 80000, 65000, 58000, 56000, 55500, 60000, 48000, 76000, 43500, 75000, 85000, 53000, 56000, 72000, 52500, 45000, 42000, 60000, 55000, 46000, 53000, 56500, 62000, 70000, 55500, 51000, 44000, 52000, 48100, 43000, 47200, 45000, 47000, 60000, 85000, 65000, 42000, 58000, 82000, 84000, 74000, 83000, 85000, 43500, 49900, 65777, 72000, 87000, 55000, 70000, 62000, 59800, 49000, 78000, 55000, 74000, 84999, 49500, 41777, 47777, 50000, 75000, 65000, 50555, 42000, 78500, 85500, 50555, 48950, 55000, 60000, 62000, 55000, 45500, 84000, 85000, 47000, 43000, 83900, 46500, 50000, 80000, 64000, 78000, 47000, 80500, 40999, 85000, 50500, 85500, 79500, 49500, 58500, 51000, 65500, 62000, 45000, 65000, 45000, 77000, 45000, 78000, 48500, 62000, 54500, 68000, 68000, 46500, 65000, 78000, 55000, 58500, 41000, 40500, 77000, 88000, 87000, 65000, 67000, 48500, 52000, 66600, 65000, 75000, 86000, 45000, 42000, 50000, 85000, 62000, 46000, 66000, 72000, 76000, 87000, 47500, 43500, 78000, 68000, 40500, 58500, 41900, 48000, 60000, 75000, 85000, 85000, 45000, 65000, 84500, 43500, 70000, 58500, 63000, 63800, 89000, 48500, 45000, 42000, 45000, 50000, 45000, 58000, 79000, 45000, 50000, 67000, 46000, 59900, 42000, 43000, 85000, 45000, 50000, 48000, 43000, 55000, 89000, 60000, 64000, 62900, 49000, 63000, 62000, 42500, 62000, 43500, 80000, 86000, 69000, 83000, 48500, 58000, 57500, 56500, 43000, 55000, 60000, 89000, 55000, 77000, 58000, 55000, 45500, 52000, 56500, 68000, 48000, 70000, 42000, 40500, 78000, 85000, 57000, 52000, 68000, 42000, 42000, 56000, 45000, 59500, 75000, 83000, 85000, 75500, 63000, 56000, 59500, 41000, 63000, 42500, 43000, 75000, 56000, 80000, 63000, 58000, 63000, 55000, 47000, 54000, 46000, 68500, 49000, 78000, 83000, 75000, 60500, 45500, 75000, 65000, 57500, 43500, 80000, 55000, 42000, 70000, 44500, 88000, 54500, 63000, 65700, 44500, 88500, 85000, 78000, 78000, 45500, 55200, 71588, 72000, 65000, 73000, 49500, 63000, 78500, 57500, 46000, 48500, 48000, 50500, 46500, 74500, 53000, 85000, 49000, 53000, 60000, 62000, 42000, 46000, 50000, 70000, 42400, 58000, 61000, 88000, 81000, 75000, 42500, 80000, 67000, 43000, 75000, 65000, 60000, 78000, 48500, 65000, 42000, 42500, 53000, 51000, 47500, 63500, 80000, 65500, 58000, 68000, 56500, 52500, 60000, 65000, 77000, 46000, 42800, 45000, 65000, 55000, 82000, 67000, 44000, 48000, 65000, 43000, 57888, 52000, 49000, 67000, 57000, 57000, 75000, 79000, 45000, 49500, 46500, 49500, 87000, 49000, 60000, 43000, 69500, 43000, 55000, 79000, 60000, 71000, 40700, 68500], \"y0\": \" \", \"yaxis\": \"y\"}],\n",
       "                        {\"boxmode\": \"group\", \"legend\": {\"tracegroupgap\": 0}, \"template\": {\"data\": {\"bar\": [{\"error_x\": {\"color\": \"#2a3f5f\"}, \"error_y\": {\"color\": \"#2a3f5f\"}, \"marker\": {\"line\": {\"color\": \"#E5ECF6\", \"width\": 0.5}}, \"type\": \"bar\"}], \"barpolar\": [{\"marker\": {\"line\": {\"color\": \"#E5ECF6\", \"width\": 0.5}}, \"type\": \"barpolar\"}], \"carpet\": [{\"aaxis\": {\"endlinecolor\": \"#2a3f5f\", \"gridcolor\": \"white\", \"linecolor\": \"white\", \"minorgridcolor\": \"white\", \"startlinecolor\": \"#2a3f5f\"}, \"baxis\": {\"endlinecolor\": \"#2a3f5f\", \"gridcolor\": \"white\", \"linecolor\": \"white\", \"minorgridcolor\": \"white\", \"startlinecolor\": \"#2a3f5f\"}, \"type\": \"carpet\"}], \"choropleth\": [{\"colorbar\": {\"outlinewidth\": 0, \"ticks\": \"\"}, \"type\": \"choropleth\"}], \"contour\": [{\"colorbar\": {\"outlinewidth\": 0, \"ticks\": \"\"}, \"colorscale\": [[0.0, \"#0d0887\"], [0.1111111111111111, \"#46039f\"], [0.2222222222222222, \"#7201a8\"], [0.3333333333333333, \"#9c179e\"], [0.4444444444444444, \"#bd3786\"], [0.5555555555555556, \"#d8576b\"], [0.6666666666666666, \"#ed7953\"], [0.7777777777777778, \"#fb9f3a\"], [0.8888888888888888, \"#fdca26\"], [1.0, \"#f0f921\"]], \"type\": \"contour\"}], \"contourcarpet\": [{\"colorbar\": {\"outlinewidth\": 0, \"ticks\": \"\"}, \"type\": \"contourcarpet\"}], \"heatmap\": [{\"colorbar\": {\"outlinewidth\": 0, \"ticks\": \"\"}, \"colorscale\": [[0.0, \"#0d0887\"], [0.1111111111111111, \"#46039f\"], [0.2222222222222222, \"#7201a8\"], [0.3333333333333333, \"#9c179e\"], [0.4444444444444444, \"#bd3786\"], [0.5555555555555556, \"#d8576b\"], [0.6666666666666666, \"#ed7953\"], [0.7777777777777778, \"#fb9f3a\"], [0.8888888888888888, \"#fdca26\"], [1.0, \"#f0f921\"]], \"type\": \"heatmap\"}], \"heatmapgl\": [{\"colorbar\": {\"outlinewidth\": 0, \"ticks\": \"\"}, \"colorscale\": [[0.0, \"#0d0887\"], [0.1111111111111111, \"#46039f\"], [0.2222222222222222, \"#7201a8\"], [0.3333333333333333, \"#9c179e\"], [0.4444444444444444, \"#bd3786\"], [0.5555555555555556, \"#d8576b\"], [0.6666666666666666, \"#ed7953\"], [0.7777777777777778, \"#fb9f3a\"], [0.8888888888888888, \"#fdca26\"], [1.0, \"#f0f921\"]], \"type\": \"heatmapgl\"}], \"histogram\": [{\"marker\": {\"colorbar\": {\"outlinewidth\": 0, \"ticks\": \"\"}}, \"type\": \"histogram\"}], \"histogram2d\": [{\"colorbar\": {\"outlinewidth\": 0, \"ticks\": \"\"}, \"colorscale\": [[0.0, \"#0d0887\"], [0.1111111111111111, \"#46039f\"], [0.2222222222222222, \"#7201a8\"], [0.3333333333333333, \"#9c179e\"], [0.4444444444444444, \"#bd3786\"], [0.5555555555555556, \"#d8576b\"], [0.6666666666666666, \"#ed7953\"], [0.7777777777777778, \"#fb9f3a\"], [0.8888888888888888, \"#fdca26\"], [1.0, \"#f0f921\"]], \"type\": \"histogram2d\"}], \"histogram2dcontour\": [{\"colorbar\": {\"outlinewidth\": 0, \"ticks\": \"\"}, \"colorscale\": [[0.0, \"#0d0887\"], [0.1111111111111111, \"#46039f\"], [0.2222222222222222, \"#7201a8\"], [0.3333333333333333, \"#9c179e\"], [0.4444444444444444, \"#bd3786\"], [0.5555555555555556, \"#d8576b\"], [0.6666666666666666, \"#ed7953\"], [0.7777777777777778, \"#fb9f3a\"], [0.8888888888888888, \"#fdca26\"], [1.0, \"#f0f921\"]], \"type\": \"histogram2dcontour\"}], \"mesh3d\": [{\"colorbar\": {\"outlinewidth\": 0, \"ticks\": \"\"}, \"type\": \"mesh3d\"}], \"parcoords\": [{\"line\": {\"colorbar\": {\"outlinewidth\": 0, \"ticks\": \"\"}}, \"type\": \"parcoords\"}], \"pie\": [{\"automargin\": true, \"type\": \"pie\"}], \"scatter\": [{\"marker\": {\"colorbar\": {\"outlinewidth\": 0, \"ticks\": \"\"}}, \"type\": \"scatter\"}], \"scatter3d\": [{\"line\": {\"colorbar\": {\"outlinewidth\": 0, \"ticks\": \"\"}}, \"marker\": {\"colorbar\": {\"outlinewidth\": 0, \"ticks\": \"\"}}, \"type\": \"scatter3d\"}], \"scattercarpet\": [{\"marker\": {\"colorbar\": {\"outlinewidth\": 0, \"ticks\": \"\"}}, \"type\": \"scattercarpet\"}], \"scattergeo\": [{\"marker\": {\"colorbar\": {\"outlinewidth\": 0, \"ticks\": \"\"}}, \"type\": \"scattergeo\"}], \"scattergl\": [{\"marker\": {\"colorbar\": {\"outlinewidth\": 0, \"ticks\": \"\"}}, \"type\": \"scattergl\"}], \"scattermapbox\": [{\"marker\": {\"colorbar\": {\"outlinewidth\": 0, \"ticks\": \"\"}}, \"type\": \"scattermapbox\"}], \"scatterpolar\": [{\"marker\": {\"colorbar\": {\"outlinewidth\": 0, \"ticks\": \"\"}}, \"type\": \"scatterpolar\"}], \"scatterpolargl\": [{\"marker\": {\"colorbar\": {\"outlinewidth\": 0, \"ticks\": \"\"}}, \"type\": \"scatterpolargl\"}], \"scatterternary\": [{\"marker\": {\"colorbar\": {\"outlinewidth\": 0, \"ticks\": \"\"}}, \"type\": \"scatterternary\"}], \"surface\": [{\"colorbar\": {\"outlinewidth\": 0, \"ticks\": \"\"}, \"colorscale\": [[0.0, \"#0d0887\"], [0.1111111111111111, \"#46039f\"], [0.2222222222222222, \"#7201a8\"], [0.3333333333333333, \"#9c179e\"], [0.4444444444444444, \"#bd3786\"], [0.5555555555555556, \"#d8576b\"], [0.6666666666666666, \"#ed7953\"], [0.7777777777777778, \"#fb9f3a\"], [0.8888888888888888, \"#fdca26\"], [1.0, \"#f0f921\"]], \"type\": \"surface\"}], \"table\": [{\"cells\": {\"fill\": {\"color\": \"#EBF0F8\"}, \"line\": {\"color\": \"white\"}}, \"header\": {\"fill\": {\"color\": \"#C8D4E3\"}, \"line\": {\"color\": \"white\"}}, \"type\": \"table\"}]}, \"layout\": {\"annotationdefaults\": {\"arrowcolor\": \"#2a3f5f\", \"arrowhead\": 0, \"arrowwidth\": 1}, \"coloraxis\": {\"colorbar\": {\"outlinewidth\": 0, \"ticks\": \"\"}}, \"colorscale\": {\"diverging\": [[0, \"#8e0152\"], [0.1, \"#c51b7d\"], [0.2, \"#de77ae\"], [0.3, \"#f1b6da\"], [0.4, \"#fde0ef\"], [0.5, \"#f7f7f7\"], [0.6, \"#e6f5d0\"], [0.7, \"#b8e186\"], [0.8, \"#7fbc41\"], [0.9, \"#4d9221\"], [1, \"#276419\"]], \"sequential\": [[0.0, \"#0d0887\"], [0.1111111111111111, \"#46039f\"], [0.2222222222222222, \"#7201a8\"], [0.3333333333333333, \"#9c179e\"], [0.4444444444444444, \"#bd3786\"], [0.5555555555555556, \"#d8576b\"], [0.6666666666666666, \"#ed7953\"], [0.7777777777777778, \"#fb9f3a\"], [0.8888888888888888, \"#fdca26\"], [1.0, \"#f0f921\"]], \"sequentialminus\": [[0.0, \"#0d0887\"], [0.1111111111111111, \"#46039f\"], [0.2222222222222222, \"#7201a8\"], [0.3333333333333333, \"#9c179e\"], [0.4444444444444444, \"#bd3786\"], [0.5555555555555556, \"#d8576b\"], [0.6666666666666666, \"#ed7953\"], [0.7777777777777778, \"#fb9f3a\"], [0.8888888888888888, \"#fdca26\"], [1.0, \"#f0f921\"]]}, \"colorway\": [\"#636efa\", \"#EF553B\", \"#00cc96\", \"#ab63fa\", \"#FFA15A\", \"#19d3f3\", \"#FF6692\", \"#B6E880\", \"#FF97FF\", \"#FECB52\"], \"font\": {\"color\": \"#2a3f5f\"}, \"geo\": {\"bgcolor\": \"white\", \"lakecolor\": \"white\", \"landcolor\": \"#E5ECF6\", \"showlakes\": true, \"showland\": true, \"subunitcolor\": \"white\"}, \"hoverlabel\": {\"align\": \"left\"}, \"hovermode\": \"closest\", \"mapbox\": {\"style\": \"light\"}, \"paper_bgcolor\": \"white\", \"plot_bgcolor\": \"#E5ECF6\", \"polar\": {\"angularaxis\": {\"gridcolor\": \"white\", \"linecolor\": \"white\", \"ticks\": \"\"}, \"bgcolor\": \"#E5ECF6\", \"radialaxis\": {\"gridcolor\": \"white\", \"linecolor\": \"white\", \"ticks\": \"\"}}, \"scene\": {\"xaxis\": {\"backgroundcolor\": \"#E5ECF6\", \"gridcolor\": \"white\", \"gridwidth\": 2, \"linecolor\": \"white\", \"showbackground\": true, \"ticks\": \"\", \"zerolinecolor\": \"white\"}, \"yaxis\": {\"backgroundcolor\": \"#E5ECF6\", \"gridcolor\": \"white\", \"gridwidth\": 2, \"linecolor\": \"white\", \"showbackground\": true, \"ticks\": \"\", \"zerolinecolor\": \"white\"}, \"zaxis\": {\"backgroundcolor\": \"#E5ECF6\", \"gridcolor\": \"white\", \"gridwidth\": 2, \"linecolor\": \"white\", \"showbackground\": true, \"ticks\": \"\", \"zerolinecolor\": \"white\"}}, \"shapedefaults\": {\"line\": {\"color\": \"#2a3f5f\"}}, \"ternary\": {\"aaxis\": {\"gridcolor\": \"white\", \"linecolor\": \"white\", \"ticks\": \"\"}, \"baxis\": {\"gridcolor\": \"white\", \"linecolor\": \"white\", \"ticks\": \"\"}, \"bgcolor\": \"#E5ECF6\", \"caxis\": {\"gridcolor\": \"white\", \"linecolor\": \"white\", \"ticks\": \"\"}}, \"title\": {\"x\": 0.05}, \"xaxis\": {\"automargin\": true, \"gridcolor\": \"white\", \"linecolor\": \"white\", \"ticks\": \"\", \"title\": {\"standoff\": 15}, \"zerolinecolor\": \"white\", \"zerolinewidth\": 2}, \"yaxis\": {\"automargin\": true, \"gridcolor\": \"white\", \"linecolor\": \"white\", \"ticks\": \"\", \"title\": {\"standoff\": 15}, \"zerolinecolor\": \"white\", \"zerolinewidth\": 2}}}, \"title\": {\"text\": \"Relationship between each body type and price\"}, \"xaxis\": {\"anchor\": \"y\", \"domain\": [0.0, 1.0], \"title\": {\"text\": \"Body type\"}}, \"yaxis\": {\"anchor\": \"x\", \"domain\": [0.0, 1.0], \"title\": {\"text\": \"Price(GH\\u00a2)\"}}},\n",
       "                        {\"responsive\": true}\n",
       "                    ).then(function(){\n",
       "                            \n",
       "var gd = document.getElementById('431c18ea-abe4-430e-a005-bb3ba8f9266f');\n",
       "var x = new MutationObserver(function (mutations, observer) {{\n",
       "        var display = window.getComputedStyle(gd).display;\n",
       "        if (!display || display === 'none') {{\n",
       "            console.log([gd, 'removed!']);\n",
       "            Plotly.purge(gd);\n",
       "            observer.disconnect();\n",
       "        }}\n",
       "}});\n",
       "\n",
       "// Listen for the removal of the full notebook cells\n",
       "var notebookContainer = gd.closest('#notebook-container');\n",
       "if (notebookContainer) {{\n",
       "    x.observe(notebookContainer, {childList: true});\n",
       "}}\n",
       "\n",
       "// Listen for the clearing of the current output cell\n",
       "var outputEl = gd.closest('.output');\n",
       "if (outputEl) {{\n",
       "    x.observe(outputEl, {childList: true});\n",
       "}}\n",
       "\n",
       "                        })\n",
       "                };\n",
       "                });\n",
       "            </script>\n",
       "        </div>"
      ]
     },
     "metadata": {},
     "output_type": "display_data"
    }
   ],
   "source": [
    "fig = px.box(df, x=\"Body type\", y=\"Price(GH¢)\", title='Relationship between each body type and price')\n",
    "fig.show()"
   ]
  },
  {
   "cell_type": "markdown",
   "metadata": {},
   "source": [
    "##### Observations:\n",
    "\n",
    "* Saloon cars and SUV/4x4 cost more (close to 90,000) than hatchbacks and other body types\n",
    "* The bulk of saloon cars cost between 46,000 and 69,000\n",
    "* The bulk of SUV/4x4 cars cost between 55,000 and 78,000"
   ]
  },
  {
   "cell_type": "markdown",
   "metadata": {},
   "source": [
    "### Fuel type vs Price"
   ]
  },
  {
   "cell_type": "code",
   "execution_count": 447,
   "metadata": {
    "scrolled": false
   },
   "outputs": [
    {
     "data": {
      "application/vnd.plotly.v1+json": {
       "config": {
        "plotlyServerURL": "https://plot.ly"
       },
       "data": [
        {
         "alignmentgroup": "True",
         "hovertemplate": "Fuel type=%{x}<br>Price(GH¢)=%{y}<extra></extra>",
         "legendgroup": "",
         "marker": {
          "color": "#636efa"
         },
         "name": "",
         "notched": false,
         "offsetgroup": "",
         "orientation": "v",
         "showlegend": false,
         "type": "box",
         "x": [
          "Petrol",
          "Petrol",
          "Diesel",
          "Diesel",
          "Petrol",
          "Petrol",
          "Petrol",
          "Petrol",
          "Petrol",
          "Petrol",
          "Petrol",
          "Petrol",
          "Petrol",
          "Petrol",
          "Petrol",
          "Petrol",
          "Petrol",
          "Petrol",
          "Petrol",
          "Petrol",
          "Petrol",
          "Petrol",
          "Other",
          "Petrol",
          "Petrol",
          "Petrol",
          "Petrol",
          "Petrol",
          "Petrol",
          "Petrol",
          "Petrol",
          "Petrol",
          "Petrol",
          "Petrol",
          "Petrol",
          "Petrol",
          "Petrol",
          "Petrol",
          "Petrol",
          "Petrol",
          "Petrol",
          "Petrol",
          "Petrol",
          "Petrol",
          "Petrol",
          "Petrol",
          "Petrol",
          "Petrol",
          "Petrol",
          "Petrol",
          "Petrol",
          "Petrol",
          "Petrol",
          "Petrol",
          "Petrol",
          "Petrol",
          "Petrol",
          "Petrol",
          "Petrol",
          "Petrol",
          "Diesel",
          "Petrol",
          "Petrol",
          "Petrol",
          "Petrol",
          "Petrol",
          "Petrol",
          "Diesel",
          "Petrol",
          "Petrol",
          "Petrol",
          "Petrol",
          "Petrol",
          "Petrol",
          "Petrol",
          "Petrol",
          "Petrol",
          "Petrol",
          "Petrol",
          "Petrol",
          "Petrol",
          "Petrol",
          "Petrol",
          "Petrol",
          "Petrol",
          "Petrol",
          "Petrol",
          "Petrol",
          "Diesel",
          "Petrol",
          "Petrol",
          "Petrol",
          "Petrol",
          "Petrol",
          "Petrol",
          "Petrol",
          "Diesel",
          "Petrol",
          "Petrol",
          "Petrol",
          "Petrol",
          "Petrol",
          "Petrol",
          "Petrol",
          "Petrol",
          "Petrol",
          "Petrol",
          "Petrol",
          "Petrol",
          "Petrol",
          "Petrol",
          "Petrol",
          "Petrol",
          "Petrol",
          "Petrol",
          "Petrol",
          "Petrol",
          "Petrol",
          "Petrol",
          "Petrol",
          "Petrol",
          "Petrol",
          "Petrol",
          "Petrol",
          "Petrol",
          "Petrol",
          "Petrol",
          "Petrol",
          "Petrol",
          "Petrol",
          "Petrol",
          "Petrol",
          "Petrol",
          "Petrol",
          "Petrol",
          "Petrol",
          "Petrol",
          "Petrol",
          "Petrol",
          "Petrol",
          "Petrol",
          "Petrol",
          "Petrol",
          "Petrol",
          "Petrol",
          "Petrol",
          "Petrol",
          "Petrol",
          "Petrol",
          "Petrol",
          "Petrol",
          "Petrol",
          "Petrol",
          "Petrol",
          "Petrol",
          "Petrol",
          "Petrol",
          "Petrol",
          "Petrol",
          "Petrol",
          "Petrol",
          "Petrol",
          "Petrol",
          "Petrol",
          "Petrol",
          "Petrol",
          "Petrol",
          "Petrol",
          "Petrol",
          "Petrol",
          "Petrol",
          "Petrol",
          "Petrol",
          "Petrol",
          "Petrol",
          "Petrol",
          "Petrol",
          "Petrol",
          "Petrol",
          "Petrol",
          "Petrol",
          "Petrol",
          "Petrol",
          "Petrol",
          "Petrol",
          "Petrol",
          "Petrol",
          "Petrol",
          "Petrol",
          "Petrol",
          "Petrol",
          "Petrol",
          "Petrol",
          "Petrol",
          "Petrol",
          "Petrol",
          "Petrol",
          "Petrol",
          "Petrol",
          "Petrol",
          "Petrol",
          "Petrol",
          "Other",
          "Petrol",
          "Other",
          "Petrol",
          "Diesel",
          "Petrol",
          "Petrol",
          "Petrol",
          "Petrol",
          "Petrol",
          "Petrol",
          "Petrol",
          "Petrol",
          "Petrol",
          "Petrol",
          "Petrol",
          "Petrol",
          "Petrol",
          "Petrol",
          "Petrol",
          "Petrol",
          "Petrol",
          "Petrol",
          "Petrol",
          "Petrol",
          "Petrol",
          "Petrol",
          "Petrol",
          "Petrol",
          "Petrol",
          "Petrol",
          "Petrol",
          "Petrol",
          "Petrol",
          "Petrol",
          "Petrol",
          "Petrol",
          "Petrol",
          "Petrol",
          "Petrol",
          "Petrol",
          "Petrol",
          "Petrol",
          "Petrol",
          "Petrol",
          "Diesel",
          "Petrol",
          "Petrol",
          "Petrol",
          "Petrol",
          "Petrol",
          "Petrol",
          "Petrol",
          "Petrol",
          "Petrol",
          "Petrol",
          "Petrol",
          "Diesel",
          "Petrol",
          "Petrol",
          "Petrol",
          "Petrol",
          "Petrol",
          "Petrol",
          "Diesel",
          "Petrol",
          "Petrol",
          "Petrol",
          "Petrol",
          "Petrol",
          "Petrol",
          "Petrol",
          "Petrol",
          "Petrol",
          "Petrol",
          "Petrol",
          "Petrol",
          "Petrol",
          "Petrol",
          "Petrol",
          "Petrol",
          "Petrol",
          "Petrol",
          "Petrol",
          "Petrol",
          "Petrol",
          "Petrol",
          "Petrol",
          "Petrol",
          "Petrol",
          "Petrol",
          "Petrol",
          "Petrol",
          "Petrol",
          "Petrol",
          "Petrol",
          "Petrol",
          "Petrol",
          "Petrol",
          "Petrol",
          "Petrol",
          "Petrol",
          "Petrol",
          "Petrol",
          "Petrol",
          "Petrol",
          "Petrol",
          "Petrol",
          "Petrol",
          "Petrol",
          "Petrol",
          "Petrol",
          "Petrol",
          "Petrol",
          "Petrol",
          "Petrol",
          "Petrol",
          "Petrol",
          "Petrol",
          "Petrol",
          "Petrol",
          "Petrol",
          "Petrol",
          "Petrol",
          "Petrol",
          "Petrol",
          "Petrol",
          "Petrol",
          "Petrol",
          "Petrol",
          "Petrol",
          "Petrol",
          "Diesel",
          "Petrol",
          "Petrol",
          "Petrol",
          "Petrol",
          "Petrol",
          "Petrol",
          "Other",
          "Petrol",
          "Petrol",
          "Petrol",
          "Petrol",
          "Petrol",
          "Petrol",
          "Petrol",
          "Petrol",
          "Petrol",
          "Petrol",
          "Petrol",
          "Petrol",
          "Petrol",
          "Petrol",
          "Petrol",
          "Petrol",
          "Petrol",
          "Petrol",
          "Diesel",
          "Petrol",
          "Petrol",
          "Petrol",
          "Petrol",
          "Petrol",
          "Petrol",
          "Petrol",
          "Petrol",
          "Petrol",
          "Petrol",
          "Petrol"
         ],
         "x0": " ",
         "xaxis": "x",
         "y": [
          42500,
          42000,
          48000,
          60000,
          80000,
          44000,
          68500,
          58000,
          42500,
          48000,
          69500,
          45000,
          55500,
          80000,
          65000,
          58000,
          56000,
          55500,
          60000,
          48000,
          76000,
          43500,
          75000,
          85000,
          53000,
          56000,
          72000,
          52500,
          45000,
          42000,
          60000,
          55000,
          46000,
          53000,
          56500,
          62000,
          70000,
          55500,
          51000,
          44000,
          52000,
          48100,
          43000,
          47200,
          45000,
          47000,
          60000,
          85000,
          65000,
          42000,
          58000,
          82000,
          84000,
          74000,
          83000,
          85000,
          43500,
          49900,
          65777,
          72000,
          87000,
          55000,
          70000,
          62000,
          59800,
          49000,
          78000,
          55000,
          74000,
          84999,
          49500,
          41777,
          47777,
          50000,
          75000,
          65000,
          50555,
          42000,
          78500,
          85500,
          50555,
          48950,
          55000,
          60000,
          62000,
          55000,
          45500,
          84000,
          85000,
          47000,
          43000,
          83900,
          46500,
          50000,
          80000,
          64000,
          78000,
          47000,
          80500,
          40999,
          85000,
          50500,
          85500,
          79500,
          49500,
          58500,
          51000,
          65500,
          62000,
          45000,
          65000,
          45000,
          77000,
          45000,
          78000,
          48500,
          62000,
          54500,
          68000,
          68000,
          46500,
          65000,
          78000,
          55000,
          58500,
          41000,
          40500,
          77000,
          88000,
          87000,
          65000,
          67000,
          48500,
          52000,
          66600,
          65000,
          75000,
          86000,
          45000,
          42000,
          50000,
          85000,
          62000,
          46000,
          66000,
          72000,
          76000,
          87000,
          47500,
          43500,
          78000,
          68000,
          40500,
          58500,
          41900,
          48000,
          60000,
          75000,
          85000,
          85000,
          45000,
          65000,
          84500,
          43500,
          70000,
          58500,
          63000,
          63800,
          89000,
          48500,
          45000,
          42000,
          45000,
          50000,
          45000,
          58000,
          79000,
          45000,
          50000,
          67000,
          46000,
          59900,
          42000,
          43000,
          85000,
          45000,
          50000,
          48000,
          43000,
          55000,
          89000,
          60000,
          64000,
          62900,
          49000,
          63000,
          62000,
          42500,
          62000,
          43500,
          80000,
          86000,
          69000,
          83000,
          48500,
          58000,
          57500,
          56500,
          43000,
          55000,
          60000,
          89000,
          55000,
          77000,
          58000,
          55000,
          45500,
          52000,
          56500,
          68000,
          48000,
          70000,
          42000,
          40500,
          78000,
          85000,
          57000,
          52000,
          68000,
          42000,
          42000,
          56000,
          45000,
          59500,
          75000,
          83000,
          85000,
          75500,
          63000,
          56000,
          59500,
          41000,
          63000,
          42500,
          43000,
          75000,
          56000,
          80000,
          63000,
          58000,
          63000,
          55000,
          47000,
          54000,
          46000,
          68500,
          49000,
          78000,
          83000,
          75000,
          60500,
          45500,
          75000,
          65000,
          57500,
          43500,
          80000,
          55000,
          42000,
          70000,
          44500,
          88000,
          54500,
          63000,
          65700,
          44500,
          88500,
          85000,
          78000,
          78000,
          45500,
          55200,
          71588,
          72000,
          65000,
          73000,
          49500,
          63000,
          78500,
          57500,
          46000,
          48500,
          48000,
          50500,
          46500,
          74500,
          53000,
          85000,
          49000,
          53000,
          60000,
          62000,
          42000,
          46000,
          50000,
          70000,
          42400,
          58000,
          61000,
          88000,
          81000,
          75000,
          42500,
          80000,
          67000,
          43000,
          75000,
          65000,
          60000,
          78000,
          48500,
          65000,
          42000,
          42500,
          53000,
          51000,
          47500,
          63500,
          80000,
          65500,
          58000,
          68000,
          56500,
          52500,
          60000,
          65000,
          77000,
          46000,
          42800,
          45000,
          65000,
          55000,
          82000,
          67000,
          44000,
          48000,
          65000,
          43000,
          57888,
          52000,
          49000,
          67000,
          57000,
          57000,
          75000,
          79000,
          45000,
          49500,
          46500,
          49500,
          87000,
          49000,
          60000,
          43000,
          69500,
          43000,
          55000,
          79000,
          60000,
          71000,
          40700,
          68500
         ],
         "y0": " ",
         "yaxis": "y"
        }
       ],
       "layout": {
        "boxmode": "group",
        "legend": {
         "tracegroupgap": 0
        },
        "template": {
         "data": {
          "bar": [
           {
            "error_x": {
             "color": "#2a3f5f"
            },
            "error_y": {
             "color": "#2a3f5f"
            },
            "marker": {
             "line": {
              "color": "#E5ECF6",
              "width": 0.5
             }
            },
            "type": "bar"
           }
          ],
          "barpolar": [
           {
            "marker": {
             "line": {
              "color": "#E5ECF6",
              "width": 0.5
             }
            },
            "type": "barpolar"
           }
          ],
          "carpet": [
           {
            "aaxis": {
             "endlinecolor": "#2a3f5f",
             "gridcolor": "white",
             "linecolor": "white",
             "minorgridcolor": "white",
             "startlinecolor": "#2a3f5f"
            },
            "baxis": {
             "endlinecolor": "#2a3f5f",
             "gridcolor": "white",
             "linecolor": "white",
             "minorgridcolor": "white",
             "startlinecolor": "#2a3f5f"
            },
            "type": "carpet"
           }
          ],
          "choropleth": [
           {
            "colorbar": {
             "outlinewidth": 0,
             "ticks": ""
            },
            "type": "choropleth"
           }
          ],
          "contour": [
           {
            "colorbar": {
             "outlinewidth": 0,
             "ticks": ""
            },
            "colorscale": [
             [
              0,
              "#0d0887"
             ],
             [
              0.1111111111111111,
              "#46039f"
             ],
             [
              0.2222222222222222,
              "#7201a8"
             ],
             [
              0.3333333333333333,
              "#9c179e"
             ],
             [
              0.4444444444444444,
              "#bd3786"
             ],
             [
              0.5555555555555556,
              "#d8576b"
             ],
             [
              0.6666666666666666,
              "#ed7953"
             ],
             [
              0.7777777777777778,
              "#fb9f3a"
             ],
             [
              0.8888888888888888,
              "#fdca26"
             ],
             [
              1,
              "#f0f921"
             ]
            ],
            "type": "contour"
           }
          ],
          "contourcarpet": [
           {
            "colorbar": {
             "outlinewidth": 0,
             "ticks": ""
            },
            "type": "contourcarpet"
           }
          ],
          "heatmap": [
           {
            "colorbar": {
             "outlinewidth": 0,
             "ticks": ""
            },
            "colorscale": [
             [
              0,
              "#0d0887"
             ],
             [
              0.1111111111111111,
              "#46039f"
             ],
             [
              0.2222222222222222,
              "#7201a8"
             ],
             [
              0.3333333333333333,
              "#9c179e"
             ],
             [
              0.4444444444444444,
              "#bd3786"
             ],
             [
              0.5555555555555556,
              "#d8576b"
             ],
             [
              0.6666666666666666,
              "#ed7953"
             ],
             [
              0.7777777777777778,
              "#fb9f3a"
             ],
             [
              0.8888888888888888,
              "#fdca26"
             ],
             [
              1,
              "#f0f921"
             ]
            ],
            "type": "heatmap"
           }
          ],
          "heatmapgl": [
           {
            "colorbar": {
             "outlinewidth": 0,
             "ticks": ""
            },
            "colorscale": [
             [
              0,
              "#0d0887"
             ],
             [
              0.1111111111111111,
              "#46039f"
             ],
             [
              0.2222222222222222,
              "#7201a8"
             ],
             [
              0.3333333333333333,
              "#9c179e"
             ],
             [
              0.4444444444444444,
              "#bd3786"
             ],
             [
              0.5555555555555556,
              "#d8576b"
             ],
             [
              0.6666666666666666,
              "#ed7953"
             ],
             [
              0.7777777777777778,
              "#fb9f3a"
             ],
             [
              0.8888888888888888,
              "#fdca26"
             ],
             [
              1,
              "#f0f921"
             ]
            ],
            "type": "heatmapgl"
           }
          ],
          "histogram": [
           {
            "marker": {
             "colorbar": {
              "outlinewidth": 0,
              "ticks": ""
             }
            },
            "type": "histogram"
           }
          ],
          "histogram2d": [
           {
            "colorbar": {
             "outlinewidth": 0,
             "ticks": ""
            },
            "colorscale": [
             [
              0,
              "#0d0887"
             ],
             [
              0.1111111111111111,
              "#46039f"
             ],
             [
              0.2222222222222222,
              "#7201a8"
             ],
             [
              0.3333333333333333,
              "#9c179e"
             ],
             [
              0.4444444444444444,
              "#bd3786"
             ],
             [
              0.5555555555555556,
              "#d8576b"
             ],
             [
              0.6666666666666666,
              "#ed7953"
             ],
             [
              0.7777777777777778,
              "#fb9f3a"
             ],
             [
              0.8888888888888888,
              "#fdca26"
             ],
             [
              1,
              "#f0f921"
             ]
            ],
            "type": "histogram2d"
           }
          ],
          "histogram2dcontour": [
           {
            "colorbar": {
             "outlinewidth": 0,
             "ticks": ""
            },
            "colorscale": [
             [
              0,
              "#0d0887"
             ],
             [
              0.1111111111111111,
              "#46039f"
             ],
             [
              0.2222222222222222,
              "#7201a8"
             ],
             [
              0.3333333333333333,
              "#9c179e"
             ],
             [
              0.4444444444444444,
              "#bd3786"
             ],
             [
              0.5555555555555556,
              "#d8576b"
             ],
             [
              0.6666666666666666,
              "#ed7953"
             ],
             [
              0.7777777777777778,
              "#fb9f3a"
             ],
             [
              0.8888888888888888,
              "#fdca26"
             ],
             [
              1,
              "#f0f921"
             ]
            ],
            "type": "histogram2dcontour"
           }
          ],
          "mesh3d": [
           {
            "colorbar": {
             "outlinewidth": 0,
             "ticks": ""
            },
            "type": "mesh3d"
           }
          ],
          "parcoords": [
           {
            "line": {
             "colorbar": {
              "outlinewidth": 0,
              "ticks": ""
             }
            },
            "type": "parcoords"
           }
          ],
          "pie": [
           {
            "automargin": true,
            "type": "pie"
           }
          ],
          "scatter": [
           {
            "marker": {
             "colorbar": {
              "outlinewidth": 0,
              "ticks": ""
             }
            },
            "type": "scatter"
           }
          ],
          "scatter3d": [
           {
            "line": {
             "colorbar": {
              "outlinewidth": 0,
              "ticks": ""
             }
            },
            "marker": {
             "colorbar": {
              "outlinewidth": 0,
              "ticks": ""
             }
            },
            "type": "scatter3d"
           }
          ],
          "scattercarpet": [
           {
            "marker": {
             "colorbar": {
              "outlinewidth": 0,
              "ticks": ""
             }
            },
            "type": "scattercarpet"
           }
          ],
          "scattergeo": [
           {
            "marker": {
             "colorbar": {
              "outlinewidth": 0,
              "ticks": ""
             }
            },
            "type": "scattergeo"
           }
          ],
          "scattergl": [
           {
            "marker": {
             "colorbar": {
              "outlinewidth": 0,
              "ticks": ""
             }
            },
            "type": "scattergl"
           }
          ],
          "scattermapbox": [
           {
            "marker": {
             "colorbar": {
              "outlinewidth": 0,
              "ticks": ""
             }
            },
            "type": "scattermapbox"
           }
          ],
          "scatterpolar": [
           {
            "marker": {
             "colorbar": {
              "outlinewidth": 0,
              "ticks": ""
             }
            },
            "type": "scatterpolar"
           }
          ],
          "scatterpolargl": [
           {
            "marker": {
             "colorbar": {
              "outlinewidth": 0,
              "ticks": ""
             }
            },
            "type": "scatterpolargl"
           }
          ],
          "scatterternary": [
           {
            "marker": {
             "colorbar": {
              "outlinewidth": 0,
              "ticks": ""
             }
            },
            "type": "scatterternary"
           }
          ],
          "surface": [
           {
            "colorbar": {
             "outlinewidth": 0,
             "ticks": ""
            },
            "colorscale": [
             [
              0,
              "#0d0887"
             ],
             [
              0.1111111111111111,
              "#46039f"
             ],
             [
              0.2222222222222222,
              "#7201a8"
             ],
             [
              0.3333333333333333,
              "#9c179e"
             ],
             [
              0.4444444444444444,
              "#bd3786"
             ],
             [
              0.5555555555555556,
              "#d8576b"
             ],
             [
              0.6666666666666666,
              "#ed7953"
             ],
             [
              0.7777777777777778,
              "#fb9f3a"
             ],
             [
              0.8888888888888888,
              "#fdca26"
             ],
             [
              1,
              "#f0f921"
             ]
            ],
            "type": "surface"
           }
          ],
          "table": [
           {
            "cells": {
             "fill": {
              "color": "#EBF0F8"
             },
             "line": {
              "color": "white"
             }
            },
            "header": {
             "fill": {
              "color": "#C8D4E3"
             },
             "line": {
              "color": "white"
             }
            },
            "type": "table"
           }
          ]
         },
         "layout": {
          "annotationdefaults": {
           "arrowcolor": "#2a3f5f",
           "arrowhead": 0,
           "arrowwidth": 1
          },
          "coloraxis": {
           "colorbar": {
            "outlinewidth": 0,
            "ticks": ""
           }
          },
          "colorscale": {
           "diverging": [
            [
             0,
             "#8e0152"
            ],
            [
             0.1,
             "#c51b7d"
            ],
            [
             0.2,
             "#de77ae"
            ],
            [
             0.3,
             "#f1b6da"
            ],
            [
             0.4,
             "#fde0ef"
            ],
            [
             0.5,
             "#f7f7f7"
            ],
            [
             0.6,
             "#e6f5d0"
            ],
            [
             0.7,
             "#b8e186"
            ],
            [
             0.8,
             "#7fbc41"
            ],
            [
             0.9,
             "#4d9221"
            ],
            [
             1,
             "#276419"
            ]
           ],
           "sequential": [
            [
             0,
             "#0d0887"
            ],
            [
             0.1111111111111111,
             "#46039f"
            ],
            [
             0.2222222222222222,
             "#7201a8"
            ],
            [
             0.3333333333333333,
             "#9c179e"
            ],
            [
             0.4444444444444444,
             "#bd3786"
            ],
            [
             0.5555555555555556,
             "#d8576b"
            ],
            [
             0.6666666666666666,
             "#ed7953"
            ],
            [
             0.7777777777777778,
             "#fb9f3a"
            ],
            [
             0.8888888888888888,
             "#fdca26"
            ],
            [
             1,
             "#f0f921"
            ]
           ],
           "sequentialminus": [
            [
             0,
             "#0d0887"
            ],
            [
             0.1111111111111111,
             "#46039f"
            ],
            [
             0.2222222222222222,
             "#7201a8"
            ],
            [
             0.3333333333333333,
             "#9c179e"
            ],
            [
             0.4444444444444444,
             "#bd3786"
            ],
            [
             0.5555555555555556,
             "#d8576b"
            ],
            [
             0.6666666666666666,
             "#ed7953"
            ],
            [
             0.7777777777777778,
             "#fb9f3a"
            ],
            [
             0.8888888888888888,
             "#fdca26"
            ],
            [
             1,
             "#f0f921"
            ]
           ]
          },
          "colorway": [
           "#636efa",
           "#EF553B",
           "#00cc96",
           "#ab63fa",
           "#FFA15A",
           "#19d3f3",
           "#FF6692",
           "#B6E880",
           "#FF97FF",
           "#FECB52"
          ],
          "font": {
           "color": "#2a3f5f"
          },
          "geo": {
           "bgcolor": "white",
           "lakecolor": "white",
           "landcolor": "#E5ECF6",
           "showlakes": true,
           "showland": true,
           "subunitcolor": "white"
          },
          "hoverlabel": {
           "align": "left"
          },
          "hovermode": "closest",
          "mapbox": {
           "style": "light"
          },
          "paper_bgcolor": "white",
          "plot_bgcolor": "#E5ECF6",
          "polar": {
           "angularaxis": {
            "gridcolor": "white",
            "linecolor": "white",
            "ticks": ""
           },
           "bgcolor": "#E5ECF6",
           "radialaxis": {
            "gridcolor": "white",
            "linecolor": "white",
            "ticks": ""
           }
          },
          "scene": {
           "xaxis": {
            "backgroundcolor": "#E5ECF6",
            "gridcolor": "white",
            "gridwidth": 2,
            "linecolor": "white",
            "showbackground": true,
            "ticks": "",
            "zerolinecolor": "white"
           },
           "yaxis": {
            "backgroundcolor": "#E5ECF6",
            "gridcolor": "white",
            "gridwidth": 2,
            "linecolor": "white",
            "showbackground": true,
            "ticks": "",
            "zerolinecolor": "white"
           },
           "zaxis": {
            "backgroundcolor": "#E5ECF6",
            "gridcolor": "white",
            "gridwidth": 2,
            "linecolor": "white",
            "showbackground": true,
            "ticks": "",
            "zerolinecolor": "white"
           }
          },
          "shapedefaults": {
           "line": {
            "color": "#2a3f5f"
           }
          },
          "ternary": {
           "aaxis": {
            "gridcolor": "white",
            "linecolor": "white",
            "ticks": ""
           },
           "baxis": {
            "gridcolor": "white",
            "linecolor": "white",
            "ticks": ""
           },
           "bgcolor": "#E5ECF6",
           "caxis": {
            "gridcolor": "white",
            "linecolor": "white",
            "ticks": ""
           }
          },
          "title": {
           "x": 0.05
          },
          "xaxis": {
           "automargin": true,
           "gridcolor": "white",
           "linecolor": "white",
           "ticks": "",
           "title": {
            "standoff": 15
           },
           "zerolinecolor": "white",
           "zerolinewidth": 2
          },
          "yaxis": {
           "automargin": true,
           "gridcolor": "white",
           "linecolor": "white",
           "ticks": "",
           "title": {
            "standoff": 15
           },
           "zerolinecolor": "white",
           "zerolinewidth": 2
          }
         }
        },
        "title": {
         "text": "Relationship between each fuel type and price"
        },
        "xaxis": {
         "anchor": "y",
         "domain": [
          0,
          1
         ],
         "title": {
          "text": "Fuel type"
         }
        },
        "yaxis": {
         "anchor": "x",
         "domain": [
          0,
          1
         ],
         "title": {
          "text": "Price(GH¢)"
         }
        }
       }
      },
      "text/html": [
       "<div>\n",
       "        \n",
       "        \n",
       "            <div id=\"18c5bf28-9c53-4879-95e5-1de43332bda6\" class=\"plotly-graph-div\" style=\"height:525px; width:100%;\"></div>\n",
       "            <script type=\"text/javascript\">\n",
       "                require([\"plotly\"], function(Plotly) {\n",
       "                    window.PLOTLYENV=window.PLOTLYENV || {};\n",
       "                    \n",
       "                if (document.getElementById(\"18c5bf28-9c53-4879-95e5-1de43332bda6\")) {\n",
       "                    Plotly.newPlot(\n",
       "                        '18c5bf28-9c53-4879-95e5-1de43332bda6',\n",
       "                        [{\"alignmentgroup\": \"True\", \"hovertemplate\": \"Fuel type=%{x}<br>Price(GH\\u00a2)=%{y}<extra></extra>\", \"legendgroup\": \"\", \"marker\": {\"color\": \"#636efa\"}, \"name\": \"\", \"notched\": false, \"offsetgroup\": \"\", \"orientation\": \"v\", \"showlegend\": false, \"type\": \"box\", \"x\": [\"Petrol\", \"Petrol\", \"Diesel\", \"Diesel\", \"Petrol\", \"Petrol\", \"Petrol\", \"Petrol\", \"Petrol\", \"Petrol\", \"Petrol\", \"Petrol\", \"Petrol\", \"Petrol\", \"Petrol\", \"Petrol\", \"Petrol\", \"Petrol\", \"Petrol\", \"Petrol\", \"Petrol\", \"Petrol\", \"Other\", \"Petrol\", \"Petrol\", \"Petrol\", \"Petrol\", \"Petrol\", \"Petrol\", \"Petrol\", \"Petrol\", \"Petrol\", \"Petrol\", \"Petrol\", \"Petrol\", \"Petrol\", \"Petrol\", \"Petrol\", \"Petrol\", \"Petrol\", \"Petrol\", \"Petrol\", \"Petrol\", \"Petrol\", \"Petrol\", \"Petrol\", \"Petrol\", \"Petrol\", \"Petrol\", \"Petrol\", \"Petrol\", \"Petrol\", \"Petrol\", \"Petrol\", \"Petrol\", \"Petrol\", \"Petrol\", \"Petrol\", \"Petrol\", \"Petrol\", \"Diesel\", \"Petrol\", \"Petrol\", \"Petrol\", \"Petrol\", \"Petrol\", \"Petrol\", \"Diesel\", \"Petrol\", \"Petrol\", \"Petrol\", \"Petrol\", \"Petrol\", \"Petrol\", \"Petrol\", \"Petrol\", \"Petrol\", \"Petrol\", \"Petrol\", \"Petrol\", \"Petrol\", \"Petrol\", \"Petrol\", \"Petrol\", \"Petrol\", \"Petrol\", \"Petrol\", \"Petrol\", \"Diesel\", \"Petrol\", \"Petrol\", \"Petrol\", \"Petrol\", \"Petrol\", \"Petrol\", \"Petrol\", \"Diesel\", \"Petrol\", \"Petrol\", \"Petrol\", \"Petrol\", \"Petrol\", \"Petrol\", \"Petrol\", \"Petrol\", \"Petrol\", \"Petrol\", \"Petrol\", \"Petrol\", \"Petrol\", \"Petrol\", \"Petrol\", \"Petrol\", \"Petrol\", \"Petrol\", \"Petrol\", \"Petrol\", \"Petrol\", \"Petrol\", \"Petrol\", \"Petrol\", \"Petrol\", \"Petrol\", \"Petrol\", \"Petrol\", \"Petrol\", \"Petrol\", \"Petrol\", \"Petrol\", \"Petrol\", \"Petrol\", \"Petrol\", \"Petrol\", \"Petrol\", \"Petrol\", \"Petrol\", \"Petrol\", \"Petrol\", \"Petrol\", \"Petrol\", \"Petrol\", \"Petrol\", \"Petrol\", \"Petrol\", \"Petrol\", \"Petrol\", \"Petrol\", \"Petrol\", \"Petrol\", \"Petrol\", \"Petrol\", \"Petrol\", \"Petrol\", \"Petrol\", \"Petrol\", \"Petrol\", \"Petrol\", \"Petrol\", \"Petrol\", \"Petrol\", \"Petrol\", \"Petrol\", \"Petrol\", \"Petrol\", \"Petrol\", \"Petrol\", \"Petrol\", \"Petrol\", \"Petrol\", \"Petrol\", \"Petrol\", \"Petrol\", \"Petrol\", \"Petrol\", \"Petrol\", \"Petrol\", \"Petrol\", \"Petrol\", \"Petrol\", \"Petrol\", \"Petrol\", \"Petrol\", \"Petrol\", \"Petrol\", \"Petrol\", \"Petrol\", \"Petrol\", \"Petrol\", \"Petrol\", \"Petrol\", \"Petrol\", \"Petrol\", \"Petrol\", \"Petrol\", \"Petrol\", \"Petrol\", \"Petrol\", \"Petrol\", \"Petrol\", \"Petrol\", \"Petrol\", \"Petrol\", \"Other\", \"Petrol\", \"Other\", \"Petrol\", \"Diesel\", \"Petrol\", \"Petrol\", \"Petrol\", \"Petrol\", \"Petrol\", \"Petrol\", \"Petrol\", \"Petrol\", \"Petrol\", \"Petrol\", \"Petrol\", \"Petrol\", \"Petrol\", \"Petrol\", \"Petrol\", \"Petrol\", \"Petrol\", \"Petrol\", \"Petrol\", \"Petrol\", \"Petrol\", \"Petrol\", \"Petrol\", \"Petrol\", \"Petrol\", \"Petrol\", \"Petrol\", \"Petrol\", \"Petrol\", \"Petrol\", \"Petrol\", \"Petrol\", \"Petrol\", \"Petrol\", \"Petrol\", \"Petrol\", \"Petrol\", \"Petrol\", \"Petrol\", \"Petrol\", \"Diesel\", \"Petrol\", \"Petrol\", \"Petrol\", \"Petrol\", \"Petrol\", \"Petrol\", \"Petrol\", \"Petrol\", \"Petrol\", \"Petrol\", \"Petrol\", \"Diesel\", \"Petrol\", \"Petrol\", \"Petrol\", \"Petrol\", \"Petrol\", \"Petrol\", \"Diesel\", \"Petrol\", \"Petrol\", \"Petrol\", \"Petrol\", \"Petrol\", \"Petrol\", \"Petrol\", \"Petrol\", \"Petrol\", \"Petrol\", \"Petrol\", \"Petrol\", \"Petrol\", \"Petrol\", \"Petrol\", \"Petrol\", \"Petrol\", \"Petrol\", \"Petrol\", \"Petrol\", \"Petrol\", \"Petrol\", \"Petrol\", \"Petrol\", \"Petrol\", \"Petrol\", \"Petrol\", \"Petrol\", \"Petrol\", \"Petrol\", \"Petrol\", \"Petrol\", \"Petrol\", \"Petrol\", \"Petrol\", \"Petrol\", \"Petrol\", \"Petrol\", \"Petrol\", \"Petrol\", \"Petrol\", \"Petrol\", \"Petrol\", \"Petrol\", \"Petrol\", \"Petrol\", \"Petrol\", \"Petrol\", \"Petrol\", \"Petrol\", \"Petrol\", \"Petrol\", \"Petrol\", \"Petrol\", \"Petrol\", \"Petrol\", \"Petrol\", \"Petrol\", \"Petrol\", \"Petrol\", \"Petrol\", \"Petrol\", \"Petrol\", \"Petrol\", \"Petrol\", \"Petrol\", \"Petrol\", \"Diesel\", \"Petrol\", \"Petrol\", \"Petrol\", \"Petrol\", \"Petrol\", \"Petrol\", \"Other\", \"Petrol\", \"Petrol\", \"Petrol\", \"Petrol\", \"Petrol\", \"Petrol\", \"Petrol\", \"Petrol\", \"Petrol\", \"Petrol\", \"Petrol\", \"Petrol\", \"Petrol\", \"Petrol\", \"Petrol\", \"Petrol\", \"Petrol\", \"Petrol\", \"Diesel\", \"Petrol\", \"Petrol\", \"Petrol\", \"Petrol\", \"Petrol\", \"Petrol\", \"Petrol\", \"Petrol\", \"Petrol\", \"Petrol\", \"Petrol\"], \"x0\": \" \", \"xaxis\": \"x\", \"y\": [42500, 42000, 48000, 60000, 80000, 44000, 68500, 58000, 42500, 48000, 69500, 45000, 55500, 80000, 65000, 58000, 56000, 55500, 60000, 48000, 76000, 43500, 75000, 85000, 53000, 56000, 72000, 52500, 45000, 42000, 60000, 55000, 46000, 53000, 56500, 62000, 70000, 55500, 51000, 44000, 52000, 48100, 43000, 47200, 45000, 47000, 60000, 85000, 65000, 42000, 58000, 82000, 84000, 74000, 83000, 85000, 43500, 49900, 65777, 72000, 87000, 55000, 70000, 62000, 59800, 49000, 78000, 55000, 74000, 84999, 49500, 41777, 47777, 50000, 75000, 65000, 50555, 42000, 78500, 85500, 50555, 48950, 55000, 60000, 62000, 55000, 45500, 84000, 85000, 47000, 43000, 83900, 46500, 50000, 80000, 64000, 78000, 47000, 80500, 40999, 85000, 50500, 85500, 79500, 49500, 58500, 51000, 65500, 62000, 45000, 65000, 45000, 77000, 45000, 78000, 48500, 62000, 54500, 68000, 68000, 46500, 65000, 78000, 55000, 58500, 41000, 40500, 77000, 88000, 87000, 65000, 67000, 48500, 52000, 66600, 65000, 75000, 86000, 45000, 42000, 50000, 85000, 62000, 46000, 66000, 72000, 76000, 87000, 47500, 43500, 78000, 68000, 40500, 58500, 41900, 48000, 60000, 75000, 85000, 85000, 45000, 65000, 84500, 43500, 70000, 58500, 63000, 63800, 89000, 48500, 45000, 42000, 45000, 50000, 45000, 58000, 79000, 45000, 50000, 67000, 46000, 59900, 42000, 43000, 85000, 45000, 50000, 48000, 43000, 55000, 89000, 60000, 64000, 62900, 49000, 63000, 62000, 42500, 62000, 43500, 80000, 86000, 69000, 83000, 48500, 58000, 57500, 56500, 43000, 55000, 60000, 89000, 55000, 77000, 58000, 55000, 45500, 52000, 56500, 68000, 48000, 70000, 42000, 40500, 78000, 85000, 57000, 52000, 68000, 42000, 42000, 56000, 45000, 59500, 75000, 83000, 85000, 75500, 63000, 56000, 59500, 41000, 63000, 42500, 43000, 75000, 56000, 80000, 63000, 58000, 63000, 55000, 47000, 54000, 46000, 68500, 49000, 78000, 83000, 75000, 60500, 45500, 75000, 65000, 57500, 43500, 80000, 55000, 42000, 70000, 44500, 88000, 54500, 63000, 65700, 44500, 88500, 85000, 78000, 78000, 45500, 55200, 71588, 72000, 65000, 73000, 49500, 63000, 78500, 57500, 46000, 48500, 48000, 50500, 46500, 74500, 53000, 85000, 49000, 53000, 60000, 62000, 42000, 46000, 50000, 70000, 42400, 58000, 61000, 88000, 81000, 75000, 42500, 80000, 67000, 43000, 75000, 65000, 60000, 78000, 48500, 65000, 42000, 42500, 53000, 51000, 47500, 63500, 80000, 65500, 58000, 68000, 56500, 52500, 60000, 65000, 77000, 46000, 42800, 45000, 65000, 55000, 82000, 67000, 44000, 48000, 65000, 43000, 57888, 52000, 49000, 67000, 57000, 57000, 75000, 79000, 45000, 49500, 46500, 49500, 87000, 49000, 60000, 43000, 69500, 43000, 55000, 79000, 60000, 71000, 40700, 68500], \"y0\": \" \", \"yaxis\": \"y\"}],\n",
       "                        {\"boxmode\": \"group\", \"legend\": {\"tracegroupgap\": 0}, \"template\": {\"data\": {\"bar\": [{\"error_x\": {\"color\": \"#2a3f5f\"}, \"error_y\": {\"color\": \"#2a3f5f\"}, \"marker\": {\"line\": {\"color\": \"#E5ECF6\", \"width\": 0.5}}, \"type\": \"bar\"}], \"barpolar\": [{\"marker\": {\"line\": {\"color\": \"#E5ECF6\", \"width\": 0.5}}, \"type\": \"barpolar\"}], \"carpet\": [{\"aaxis\": {\"endlinecolor\": \"#2a3f5f\", \"gridcolor\": \"white\", \"linecolor\": \"white\", \"minorgridcolor\": \"white\", \"startlinecolor\": \"#2a3f5f\"}, \"baxis\": {\"endlinecolor\": \"#2a3f5f\", \"gridcolor\": \"white\", \"linecolor\": \"white\", \"minorgridcolor\": \"white\", \"startlinecolor\": \"#2a3f5f\"}, \"type\": \"carpet\"}], \"choropleth\": [{\"colorbar\": {\"outlinewidth\": 0, \"ticks\": \"\"}, \"type\": \"choropleth\"}], \"contour\": [{\"colorbar\": {\"outlinewidth\": 0, \"ticks\": \"\"}, \"colorscale\": [[0.0, \"#0d0887\"], [0.1111111111111111, \"#46039f\"], [0.2222222222222222, \"#7201a8\"], [0.3333333333333333, \"#9c179e\"], [0.4444444444444444, \"#bd3786\"], [0.5555555555555556, \"#d8576b\"], [0.6666666666666666, \"#ed7953\"], [0.7777777777777778, \"#fb9f3a\"], [0.8888888888888888, \"#fdca26\"], [1.0, \"#f0f921\"]], \"type\": \"contour\"}], \"contourcarpet\": [{\"colorbar\": {\"outlinewidth\": 0, \"ticks\": \"\"}, \"type\": \"contourcarpet\"}], \"heatmap\": [{\"colorbar\": {\"outlinewidth\": 0, \"ticks\": \"\"}, \"colorscale\": [[0.0, \"#0d0887\"], [0.1111111111111111, \"#46039f\"], [0.2222222222222222, \"#7201a8\"], [0.3333333333333333, \"#9c179e\"], [0.4444444444444444, \"#bd3786\"], [0.5555555555555556, \"#d8576b\"], [0.6666666666666666, \"#ed7953\"], [0.7777777777777778, \"#fb9f3a\"], [0.8888888888888888, \"#fdca26\"], [1.0, \"#f0f921\"]], \"type\": \"heatmap\"}], \"heatmapgl\": [{\"colorbar\": {\"outlinewidth\": 0, \"ticks\": \"\"}, \"colorscale\": [[0.0, \"#0d0887\"], [0.1111111111111111, \"#46039f\"], [0.2222222222222222, \"#7201a8\"], [0.3333333333333333, \"#9c179e\"], [0.4444444444444444, \"#bd3786\"], [0.5555555555555556, \"#d8576b\"], [0.6666666666666666, \"#ed7953\"], [0.7777777777777778, \"#fb9f3a\"], [0.8888888888888888, \"#fdca26\"], [1.0, \"#f0f921\"]], \"type\": \"heatmapgl\"}], \"histogram\": [{\"marker\": {\"colorbar\": {\"outlinewidth\": 0, \"ticks\": \"\"}}, \"type\": \"histogram\"}], \"histogram2d\": [{\"colorbar\": {\"outlinewidth\": 0, \"ticks\": \"\"}, \"colorscale\": [[0.0, \"#0d0887\"], [0.1111111111111111, \"#46039f\"], [0.2222222222222222, \"#7201a8\"], [0.3333333333333333, \"#9c179e\"], [0.4444444444444444, \"#bd3786\"], [0.5555555555555556, \"#d8576b\"], [0.6666666666666666, \"#ed7953\"], [0.7777777777777778, \"#fb9f3a\"], [0.8888888888888888, \"#fdca26\"], [1.0, \"#f0f921\"]], \"type\": \"histogram2d\"}], \"histogram2dcontour\": [{\"colorbar\": {\"outlinewidth\": 0, \"ticks\": \"\"}, \"colorscale\": [[0.0, \"#0d0887\"], [0.1111111111111111, \"#46039f\"], [0.2222222222222222, \"#7201a8\"], [0.3333333333333333, \"#9c179e\"], [0.4444444444444444, \"#bd3786\"], [0.5555555555555556, \"#d8576b\"], [0.6666666666666666, \"#ed7953\"], [0.7777777777777778, \"#fb9f3a\"], [0.8888888888888888, \"#fdca26\"], [1.0, \"#f0f921\"]], \"type\": \"histogram2dcontour\"}], \"mesh3d\": [{\"colorbar\": {\"outlinewidth\": 0, \"ticks\": \"\"}, \"type\": \"mesh3d\"}], \"parcoords\": [{\"line\": {\"colorbar\": {\"outlinewidth\": 0, \"ticks\": \"\"}}, \"type\": \"parcoords\"}], \"pie\": [{\"automargin\": true, \"type\": \"pie\"}], \"scatter\": [{\"marker\": {\"colorbar\": {\"outlinewidth\": 0, \"ticks\": \"\"}}, \"type\": \"scatter\"}], \"scatter3d\": [{\"line\": {\"colorbar\": {\"outlinewidth\": 0, \"ticks\": \"\"}}, \"marker\": {\"colorbar\": {\"outlinewidth\": 0, \"ticks\": \"\"}}, \"type\": \"scatter3d\"}], \"scattercarpet\": [{\"marker\": {\"colorbar\": {\"outlinewidth\": 0, \"ticks\": \"\"}}, \"type\": \"scattercarpet\"}], \"scattergeo\": [{\"marker\": {\"colorbar\": {\"outlinewidth\": 0, \"ticks\": \"\"}}, \"type\": \"scattergeo\"}], \"scattergl\": [{\"marker\": {\"colorbar\": {\"outlinewidth\": 0, \"ticks\": \"\"}}, \"type\": \"scattergl\"}], \"scattermapbox\": [{\"marker\": {\"colorbar\": {\"outlinewidth\": 0, \"ticks\": \"\"}}, \"type\": \"scattermapbox\"}], \"scatterpolar\": [{\"marker\": {\"colorbar\": {\"outlinewidth\": 0, \"ticks\": \"\"}}, \"type\": \"scatterpolar\"}], \"scatterpolargl\": [{\"marker\": {\"colorbar\": {\"outlinewidth\": 0, \"ticks\": \"\"}}, \"type\": \"scatterpolargl\"}], \"scatterternary\": [{\"marker\": {\"colorbar\": {\"outlinewidth\": 0, \"ticks\": \"\"}}, \"type\": \"scatterternary\"}], \"surface\": [{\"colorbar\": {\"outlinewidth\": 0, \"ticks\": \"\"}, \"colorscale\": [[0.0, \"#0d0887\"], [0.1111111111111111, \"#46039f\"], [0.2222222222222222, \"#7201a8\"], [0.3333333333333333, \"#9c179e\"], [0.4444444444444444, \"#bd3786\"], [0.5555555555555556, \"#d8576b\"], [0.6666666666666666, \"#ed7953\"], [0.7777777777777778, \"#fb9f3a\"], [0.8888888888888888, \"#fdca26\"], [1.0, \"#f0f921\"]], \"type\": \"surface\"}], \"table\": [{\"cells\": {\"fill\": {\"color\": \"#EBF0F8\"}, \"line\": {\"color\": \"white\"}}, \"header\": {\"fill\": {\"color\": \"#C8D4E3\"}, \"line\": {\"color\": \"white\"}}, \"type\": \"table\"}]}, \"layout\": {\"annotationdefaults\": {\"arrowcolor\": \"#2a3f5f\", \"arrowhead\": 0, \"arrowwidth\": 1}, \"coloraxis\": {\"colorbar\": {\"outlinewidth\": 0, \"ticks\": \"\"}}, \"colorscale\": {\"diverging\": [[0, \"#8e0152\"], [0.1, \"#c51b7d\"], [0.2, \"#de77ae\"], [0.3, \"#f1b6da\"], [0.4, \"#fde0ef\"], [0.5, \"#f7f7f7\"], [0.6, \"#e6f5d0\"], [0.7, \"#b8e186\"], [0.8, \"#7fbc41\"], [0.9, \"#4d9221\"], [1, \"#276419\"]], \"sequential\": [[0.0, \"#0d0887\"], [0.1111111111111111, \"#46039f\"], [0.2222222222222222, \"#7201a8\"], [0.3333333333333333, \"#9c179e\"], [0.4444444444444444, \"#bd3786\"], [0.5555555555555556, \"#d8576b\"], [0.6666666666666666, \"#ed7953\"], [0.7777777777777778, \"#fb9f3a\"], [0.8888888888888888, \"#fdca26\"], [1.0, \"#f0f921\"]], \"sequentialminus\": [[0.0, \"#0d0887\"], [0.1111111111111111, \"#46039f\"], [0.2222222222222222, \"#7201a8\"], [0.3333333333333333, \"#9c179e\"], [0.4444444444444444, \"#bd3786\"], [0.5555555555555556, \"#d8576b\"], [0.6666666666666666, \"#ed7953\"], [0.7777777777777778, \"#fb9f3a\"], [0.8888888888888888, \"#fdca26\"], [1.0, \"#f0f921\"]]}, \"colorway\": [\"#636efa\", \"#EF553B\", \"#00cc96\", \"#ab63fa\", \"#FFA15A\", \"#19d3f3\", \"#FF6692\", \"#B6E880\", \"#FF97FF\", \"#FECB52\"], \"font\": {\"color\": \"#2a3f5f\"}, \"geo\": {\"bgcolor\": \"white\", \"lakecolor\": \"white\", \"landcolor\": \"#E5ECF6\", \"showlakes\": true, \"showland\": true, \"subunitcolor\": \"white\"}, \"hoverlabel\": {\"align\": \"left\"}, \"hovermode\": \"closest\", \"mapbox\": {\"style\": \"light\"}, \"paper_bgcolor\": \"white\", \"plot_bgcolor\": \"#E5ECF6\", \"polar\": {\"angularaxis\": {\"gridcolor\": \"white\", \"linecolor\": \"white\", \"ticks\": \"\"}, \"bgcolor\": \"#E5ECF6\", \"radialaxis\": {\"gridcolor\": \"white\", \"linecolor\": \"white\", \"ticks\": \"\"}}, \"scene\": {\"xaxis\": {\"backgroundcolor\": \"#E5ECF6\", \"gridcolor\": \"white\", \"gridwidth\": 2, \"linecolor\": \"white\", \"showbackground\": true, \"ticks\": \"\", \"zerolinecolor\": \"white\"}, \"yaxis\": {\"backgroundcolor\": \"#E5ECF6\", \"gridcolor\": \"white\", \"gridwidth\": 2, \"linecolor\": \"white\", \"showbackground\": true, \"ticks\": \"\", \"zerolinecolor\": \"white\"}, \"zaxis\": {\"backgroundcolor\": \"#E5ECF6\", \"gridcolor\": \"white\", \"gridwidth\": 2, \"linecolor\": \"white\", \"showbackground\": true, \"ticks\": \"\", \"zerolinecolor\": \"white\"}}, \"shapedefaults\": {\"line\": {\"color\": \"#2a3f5f\"}}, \"ternary\": {\"aaxis\": {\"gridcolor\": \"white\", \"linecolor\": \"white\", \"ticks\": \"\"}, \"baxis\": {\"gridcolor\": \"white\", \"linecolor\": \"white\", \"ticks\": \"\"}, \"bgcolor\": \"#E5ECF6\", \"caxis\": {\"gridcolor\": \"white\", \"linecolor\": \"white\", \"ticks\": \"\"}}, \"title\": {\"x\": 0.05}, \"xaxis\": {\"automargin\": true, \"gridcolor\": \"white\", \"linecolor\": \"white\", \"ticks\": \"\", \"title\": {\"standoff\": 15}, \"zerolinecolor\": \"white\", \"zerolinewidth\": 2}, \"yaxis\": {\"automargin\": true, \"gridcolor\": \"white\", \"linecolor\": \"white\", \"ticks\": \"\", \"title\": {\"standoff\": 15}, \"zerolinecolor\": \"white\", \"zerolinewidth\": 2}}}, \"title\": {\"text\": \"Relationship between each fuel type and price\"}, \"xaxis\": {\"anchor\": \"y\", \"domain\": [0.0, 1.0], \"title\": {\"text\": \"Fuel type\"}}, \"yaxis\": {\"anchor\": \"x\", \"domain\": [0.0, 1.0], \"title\": {\"text\": \"Price(GH\\u00a2)\"}}},\n",
       "                        {\"responsive\": true}\n",
       "                    ).then(function(){\n",
       "                            \n",
       "var gd = document.getElementById('18c5bf28-9c53-4879-95e5-1de43332bda6');\n",
       "var x = new MutationObserver(function (mutations, observer) {{\n",
       "        var display = window.getComputedStyle(gd).display;\n",
       "        if (!display || display === 'none') {{\n",
       "            console.log([gd, 'removed!']);\n",
       "            Plotly.purge(gd);\n",
       "            observer.disconnect();\n",
       "        }}\n",
       "}});\n",
       "\n",
       "// Listen for the removal of the full notebook cells\n",
       "var notebookContainer = gd.closest('#notebook-container');\n",
       "if (notebookContainer) {{\n",
       "    x.observe(notebookContainer, {childList: true});\n",
       "}}\n",
       "\n",
       "// Listen for the clearing of the current output cell\n",
       "var outputEl = gd.closest('.output');\n",
       "if (outputEl) {{\n",
       "    x.observe(outputEl, {childList: true});\n",
       "}}\n",
       "\n",
       "                        })\n",
       "                };\n",
       "                });\n",
       "            </script>\n",
       "        </div>"
      ]
     },
     "metadata": {},
     "output_type": "display_data"
    }
   ],
   "source": [
    "fig = px.box(df, x=\"Fuel type\", y=\"Price(GH¢)\", title='Relationship between each fuel type and price')\n",
    "fig.show()"
   ]
  },
  {
   "cell_type": "markdown",
   "metadata": {},
   "source": [
    "##### Observations:\n",
    "\n",
    "* Petrol cars have a wider range of prices than any other fuel type\n",
    "* Petrol cars cost between 40,000 and 89,000, however the bulk cost from 47,000 and 70,000\n",
    "* Most diesel cars cost between 48,000 and 82,000"
   ]
  },
  {
   "cell_type": "markdown",
   "metadata": {},
   "source": [
    "### Condition vs Price"
   ]
  },
  {
   "cell_type": "code",
   "execution_count": 448,
   "metadata": {},
   "outputs": [
    {
     "data": {
      "application/vnd.plotly.v1+json": {
       "config": {
        "plotlyServerURL": "https://plot.ly"
       },
       "data": [
        {
         "alignmentgroup": "True",
         "hovertemplate": "Condition=%{x}<br>Price(GH¢)=%{y}<extra></extra>",
         "legendgroup": "",
         "marker": {
          "color": "#636efa"
         },
         "name": "",
         "notched": false,
         "offsetgroup": "",
         "orientation": "v",
         "showlegend": false,
         "type": "box",
         "x": [
          "Used",
          "Used",
          "New",
          "Used",
          "Used",
          "Used",
          "Used",
          "Used",
          "Used",
          "Used",
          "New",
          "Used",
          "New",
          "Used",
          "New",
          "Used",
          "Used",
          "New",
          "Used",
          "Used",
          "Used",
          "Used",
          "Used",
          "Used",
          "Used",
          "Used",
          "New",
          "Used",
          "Used",
          "Used",
          "New",
          "Used",
          "Used",
          "Used",
          "Used",
          "New",
          "Used",
          "Used",
          "Used",
          "Used",
          "Used",
          "Used",
          "New",
          "Used",
          "Used",
          "Used",
          "Used",
          "Used",
          "Used",
          "New",
          "Used",
          "Used",
          "Used",
          "Used",
          "Used",
          "Used",
          "Used",
          "New",
          "New",
          "Used",
          "New",
          "Used",
          "Used",
          "Used",
          "Used",
          "Used",
          "New",
          "Used",
          "New",
          "Used",
          "Used",
          "New",
          "New",
          "Used",
          "Used",
          "Used",
          "Used",
          "Used",
          "Used",
          "Used",
          "Used",
          "Used",
          "Used",
          "Used",
          "Used",
          "Used",
          "Used",
          "Used",
          "Used",
          "Used",
          "New",
          "Used",
          "New",
          "New",
          "New",
          "Used",
          "New",
          "Used",
          "New",
          "Used",
          "New",
          "Used",
          "Used",
          "Used",
          "Used",
          "Used",
          "Used",
          "Used",
          "Used",
          "Used",
          "Used",
          "Used",
          "Used",
          "Used",
          "Used",
          "Used",
          "Used",
          "New",
          "Used",
          "Used",
          "Used",
          "Used",
          "Used",
          "Used",
          "Used",
          "Used",
          "Used",
          "Used",
          "Used",
          "Used",
          "Used",
          "Used",
          "Used",
          "Used",
          "Used",
          "Used",
          "Used",
          "Used",
          "Used",
          "Used",
          "Used",
          "Used",
          "Used",
          "Used",
          "New",
          "Used",
          "Used",
          "Used",
          "New",
          "New",
          "Used",
          "Used",
          "Used",
          "Used",
          "Used",
          "Used",
          "Used",
          "Used",
          "Used",
          "Used",
          "Used",
          "Used",
          "New",
          "Used",
          "Used",
          "Used",
          "Used",
          "Used",
          "New",
          "Used",
          "Used",
          "Used",
          "Used",
          "Used",
          "Used",
          "Used",
          "Used",
          "Used",
          "Used",
          "Used",
          "Used",
          "Used",
          "Used",
          "Used",
          "Used",
          "Used",
          "Used",
          "Used",
          "Used",
          "Used",
          "Used",
          "Used",
          "New",
          "Used",
          "Used",
          "New",
          "New",
          "Used",
          "Used",
          "Used",
          "New",
          "Used",
          "New",
          "Used",
          "Used",
          "Used",
          "Used",
          "New",
          "Used",
          "Used",
          "Used",
          "Used",
          "Used",
          "Used",
          "Used",
          "Used",
          "Used",
          "Used",
          "Used",
          "Used",
          "Used",
          "Used",
          "Used",
          "Used",
          "Used",
          "Used",
          "Used",
          "Used",
          "Used",
          "Used",
          "Used",
          "Used",
          "Used",
          "Used",
          "Used",
          "Used",
          "Used",
          "Used",
          "Used",
          "Used",
          "Used",
          "Used",
          "Used",
          "Used",
          "Used",
          "Used",
          "Used",
          "Used",
          "Used",
          "Used",
          "Used",
          "Used",
          "Used",
          "New",
          "Used",
          "Used",
          "Used",
          "New",
          "Used",
          "Used",
          "Used",
          "Used",
          "Used",
          "Used",
          "Used",
          "Used",
          "Used",
          "Used",
          "Used",
          "Used",
          "Used",
          "Used",
          "Used",
          "Used",
          "Used",
          "New",
          "Used",
          "New",
          "Used",
          "Used",
          "Used",
          "Used",
          "Used",
          "Used",
          "New",
          "Used",
          "Used",
          "Used",
          "Used",
          "Used",
          "Used",
          "Used",
          "Used",
          "Used",
          "Used",
          "Used",
          "Used",
          "Used",
          "Used",
          "Used",
          "New",
          "Used",
          "Used",
          "Used",
          "Used",
          "Used",
          "Used",
          "Used",
          "Used",
          "Used",
          "Used",
          "Used",
          "Used",
          "Used",
          "New",
          "Used",
          "Used",
          "Used",
          "New",
          "Used",
          "Used",
          "Used",
          "Used",
          "New",
          "New",
          "Used",
          "New",
          "Used",
          "Used",
          "Used",
          "Used",
          "New",
          "Used",
          "Used",
          "Used",
          "Used",
          "Used",
          "Used",
          "Used",
          "Used",
          "Used",
          "Used",
          "New",
          "Used",
          "Used",
          "Used",
          "Used",
          "Used",
          "Used",
          "Used",
          "Used",
          "Used",
          "Used",
          "Used",
          "Used",
          "Used",
          "Used",
          "Used",
          "Used",
          "Used",
          "Used",
          "Used",
          "New",
          "Used",
          "Used",
          "Used",
          "Used",
          "Used",
          "Used",
          "New",
          "Used",
          "Used"
         ],
         "x0": " ",
         "xaxis": "x",
         "y": [
          42500,
          42000,
          48000,
          60000,
          80000,
          44000,
          68500,
          58000,
          42500,
          48000,
          69500,
          45000,
          55500,
          80000,
          65000,
          58000,
          56000,
          55500,
          60000,
          48000,
          76000,
          43500,
          75000,
          85000,
          53000,
          56000,
          72000,
          52500,
          45000,
          42000,
          60000,
          55000,
          46000,
          53000,
          56500,
          62000,
          70000,
          55500,
          51000,
          44000,
          52000,
          48100,
          43000,
          47200,
          45000,
          47000,
          60000,
          85000,
          65000,
          42000,
          58000,
          82000,
          84000,
          74000,
          83000,
          85000,
          43500,
          49900,
          65777,
          72000,
          87000,
          55000,
          70000,
          62000,
          59800,
          49000,
          78000,
          55000,
          74000,
          84999,
          49500,
          41777,
          47777,
          50000,
          75000,
          65000,
          50555,
          42000,
          78500,
          85500,
          50555,
          48950,
          55000,
          60000,
          62000,
          55000,
          45500,
          84000,
          85000,
          47000,
          43000,
          83900,
          46500,
          50000,
          80000,
          64000,
          78000,
          47000,
          80500,
          40999,
          85000,
          50500,
          85500,
          79500,
          49500,
          58500,
          51000,
          65500,
          62000,
          45000,
          65000,
          45000,
          77000,
          45000,
          78000,
          48500,
          62000,
          54500,
          68000,
          68000,
          46500,
          65000,
          78000,
          55000,
          58500,
          41000,
          40500,
          77000,
          88000,
          87000,
          65000,
          67000,
          48500,
          52000,
          66600,
          65000,
          75000,
          86000,
          45000,
          42000,
          50000,
          85000,
          62000,
          46000,
          66000,
          72000,
          76000,
          87000,
          47500,
          43500,
          78000,
          68000,
          40500,
          58500,
          41900,
          48000,
          60000,
          75000,
          85000,
          85000,
          45000,
          65000,
          84500,
          43500,
          70000,
          58500,
          63000,
          63800,
          89000,
          48500,
          45000,
          42000,
          45000,
          50000,
          45000,
          58000,
          79000,
          45000,
          50000,
          67000,
          46000,
          59900,
          42000,
          43000,
          85000,
          45000,
          50000,
          48000,
          43000,
          55000,
          89000,
          60000,
          64000,
          62900,
          49000,
          63000,
          62000,
          42500,
          62000,
          43500,
          80000,
          86000,
          69000,
          83000,
          48500,
          58000,
          57500,
          56500,
          43000,
          55000,
          60000,
          89000,
          55000,
          77000,
          58000,
          55000,
          45500,
          52000,
          56500,
          68000,
          48000,
          70000,
          42000,
          40500,
          78000,
          85000,
          57000,
          52000,
          68000,
          42000,
          42000,
          56000,
          45000,
          59500,
          75000,
          83000,
          85000,
          75500,
          63000,
          56000,
          59500,
          41000,
          63000,
          42500,
          43000,
          75000,
          56000,
          80000,
          63000,
          58000,
          63000,
          55000,
          47000,
          54000,
          46000,
          68500,
          49000,
          78000,
          83000,
          75000,
          60500,
          45500,
          75000,
          65000,
          57500,
          43500,
          80000,
          55000,
          42000,
          70000,
          44500,
          88000,
          54500,
          63000,
          65700,
          44500,
          88500,
          85000,
          78000,
          78000,
          45500,
          55200,
          71588,
          72000,
          65000,
          73000,
          49500,
          63000,
          78500,
          57500,
          46000,
          48500,
          48000,
          50500,
          46500,
          74500,
          53000,
          85000,
          49000,
          53000,
          60000,
          62000,
          42000,
          46000,
          50000,
          70000,
          42400,
          58000,
          61000,
          88000,
          81000,
          75000,
          42500,
          80000,
          67000,
          43000,
          75000,
          65000,
          60000,
          78000,
          48500,
          65000,
          42000,
          42500,
          53000,
          51000,
          47500,
          63500,
          80000,
          65500,
          58000,
          68000,
          56500,
          52500,
          60000,
          65000,
          77000,
          46000,
          42800,
          45000,
          65000,
          55000,
          82000,
          67000,
          44000,
          48000,
          65000,
          43000,
          57888,
          52000,
          49000,
          67000,
          57000,
          57000,
          75000,
          79000,
          45000,
          49500,
          46500,
          49500,
          87000,
          49000,
          60000,
          43000,
          69500,
          43000,
          55000,
          79000,
          60000,
          71000,
          40700,
          68500
         ],
         "y0": " ",
         "yaxis": "y"
        }
       ],
       "layout": {
        "boxmode": "group",
        "legend": {
         "tracegroupgap": 0
        },
        "template": {
         "data": {
          "bar": [
           {
            "error_x": {
             "color": "#2a3f5f"
            },
            "error_y": {
             "color": "#2a3f5f"
            },
            "marker": {
             "line": {
              "color": "#E5ECF6",
              "width": 0.5
             }
            },
            "type": "bar"
           }
          ],
          "barpolar": [
           {
            "marker": {
             "line": {
              "color": "#E5ECF6",
              "width": 0.5
             }
            },
            "type": "barpolar"
           }
          ],
          "carpet": [
           {
            "aaxis": {
             "endlinecolor": "#2a3f5f",
             "gridcolor": "white",
             "linecolor": "white",
             "minorgridcolor": "white",
             "startlinecolor": "#2a3f5f"
            },
            "baxis": {
             "endlinecolor": "#2a3f5f",
             "gridcolor": "white",
             "linecolor": "white",
             "minorgridcolor": "white",
             "startlinecolor": "#2a3f5f"
            },
            "type": "carpet"
           }
          ],
          "choropleth": [
           {
            "colorbar": {
             "outlinewidth": 0,
             "ticks": ""
            },
            "type": "choropleth"
           }
          ],
          "contour": [
           {
            "colorbar": {
             "outlinewidth": 0,
             "ticks": ""
            },
            "colorscale": [
             [
              0,
              "#0d0887"
             ],
             [
              0.1111111111111111,
              "#46039f"
             ],
             [
              0.2222222222222222,
              "#7201a8"
             ],
             [
              0.3333333333333333,
              "#9c179e"
             ],
             [
              0.4444444444444444,
              "#bd3786"
             ],
             [
              0.5555555555555556,
              "#d8576b"
             ],
             [
              0.6666666666666666,
              "#ed7953"
             ],
             [
              0.7777777777777778,
              "#fb9f3a"
             ],
             [
              0.8888888888888888,
              "#fdca26"
             ],
             [
              1,
              "#f0f921"
             ]
            ],
            "type": "contour"
           }
          ],
          "contourcarpet": [
           {
            "colorbar": {
             "outlinewidth": 0,
             "ticks": ""
            },
            "type": "contourcarpet"
           }
          ],
          "heatmap": [
           {
            "colorbar": {
             "outlinewidth": 0,
             "ticks": ""
            },
            "colorscale": [
             [
              0,
              "#0d0887"
             ],
             [
              0.1111111111111111,
              "#46039f"
             ],
             [
              0.2222222222222222,
              "#7201a8"
             ],
             [
              0.3333333333333333,
              "#9c179e"
             ],
             [
              0.4444444444444444,
              "#bd3786"
             ],
             [
              0.5555555555555556,
              "#d8576b"
             ],
             [
              0.6666666666666666,
              "#ed7953"
             ],
             [
              0.7777777777777778,
              "#fb9f3a"
             ],
             [
              0.8888888888888888,
              "#fdca26"
             ],
             [
              1,
              "#f0f921"
             ]
            ],
            "type": "heatmap"
           }
          ],
          "heatmapgl": [
           {
            "colorbar": {
             "outlinewidth": 0,
             "ticks": ""
            },
            "colorscale": [
             [
              0,
              "#0d0887"
             ],
             [
              0.1111111111111111,
              "#46039f"
             ],
             [
              0.2222222222222222,
              "#7201a8"
             ],
             [
              0.3333333333333333,
              "#9c179e"
             ],
             [
              0.4444444444444444,
              "#bd3786"
             ],
             [
              0.5555555555555556,
              "#d8576b"
             ],
             [
              0.6666666666666666,
              "#ed7953"
             ],
             [
              0.7777777777777778,
              "#fb9f3a"
             ],
             [
              0.8888888888888888,
              "#fdca26"
             ],
             [
              1,
              "#f0f921"
             ]
            ],
            "type": "heatmapgl"
           }
          ],
          "histogram": [
           {
            "marker": {
             "colorbar": {
              "outlinewidth": 0,
              "ticks": ""
             }
            },
            "type": "histogram"
           }
          ],
          "histogram2d": [
           {
            "colorbar": {
             "outlinewidth": 0,
             "ticks": ""
            },
            "colorscale": [
             [
              0,
              "#0d0887"
             ],
             [
              0.1111111111111111,
              "#46039f"
             ],
             [
              0.2222222222222222,
              "#7201a8"
             ],
             [
              0.3333333333333333,
              "#9c179e"
             ],
             [
              0.4444444444444444,
              "#bd3786"
             ],
             [
              0.5555555555555556,
              "#d8576b"
             ],
             [
              0.6666666666666666,
              "#ed7953"
             ],
             [
              0.7777777777777778,
              "#fb9f3a"
             ],
             [
              0.8888888888888888,
              "#fdca26"
             ],
             [
              1,
              "#f0f921"
             ]
            ],
            "type": "histogram2d"
           }
          ],
          "histogram2dcontour": [
           {
            "colorbar": {
             "outlinewidth": 0,
             "ticks": ""
            },
            "colorscale": [
             [
              0,
              "#0d0887"
             ],
             [
              0.1111111111111111,
              "#46039f"
             ],
             [
              0.2222222222222222,
              "#7201a8"
             ],
             [
              0.3333333333333333,
              "#9c179e"
             ],
             [
              0.4444444444444444,
              "#bd3786"
             ],
             [
              0.5555555555555556,
              "#d8576b"
             ],
             [
              0.6666666666666666,
              "#ed7953"
             ],
             [
              0.7777777777777778,
              "#fb9f3a"
             ],
             [
              0.8888888888888888,
              "#fdca26"
             ],
             [
              1,
              "#f0f921"
             ]
            ],
            "type": "histogram2dcontour"
           }
          ],
          "mesh3d": [
           {
            "colorbar": {
             "outlinewidth": 0,
             "ticks": ""
            },
            "type": "mesh3d"
           }
          ],
          "parcoords": [
           {
            "line": {
             "colorbar": {
              "outlinewidth": 0,
              "ticks": ""
             }
            },
            "type": "parcoords"
           }
          ],
          "pie": [
           {
            "automargin": true,
            "type": "pie"
           }
          ],
          "scatter": [
           {
            "marker": {
             "colorbar": {
              "outlinewidth": 0,
              "ticks": ""
             }
            },
            "type": "scatter"
           }
          ],
          "scatter3d": [
           {
            "line": {
             "colorbar": {
              "outlinewidth": 0,
              "ticks": ""
             }
            },
            "marker": {
             "colorbar": {
              "outlinewidth": 0,
              "ticks": ""
             }
            },
            "type": "scatter3d"
           }
          ],
          "scattercarpet": [
           {
            "marker": {
             "colorbar": {
              "outlinewidth": 0,
              "ticks": ""
             }
            },
            "type": "scattercarpet"
           }
          ],
          "scattergeo": [
           {
            "marker": {
             "colorbar": {
              "outlinewidth": 0,
              "ticks": ""
             }
            },
            "type": "scattergeo"
           }
          ],
          "scattergl": [
           {
            "marker": {
             "colorbar": {
              "outlinewidth": 0,
              "ticks": ""
             }
            },
            "type": "scattergl"
           }
          ],
          "scattermapbox": [
           {
            "marker": {
             "colorbar": {
              "outlinewidth": 0,
              "ticks": ""
             }
            },
            "type": "scattermapbox"
           }
          ],
          "scatterpolar": [
           {
            "marker": {
             "colorbar": {
              "outlinewidth": 0,
              "ticks": ""
             }
            },
            "type": "scatterpolar"
           }
          ],
          "scatterpolargl": [
           {
            "marker": {
             "colorbar": {
              "outlinewidth": 0,
              "ticks": ""
             }
            },
            "type": "scatterpolargl"
           }
          ],
          "scatterternary": [
           {
            "marker": {
             "colorbar": {
              "outlinewidth": 0,
              "ticks": ""
             }
            },
            "type": "scatterternary"
           }
          ],
          "surface": [
           {
            "colorbar": {
             "outlinewidth": 0,
             "ticks": ""
            },
            "colorscale": [
             [
              0,
              "#0d0887"
             ],
             [
              0.1111111111111111,
              "#46039f"
             ],
             [
              0.2222222222222222,
              "#7201a8"
             ],
             [
              0.3333333333333333,
              "#9c179e"
             ],
             [
              0.4444444444444444,
              "#bd3786"
             ],
             [
              0.5555555555555556,
              "#d8576b"
             ],
             [
              0.6666666666666666,
              "#ed7953"
             ],
             [
              0.7777777777777778,
              "#fb9f3a"
             ],
             [
              0.8888888888888888,
              "#fdca26"
             ],
             [
              1,
              "#f0f921"
             ]
            ],
            "type": "surface"
           }
          ],
          "table": [
           {
            "cells": {
             "fill": {
              "color": "#EBF0F8"
             },
             "line": {
              "color": "white"
             }
            },
            "header": {
             "fill": {
              "color": "#C8D4E3"
             },
             "line": {
              "color": "white"
             }
            },
            "type": "table"
           }
          ]
         },
         "layout": {
          "annotationdefaults": {
           "arrowcolor": "#2a3f5f",
           "arrowhead": 0,
           "arrowwidth": 1
          },
          "coloraxis": {
           "colorbar": {
            "outlinewidth": 0,
            "ticks": ""
           }
          },
          "colorscale": {
           "diverging": [
            [
             0,
             "#8e0152"
            ],
            [
             0.1,
             "#c51b7d"
            ],
            [
             0.2,
             "#de77ae"
            ],
            [
             0.3,
             "#f1b6da"
            ],
            [
             0.4,
             "#fde0ef"
            ],
            [
             0.5,
             "#f7f7f7"
            ],
            [
             0.6,
             "#e6f5d0"
            ],
            [
             0.7,
             "#b8e186"
            ],
            [
             0.8,
             "#7fbc41"
            ],
            [
             0.9,
             "#4d9221"
            ],
            [
             1,
             "#276419"
            ]
           ],
           "sequential": [
            [
             0,
             "#0d0887"
            ],
            [
             0.1111111111111111,
             "#46039f"
            ],
            [
             0.2222222222222222,
             "#7201a8"
            ],
            [
             0.3333333333333333,
             "#9c179e"
            ],
            [
             0.4444444444444444,
             "#bd3786"
            ],
            [
             0.5555555555555556,
             "#d8576b"
            ],
            [
             0.6666666666666666,
             "#ed7953"
            ],
            [
             0.7777777777777778,
             "#fb9f3a"
            ],
            [
             0.8888888888888888,
             "#fdca26"
            ],
            [
             1,
             "#f0f921"
            ]
           ],
           "sequentialminus": [
            [
             0,
             "#0d0887"
            ],
            [
             0.1111111111111111,
             "#46039f"
            ],
            [
             0.2222222222222222,
             "#7201a8"
            ],
            [
             0.3333333333333333,
             "#9c179e"
            ],
            [
             0.4444444444444444,
             "#bd3786"
            ],
            [
             0.5555555555555556,
             "#d8576b"
            ],
            [
             0.6666666666666666,
             "#ed7953"
            ],
            [
             0.7777777777777778,
             "#fb9f3a"
            ],
            [
             0.8888888888888888,
             "#fdca26"
            ],
            [
             1,
             "#f0f921"
            ]
           ]
          },
          "colorway": [
           "#636efa",
           "#EF553B",
           "#00cc96",
           "#ab63fa",
           "#FFA15A",
           "#19d3f3",
           "#FF6692",
           "#B6E880",
           "#FF97FF",
           "#FECB52"
          ],
          "font": {
           "color": "#2a3f5f"
          },
          "geo": {
           "bgcolor": "white",
           "lakecolor": "white",
           "landcolor": "#E5ECF6",
           "showlakes": true,
           "showland": true,
           "subunitcolor": "white"
          },
          "hoverlabel": {
           "align": "left"
          },
          "hovermode": "closest",
          "mapbox": {
           "style": "light"
          },
          "paper_bgcolor": "white",
          "plot_bgcolor": "#E5ECF6",
          "polar": {
           "angularaxis": {
            "gridcolor": "white",
            "linecolor": "white",
            "ticks": ""
           },
           "bgcolor": "#E5ECF6",
           "radialaxis": {
            "gridcolor": "white",
            "linecolor": "white",
            "ticks": ""
           }
          },
          "scene": {
           "xaxis": {
            "backgroundcolor": "#E5ECF6",
            "gridcolor": "white",
            "gridwidth": 2,
            "linecolor": "white",
            "showbackground": true,
            "ticks": "",
            "zerolinecolor": "white"
           },
           "yaxis": {
            "backgroundcolor": "#E5ECF6",
            "gridcolor": "white",
            "gridwidth": 2,
            "linecolor": "white",
            "showbackground": true,
            "ticks": "",
            "zerolinecolor": "white"
           },
           "zaxis": {
            "backgroundcolor": "#E5ECF6",
            "gridcolor": "white",
            "gridwidth": 2,
            "linecolor": "white",
            "showbackground": true,
            "ticks": "",
            "zerolinecolor": "white"
           }
          },
          "shapedefaults": {
           "line": {
            "color": "#2a3f5f"
           }
          },
          "ternary": {
           "aaxis": {
            "gridcolor": "white",
            "linecolor": "white",
            "ticks": ""
           },
           "baxis": {
            "gridcolor": "white",
            "linecolor": "white",
            "ticks": ""
           },
           "bgcolor": "#E5ECF6",
           "caxis": {
            "gridcolor": "white",
            "linecolor": "white",
            "ticks": ""
           }
          },
          "title": {
           "x": 0.05
          },
          "xaxis": {
           "automargin": true,
           "gridcolor": "white",
           "linecolor": "white",
           "ticks": "",
           "title": {
            "standoff": 15
           },
           "zerolinecolor": "white",
           "zerolinewidth": 2
          },
          "yaxis": {
           "automargin": true,
           "gridcolor": "white",
           "linecolor": "white",
           "ticks": "",
           "title": {
            "standoff": 15
           },
           "zerolinecolor": "white",
           "zerolinewidth": 2
          }
         }
        },
        "title": {
         "text": "Relationship between each condition and price"
        },
        "xaxis": {
         "anchor": "y",
         "domain": [
          0,
          1
         ],
         "title": {
          "text": "Condition"
         }
        },
        "yaxis": {
         "anchor": "x",
         "domain": [
          0,
          1
         ],
         "title": {
          "text": "Price(GH¢)"
         }
        }
       }
      },
      "text/html": [
       "<div>\n",
       "        \n",
       "        \n",
       "            <div id=\"3d32d2c2-8a37-4c18-bd18-6e7ba7cf04fd\" class=\"plotly-graph-div\" style=\"height:525px; width:100%;\"></div>\n",
       "            <script type=\"text/javascript\">\n",
       "                require([\"plotly\"], function(Plotly) {\n",
       "                    window.PLOTLYENV=window.PLOTLYENV || {};\n",
       "                    \n",
       "                if (document.getElementById(\"3d32d2c2-8a37-4c18-bd18-6e7ba7cf04fd\")) {\n",
       "                    Plotly.newPlot(\n",
       "                        '3d32d2c2-8a37-4c18-bd18-6e7ba7cf04fd',\n",
       "                        [{\"alignmentgroup\": \"True\", \"hovertemplate\": \"Condition=%{x}<br>Price(GH\\u00a2)=%{y}<extra></extra>\", \"legendgroup\": \"\", \"marker\": {\"color\": \"#636efa\"}, \"name\": \"\", \"notched\": false, \"offsetgroup\": \"\", \"orientation\": \"v\", \"showlegend\": false, \"type\": \"box\", \"x\": [\"Used\", \"Used\", \"New\", \"Used\", \"Used\", \"Used\", \"Used\", \"Used\", \"Used\", \"Used\", \"New\", \"Used\", \"New\", \"Used\", \"New\", \"Used\", \"Used\", \"New\", \"Used\", \"Used\", \"Used\", \"Used\", \"Used\", \"Used\", \"Used\", \"Used\", \"New\", \"Used\", \"Used\", \"Used\", \"New\", \"Used\", \"Used\", \"Used\", \"Used\", \"New\", \"Used\", \"Used\", \"Used\", \"Used\", \"Used\", \"Used\", \"New\", \"Used\", \"Used\", \"Used\", \"Used\", \"Used\", \"Used\", \"New\", \"Used\", \"Used\", \"Used\", \"Used\", \"Used\", \"Used\", \"Used\", \"New\", \"New\", \"Used\", \"New\", \"Used\", \"Used\", \"Used\", \"Used\", \"Used\", \"New\", \"Used\", \"New\", \"Used\", \"Used\", \"New\", \"New\", \"Used\", \"Used\", \"Used\", \"Used\", \"Used\", \"Used\", \"Used\", \"Used\", \"Used\", \"Used\", \"Used\", \"Used\", \"Used\", \"Used\", \"Used\", \"Used\", \"Used\", \"New\", \"Used\", \"New\", \"New\", \"New\", \"Used\", \"New\", \"Used\", \"New\", \"Used\", \"New\", \"Used\", \"Used\", \"Used\", \"Used\", \"Used\", \"Used\", \"Used\", \"Used\", \"Used\", \"Used\", \"Used\", \"Used\", \"Used\", \"Used\", \"Used\", \"Used\", \"New\", \"Used\", \"Used\", \"Used\", \"Used\", \"Used\", \"Used\", \"Used\", \"Used\", \"Used\", \"Used\", \"Used\", \"Used\", \"Used\", \"Used\", \"Used\", \"Used\", \"Used\", \"Used\", \"Used\", \"Used\", \"Used\", \"Used\", \"Used\", \"Used\", \"Used\", \"Used\", \"New\", \"Used\", \"Used\", \"Used\", \"New\", \"New\", \"Used\", \"Used\", \"Used\", \"Used\", \"Used\", \"Used\", \"Used\", \"Used\", \"Used\", \"Used\", \"Used\", \"Used\", \"New\", \"Used\", \"Used\", \"Used\", \"Used\", \"Used\", \"New\", \"Used\", \"Used\", \"Used\", \"Used\", \"Used\", \"Used\", \"Used\", \"Used\", \"Used\", \"Used\", \"Used\", \"Used\", \"Used\", \"Used\", \"Used\", \"Used\", \"Used\", \"Used\", \"Used\", \"Used\", \"Used\", \"Used\", \"Used\", \"New\", \"Used\", \"Used\", \"New\", \"New\", \"Used\", \"Used\", \"Used\", \"New\", \"Used\", \"New\", \"Used\", \"Used\", \"Used\", \"Used\", \"New\", \"Used\", \"Used\", \"Used\", \"Used\", \"Used\", \"Used\", \"Used\", \"Used\", \"Used\", \"Used\", \"Used\", \"Used\", \"Used\", \"Used\", \"Used\", \"Used\", \"Used\", \"Used\", \"Used\", \"Used\", \"Used\", \"Used\", \"Used\", \"Used\", \"Used\", \"Used\", \"Used\", \"Used\", \"Used\", \"Used\", \"Used\", \"Used\", \"Used\", \"Used\", \"Used\", \"Used\", \"Used\", \"Used\", \"Used\", \"Used\", \"Used\", \"Used\", \"Used\", \"Used\", \"Used\", \"New\", \"Used\", \"Used\", \"Used\", \"New\", \"Used\", \"Used\", \"Used\", \"Used\", \"Used\", \"Used\", \"Used\", \"Used\", \"Used\", \"Used\", \"Used\", \"Used\", \"Used\", \"Used\", \"Used\", \"Used\", \"Used\", \"New\", \"Used\", \"New\", \"Used\", \"Used\", \"Used\", \"Used\", \"Used\", \"Used\", \"New\", \"Used\", \"Used\", \"Used\", \"Used\", \"Used\", \"Used\", \"Used\", \"Used\", \"Used\", \"Used\", \"Used\", \"Used\", \"Used\", \"Used\", \"Used\", \"New\", \"Used\", \"Used\", \"Used\", \"Used\", \"Used\", \"Used\", \"Used\", \"Used\", \"Used\", \"Used\", \"Used\", \"Used\", \"Used\", \"New\", \"Used\", \"Used\", \"Used\", \"New\", \"Used\", \"Used\", \"Used\", \"Used\", \"New\", \"New\", \"Used\", \"New\", \"Used\", \"Used\", \"Used\", \"Used\", \"New\", \"Used\", \"Used\", \"Used\", \"Used\", \"Used\", \"Used\", \"Used\", \"Used\", \"Used\", \"Used\", \"New\", \"Used\", \"Used\", \"Used\", \"Used\", \"Used\", \"Used\", \"Used\", \"Used\", \"Used\", \"Used\", \"Used\", \"Used\", \"Used\", \"Used\", \"Used\", \"Used\", \"Used\", \"Used\", \"Used\", \"New\", \"Used\", \"Used\", \"Used\", \"Used\", \"Used\", \"Used\", \"New\", \"Used\", \"Used\"], \"x0\": \" \", \"xaxis\": \"x\", \"y\": [42500, 42000, 48000, 60000, 80000, 44000, 68500, 58000, 42500, 48000, 69500, 45000, 55500, 80000, 65000, 58000, 56000, 55500, 60000, 48000, 76000, 43500, 75000, 85000, 53000, 56000, 72000, 52500, 45000, 42000, 60000, 55000, 46000, 53000, 56500, 62000, 70000, 55500, 51000, 44000, 52000, 48100, 43000, 47200, 45000, 47000, 60000, 85000, 65000, 42000, 58000, 82000, 84000, 74000, 83000, 85000, 43500, 49900, 65777, 72000, 87000, 55000, 70000, 62000, 59800, 49000, 78000, 55000, 74000, 84999, 49500, 41777, 47777, 50000, 75000, 65000, 50555, 42000, 78500, 85500, 50555, 48950, 55000, 60000, 62000, 55000, 45500, 84000, 85000, 47000, 43000, 83900, 46500, 50000, 80000, 64000, 78000, 47000, 80500, 40999, 85000, 50500, 85500, 79500, 49500, 58500, 51000, 65500, 62000, 45000, 65000, 45000, 77000, 45000, 78000, 48500, 62000, 54500, 68000, 68000, 46500, 65000, 78000, 55000, 58500, 41000, 40500, 77000, 88000, 87000, 65000, 67000, 48500, 52000, 66600, 65000, 75000, 86000, 45000, 42000, 50000, 85000, 62000, 46000, 66000, 72000, 76000, 87000, 47500, 43500, 78000, 68000, 40500, 58500, 41900, 48000, 60000, 75000, 85000, 85000, 45000, 65000, 84500, 43500, 70000, 58500, 63000, 63800, 89000, 48500, 45000, 42000, 45000, 50000, 45000, 58000, 79000, 45000, 50000, 67000, 46000, 59900, 42000, 43000, 85000, 45000, 50000, 48000, 43000, 55000, 89000, 60000, 64000, 62900, 49000, 63000, 62000, 42500, 62000, 43500, 80000, 86000, 69000, 83000, 48500, 58000, 57500, 56500, 43000, 55000, 60000, 89000, 55000, 77000, 58000, 55000, 45500, 52000, 56500, 68000, 48000, 70000, 42000, 40500, 78000, 85000, 57000, 52000, 68000, 42000, 42000, 56000, 45000, 59500, 75000, 83000, 85000, 75500, 63000, 56000, 59500, 41000, 63000, 42500, 43000, 75000, 56000, 80000, 63000, 58000, 63000, 55000, 47000, 54000, 46000, 68500, 49000, 78000, 83000, 75000, 60500, 45500, 75000, 65000, 57500, 43500, 80000, 55000, 42000, 70000, 44500, 88000, 54500, 63000, 65700, 44500, 88500, 85000, 78000, 78000, 45500, 55200, 71588, 72000, 65000, 73000, 49500, 63000, 78500, 57500, 46000, 48500, 48000, 50500, 46500, 74500, 53000, 85000, 49000, 53000, 60000, 62000, 42000, 46000, 50000, 70000, 42400, 58000, 61000, 88000, 81000, 75000, 42500, 80000, 67000, 43000, 75000, 65000, 60000, 78000, 48500, 65000, 42000, 42500, 53000, 51000, 47500, 63500, 80000, 65500, 58000, 68000, 56500, 52500, 60000, 65000, 77000, 46000, 42800, 45000, 65000, 55000, 82000, 67000, 44000, 48000, 65000, 43000, 57888, 52000, 49000, 67000, 57000, 57000, 75000, 79000, 45000, 49500, 46500, 49500, 87000, 49000, 60000, 43000, 69500, 43000, 55000, 79000, 60000, 71000, 40700, 68500], \"y0\": \" \", \"yaxis\": \"y\"}],\n",
       "                        {\"boxmode\": \"group\", \"legend\": {\"tracegroupgap\": 0}, \"template\": {\"data\": {\"bar\": [{\"error_x\": {\"color\": \"#2a3f5f\"}, \"error_y\": {\"color\": \"#2a3f5f\"}, \"marker\": {\"line\": {\"color\": \"#E5ECF6\", \"width\": 0.5}}, \"type\": \"bar\"}], \"barpolar\": [{\"marker\": {\"line\": {\"color\": \"#E5ECF6\", \"width\": 0.5}}, \"type\": \"barpolar\"}], \"carpet\": [{\"aaxis\": {\"endlinecolor\": \"#2a3f5f\", \"gridcolor\": \"white\", \"linecolor\": \"white\", \"minorgridcolor\": \"white\", \"startlinecolor\": \"#2a3f5f\"}, \"baxis\": {\"endlinecolor\": \"#2a3f5f\", \"gridcolor\": \"white\", \"linecolor\": \"white\", \"minorgridcolor\": \"white\", \"startlinecolor\": \"#2a3f5f\"}, \"type\": \"carpet\"}], \"choropleth\": [{\"colorbar\": {\"outlinewidth\": 0, \"ticks\": \"\"}, \"type\": \"choropleth\"}], \"contour\": [{\"colorbar\": {\"outlinewidth\": 0, \"ticks\": \"\"}, \"colorscale\": [[0.0, \"#0d0887\"], [0.1111111111111111, \"#46039f\"], [0.2222222222222222, \"#7201a8\"], [0.3333333333333333, \"#9c179e\"], [0.4444444444444444, \"#bd3786\"], [0.5555555555555556, \"#d8576b\"], [0.6666666666666666, \"#ed7953\"], [0.7777777777777778, \"#fb9f3a\"], [0.8888888888888888, \"#fdca26\"], [1.0, \"#f0f921\"]], \"type\": \"contour\"}], \"contourcarpet\": [{\"colorbar\": {\"outlinewidth\": 0, \"ticks\": \"\"}, \"type\": \"contourcarpet\"}], \"heatmap\": [{\"colorbar\": {\"outlinewidth\": 0, \"ticks\": \"\"}, \"colorscale\": [[0.0, \"#0d0887\"], [0.1111111111111111, \"#46039f\"], [0.2222222222222222, \"#7201a8\"], [0.3333333333333333, \"#9c179e\"], [0.4444444444444444, \"#bd3786\"], [0.5555555555555556, \"#d8576b\"], [0.6666666666666666, \"#ed7953\"], [0.7777777777777778, \"#fb9f3a\"], [0.8888888888888888, \"#fdca26\"], [1.0, \"#f0f921\"]], \"type\": \"heatmap\"}], \"heatmapgl\": [{\"colorbar\": {\"outlinewidth\": 0, \"ticks\": \"\"}, \"colorscale\": [[0.0, \"#0d0887\"], [0.1111111111111111, \"#46039f\"], [0.2222222222222222, \"#7201a8\"], [0.3333333333333333, \"#9c179e\"], [0.4444444444444444, \"#bd3786\"], [0.5555555555555556, \"#d8576b\"], [0.6666666666666666, \"#ed7953\"], [0.7777777777777778, \"#fb9f3a\"], [0.8888888888888888, \"#fdca26\"], [1.0, \"#f0f921\"]], \"type\": \"heatmapgl\"}], \"histogram\": [{\"marker\": {\"colorbar\": {\"outlinewidth\": 0, \"ticks\": \"\"}}, \"type\": \"histogram\"}], \"histogram2d\": [{\"colorbar\": {\"outlinewidth\": 0, \"ticks\": \"\"}, \"colorscale\": [[0.0, \"#0d0887\"], [0.1111111111111111, \"#46039f\"], [0.2222222222222222, \"#7201a8\"], [0.3333333333333333, \"#9c179e\"], [0.4444444444444444, \"#bd3786\"], [0.5555555555555556, \"#d8576b\"], [0.6666666666666666, \"#ed7953\"], [0.7777777777777778, \"#fb9f3a\"], [0.8888888888888888, \"#fdca26\"], [1.0, \"#f0f921\"]], \"type\": \"histogram2d\"}], \"histogram2dcontour\": [{\"colorbar\": {\"outlinewidth\": 0, \"ticks\": \"\"}, \"colorscale\": [[0.0, \"#0d0887\"], [0.1111111111111111, \"#46039f\"], [0.2222222222222222, \"#7201a8\"], [0.3333333333333333, \"#9c179e\"], [0.4444444444444444, \"#bd3786\"], [0.5555555555555556, \"#d8576b\"], [0.6666666666666666, \"#ed7953\"], [0.7777777777777778, \"#fb9f3a\"], [0.8888888888888888, \"#fdca26\"], [1.0, \"#f0f921\"]], \"type\": \"histogram2dcontour\"}], \"mesh3d\": [{\"colorbar\": {\"outlinewidth\": 0, \"ticks\": \"\"}, \"type\": \"mesh3d\"}], \"parcoords\": [{\"line\": {\"colorbar\": {\"outlinewidth\": 0, \"ticks\": \"\"}}, \"type\": \"parcoords\"}], \"pie\": [{\"automargin\": true, \"type\": \"pie\"}], \"scatter\": [{\"marker\": {\"colorbar\": {\"outlinewidth\": 0, \"ticks\": \"\"}}, \"type\": \"scatter\"}], \"scatter3d\": [{\"line\": {\"colorbar\": {\"outlinewidth\": 0, \"ticks\": \"\"}}, \"marker\": {\"colorbar\": {\"outlinewidth\": 0, \"ticks\": \"\"}}, \"type\": \"scatter3d\"}], \"scattercarpet\": [{\"marker\": {\"colorbar\": {\"outlinewidth\": 0, \"ticks\": \"\"}}, \"type\": \"scattercarpet\"}], \"scattergeo\": [{\"marker\": {\"colorbar\": {\"outlinewidth\": 0, \"ticks\": \"\"}}, \"type\": \"scattergeo\"}], \"scattergl\": [{\"marker\": {\"colorbar\": {\"outlinewidth\": 0, \"ticks\": \"\"}}, \"type\": \"scattergl\"}], \"scattermapbox\": [{\"marker\": {\"colorbar\": {\"outlinewidth\": 0, \"ticks\": \"\"}}, \"type\": \"scattermapbox\"}], \"scatterpolar\": [{\"marker\": {\"colorbar\": {\"outlinewidth\": 0, \"ticks\": \"\"}}, \"type\": \"scatterpolar\"}], \"scatterpolargl\": [{\"marker\": {\"colorbar\": {\"outlinewidth\": 0, \"ticks\": \"\"}}, \"type\": \"scatterpolargl\"}], \"scatterternary\": [{\"marker\": {\"colorbar\": {\"outlinewidth\": 0, \"ticks\": \"\"}}, \"type\": \"scatterternary\"}], \"surface\": [{\"colorbar\": {\"outlinewidth\": 0, \"ticks\": \"\"}, \"colorscale\": [[0.0, \"#0d0887\"], [0.1111111111111111, \"#46039f\"], [0.2222222222222222, \"#7201a8\"], [0.3333333333333333, \"#9c179e\"], [0.4444444444444444, \"#bd3786\"], [0.5555555555555556, \"#d8576b\"], [0.6666666666666666, \"#ed7953\"], [0.7777777777777778, \"#fb9f3a\"], [0.8888888888888888, \"#fdca26\"], [1.0, \"#f0f921\"]], \"type\": \"surface\"}], \"table\": [{\"cells\": {\"fill\": {\"color\": \"#EBF0F8\"}, \"line\": {\"color\": \"white\"}}, \"header\": {\"fill\": {\"color\": \"#C8D4E3\"}, \"line\": {\"color\": \"white\"}}, \"type\": \"table\"}]}, \"layout\": {\"annotationdefaults\": {\"arrowcolor\": \"#2a3f5f\", \"arrowhead\": 0, \"arrowwidth\": 1}, \"coloraxis\": {\"colorbar\": {\"outlinewidth\": 0, \"ticks\": \"\"}}, \"colorscale\": {\"diverging\": [[0, \"#8e0152\"], [0.1, \"#c51b7d\"], [0.2, \"#de77ae\"], [0.3, \"#f1b6da\"], [0.4, \"#fde0ef\"], [0.5, \"#f7f7f7\"], [0.6, \"#e6f5d0\"], [0.7, \"#b8e186\"], [0.8, \"#7fbc41\"], [0.9, \"#4d9221\"], [1, \"#276419\"]], \"sequential\": [[0.0, \"#0d0887\"], [0.1111111111111111, \"#46039f\"], [0.2222222222222222, \"#7201a8\"], [0.3333333333333333, \"#9c179e\"], [0.4444444444444444, \"#bd3786\"], [0.5555555555555556, \"#d8576b\"], [0.6666666666666666, \"#ed7953\"], [0.7777777777777778, \"#fb9f3a\"], [0.8888888888888888, \"#fdca26\"], [1.0, \"#f0f921\"]], \"sequentialminus\": [[0.0, \"#0d0887\"], [0.1111111111111111, \"#46039f\"], [0.2222222222222222, \"#7201a8\"], [0.3333333333333333, \"#9c179e\"], [0.4444444444444444, \"#bd3786\"], [0.5555555555555556, \"#d8576b\"], [0.6666666666666666, \"#ed7953\"], [0.7777777777777778, \"#fb9f3a\"], [0.8888888888888888, \"#fdca26\"], [1.0, \"#f0f921\"]]}, \"colorway\": [\"#636efa\", \"#EF553B\", \"#00cc96\", \"#ab63fa\", \"#FFA15A\", \"#19d3f3\", \"#FF6692\", \"#B6E880\", \"#FF97FF\", \"#FECB52\"], \"font\": {\"color\": \"#2a3f5f\"}, \"geo\": {\"bgcolor\": \"white\", \"lakecolor\": \"white\", \"landcolor\": \"#E5ECF6\", \"showlakes\": true, \"showland\": true, \"subunitcolor\": \"white\"}, \"hoverlabel\": {\"align\": \"left\"}, \"hovermode\": \"closest\", \"mapbox\": {\"style\": \"light\"}, \"paper_bgcolor\": \"white\", \"plot_bgcolor\": \"#E5ECF6\", \"polar\": {\"angularaxis\": {\"gridcolor\": \"white\", \"linecolor\": \"white\", \"ticks\": \"\"}, \"bgcolor\": \"#E5ECF6\", \"radialaxis\": {\"gridcolor\": \"white\", \"linecolor\": \"white\", \"ticks\": \"\"}}, \"scene\": {\"xaxis\": {\"backgroundcolor\": \"#E5ECF6\", \"gridcolor\": \"white\", \"gridwidth\": 2, \"linecolor\": \"white\", \"showbackground\": true, \"ticks\": \"\", \"zerolinecolor\": \"white\"}, \"yaxis\": {\"backgroundcolor\": \"#E5ECF6\", \"gridcolor\": \"white\", \"gridwidth\": 2, \"linecolor\": \"white\", \"showbackground\": true, \"ticks\": \"\", \"zerolinecolor\": \"white\"}, \"zaxis\": {\"backgroundcolor\": \"#E5ECF6\", \"gridcolor\": \"white\", \"gridwidth\": 2, \"linecolor\": \"white\", \"showbackground\": true, \"ticks\": \"\", \"zerolinecolor\": \"white\"}}, \"shapedefaults\": {\"line\": {\"color\": \"#2a3f5f\"}}, \"ternary\": {\"aaxis\": {\"gridcolor\": \"white\", \"linecolor\": \"white\", \"ticks\": \"\"}, \"baxis\": {\"gridcolor\": \"white\", \"linecolor\": \"white\", \"ticks\": \"\"}, \"bgcolor\": \"#E5ECF6\", \"caxis\": {\"gridcolor\": \"white\", \"linecolor\": \"white\", \"ticks\": \"\"}}, \"title\": {\"x\": 0.05}, \"xaxis\": {\"automargin\": true, \"gridcolor\": \"white\", \"linecolor\": \"white\", \"ticks\": \"\", \"title\": {\"standoff\": 15}, \"zerolinecolor\": \"white\", \"zerolinewidth\": 2}, \"yaxis\": {\"automargin\": true, \"gridcolor\": \"white\", \"linecolor\": \"white\", \"ticks\": \"\", \"title\": {\"standoff\": 15}, \"zerolinecolor\": \"white\", \"zerolinewidth\": 2}}}, \"title\": {\"text\": \"Relationship between each condition and price\"}, \"xaxis\": {\"anchor\": \"y\", \"domain\": [0.0, 1.0], \"title\": {\"text\": \"Condition\"}}, \"yaxis\": {\"anchor\": \"x\", \"domain\": [0.0, 1.0], \"title\": {\"text\": \"Price(GH\\u00a2)\"}}},\n",
       "                        {\"responsive\": true}\n",
       "                    ).then(function(){\n",
       "                            \n",
       "var gd = document.getElementById('3d32d2c2-8a37-4c18-bd18-6e7ba7cf04fd');\n",
       "var x = new MutationObserver(function (mutations, observer) {{\n",
       "        var display = window.getComputedStyle(gd).display;\n",
       "        if (!display || display === 'none') {{\n",
       "            console.log([gd, 'removed!']);\n",
       "            Plotly.purge(gd);\n",
       "            observer.disconnect();\n",
       "        }}\n",
       "}});\n",
       "\n",
       "// Listen for the removal of the full notebook cells\n",
       "var notebookContainer = gd.closest('#notebook-container');\n",
       "if (notebookContainer) {{\n",
       "    x.observe(notebookContainer, {childList: true});\n",
       "}}\n",
       "\n",
       "// Listen for the clearing of the current output cell\n",
       "var outputEl = gd.closest('.output');\n",
       "if (outputEl) {{\n",
       "    x.observe(outputEl, {childList: true});\n",
       "}}\n",
       "\n",
       "                        })\n",
       "                };\n",
       "                });\n",
       "            </script>\n",
       "        </div>"
      ]
     },
     "metadata": {},
     "output_type": "display_data"
    }
   ],
   "source": [
    "fig = px.box(df, x=\"Condition\", y=\"Price(GH¢)\", title='Relationship between each condition and price')\n",
    "fig.show()"
   ]
  },
  {
   "cell_type": "code",
   "execution_count": 449,
   "metadata": {
    "scrolled": false
   },
   "outputs": [
    {
     "data": {
      "image/png": "[encoded data removed]",
      "text/plain": [
       "<Figure size 641.1x576 with 1 Axes>"
      ]
     },
     "metadata": {},
     "output_type": "display_data"
    }
   ],
   "source": [
    "sns.set_style('whitegrid')\n",
    "sns.FacetGrid(df, hue='Condition', size=8) \\\n",
    "    .map(sns.distplot, 'Price(GH¢)') \\\n",
    "    .add_legend()\n",
    "plt.show()"
   ]
  },
  {
   "cell_type": "markdown",
   "metadata": {},
   "source": [
    "##### Observations:\n",
    "\n",
    "* Major overlapping can be observed\n",
    "* Used cars are highly likely to be sold between 40,000 and 45,000\n",
    "* New cars are likely to cost between 40,000 and 65,000"
   ]
  },
  {
   "cell_type": "markdown",
   "metadata": {},
   "source": [
    "### Transmission vs Price"
   ]
  },
  {
   "cell_type": "code",
   "execution_count": 450,
   "metadata": {
    "scrolled": false
   },
   "outputs": [
    {
     "data": {
      "application/vnd.plotly.v1+json": {
       "config": {
        "plotlyServerURL": "https://plot.ly"
       },
       "data": [
        {
         "alignmentgroup": "True",
         "hovertemplate": "Transmission=%{x}<br>Price(GH¢)=%{y}<extra></extra>",
         "legendgroup": "",
         "marker": {
          "color": "#636efa"
         },
         "name": "",
         "notched": false,
         "offsetgroup": "",
         "orientation": "v",
         "showlegend": false,
         "type": "box",
         "x": [
          "Automatic",
          "Automatic",
          "Automatic",
          "Manual",
          "Automatic",
          "Automatic",
          "Automatic",
          "Automatic",
          "Automatic",
          "Automatic",
          "Automatic",
          "Manual",
          "Automatic",
          "Automatic",
          "Automatic",
          "Automatic",
          "Automatic",
          "Automatic",
          "Automatic",
          "Automatic",
          "Automatic",
          "Automatic",
          "Automatic",
          "Automatic",
          "Automatic",
          "Manual",
          "Automatic",
          "Automatic",
          "Automatic",
          "Automatic",
          "Automatic",
          "Automatic",
          "Automatic",
          "Automatic",
          "Automatic",
          "Automatic",
          "Automatic",
          "Automatic",
          "Automatic",
          "Automatic",
          "Automatic",
          "Manual",
          "Automatic",
          "Manual",
          "Automatic",
          "Automatic",
          "Automatic",
          "Automatic",
          "Automatic",
          "Automatic",
          "Automatic",
          "Automatic",
          "Automatic",
          "Automatic",
          "Automatic",
          "Automatic",
          "Automatic",
          "Automatic",
          "Automatic",
          "Automatic",
          "Automatic",
          "Automatic",
          "Automatic",
          "Automatic",
          "Automatic",
          "Automatic",
          "Automatic",
          "Manual",
          "Automatic",
          "Automatic",
          "Automatic",
          "Automatic",
          "Automatic",
          "Automatic",
          "Automatic",
          "Automatic",
          "Automatic",
          "Automatic",
          "Automatic",
          "Automatic",
          "Automatic",
          "Automatic",
          "Automatic",
          "Automatic",
          "Automatic",
          "Automatic",
          "Automatic",
          "Automatic",
          "Automatic",
          "Automatic",
          "Automatic",
          "Automatic",
          "Automatic",
          "Automatic",
          "Automatic",
          "Automatic",
          "Manual",
          "Automatic",
          "Automatic",
          "Automatic",
          "Automatic",
          "Automatic",
          "Automatic",
          "Automatic",
          "Automatic",
          "Automatic",
          "Automatic",
          "Automatic",
          "Automatic",
          "Automatic",
          "Automatic",
          "Automatic",
          "Automatic",
          "Automatic",
          "Automatic",
          "Automatic",
          "Automatic",
          "Automatic",
          "Automatic",
          "Automatic",
          "Automatic",
          "Automatic",
          "Automatic",
          "Automatic",
          "Automatic",
          "Automatic",
          "Automatic",
          "Automatic",
          "Automatic",
          "Automatic",
          "Automatic",
          "Automatic",
          "Automatic",
          "Automatic",
          "Automatic",
          "Automatic",
          "Automatic",
          "Automatic",
          "Automatic",
          "Automatic",
          "Automatic",
          "Automatic",
          "Automatic",
          "Automatic",
          "Automatic",
          "Automatic",
          "Automatic",
          "Automatic",
          "Automatic",
          "Automatic",
          "Automatic",
          "Automatic",
          "Automatic",
          "Automatic",
          "Automatic",
          "Automatic",
          "Automatic",
          "Automatic",
          "Automatic",
          "Automatic",
          "Automatic",
          "Automatic",
          "Automatic",
          "Automatic",
          "Automatic",
          "Automatic",
          "Automatic",
          "Automatic",
          "Automatic",
          "Automatic",
          "Automatic",
          "Automatic",
          "Automatic",
          "Automatic",
          "Automatic",
          "Automatic",
          "Automatic",
          "Automatic",
          "Automatic",
          "Automatic",
          "Automatic",
          "Automatic",
          "Automatic",
          "Automatic",
          "Automatic",
          "Automatic",
          "Automatic",
          "Automatic",
          "Automatic",
          "Automatic",
          "Automatic",
          "Automatic",
          "Automatic",
          "Automatic",
          "Automatic",
          "Automatic",
          "Automatic",
          "Automatic",
          "Automatic",
          "Automatic",
          "Automatic",
          "Automatic",
          "Automatic",
          "Automatic",
          "Automatic",
          "Automatic",
          "Manual",
          "Automatic",
          "Automatic",
          "Automatic",
          "Automatic",
          "Automatic",
          "Automatic",
          "Automatic",
          "Automatic",
          "Automatic",
          "Automatic",
          "Automatic",
          "Automatic",
          "Automatic",
          "Automatic",
          "Automatic",
          "Automatic",
          "Automatic",
          "Automatic",
          "Automatic",
          "Automatic",
          "Automatic",
          "Automatic",
          "Automatic",
          "Automatic",
          "Automatic",
          "Automatic",
          "Automatic",
          "Automatic",
          "Automatic",
          "Automatic",
          "Automatic",
          "Automatic",
          "Automatic",
          "Automatic",
          "Automatic",
          "Automatic",
          "Automatic",
          "Automatic",
          "Automatic",
          "Automatic",
          "Automatic",
          "Automatic",
          "Automatic",
          "Automatic",
          "Automatic",
          "Automatic",
          "Automatic",
          "Automatic",
          "Automatic",
          "Automatic",
          "Automatic",
          "Automatic",
          "Automatic",
          "Automatic",
          "Automatic",
          "Automatic",
          "Automatic",
          "Automatic",
          "Automatic",
          "Automatic",
          "Automatic",
          "Automatic",
          "Automatic",
          "Automatic",
          "Automatic",
          "Automatic",
          "Automatic",
          "Automatic",
          "Automatic",
          "Automatic",
          "Automatic",
          "Automatic",
          "Automatic",
          "Automatic",
          "Automatic",
          "Automatic",
          "Automatic",
          "Automatic",
          "Automatic",
          "Automatic",
          "Automatic",
          "Automatic",
          "Automatic",
          "Automatic",
          "Automatic",
          "Automatic",
          "Automatic",
          "Automatic",
          "Automatic",
          "Automatic",
          "Automatic",
          "Automatic",
          "Automatic",
          "Automatic",
          "Automatic",
          "Automatic",
          "Automatic",
          "Automatic",
          "Automatic",
          "Automatic",
          "Automatic",
          "Automatic",
          "Automatic",
          "Automatic",
          "Automatic",
          "Automatic",
          "Automatic",
          "Automatic",
          "Automatic",
          "Automatic",
          "Automatic",
          "Automatic",
          "Automatic",
          "Automatic",
          "Automatic",
          "Automatic",
          "Automatic",
          "Automatic",
          "Automatic",
          "Automatic",
          "Automatic",
          "Automatic",
          "Automatic",
          "Automatic",
          "Automatic",
          "Automatic",
          "Automatic",
          "Manual",
          "Automatic",
          "Automatic",
          "Automatic",
          "Automatic",
          "Automatic",
          "Automatic",
          "Automatic",
          "Automatic",
          "Automatic",
          "Automatic",
          "Automatic",
          "Automatic",
          "Automatic",
          "Automatic",
          "Automatic",
          "Automatic",
          "Automatic",
          "Automatic",
          "Automatic",
          "Automatic",
          "Automatic",
          "Automatic",
          "Automatic",
          "Automatic",
          "Automatic",
          "Manual",
          "Automatic",
          "Automatic",
          "Automatic",
          "Automatic",
          "Automatic",
          "Automatic",
          "Automatic",
          "Automatic",
          "Automatic",
          "Automatic",
          "Automatic"
         ],
         "x0": " ",
         "xaxis": "x",
         "y": [
          42500,
          42000,
          48000,
          60000,
          80000,
          44000,
          68500,
          58000,
          42500,
          48000,
          69500,
          45000,
          55500,
          80000,
          65000,
          58000,
          56000,
          55500,
          60000,
          48000,
          76000,
          43500,
          75000,
          85000,
          53000,
          56000,
          72000,
          52500,
          45000,
          42000,
          60000,
          55000,
          46000,
          53000,
          56500,
          62000,
          70000,
          55500,
          51000,
          44000,
          52000,
          48100,
          43000,
          47200,
          45000,
          47000,
          60000,
          85000,
          65000,
          42000,
          58000,
          82000,
          84000,
          74000,
          83000,
          85000,
          43500,
          49900,
          65777,
          72000,
          87000,
          55000,
          70000,
          62000,
          59800,
          49000,
          78000,
          55000,
          74000,
          84999,
          49500,
          41777,
          47777,
          50000,
          75000,
          65000,
          50555,
          42000,
          78500,
          85500,
          50555,
          48950,
          55000,
          60000,
          62000,
          55000,
          45500,
          84000,
          85000,
          47000,
          43000,
          83900,
          46500,
          50000,
          80000,
          64000,
          78000,
          47000,
          80500,
          40999,
          85000,
          50500,
          85500,
          79500,
          49500,
          58500,
          51000,
          65500,
          62000,
          45000,
          65000,
          45000,
          77000,
          45000,
          78000,
          48500,
          62000,
          54500,
          68000,
          68000,
          46500,
          65000,
          78000,
          55000,
          58500,
          41000,
          40500,
          77000,
          88000,
          87000,
          65000,
          67000,
          48500,
          52000,
          66600,
          65000,
          75000,
          86000,
          45000,
          42000,
          50000,
          85000,
          62000,
          46000,
          66000,
          72000,
          76000,
          87000,
          47500,
          43500,
          78000,
          68000,
          40500,
          58500,
          41900,
          48000,
          60000,
          75000,
          85000,
          85000,
          45000,
          65000,
          84500,
          43500,
          70000,
          58500,
          63000,
          63800,
          89000,
          48500,
          45000,
          42000,
          45000,
          50000,
          45000,
          58000,
          79000,
          45000,
          50000,
          67000,
          46000,
          59900,
          42000,
          43000,
          85000,
          45000,
          50000,
          48000,
          43000,
          55000,
          89000,
          60000,
          64000,
          62900,
          49000,
          63000,
          62000,
          42500,
          62000,
          43500,
          80000,
          86000,
          69000,
          83000,
          48500,
          58000,
          57500,
          56500,
          43000,
          55000,
          60000,
          89000,
          55000,
          77000,
          58000,
          55000,
          45500,
          52000,
          56500,
          68000,
          48000,
          70000,
          42000,
          40500,
          78000,
          85000,
          57000,
          52000,
          68000,
          42000,
          42000,
          56000,
          45000,
          59500,
          75000,
          83000,
          85000,
          75500,
          63000,
          56000,
          59500,
          41000,
          63000,
          42500,
          43000,
          75000,
          56000,
          80000,
          63000,
          58000,
          63000,
          55000,
          47000,
          54000,
          46000,
          68500,
          49000,
          78000,
          83000,
          75000,
          60500,
          45500,
          75000,
          65000,
          57500,
          43500,
          80000,
          55000,
          42000,
          70000,
          44500,
          88000,
          54500,
          63000,
          65700,
          44500,
          88500,
          85000,
          78000,
          78000,
          45500,
          55200,
          71588,
          72000,
          65000,
          73000,
          49500,
          63000,
          78500,
          57500,
          46000,
          48500,
          48000,
          50500,
          46500,
          74500,
          53000,
          85000,
          49000,
          53000,
          60000,
          62000,
          42000,
          46000,
          50000,
          70000,
          42400,
          58000,
          61000,
          88000,
          81000,
          75000,
          42500,
          80000,
          67000,
          43000,
          75000,
          65000,
          60000,
          78000,
          48500,
          65000,
          42000,
          42500,
          53000,
          51000,
          47500,
          63500,
          80000,
          65500,
          58000,
          68000,
          56500,
          52500,
          60000,
          65000,
          77000,
          46000,
          42800,
          45000,
          65000,
          55000,
          82000,
          67000,
          44000,
          48000,
          65000,
          43000,
          57888,
          52000,
          49000,
          67000,
          57000,
          57000,
          75000,
          79000,
          45000,
          49500,
          46500,
          49500,
          87000,
          49000,
          60000,
          43000,
          69500,
          43000,
          55000,
          79000,
          60000,
          71000,
          40700,
          68500
         ],
         "y0": " ",
         "yaxis": "y"
        }
       ],
       "layout": {
        "boxmode": "group",
        "legend": {
         "tracegroupgap": 0
        },
        "template": {
         "data": {
          "bar": [
           {
            "error_x": {
             "color": "#2a3f5f"
            },
            "error_y": {
             "color": "#2a3f5f"
            },
            "marker": {
             "line": {
              "color": "#E5ECF6",
              "width": 0.5
             }
            },
            "type": "bar"
           }
          ],
          "barpolar": [
           {
            "marker": {
             "line": {
              "color": "#E5ECF6",
              "width": 0.5
             }
            },
            "type": "barpolar"
           }
          ],
          "carpet": [
           {
            "aaxis": {
             "endlinecolor": "#2a3f5f",
             "gridcolor": "white",
             "linecolor": "white",
             "minorgridcolor": "white",
             "startlinecolor": "#2a3f5f"
            },
            "baxis": {
             "endlinecolor": "#2a3f5f",
             "gridcolor": "white",
             "linecolor": "white",
             "minorgridcolor": "white",
             "startlinecolor": "#2a3f5f"
            },
            "type": "carpet"
           }
          ],
          "choropleth": [
           {
            "colorbar": {
             "outlinewidth": 0,
             "ticks": ""
            },
            "type": "choropleth"
           }
          ],
          "contour": [
           {
            "colorbar": {
             "outlinewidth": 0,
             "ticks": ""
            },
            "colorscale": [
             [
              0,
              "#0d0887"
             ],
             [
              0.1111111111111111,
              "#46039f"
             ],
             [
              0.2222222222222222,
              "#7201a8"
             ],
             [
              0.3333333333333333,
              "#9c179e"
             ],
             [
              0.4444444444444444,
              "#bd3786"
             ],
             [
              0.5555555555555556,
              "#d8576b"
             ],
             [
              0.6666666666666666,
              "#ed7953"
             ],
             [
              0.7777777777777778,
              "#fb9f3a"
             ],
             [
              0.8888888888888888,
              "#fdca26"
             ],
             [
              1,
              "#f0f921"
             ]
            ],
            "type": "contour"
           }
          ],
          "contourcarpet": [
           {
            "colorbar": {
             "outlinewidth": 0,
             "ticks": ""
            },
            "type": "contourcarpet"
           }
          ],
          "heatmap": [
           {
            "colorbar": {
             "outlinewidth": 0,
             "ticks": ""
            },
            "colorscale": [
             [
              0,
              "#0d0887"
             ],
             [
              0.1111111111111111,
              "#46039f"
             ],
             [
              0.2222222222222222,
              "#7201a8"
             ],
             [
              0.3333333333333333,
              "#9c179e"
             ],
             [
              0.4444444444444444,
              "#bd3786"
             ],
             [
              0.5555555555555556,
              "#d8576b"
             ],
             [
              0.6666666666666666,
              "#ed7953"
             ],
             [
              0.7777777777777778,
              "#fb9f3a"
             ],
             [
              0.8888888888888888,
              "#fdca26"
             ],
             [
              1,
              "#f0f921"
             ]
            ],
            "type": "heatmap"
           }
          ],
          "heatmapgl": [
           {
            "colorbar": {
             "outlinewidth": 0,
             "ticks": ""
            },
            "colorscale": [
             [
              0,
              "#0d0887"
             ],
             [
              0.1111111111111111,
              "#46039f"
             ],
             [
              0.2222222222222222,
              "#7201a8"
             ],
             [
              0.3333333333333333,
              "#9c179e"
             ],
             [
              0.4444444444444444,
              "#bd3786"
             ],
             [
              0.5555555555555556,
              "#d8576b"
             ],
             [
              0.6666666666666666,
              "#ed7953"
             ],
             [
              0.7777777777777778,
              "#fb9f3a"
             ],
             [
              0.8888888888888888,
              "#fdca26"
             ],
             [
              1,
              "#f0f921"
             ]
            ],
            "type": "heatmapgl"
           }
          ],
          "histogram": [
           {
            "marker": {
             "colorbar": {
              "outlinewidth": 0,
              "ticks": ""
             }
            },
            "type": "histogram"
           }
          ],
          "histogram2d": [
           {
            "colorbar": {
             "outlinewidth": 0,
             "ticks": ""
            },
            "colorscale": [
             [
              0,
              "#0d0887"
             ],
             [
              0.1111111111111111,
              "#46039f"
             ],
             [
              0.2222222222222222,
              "#7201a8"
             ],
             [
              0.3333333333333333,
              "#9c179e"
             ],
             [
              0.4444444444444444,
              "#bd3786"
             ],
             [
              0.5555555555555556,
              "#d8576b"
             ],
             [
              0.6666666666666666,
              "#ed7953"
             ],
             [
              0.7777777777777778,
              "#fb9f3a"
             ],
             [
              0.8888888888888888,
              "#fdca26"
             ],
             [
              1,
              "#f0f921"
             ]
            ],
            "type": "histogram2d"
           }
          ],
          "histogram2dcontour": [
           {
            "colorbar": {
             "outlinewidth": 0,
             "ticks": ""
            },
            "colorscale": [
             [
              0,
              "#0d0887"
             ],
             [
              0.1111111111111111,
              "#46039f"
             ],
             [
              0.2222222222222222,
              "#7201a8"
             ],
             [
              0.3333333333333333,
              "#9c179e"
             ],
             [
              0.4444444444444444,
              "#bd3786"
             ],
             [
              0.5555555555555556,
              "#d8576b"
             ],
             [
              0.6666666666666666,
              "#ed7953"
             ],
             [
              0.7777777777777778,
              "#fb9f3a"
             ],
             [
              0.8888888888888888,
              "#fdca26"
             ],
             [
              1,
              "#f0f921"
             ]
            ],
            "type": "histogram2dcontour"
           }
          ],
          "mesh3d": [
           {
            "colorbar": {
             "outlinewidth": 0,
             "ticks": ""
            },
            "type": "mesh3d"
           }
          ],
          "parcoords": [
           {
            "line": {
             "colorbar": {
              "outlinewidth": 0,
              "ticks": ""
             }
            },
            "type": "parcoords"
           }
          ],
          "pie": [
           {
            "automargin": true,
            "type": "pie"
           }
          ],
          "scatter": [
           {
            "marker": {
             "colorbar": {
              "outlinewidth": 0,
              "ticks": ""
             }
            },
            "type": "scatter"
           }
          ],
          "scatter3d": [
           {
            "line": {
             "colorbar": {
              "outlinewidth": 0,
              "ticks": ""
             }
            },
            "marker": {
             "colorbar": {
              "outlinewidth": 0,
              "ticks": ""
             }
            },
            "type": "scatter3d"
           }
          ],
          "scattercarpet": [
           {
            "marker": {
             "colorbar": {
              "outlinewidth": 0,
              "ticks": ""
             }
            },
            "type": "scattercarpet"
           }
          ],
          "scattergeo": [
           {
            "marker": {
             "colorbar": {
              "outlinewidth": 0,
              "ticks": ""
             }
            },
            "type": "scattergeo"
           }
          ],
          "scattergl": [
           {
            "marker": {
             "colorbar": {
              "outlinewidth": 0,
              "ticks": ""
             }
            },
            "type": "scattergl"
           }
          ],
          "scattermapbox": [
           {
            "marker": {
             "colorbar": {
              "outlinewidth": 0,
              "ticks": ""
             }
            },
            "type": "scattermapbox"
           }
          ],
          "scatterpolar": [
           {
            "marker": {
             "colorbar": {
              "outlinewidth": 0,
              "ticks": ""
             }
            },
            "type": "scatterpolar"
           }
          ],
          "scatterpolargl": [
           {
            "marker": {
             "colorbar": {
              "outlinewidth": 0,
              "ticks": ""
             }
            },
            "type": "scatterpolargl"
           }
          ],
          "scatterternary": [
           {
            "marker": {
             "colorbar": {
              "outlinewidth": 0,
              "ticks": ""
             }
            },
            "type": "scatterternary"
           }
          ],
          "surface": [
           {
            "colorbar": {
             "outlinewidth": 0,
             "ticks": ""
            },
            "colorscale": [
             [
              0,
              "#0d0887"
             ],
             [
              0.1111111111111111,
              "#46039f"
             ],
             [
              0.2222222222222222,
              "#7201a8"
             ],
             [
              0.3333333333333333,
              "#9c179e"
             ],
             [
              0.4444444444444444,
              "#bd3786"
             ],
             [
              0.5555555555555556,
              "#d8576b"
             ],
             [
              0.6666666666666666,
              "#ed7953"
             ],
             [
              0.7777777777777778,
              "#fb9f3a"
             ],
             [
              0.8888888888888888,
              "#fdca26"
             ],
             [
              1,
              "#f0f921"
             ]
            ],
            "type": "surface"
           }
          ],
          "table": [
           {
            "cells": {
             "fill": {
              "color": "#EBF0F8"
             },
             "line": {
              "color": "white"
             }
            },
            "header": {
             "fill": {
              "color": "#C8D4E3"
             },
             "line": {
              "color": "white"
             }
            },
            "type": "table"
           }
          ]
         },
         "layout": {
          "annotationdefaults": {
           "arrowcolor": "#2a3f5f",
           "arrowhead": 0,
           "arrowwidth": 1
          },
          "coloraxis": {
           "colorbar": {
            "outlinewidth": 0,
            "ticks": ""
           }
          },
          "colorscale": {
           "diverging": [
            [
             0,
             "#8e0152"
            ],
            [
             0.1,
             "#c51b7d"
            ],
            [
             0.2,
             "#de77ae"
            ],
            [
             0.3,
             "#f1b6da"
            ],
            [
             0.4,
             "#fde0ef"
            ],
            [
             0.5,
             "#f7f7f7"
            ],
            [
             0.6,
             "#e6f5d0"
            ],
            [
             0.7,
             "#b8e186"
            ],
            [
             0.8,
             "#7fbc41"
            ],
            [
             0.9,
             "#4d9221"
            ],
            [
             1,
             "#276419"
            ]
           ],
           "sequential": [
            [
             0,
             "#0d0887"
            ],
            [
             0.1111111111111111,
             "#46039f"
            ],
            [
             0.2222222222222222,
             "#7201a8"
            ],
            [
             0.3333333333333333,
             "#9c179e"
            ],
            [
             0.4444444444444444,
             "#bd3786"
            ],
            [
             0.5555555555555556,
             "#d8576b"
            ],
            [
             0.6666666666666666,
             "#ed7953"
            ],
            [
             0.7777777777777778,
             "#fb9f3a"
            ],
            [
             0.8888888888888888,
             "#fdca26"
            ],
            [
             1,
             "#f0f921"
            ]
           ],
           "sequentialminus": [
            [
             0,
             "#0d0887"
            ],
            [
             0.1111111111111111,
             "#46039f"
            ],
            [
             0.2222222222222222,
             "#7201a8"
            ],
            [
             0.3333333333333333,
             "#9c179e"
            ],
            [
             0.4444444444444444,
             "#bd3786"
            ],
            [
             0.5555555555555556,
             "#d8576b"
            ],
            [
             0.6666666666666666,
             "#ed7953"
            ],
            [
             0.7777777777777778,
             "#fb9f3a"
            ],
            [
             0.8888888888888888,
             "#fdca26"
            ],
            [
             1,
             "#f0f921"
            ]
           ]
          },
          "colorway": [
           "#636efa",
           "#EF553B",
           "#00cc96",
           "#ab63fa",
           "#FFA15A",
           "#19d3f3",
           "#FF6692",
           "#B6E880",
           "#FF97FF",
           "#FECB52"
          ],
          "font": {
           "color": "#2a3f5f"
          },
          "geo": {
           "bgcolor": "white",
           "lakecolor": "white",
           "landcolor": "#E5ECF6",
           "showlakes": true,
           "showland": true,
           "subunitcolor": "white"
          },
          "hoverlabel": {
           "align": "left"
          },
          "hovermode": "closest",
          "mapbox": {
           "style": "light"
          },
          "paper_bgcolor": "white",
          "plot_bgcolor": "#E5ECF6",
          "polar": {
           "angularaxis": {
            "gridcolor": "white",
            "linecolor": "white",
            "ticks": ""
           },
           "bgcolor": "#E5ECF6",
           "radialaxis": {
            "gridcolor": "white",
            "linecolor": "white",
            "ticks": ""
           }
          },
          "scene": {
           "xaxis": {
            "backgroundcolor": "#E5ECF6",
            "gridcolor": "white",
            "gridwidth": 2,
            "linecolor": "white",
            "showbackground": true,
            "ticks": "",
            "zerolinecolor": "white"
           },
           "yaxis": {
            "backgroundcolor": "#E5ECF6",
            "gridcolor": "white",
            "gridwidth": 2,
            "linecolor": "white",
            "showbackground": true,
            "ticks": "",
            "zerolinecolor": "white"
           },
           "zaxis": {
            "backgroundcolor": "#E5ECF6",
            "gridcolor": "white",
            "gridwidth": 2,
            "linecolor": "white",
            "showbackground": true,
            "ticks": "",
            "zerolinecolor": "white"
           }
          },
          "shapedefaults": {
           "line": {
            "color": "#2a3f5f"
           }
          },
          "ternary": {
           "aaxis": {
            "gridcolor": "white",
            "linecolor": "white",
            "ticks": ""
           },
           "baxis": {
            "gridcolor": "white",
            "linecolor": "white",
            "ticks": ""
           },
           "bgcolor": "#E5ECF6",
           "caxis": {
            "gridcolor": "white",
            "linecolor": "white",
            "ticks": ""
           }
          },
          "title": {
           "x": 0.05
          },
          "xaxis": {
           "automargin": true,
           "gridcolor": "white",
           "linecolor": "white",
           "ticks": "",
           "title": {
            "standoff": 15
           },
           "zerolinecolor": "white",
           "zerolinewidth": 2
          },
          "yaxis": {
           "automargin": true,
           "gridcolor": "white",
           "linecolor": "white",
           "ticks": "",
           "title": {
            "standoff": 15
           },
           "zerolinecolor": "white",
           "zerolinewidth": 2
          }
         }
        },
        "title": {
         "text": "Relationship between each transmission and price"
        },
        "xaxis": {
         "anchor": "y",
         "domain": [
          0,
          1
         ],
         "title": {
          "text": "Transmission"
         }
        },
        "yaxis": {
         "anchor": "x",
         "domain": [
          0,
          1
         ],
         "title": {
          "text": "Price(GH¢)"
         }
        }
       }
      },
      "text/html": [
       "<div>\n",
       "        \n",
       "        \n",
       "            <div id=\"923ce9fc-9c08-4128-8938-33d1fe4edaa5\" class=\"plotly-graph-div\" style=\"height:525px; width:100%;\"></div>\n",
       "            <script type=\"text/javascript\">\n",
       "                require([\"plotly\"], function(Plotly) {\n",
       "                    window.PLOTLYENV=window.PLOTLYENV || {};\n",
       "                    \n",
       "                if (document.getElementById(\"923ce9fc-9c08-4128-8938-33d1fe4edaa5\")) {\n",
       "                    Plotly.newPlot(\n",
       "                        '923ce9fc-9c08-4128-8938-33d1fe4edaa5',\n",
       "                        [{\"alignmentgroup\": \"True\", \"hovertemplate\": \"Transmission=%{x}<br>Price(GH\\u00a2)=%{y}<extra></extra>\", \"legendgroup\": \"\", \"marker\": {\"color\": \"#636efa\"}, \"name\": \"\", \"notched\": false, \"offsetgroup\": \"\", \"orientation\": \"v\", \"showlegend\": false, \"type\": \"box\", \"x\": [\"Automatic\", \"Automatic\", \"Automatic\", \"Manual\", \"Automatic\", \"Automatic\", \"Automatic\", \"Automatic\", \"Automatic\", \"Automatic\", \"Automatic\", \"Manual\", \"Automatic\", \"Automatic\", \"Automatic\", \"Automatic\", \"Automatic\", \"Automatic\", \"Automatic\", \"Automatic\", \"Automatic\", \"Automatic\", \"Automatic\", \"Automatic\", \"Automatic\", \"Manual\", \"Automatic\", \"Automatic\", \"Automatic\", \"Automatic\", \"Automatic\", \"Automatic\", \"Automatic\", \"Automatic\", \"Automatic\", \"Automatic\", \"Automatic\", \"Automatic\", \"Automatic\", \"Automatic\", \"Automatic\", \"Manual\", \"Automatic\", \"Manual\", \"Automatic\", \"Automatic\", \"Automatic\", \"Automatic\", \"Automatic\", \"Automatic\", \"Automatic\", \"Automatic\", \"Automatic\", \"Automatic\", \"Automatic\", \"Automatic\", \"Automatic\", \"Automatic\", \"Automatic\", \"Automatic\", \"Automatic\", \"Automatic\", \"Automatic\", \"Automatic\", \"Automatic\", \"Automatic\", \"Automatic\", \"Manual\", \"Automatic\", \"Automatic\", \"Automatic\", \"Automatic\", \"Automatic\", \"Automatic\", \"Automatic\", \"Automatic\", \"Automatic\", \"Automatic\", \"Automatic\", \"Automatic\", \"Automatic\", \"Automatic\", \"Automatic\", \"Automatic\", \"Automatic\", \"Automatic\", \"Automatic\", \"Automatic\", \"Automatic\", \"Automatic\", \"Automatic\", \"Automatic\", \"Automatic\", \"Automatic\", \"Automatic\", \"Automatic\", \"Manual\", \"Automatic\", \"Automatic\", \"Automatic\", \"Automatic\", \"Automatic\", \"Automatic\", \"Automatic\", \"Automatic\", \"Automatic\", \"Automatic\", \"Automatic\", \"Automatic\", \"Automatic\", \"Automatic\", \"Automatic\", \"Automatic\", \"Automatic\", \"Automatic\", \"Automatic\", \"Automatic\", \"Automatic\", \"Automatic\", \"Automatic\", \"Automatic\", \"Automatic\", \"Automatic\", \"Automatic\", \"Automatic\", \"Automatic\", \"Automatic\", \"Automatic\", \"Automatic\", \"Automatic\", \"Automatic\", \"Automatic\", \"Automatic\", \"Automatic\", \"Automatic\", \"Automatic\", \"Automatic\", \"Automatic\", \"Automatic\", \"Automatic\", \"Automatic\", \"Automatic\", \"Automatic\", \"Automatic\", \"Automatic\", \"Automatic\", \"Automatic\", \"Automatic\", \"Automatic\", \"Automatic\", \"Automatic\", \"Automatic\", \"Automatic\", \"Automatic\", \"Automatic\", \"Automatic\", \"Automatic\", \"Automatic\", \"Automatic\", \"Automatic\", \"Automatic\", \"Automatic\", \"Automatic\", \"Automatic\", \"Automatic\", \"Automatic\", \"Automatic\", \"Automatic\", \"Automatic\", \"Automatic\", \"Automatic\", \"Automatic\", \"Automatic\", \"Automatic\", \"Automatic\", \"Automatic\", \"Automatic\", \"Automatic\", \"Automatic\", \"Automatic\", \"Automatic\", \"Automatic\", \"Automatic\", \"Automatic\", \"Automatic\", \"Automatic\", \"Automatic\", \"Automatic\", \"Automatic\", \"Automatic\", \"Automatic\", \"Automatic\", \"Automatic\", \"Automatic\", \"Automatic\", \"Automatic\", \"Automatic\", \"Automatic\", \"Automatic\", \"Automatic\", \"Automatic\", \"Automatic\", \"Automatic\", \"Automatic\", \"Automatic\", \"Automatic\", \"Manual\", \"Automatic\", \"Automatic\", \"Automatic\", \"Automatic\", \"Automatic\", \"Automatic\", \"Automatic\", \"Automatic\", \"Automatic\", \"Automatic\", \"Automatic\", \"Automatic\", \"Automatic\", \"Automatic\", \"Automatic\", \"Automatic\", \"Automatic\", \"Automatic\", \"Automatic\", \"Automatic\", \"Automatic\", \"Automatic\", \"Automatic\", \"Automatic\", \"Automatic\", \"Automatic\", \"Automatic\", \"Automatic\", \"Automatic\", \"Automatic\", \"Automatic\", \"Automatic\", \"Automatic\", \"Automatic\", \"Automatic\", \"Automatic\", \"Automatic\", \"Automatic\", \"Automatic\", \"Automatic\", \"Automatic\", \"Automatic\", \"Automatic\", \"Automatic\", \"Automatic\", \"Automatic\", \"Automatic\", \"Automatic\", \"Automatic\", \"Automatic\", \"Automatic\", \"Automatic\", \"Automatic\", \"Automatic\", \"Automatic\", \"Automatic\", \"Automatic\", \"Automatic\", \"Automatic\", \"Automatic\", \"Automatic\", \"Automatic\", \"Automatic\", \"Automatic\", \"Automatic\", \"Automatic\", \"Automatic\", \"Automatic\", \"Automatic\", \"Automatic\", \"Automatic\", \"Automatic\", \"Automatic\", \"Automatic\", \"Automatic\", \"Automatic\", \"Automatic\", \"Automatic\", \"Automatic\", \"Automatic\", \"Automatic\", \"Automatic\", \"Automatic\", \"Automatic\", \"Automatic\", \"Automatic\", \"Automatic\", \"Automatic\", \"Automatic\", \"Automatic\", \"Automatic\", \"Automatic\", \"Automatic\", \"Automatic\", \"Automatic\", \"Automatic\", \"Automatic\", \"Automatic\", \"Automatic\", \"Automatic\", \"Automatic\", \"Automatic\", \"Automatic\", \"Automatic\", \"Automatic\", \"Automatic\", \"Automatic\", \"Automatic\", \"Automatic\", \"Automatic\", \"Automatic\", \"Automatic\", \"Automatic\", \"Automatic\", \"Automatic\", \"Automatic\", \"Automatic\", \"Automatic\", \"Automatic\", \"Automatic\", \"Automatic\", \"Automatic\", \"Automatic\", \"Automatic\", \"Automatic\", \"Automatic\", \"Automatic\", \"Manual\", \"Automatic\", \"Automatic\", \"Automatic\", \"Automatic\", \"Automatic\", \"Automatic\", \"Automatic\", \"Automatic\", \"Automatic\", \"Automatic\", \"Automatic\", \"Automatic\", \"Automatic\", \"Automatic\", \"Automatic\", \"Automatic\", \"Automatic\", \"Automatic\", \"Automatic\", \"Automatic\", \"Automatic\", \"Automatic\", \"Automatic\", \"Automatic\", \"Automatic\", \"Manual\", \"Automatic\", \"Automatic\", \"Automatic\", \"Automatic\", \"Automatic\", \"Automatic\", \"Automatic\", \"Automatic\", \"Automatic\", \"Automatic\", \"Automatic\"], \"x0\": \" \", \"xaxis\": \"x\", \"y\": [42500, 42000, 48000, 60000, 80000, 44000, 68500, 58000, 42500, 48000, 69500, 45000, 55500, 80000, 65000, 58000, 56000, 55500, 60000, 48000, 76000, 43500, 75000, 85000, 53000, 56000, 72000, 52500, 45000, 42000, 60000, 55000, 46000, 53000, 56500, 62000, 70000, 55500, 51000, 44000, 52000, 48100, 43000, 47200, 45000, 47000, 60000, 85000, 65000, 42000, 58000, 82000, 84000, 74000, 83000, 85000, 43500, 49900, 65777, 72000, 87000, 55000, 70000, 62000, 59800, 49000, 78000, 55000, 74000, 84999, 49500, 41777, 47777, 50000, 75000, 65000, 50555, 42000, 78500, 85500, 50555, 48950, 55000, 60000, 62000, 55000, 45500, 84000, 85000, 47000, 43000, 83900, 46500, 50000, 80000, 64000, 78000, 47000, 80500, 40999, 85000, 50500, 85500, 79500, 49500, 58500, 51000, 65500, 62000, 45000, 65000, 45000, 77000, 45000, 78000, 48500, 62000, 54500, 68000, 68000, 46500, 65000, 78000, 55000, 58500, 41000, 40500, 77000, 88000, 87000, 65000, 67000, 48500, 52000, 66600, 65000, 75000, 86000, 45000, 42000, 50000, 85000, 62000, 46000, 66000, 72000, 76000, 87000, 47500, 43500, 78000, 68000, 40500, 58500, 41900, 48000, 60000, 75000, 85000, 85000, 45000, 65000, 84500, 43500, 70000, 58500, 63000, 63800, 89000, 48500, 45000, 42000, 45000, 50000, 45000, 58000, 79000, 45000, 50000, 67000, 46000, 59900, 42000, 43000, 85000, 45000, 50000, 48000, 43000, 55000, 89000, 60000, 64000, 62900, 49000, 63000, 62000, 42500, 62000, 43500, 80000, 86000, 69000, 83000, 48500, 58000, 57500, 56500, 43000, 55000, 60000, 89000, 55000, 77000, 58000, 55000, 45500, 52000, 56500, 68000, 48000, 70000, 42000, 40500, 78000, 85000, 57000, 52000, 68000, 42000, 42000, 56000, 45000, 59500, 75000, 83000, 85000, 75500, 63000, 56000, 59500, 41000, 63000, 42500, 43000, 75000, 56000, 80000, 63000, 58000, 63000, 55000, 47000, 54000, 46000, 68500, 49000, 78000, 83000, 75000, 60500, 45500, 75000, 65000, 57500, 43500, 80000, 55000, 42000, 70000, 44500, 88000, 54500, 63000, 65700, 44500, 88500, 85000, 78000, 78000, 45500, 55200, 71588, 72000, 65000, 73000, 49500, 63000, 78500, 57500, 46000, 48500, 48000, 50500, 46500, 74500, 53000, 85000, 49000, 53000, 60000, 62000, 42000, 46000, 50000, 70000, 42400, 58000, 61000, 88000, 81000, 75000, 42500, 80000, 67000, 43000, 75000, 65000, 60000, 78000, 48500, 65000, 42000, 42500, 53000, 51000, 47500, 63500, 80000, 65500, 58000, 68000, 56500, 52500, 60000, 65000, 77000, 46000, 42800, 45000, 65000, 55000, 82000, 67000, 44000, 48000, 65000, 43000, 57888, 52000, 49000, 67000, 57000, 57000, 75000, 79000, 45000, 49500, 46500, 49500, 87000, 49000, 60000, 43000, 69500, 43000, 55000, 79000, 60000, 71000, 40700, 68500], \"y0\": \" \", \"yaxis\": \"y\"}],\n",
       "                        {\"boxmode\": \"group\", \"legend\": {\"tracegroupgap\": 0}, \"template\": {\"data\": {\"bar\": [{\"error_x\": {\"color\": \"#2a3f5f\"}, \"error_y\": {\"color\": \"#2a3f5f\"}, \"marker\": {\"line\": {\"color\": \"#E5ECF6\", \"width\": 0.5}}, \"type\": \"bar\"}], \"barpolar\": [{\"marker\": {\"line\": {\"color\": \"#E5ECF6\", \"width\": 0.5}}, \"type\": \"barpolar\"}], \"carpet\": [{\"aaxis\": {\"endlinecolor\": \"#2a3f5f\", \"gridcolor\": \"white\", \"linecolor\": \"white\", \"minorgridcolor\": \"white\", \"startlinecolor\": \"#2a3f5f\"}, \"baxis\": {\"endlinecolor\": \"#2a3f5f\", \"gridcolor\": \"white\", \"linecolor\": \"white\", \"minorgridcolor\": \"white\", \"startlinecolor\": \"#2a3f5f\"}, \"type\": \"carpet\"}], \"choropleth\": [{\"colorbar\": {\"outlinewidth\": 0, \"ticks\": \"\"}, \"type\": \"choropleth\"}], \"contour\": [{\"colorbar\": {\"outlinewidth\": 0, \"ticks\": \"\"}, \"colorscale\": [[0.0, \"#0d0887\"], [0.1111111111111111, \"#46039f\"], [0.2222222222222222, \"#7201a8\"], [0.3333333333333333, \"#9c179e\"], [0.4444444444444444, \"#bd3786\"], [0.5555555555555556, \"#d8576b\"], [0.6666666666666666, \"#ed7953\"], [0.7777777777777778, \"#fb9f3a\"], [0.8888888888888888, \"#fdca26\"], [1.0, \"#f0f921\"]], \"type\": \"contour\"}], \"contourcarpet\": [{\"colorbar\": {\"outlinewidth\": 0, \"ticks\": \"\"}, \"type\": \"contourcarpet\"}], \"heatmap\": [{\"colorbar\": {\"outlinewidth\": 0, \"ticks\": \"\"}, \"colorscale\": [[0.0, \"#0d0887\"], [0.1111111111111111, \"#46039f\"], [0.2222222222222222, \"#7201a8\"], [0.3333333333333333, \"#9c179e\"], [0.4444444444444444, \"#bd3786\"], [0.5555555555555556, \"#d8576b\"], [0.6666666666666666, \"#ed7953\"], [0.7777777777777778, \"#fb9f3a\"], [0.8888888888888888, \"#fdca26\"], [1.0, \"#f0f921\"]], \"type\": \"heatmap\"}], \"heatmapgl\": [{\"colorbar\": {\"outlinewidth\": 0, \"ticks\": \"\"}, \"colorscale\": [[0.0, \"#0d0887\"], [0.1111111111111111, \"#46039f\"], [0.2222222222222222, \"#7201a8\"], [0.3333333333333333, \"#9c179e\"], [0.4444444444444444, \"#bd3786\"], [0.5555555555555556, \"#d8576b\"], [0.6666666666666666, \"#ed7953\"], [0.7777777777777778, \"#fb9f3a\"], [0.8888888888888888, \"#fdca26\"], [1.0, \"#f0f921\"]], \"type\": \"heatmapgl\"}], \"histogram\": [{\"marker\": {\"colorbar\": {\"outlinewidth\": 0, \"ticks\": \"\"}}, \"type\": \"histogram\"}], \"histogram2d\": [{\"colorbar\": {\"outlinewidth\": 0, \"ticks\": \"\"}, \"colorscale\": [[0.0, \"#0d0887\"], [0.1111111111111111, \"#46039f\"], [0.2222222222222222, \"#7201a8\"], [0.3333333333333333, \"#9c179e\"], [0.4444444444444444, \"#bd3786\"], [0.5555555555555556, \"#d8576b\"], [0.6666666666666666, \"#ed7953\"], [0.7777777777777778, \"#fb9f3a\"], [0.8888888888888888, \"#fdca26\"], [1.0, \"#f0f921\"]], \"type\": \"histogram2d\"}], \"histogram2dcontour\": [{\"colorbar\": {\"outlinewidth\": 0, \"ticks\": \"\"}, \"colorscale\": [[0.0, \"#0d0887\"], [0.1111111111111111, \"#46039f\"], [0.2222222222222222, \"#7201a8\"], [0.3333333333333333, \"#9c179e\"], [0.4444444444444444, \"#bd3786\"], [0.5555555555555556, \"#d8576b\"], [0.6666666666666666, \"#ed7953\"], [0.7777777777777778, \"#fb9f3a\"], [0.8888888888888888, \"#fdca26\"], [1.0, \"#f0f921\"]], \"type\": \"histogram2dcontour\"}], \"mesh3d\": [{\"colorbar\": {\"outlinewidth\": 0, \"ticks\": \"\"}, \"type\": \"mesh3d\"}], \"parcoords\": [{\"line\": {\"colorbar\": {\"outlinewidth\": 0, \"ticks\": \"\"}}, \"type\": \"parcoords\"}], \"pie\": [{\"automargin\": true, \"type\": \"pie\"}], \"scatter\": [{\"marker\": {\"colorbar\": {\"outlinewidth\": 0, \"ticks\": \"\"}}, \"type\": \"scatter\"}], \"scatter3d\": [{\"line\": {\"colorbar\": {\"outlinewidth\": 0, \"ticks\": \"\"}}, \"marker\": {\"colorbar\": {\"outlinewidth\": 0, \"ticks\": \"\"}}, \"type\": \"scatter3d\"}], \"scattercarpet\": [{\"marker\": {\"colorbar\": {\"outlinewidth\": 0, \"ticks\": \"\"}}, \"type\": \"scattercarpet\"}], \"scattergeo\": [{\"marker\": {\"colorbar\": {\"outlinewidth\": 0, \"ticks\": \"\"}}, \"type\": \"scattergeo\"}], \"scattergl\": [{\"marker\": {\"colorbar\": {\"outlinewidth\": 0, \"ticks\": \"\"}}, \"type\": \"scattergl\"}], \"scattermapbox\": [{\"marker\": {\"colorbar\": {\"outlinewidth\": 0, \"ticks\": \"\"}}, \"type\": \"scattermapbox\"}], \"scatterpolar\": [{\"marker\": {\"colorbar\": {\"outlinewidth\": 0, \"ticks\": \"\"}}, \"type\": \"scatterpolar\"}], \"scatterpolargl\": [{\"marker\": {\"colorbar\": {\"outlinewidth\": 0, \"ticks\": \"\"}}, \"type\": \"scatterpolargl\"}], \"scatterternary\": [{\"marker\": {\"colorbar\": {\"outlinewidth\": 0, \"ticks\": \"\"}}, \"type\": \"scatterternary\"}], \"surface\": [{\"colorbar\": {\"outlinewidth\": 0, \"ticks\": \"\"}, \"colorscale\": [[0.0, \"#0d0887\"], [0.1111111111111111, \"#46039f\"], [0.2222222222222222, \"#7201a8\"], [0.3333333333333333, \"#9c179e\"], [0.4444444444444444, \"#bd3786\"], [0.5555555555555556, \"#d8576b\"], [0.6666666666666666, \"#ed7953\"], [0.7777777777777778, \"#fb9f3a\"], [0.8888888888888888, \"#fdca26\"], [1.0, \"#f0f921\"]], \"type\": \"surface\"}], \"table\": [{\"cells\": {\"fill\": {\"color\": \"#EBF0F8\"}, \"line\": {\"color\": \"white\"}}, \"header\": {\"fill\": {\"color\": \"#C8D4E3\"}, \"line\": {\"color\": \"white\"}}, \"type\": \"table\"}]}, \"layout\": {\"annotationdefaults\": {\"arrowcolor\": \"#2a3f5f\", \"arrowhead\": 0, \"arrowwidth\": 1}, \"coloraxis\": {\"colorbar\": {\"outlinewidth\": 0, \"ticks\": \"\"}}, \"colorscale\": {\"diverging\": [[0, \"#8e0152\"], [0.1, \"#c51b7d\"], [0.2, \"#de77ae\"], [0.3, \"#f1b6da\"], [0.4, \"#fde0ef\"], [0.5, \"#f7f7f7\"], [0.6, \"#e6f5d0\"], [0.7, \"#b8e186\"], [0.8, \"#7fbc41\"], [0.9, \"#4d9221\"], [1, \"#276419\"]], \"sequential\": [[0.0, \"#0d0887\"], [0.1111111111111111, \"#46039f\"], [0.2222222222222222, \"#7201a8\"], [0.3333333333333333, \"#9c179e\"], [0.4444444444444444, \"#bd3786\"], [0.5555555555555556, \"#d8576b\"], [0.6666666666666666, \"#ed7953\"], [0.7777777777777778, \"#fb9f3a\"], [0.8888888888888888, \"#fdca26\"], [1.0, \"#f0f921\"]], \"sequentialminus\": [[0.0, \"#0d0887\"], [0.1111111111111111, \"#46039f\"], [0.2222222222222222, \"#7201a8\"], [0.3333333333333333, \"#9c179e\"], [0.4444444444444444, \"#bd3786\"], [0.5555555555555556, \"#d8576b\"], [0.6666666666666666, \"#ed7953\"], [0.7777777777777778, \"#fb9f3a\"], [0.8888888888888888, \"#fdca26\"], [1.0, \"#f0f921\"]]}, \"colorway\": [\"#636efa\", \"#EF553B\", \"#00cc96\", \"#ab63fa\", \"#FFA15A\", \"#19d3f3\", \"#FF6692\", \"#B6E880\", \"#FF97FF\", \"#FECB52\"], \"font\": {\"color\": \"#2a3f5f\"}, \"geo\": {\"bgcolor\": \"white\", \"lakecolor\": \"white\", \"landcolor\": \"#E5ECF6\", \"showlakes\": true, \"showland\": true, \"subunitcolor\": \"white\"}, \"hoverlabel\": {\"align\": \"left\"}, \"hovermode\": \"closest\", \"mapbox\": {\"style\": \"light\"}, \"paper_bgcolor\": \"white\", \"plot_bgcolor\": \"#E5ECF6\", \"polar\": {\"angularaxis\": {\"gridcolor\": \"white\", \"linecolor\": \"white\", \"ticks\": \"\"}, \"bgcolor\": \"#E5ECF6\", \"radialaxis\": {\"gridcolor\": \"white\", \"linecolor\": \"white\", \"ticks\": \"\"}}, \"scene\": {\"xaxis\": {\"backgroundcolor\": \"#E5ECF6\", \"gridcolor\": \"white\", \"gridwidth\": 2, \"linecolor\": \"white\", \"showbackground\": true, \"ticks\": \"\", \"zerolinecolor\": \"white\"}, \"yaxis\": {\"backgroundcolor\": \"#E5ECF6\", \"gridcolor\": \"white\", \"gridwidth\": 2, \"linecolor\": \"white\", \"showbackground\": true, \"ticks\": \"\", \"zerolinecolor\": \"white\"}, \"zaxis\": {\"backgroundcolor\": \"#E5ECF6\", \"gridcolor\": \"white\", \"gridwidth\": 2, \"linecolor\": \"white\", \"showbackground\": true, \"ticks\": \"\", \"zerolinecolor\": \"white\"}}, \"shapedefaults\": {\"line\": {\"color\": \"#2a3f5f\"}}, \"ternary\": {\"aaxis\": {\"gridcolor\": \"white\", \"linecolor\": \"white\", \"ticks\": \"\"}, \"baxis\": {\"gridcolor\": \"white\", \"linecolor\": \"white\", \"ticks\": \"\"}, \"bgcolor\": \"#E5ECF6\", \"caxis\": {\"gridcolor\": \"white\", \"linecolor\": \"white\", \"ticks\": \"\"}}, \"title\": {\"x\": 0.05}, \"xaxis\": {\"automargin\": true, \"gridcolor\": \"white\", \"linecolor\": \"white\", \"ticks\": \"\", \"title\": {\"standoff\": 15}, \"zerolinecolor\": \"white\", \"zerolinewidth\": 2}, \"yaxis\": {\"automargin\": true, \"gridcolor\": \"white\", \"linecolor\": \"white\", \"ticks\": \"\", \"title\": {\"standoff\": 15}, \"zerolinecolor\": \"white\", \"zerolinewidth\": 2}}}, \"title\": {\"text\": \"Relationship between each transmission and price\"}, \"xaxis\": {\"anchor\": \"y\", \"domain\": [0.0, 1.0], \"title\": {\"text\": \"Transmission\"}}, \"yaxis\": {\"anchor\": \"x\", \"domain\": [0.0, 1.0], \"title\": {\"text\": \"Price(GH\\u00a2)\"}}},\n",
       "                        {\"responsive\": true}\n",
       "                    ).then(function(){\n",
       "                            \n",
       "var gd = document.getElementById('923ce9fc-9c08-4128-8938-33d1fe4edaa5');\n",
       "var x = new MutationObserver(function (mutations, observer) {{\n",
       "        var display = window.getComputedStyle(gd).display;\n",
       "        if (!display || display === 'none') {{\n",
       "            console.log([gd, 'removed!']);\n",
       "            Plotly.purge(gd);\n",
       "            observer.disconnect();\n",
       "        }}\n",
       "}});\n",
       "\n",
       "// Listen for the removal of the full notebook cells\n",
       "var notebookContainer = gd.closest('#notebook-container');\n",
       "if (notebookContainer) {{\n",
       "    x.observe(notebookContainer, {childList: true});\n",
       "}}\n",
       "\n",
       "// Listen for the clearing of the current output cell\n",
       "var outputEl = gd.closest('.output');\n",
       "if (outputEl) {{\n",
       "    x.observe(outputEl, {childList: true});\n",
       "}}\n",
       "\n",
       "                        })\n",
       "                };\n",
       "                });\n",
       "            </script>\n",
       "        </div>"
      ]
     },
     "metadata": {},
     "output_type": "display_data"
    }
   ],
   "source": [
    "fig = px.box(df, x=\"Transmission\", y=\"Price(GH¢)\", title='Relationship between each transmission and price')\n",
    "fig.show()"
   ]
  },
  {
   "cell_type": "code",
   "execution_count": 451,
   "metadata": {
    "scrolled": false
   },
   "outputs": [
    {
     "data": {
      "image/png": "[encoded data removed]",
      "text/plain": [
       "<Figure size 664.85x576 with 1 Axes>"
      ]
     },
     "metadata": {},
     "output_type": "display_data"
    }
   ],
   "source": [
    "sns.set_style('whitegrid')\n",
    "sns.FacetGrid(df, hue='Transmission', size=8) \\\n",
    "    .map(sns.distplot, 'Price(GH¢)') \\\n",
    "    .add_legend()\n",
    "plt.show()"
   ]
  },
  {
   "cell_type": "markdown",
   "metadata": {},
   "source": [
    "##### Observations:\n",
    "\n",
    "* Significant overlapping can be observed\n",
    "* Manual cars are highly likely to be sold for 60,000\n",
    "* Automatic cars are likely to be sold for less than 40,000"
   ]
  },
  {
   "cell_type": "markdown",
   "metadata": {},
   "source": [
    "### Mileage vs Price"
   ]
  },
  {
   "cell_type": "code",
   "execution_count": 452,
   "metadata": {
    "scrolled": false
   },
   "outputs": [
    {
     "data": {
      "image/png": "[encoded data removed]",
      "text/plain": [
       "<Figure size 432x432 with 3 Axes>"
      ]
     },
     "metadata": {},
     "output_type": "display_data"
    }
   ],
   "source": [
    "sns.jointplot(x='Mileage(km)', y='Price(GH¢)', data=df, kind='kde')\n",
    "plt.show()"
   ]
  },
  {
   "cell_type": "markdown",
   "metadata": {},
   "source": [
    "##### Observations:\n",
    "\n",
    "* Of all cars that have mileage of less than 100,000km, most of them cost between GH¢45,000 and GH¢60,000"
   ]
  },
  {
   "cell_type": "markdown",
   "metadata": {},
   "source": [
    "### Model year vs Price"
   ]
  },
  {
   "cell_type": "code",
   "execution_count": 453,
   "metadata": {
    "scrolled": false
   },
   "outputs": [
    {
     "data": {
      "text/plain": [
       "(array([2002., 2004., 2006., 2008., 2010., 2012., 2014., 2016., 2018.,\n",
       "        2020.]), <a list of 10 Text xticklabel objects>)"
      ]
     },
     "execution_count": 453,
     "metadata": {},
     "output_type": "execute_result"
    },
    {
     "data": {
      "image/png": "[encoded data removed]",
      "text/plain": [
       "<Figure size 936x576 with 1 Axes>"
      ]
     },
     "metadata": {},
     "output_type": "display_data"
    }
   ],
   "source": [
    "year_price = df.groupby('Model year').mean()['Price(GH¢)'].to_frame().reset_index().sort_values('Price(GH¢)', ascending=False)\n",
    "\n",
    "fig, ax = plt.subplots(figsize=(13, 8))\n",
    "sns.lineplot(x=\"Model year\", y=\"Price(GH¢)\", data=year_price)\n",
    "plt.title(\"Price progression of years\")\n",
    "plt.xticks(rotation=45)"
   ]
  },
  {
   "cell_type": "markdown",
   "metadata": {},
   "source": [
    "##### Observations:\n",
    "\n",
    "* Price increases steadily with more modern cars\n",
    "* The lowest price of car is from 2004 and the most expensive is from 2018"
   ]
  },
  {
   "cell_type": "code",
   "execution_count": 454,
   "metadata": {
    "scrolled": false
   },
   "outputs": [
    {
     "data": {
      "image/png": "[encoded data removed]",
      "text/plain": [
       "<Figure size 432x432 with 3 Axes>"
      ]
     },
     "metadata": {},
     "output_type": "display_data"
    }
   ],
   "source": [
    "sns.jointplot(x='Model year', y='Price(GH¢)', data=df, kind='kde')\n",
    "plt.show()"
   ]
  },
  {
   "cell_type": "markdown",
   "metadata": {},
   "source": [
    "##### Observations:\n",
    "\n",
    "* Most of the cars manufactured between 2012 and 2015 are likely to sold between 42,000 and 51,000"
   ]
  },
  {
   "cell_type": "markdown",
   "metadata": {},
   "source": [
    "### Engine capacity vs Price"
   ]
  },
  {
   "cell_type": "code",
   "execution_count": 455,
   "metadata": {},
   "outputs": [
    {
     "data": {
      "image/png": "[encoded data removed]",
      "text/plain": [
       "<Figure size 432x432 with 3 Axes>"
      ]
     },
     "metadata": {},
     "output_type": "display_data"
    }
   ],
   "source": [
    "sns.jointplot(x='Engine capacity(L)', y='Price(GH¢)', data=df, kind='kde')\n",
    "plt.show()"
   ]
  },
  {
   "cell_type": "markdown",
   "metadata": {},
   "source": [
    "##### Observations:\n",
    "\n",
    "* Most cars have engine capacity of 1.8 litres and cost about 46,000"
   ]
  },
  {
   "cell_type": "markdown",
   "metadata": {},
   "source": [
    "## CONCLUSIONS:"
   ]
  },
  {
   "cell_type": "markdown",
   "metadata": {},
   "source": [
    "1. Mileage has an inverse relationship with price. As mileage increases, price is lower"
   ]
  },
  {
   "cell_type": "markdown",
   "metadata": {},
   "source": [
    "2. Most cars have an engine capacity of 1.8 litres. Very few cars have an engine capacity greater than 4 litres"
   ]
  },
  {
   "cell_type": "markdown",
   "metadata": {},
   "source": [
    "3. Further analysis was conducted on cars that cost between GH¢40,000 and GH¢90,000. Hence the following conclusions are based on that:"
   ]
  },
  {
   "cell_type": "markdown",
   "metadata": {},
   "source": [
    "* Toyota, Hyundai, Mercedes and Honda are more expensive than other brands"
   ]
  },
  {
   "cell_type": "markdown",
   "metadata": {},
   "source": [
    "* Saloon and SUV/4x4 cars are more expensive and cost between GH¢46,000 and GH¢78,000"
   ]
  },
  {
   "cell_type": "markdown",
   "metadata": {},
   "source": [
    "* Petrol cars cost as low as GH¢40,000 and as high as GH¢89,000"
   ]
  },
  {
   "cell_type": "markdown",
   "metadata": {},
   "source": [
    "* Used cars are highly likely to be sold between GH¢40,000 and GH¢45,000\n",
    "* New cars are likely to cost between GH¢40,000 and GH¢65,000"
   ]
  },
  {
   "cell_type": "markdown",
   "metadata": {},
   "source": [
    "* Manual cars are highly likely to be sold for GH¢60,000\n",
    "* Automatic cars are likely to be sold for less than GH¢40,000"
   ]
  },
  {
   "cell_type": "markdown",
   "metadata": {},
   "source": [
    "* Price has an inverse relaionship with model year. The \"younger\" the car, the greater the price"
   ]
  },
  {
   "cell_type": "code",
   "execution_count": null,
   "metadata": {},
   "outputs": [],
   "source": []
  }
 ],
 "metadata": {
  "kernelspec": {
   "display_name": "Python 3",
   "language": "python",
   "name": "python3"
  },
  "language_info": {
   "codemirror_mode": {
    "name": "ipython",
    "version": 3
   },
   "file_extension": ".py",
   "mimetype": "text/x-python",
   "name": "python",
   "nbconvert_exporter": "python",
   "pygments_lexer": "ipython3",
   "version": "3.7.4"
  }
 },
 "nbformat": 4,
 "nbformat_minor": 2
}
